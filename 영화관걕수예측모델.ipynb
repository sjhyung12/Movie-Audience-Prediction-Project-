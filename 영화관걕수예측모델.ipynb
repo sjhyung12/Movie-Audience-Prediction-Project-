{
  "nbformat": 4,
  "nbformat_minor": 0,
  "metadata": {
    "colab": {
      "name": "영화관걕수예측모델.ipynb",
      "provenance": [],
      "collapsed_sections": [
        "0Br_0GlU2ea-"
      ],
      "mount_file_id": "1rNdL04XAKbB63ogRnZDYTzT3R-e1DEDr",
      "authorship_tag": "ABX9TyOZKj+EYTgHcbkCjtt5XoXu",
      "include_colab_link": true
    },
    "kernelspec": {
      "name": "python3",
      "display_name": "Python 3"
    }
  },
  "cells": [
    {
      "cell_type": "markdown",
      "metadata": {
        "id": "view-in-github",
        "colab_type": "text"
      },
      "source": [
        "<a href=\"https://colab.research.google.com/github/sjhyung12/Movie-Audience-Prediction-Project-/blob/main/%EC%98%81%ED%99%94%EA%B4%80%EA%B1%95%EC%88%98%EC%98%88%EC%B8%A1%EB%AA%A8%EB%8D%B8.ipynb\" target=\"_parent\"><img src=\"https://colab.research.google.com/assets/colab-badge.svg\" alt=\"Open In Colab\"/></a>"
      ]
    },
    {
      "cell_type": "code",
      "metadata": {
        "id": "_adAcAZjAbid",
        "colab": {
          "base_uri": "https://localhost:8080/"
        },
        "outputId": "a1a647cc-8676-42b5-ee8e-5c6880cf2594"
      },
      "source": [
        "import pandas as pd\n",
        "import numpy as np\n",
        "# 시각화 관련\n",
        "import matplotlib.pyplot as plt\n",
        "import seaborn as sns\n",
        "# score 관련\n",
        "from sklearn.metrics import r2_score\n",
        "from sklearn.metrics import mean_squared_error \n",
        "# 모델링 관련\n",
        "from sklearn.model_selection import KFold, cross_val_score, train_test_split\n",
        "from sklearn.linear_model import LinearRegression\n",
        "import lightgbm as lgb\n",
        "import xgboost as xgb   \n",
        "from sklearn.ensemble import RandomForestRegressor, GradientBoostingRegressor       \n",
        "!pip install bayesian-optimization\n",
        "from bayes_opt import BayesianOptimization "
      ],
      "execution_count": null,
      "outputs": [
        {
          "output_type": "stream",
          "text": [
            "Collecting bayesian-optimization\n",
            "  Downloading https://files.pythonhosted.org/packages/bb/7a/fd8059a3881d3ab37ac8f72f56b73937a14e8bb14a9733e68cc8b17dbe3c/bayesian-optimization-1.2.0.tar.gz\n",
            "Requirement already satisfied: numpy>=1.9.0 in /usr/local/lib/python3.6/dist-packages (from bayesian-optimization) (1.18.5)\n",
            "Requirement already satisfied: scipy>=0.14.0 in /usr/local/lib/python3.6/dist-packages (from bayesian-optimization) (1.4.1)\n",
            "Requirement already satisfied: scikit-learn>=0.18.0 in /usr/local/lib/python3.6/dist-packages (from bayesian-optimization) (0.22.2.post1)\n",
            "Requirement already satisfied: joblib>=0.11 in /usr/local/lib/python3.6/dist-packages (from scikit-learn>=0.18.0->bayesian-optimization) (0.17.0)\n",
            "Building wheels for collected packages: bayesian-optimization\n",
            "  Building wheel for bayesian-optimization (setup.py) ... \u001b[?25l\u001b[?25hdone\n",
            "  Created wheel for bayesian-optimization: filename=bayesian_optimization-1.2.0-cp36-none-any.whl size=11685 sha256=c9ebe9f6db29c7e3c836b48b913eddbdecb69ddf387fcafb830b7afd341a2687\n",
            "  Stored in directory: /root/.cache/pip/wheels/5a/56/ae/e0e3c1fc1954dc3ec712e2df547235ed072b448094d8f94aec\n",
            "Successfully built bayesian-optimization\n",
            "Installing collected packages: bayesian-optimization\n",
            "Successfully installed bayesian-optimization-1.2.0\n"
          ],
          "name": "stdout"
        }
      ]
    },
    {
      "cell_type": "markdown",
      "metadata": {
        "id": "cvQouCp_RMhC"
      },
      "source": [
        "#raw 데이터"
      ]
    },
    {
      "cell_type": "code",
      "metadata": {
        "id": "-xdqDdM8Af7F",
        "colab": {
          "base_uri": "https://localhost:8080/",
          "height": 1000
        },
        "outputId": "1f3ef0ba-5959-4de6-9c8b-303f45938ad7"
      },
      "source": [
        "movie_raw_data=pd.read_csv('/content/drive/MyDrive/movie_data/분석해야할영화데이터.csv', encoding='CP949')\n",
        "movie_raw_data"
      ],
      "execution_count": null,
      "outputs": [
        {
          "output_type": "execute_result",
          "data": {
            "text/html": [
              "<div>\n",
              "<style scoped>\n",
              "    .dataframe tbody tr th:only-of-type {\n",
              "        vertical-align: middle;\n",
              "    }\n",
              "\n",
              "    .dataframe tbody tr th {\n",
              "        vertical-align: top;\n",
              "    }\n",
              "\n",
              "    .dataframe thead th {\n",
              "        text-align: right;\n",
              "    }\n",
              "</style>\n",
              "<table border=\"1\" class=\"dataframe\">\n",
              "  <thead>\n",
              "    <tr style=\"text-align: right;\">\n",
              "      <th></th>\n",
              "      <th>순번</th>\n",
              "      <th>영화명</th>\n",
              "      <th>감독</th>\n",
              "      <th>제작사</th>\n",
              "      <th>수입사</th>\n",
              "      <th>배급사</th>\n",
              "      <th>개봉일</th>\n",
              "      <th>영화유형</th>\n",
              "      <th>영화형태</th>\n",
              "      <th>국적</th>\n",
              "      <th>전국스크린수</th>\n",
              "      <th>전국매출액</th>\n",
              "      <th>전국관객수</th>\n",
              "      <th>서울매출액</th>\n",
              "      <th>서울관객수</th>\n",
              "      <th>장르</th>\n",
              "      <th>등급</th>\n",
              "      <th>영화구분</th>\n",
              "    </tr>\n",
              "  </thead>\n",
              "  <tbody>\n",
              "    <tr>\n",
              "      <th>0</th>\n",
              "      <td>1</td>\n",
              "      <td>명량</td>\n",
              "      <td>김한민</td>\n",
              "      <td>(주)빅스톤픽쳐스</td>\n",
              "      <td>NaN</td>\n",
              "      <td>씨제이이앤엠(주)</td>\n",
              "      <td>2014-07-30</td>\n",
              "      <td>개봉영화</td>\n",
              "      <td>장편</td>\n",
              "      <td>한국</td>\n",
              "      <td>1,587</td>\n",
              "      <td>135,748,398,910</td>\n",
              "      <td>17,613,682</td>\n",
              "      <td>33,121,225,810</td>\n",
              "      <td>4,163,666</td>\n",
              "      <td>사극</td>\n",
              "      <td>15세이상관람가</td>\n",
              "      <td>일반영화</td>\n",
              "    </tr>\n",
              "    <tr>\n",
              "      <th>1</th>\n",
              "      <td>2</td>\n",
              "      <td>극한직업</td>\n",
              "      <td>이병헌</td>\n",
              "      <td>(주)어바웃필름,영화사 해그림 주식회사,씨제이이앤엠(주)</td>\n",
              "      <td>NaN</td>\n",
              "      <td>씨제이이앤엠(주)</td>\n",
              "      <td>2019-01-23</td>\n",
              "      <td>개봉영화</td>\n",
              "      <td>장편</td>\n",
              "      <td>한국</td>\n",
              "      <td>1,978</td>\n",
              "      <td>139,647,979,516</td>\n",
              "      <td>16,264,944</td>\n",
              "      <td>31,858,660,536</td>\n",
              "      <td>3,638,287</td>\n",
              "      <td>코미디</td>\n",
              "      <td>15세이상관람가</td>\n",
              "      <td>일반영화</td>\n",
              "    </tr>\n",
              "    <tr>\n",
              "      <th>2</th>\n",
              "      <td>3</td>\n",
              "      <td>신과함께-죄와 벌</td>\n",
              "      <td>김용화</td>\n",
              "      <td>리얼라이즈픽쳐스(주),(주)덱스터스튜디오</td>\n",
              "      <td>NaN</td>\n",
              "      <td>롯데쇼핑㈜롯데엔터테인먼트</td>\n",
              "      <td>2017-12-20</td>\n",
              "      <td>개봉영화</td>\n",
              "      <td>장편</td>\n",
              "      <td>한국</td>\n",
              "      <td>1,912</td>\n",
              "      <td>115,698,654,137</td>\n",
              "      <td>14,410,754</td>\n",
              "      <td>27,530,825,087</td>\n",
              "      <td>3,346,172</td>\n",
              "      <td>판타지</td>\n",
              "      <td>12세이상관람가</td>\n",
              "      <td>일반영화</td>\n",
              "    </tr>\n",
              "    <tr>\n",
              "      <th>3</th>\n",
              "      <td>4</td>\n",
              "      <td>국제시장</td>\n",
              "      <td>윤제균</td>\n",
              "      <td>(주)제이케이필름,씨제이이앤엠(주)</td>\n",
              "      <td>NaN</td>\n",
              "      <td>씨제이이앤엠(주)</td>\n",
              "      <td>2014-12-17</td>\n",
              "      <td>개봉영화</td>\n",
              "      <td>장편</td>\n",
              "      <td>한국</td>\n",
              "      <td>966</td>\n",
              "      <td>110,828,014,630</td>\n",
              "      <td>14,245,998</td>\n",
              "      <td>25,842,519,330</td>\n",
              "      <td>3,233,946</td>\n",
              "      <td>드라마</td>\n",
              "      <td>12세이상관람가</td>\n",
              "      <td>일반영화</td>\n",
              "    </tr>\n",
              "    <tr>\n",
              "      <th>4</th>\n",
              "      <td>5</td>\n",
              "      <td>어벤져스: 엔드게임</td>\n",
              "      <td>안소니 루소,조 루소</td>\n",
              "      <td>NaN</td>\n",
              "      <td>월트디즈니컴퍼니코리아 유한책임회사</td>\n",
              "      <td>월트디즈니컴퍼니코리아 유한책임회사</td>\n",
              "      <td>2019-04-24</td>\n",
              "      <td>개봉영화</td>\n",
              "      <td>장편</td>\n",
              "      <td>미국</td>\n",
              "      <td>2,835</td>\n",
              "      <td>122,182,694,160</td>\n",
              "      <td>13,934,592</td>\n",
              "      <td>33,577,136,860</td>\n",
              "      <td>3,597,963</td>\n",
              "      <td>액션</td>\n",
              "      <td>12세이상관람가</td>\n",
              "      <td>일반영화</td>\n",
              "    </tr>\n",
              "    <tr>\n",
              "      <th>...</th>\n",
              "      <td>...</td>\n",
              "      <td>...</td>\n",
              "      <td>...</td>\n",
              "      <td>...</td>\n",
              "      <td>...</td>\n",
              "      <td>...</td>\n",
              "      <td>...</td>\n",
              "      <td>...</td>\n",
              "      <td>...</td>\n",
              "      <td>...</td>\n",
              "      <td>...</td>\n",
              "      <td>...</td>\n",
              "      <td>...</td>\n",
              "      <td>...</td>\n",
              "      <td>...</td>\n",
              "      <td>...</td>\n",
              "      <td>...</td>\n",
              "      <td>...</td>\n",
              "    </tr>\n",
              "    <tr>\n",
              "      <th>7038</th>\n",
              "      <td>7039</td>\n",
              "      <td>S걸의 덫</td>\n",
              "      <td>그레고리 하타나카</td>\n",
              "      <td>NaN</td>\n",
              "      <td>(주)케이알씨지</td>\n",
              "      <td>(주)케이알씨지</td>\n",
              "      <td>2018-04-10</td>\n",
              "      <td>개봉영화</td>\n",
              "      <td>장편</td>\n",
              "      <td>브라질</td>\n",
              "      <td>1</td>\n",
              "      <td>1,000</td>\n",
              "      <td>1</td>\n",
              "      <td>0</td>\n",
              "      <td>0</td>\n",
              "      <td>멜로/로맨스</td>\n",
              "      <td>청소년관람불가</td>\n",
              "      <td>일반영화</td>\n",
              "    </tr>\n",
              "    <tr>\n",
              "      <th>7039</th>\n",
              "      <td>7040</td>\n",
              "      <td>VIP전용 여자</td>\n",
              "      <td>카네다 사토시</td>\n",
              "      <td>NaN</td>\n",
              "      <td>(주)도키엔터테인먼트</td>\n",
              "      <td>(주)도키엔터테인먼트</td>\n",
              "      <td>2016-12-01</td>\n",
              "      <td>개봉영화</td>\n",
              "      <td>장편</td>\n",
              "      <td>일본</td>\n",
              "      <td>1</td>\n",
              "      <td>8,000</td>\n",
              "      <td>1</td>\n",
              "      <td>0</td>\n",
              "      <td>0</td>\n",
              "      <td>성인물(에로)</td>\n",
              "      <td>청소년관람불가</td>\n",
              "      <td>일반영화</td>\n",
              "    </tr>\n",
              "    <tr>\n",
              "      <th>7040</th>\n",
              "      <td>7041</td>\n",
              "      <td>VJ의 은밀한 사생활</td>\n",
              "      <td>오카다 히로</td>\n",
              "      <td>NaN</td>\n",
              "      <td>(주)영진크리에이티브</td>\n",
              "      <td>(주)영진크리에이티브</td>\n",
              "      <td>2017-12-25</td>\n",
              "      <td>개봉영화</td>\n",
              "      <td>장편</td>\n",
              "      <td>일본</td>\n",
              "      <td>1</td>\n",
              "      <td>6,000</td>\n",
              "      <td>1</td>\n",
              "      <td>0</td>\n",
              "      <td>0</td>\n",
              "      <td>멜로/로맨스</td>\n",
              "      <td>청소년관람불가</td>\n",
              "      <td>일반영화</td>\n",
              "    </tr>\n",
              "    <tr>\n",
              "      <th>7041</th>\n",
              "      <td>7042</td>\n",
              "      <td>av감독의 아내</td>\n",
              "      <td>쿠도 마사노리</td>\n",
              "      <td>NaN</td>\n",
              "      <td>(주)도키엔터테인먼트</td>\n",
              "      <td>(주)도키엔터테인먼트</td>\n",
              "      <td>2016-12-22</td>\n",
              "      <td>개봉영화</td>\n",
              "      <td>장편</td>\n",
              "      <td>일본</td>\n",
              "      <td>1</td>\n",
              "      <td>8,000</td>\n",
              "      <td>1</td>\n",
              "      <td>0</td>\n",
              "      <td>0</td>\n",
              "      <td>성인물(에로)</td>\n",
              "      <td>청소년관람불가</td>\n",
              "      <td>일반영화</td>\n",
              "    </tr>\n",
              "    <tr>\n",
              "      <th>7042</th>\n",
              "      <td>7043</td>\n",
              "      <td>만화방</td>\n",
              "      <td>허재형</td>\n",
              "      <td>(주)영진크리에이티브</td>\n",
              "      <td>NaN</td>\n",
              "      <td>(주)영진크리에이티브</td>\n",
              "      <td>2012-02-29</td>\n",
              "      <td>개봉영화</td>\n",
              "      <td>장편</td>\n",
              "      <td>한국</td>\n",
              "      <td>0</td>\n",
              "      <td>0</td>\n",
              "      <td>0</td>\n",
              "      <td>0</td>\n",
              "      <td>0</td>\n",
              "      <td>코미디</td>\n",
              "      <td>청소년관람불가</td>\n",
              "      <td>일반영화</td>\n",
              "    </tr>\n",
              "  </tbody>\n",
              "</table>\n",
              "<p>7043 rows × 18 columns</p>\n",
              "</div>"
            ],
            "text/plain": [
              "        순번          영화명           감독  ...       장르        등급  영화구분\n",
              "0        1           명량          김한민  ...       사극  15세이상관람가  일반영화\n",
              "1        2         극한직업          이병헌  ...      코미디  15세이상관람가  일반영화\n",
              "2        3    신과함께-죄와 벌          김용화  ...      판타지  12세이상관람가  일반영화\n",
              "3        4         국제시장          윤제균  ...      드라마  12세이상관람가  일반영화\n",
              "4        5   어벤져스: 엔드게임  안소니 루소,조 루소  ...       액션  12세이상관람가  일반영화\n",
              "...    ...          ...          ...  ...      ...       ...   ...\n",
              "7038  7039        S걸의 덫    그레고리 하타나카  ...   멜로/로맨스   청소년관람불가  일반영화\n",
              "7039  7040     VIP전용 여자      카네다 사토시  ...  성인물(에로)   청소년관람불가  일반영화\n",
              "7040  7041  VJ의 은밀한 사생활       오카다 히로  ...   멜로/로맨스   청소년관람불가  일반영화\n",
              "7041  7042     av감독의 아내      쿠도 마사노리  ...  성인물(에로)   청소년관람불가  일반영화\n",
              "7042  7043          만화방          허재형  ...      코미디   청소년관람불가  일반영화\n",
              "\n",
              "[7043 rows x 18 columns]"
            ]
          },
          "metadata": {
            "tags": []
          },
          "execution_count": 3
        }
      ]
    },
    {
      "cell_type": "markdown",
      "metadata": {
        "id": "JCpA7YZX7RTY"
      },
      "source": [
        "# 데이터 전처리 (수치화 과정)"
      ]
    },
    {
      "cell_type": "code",
      "metadata": {
        "id": "_u2VSSP37iDQ"
      },
      "source": [
        "# 쉼표를 제거해주는 과정\n",
        "movie_raw_data['전국매출액'] = movie_raw_data['전국매출액'].apply(lambda x: x.replace(',', ''))\n",
        "movie_raw_data['전국스크린수'] = movie_raw_data['전국스크린수'].apply(lambda x: x.replace(',', ''))\n",
        "movie_raw_data['전국관객수'] = movie_raw_data['전국관객수'].apply(lambda x: x.replace(',', ''))"
      ],
      "execution_count": null,
      "outputs": []
    },
    {
      "cell_type": "code",
      "metadata": {
        "id": "ayUYJIWp7hK7"
      },
      "source": [
        "# object 데이터를 numeric 하게 바꾸어주는 과정\n",
        "movie_raw_data['전국매출액'] = pd.to_numeric(movie_raw_data['전국매출액'])\n",
        "movie_raw_data['전국스크린수'] = pd.to_numeric(movie_raw_data['전국스크린수'])\n",
        "movie_raw_data['전국관객수'] = pd.to_numeric(movie_raw_data['전국관객수'])"
      ],
      "execution_count": null,
      "outputs": []
    },
    {
      "cell_type": "code",
      "metadata": {
        "colab": {
          "base_uri": "https://localhost:8080/",
          "height": 1000
        },
        "id": "1Im2KpJd8XcT",
        "outputId": "aa8308a7-e175-42bf-a978-cfa661e22189"
      },
      "source": [
        "movie_raw_data.head()"
      ],
      "execution_count": null,
      "outputs": [
        {
          "output_type": "execute_result",
          "data": {
            "text/html": [
              "<div>\n",
              "<style scoped>\n",
              "    .dataframe tbody tr th:only-of-type {\n",
              "        vertical-align: middle;\n",
              "    }\n",
              "\n",
              "    .dataframe tbody tr th {\n",
              "        vertical-align: top;\n",
              "    }\n",
              "\n",
              "    .dataframe thead th {\n",
              "        text-align: right;\n",
              "    }\n",
              "</style>\n",
              "<table border=\"1\" class=\"dataframe\">\n",
              "  <thead>\n",
              "    <tr style=\"text-align: right;\">\n",
              "      <th></th>\n",
              "      <th>순번</th>\n",
              "      <th>영화명</th>\n",
              "      <th>감독</th>\n",
              "      <th>제작사</th>\n",
              "      <th>수입사</th>\n",
              "      <th>배급사</th>\n",
              "      <th>개봉일</th>\n",
              "      <th>영화유형</th>\n",
              "      <th>영화형태</th>\n",
              "      <th>국적</th>\n",
              "      <th>전국스크린수</th>\n",
              "      <th>전국매출액</th>\n",
              "      <th>전국관객수</th>\n",
              "      <th>서울매출액</th>\n",
              "      <th>서울관객수</th>\n",
              "      <th>장르</th>\n",
              "      <th>등급</th>\n",
              "      <th>영화구분</th>\n",
              "    </tr>\n",
              "  </thead>\n",
              "  <tbody>\n",
              "    <tr>\n",
              "      <th>0</th>\n",
              "      <td>1</td>\n",
              "      <td>명량</td>\n",
              "      <td>김한민</td>\n",
              "      <td>(주)빅스톤픽쳐스</td>\n",
              "      <td>NaN</td>\n",
              "      <td>씨제이이앤엠(주)</td>\n",
              "      <td>2014-07-30</td>\n",
              "      <td>개봉영화</td>\n",
              "      <td>장편</td>\n",
              "      <td>한국</td>\n",
              "      <td>1587</td>\n",
              "      <td>135748398910</td>\n",
              "      <td>17613682</td>\n",
              "      <td>33,121,225,810</td>\n",
              "      <td>4,163,666</td>\n",
              "      <td>사극</td>\n",
              "      <td>15세이상관람가</td>\n",
              "      <td>일반영화</td>\n",
              "    </tr>\n",
              "    <tr>\n",
              "      <th>1</th>\n",
              "      <td>2</td>\n",
              "      <td>극한직업</td>\n",
              "      <td>이병헌</td>\n",
              "      <td>(주)어바웃필름,영화사 해그림 주식회사,씨제이이앤엠(주)</td>\n",
              "      <td>NaN</td>\n",
              "      <td>씨제이이앤엠(주)</td>\n",
              "      <td>2019-01-23</td>\n",
              "      <td>개봉영화</td>\n",
              "      <td>장편</td>\n",
              "      <td>한국</td>\n",
              "      <td>1978</td>\n",
              "      <td>139647979516</td>\n",
              "      <td>16264944</td>\n",
              "      <td>31,858,660,536</td>\n",
              "      <td>3,638,287</td>\n",
              "      <td>코미디</td>\n",
              "      <td>15세이상관람가</td>\n",
              "      <td>일반영화</td>\n",
              "    </tr>\n",
              "    <tr>\n",
              "      <th>2</th>\n",
              "      <td>3</td>\n",
              "      <td>신과함께-죄와 벌</td>\n",
              "      <td>김용화</td>\n",
              "      <td>리얼라이즈픽쳐스(주),(주)덱스터스튜디오</td>\n",
              "      <td>NaN</td>\n",
              "      <td>롯데쇼핑㈜롯데엔터테인먼트</td>\n",
              "      <td>2017-12-20</td>\n",
              "      <td>개봉영화</td>\n",
              "      <td>장편</td>\n",
              "      <td>한국</td>\n",
              "      <td>1912</td>\n",
              "      <td>115698654137</td>\n",
              "      <td>14410754</td>\n",
              "      <td>27,530,825,087</td>\n",
              "      <td>3,346,172</td>\n",
              "      <td>판타지</td>\n",
              "      <td>12세이상관람가</td>\n",
              "      <td>일반영화</td>\n",
              "    </tr>\n",
              "    <tr>\n",
              "      <th>3</th>\n",
              "      <td>4</td>\n",
              "      <td>국제시장</td>\n",
              "      <td>윤제균</td>\n",
              "      <td>(주)제이케이필름,씨제이이앤엠(주)</td>\n",
              "      <td>NaN</td>\n",
              "      <td>씨제이이앤엠(주)</td>\n",
              "      <td>2014-12-17</td>\n",
              "      <td>개봉영화</td>\n",
              "      <td>장편</td>\n",
              "      <td>한국</td>\n",
              "      <td>966</td>\n",
              "      <td>110828014630</td>\n",
              "      <td>14245998</td>\n",
              "      <td>25,842,519,330</td>\n",
              "      <td>3,233,946</td>\n",
              "      <td>드라마</td>\n",
              "      <td>12세이상관람가</td>\n",
              "      <td>일반영화</td>\n",
              "    </tr>\n",
              "    <tr>\n",
              "      <th>4</th>\n",
              "      <td>5</td>\n",
              "      <td>어벤져스: 엔드게임</td>\n",
              "      <td>안소니 루소,조 루소</td>\n",
              "      <td>NaN</td>\n",
              "      <td>월트디즈니컴퍼니코리아 유한책임회사</td>\n",
              "      <td>월트디즈니컴퍼니코리아 유한책임회사</td>\n",
              "      <td>2019-04-24</td>\n",
              "      <td>개봉영화</td>\n",
              "      <td>장편</td>\n",
              "      <td>미국</td>\n",
              "      <td>2835</td>\n",
              "      <td>122182694160</td>\n",
              "      <td>13934592</td>\n",
              "      <td>33,577,136,860</td>\n",
              "      <td>3,597,963</td>\n",
              "      <td>액션</td>\n",
              "      <td>12세이상관람가</td>\n",
              "      <td>일반영화</td>\n",
              "    </tr>\n",
              "  </tbody>\n",
              "</table>\n",
              "</div>"
            ],
            "text/plain": [
              "   순번         영화명           감독  ...   장르        등급  영화구분\n",
              "0   1          명량          김한민  ...   사극  15세이상관람가  일반영화\n",
              "1   2        극한직업          이병헌  ...  코미디  15세이상관람가  일반영화\n",
              "2   3   신과함께-죄와 벌          김용화  ...  판타지  12세이상관람가  일반영화\n",
              "3   4        국제시장          윤제균  ...  드라마  12세이상관람가  일반영화\n",
              "4   5  어벤져스: 엔드게임  안소니 루소,조 루소  ...   액션  12세이상관람가  일반영화\n",
              "\n",
              "[5 rows x 18 columns]"
            ]
          },
          "metadata": {
            "tags": []
          },
          "execution_count": 6
        }
      ]
    },
    {
      "cell_type": "code",
      "metadata": {
        "colab": {
          "base_uri": "https://localhost:8080/",
          "height": 828
        },
        "id": "tNr52RLX0zUI",
        "outputId": "486c39b5-02f0-44a0-ff1a-8616dafbb4f5"
      },
      "source": [
        "f, ax = plt.subplots(figsize = (8,6))\n",
        "sns.distplot(movie_raw_data['전국관객수'])\n",
        "print(\"%s -> Skewness: %f, Kurtosis: %f\" %  ('전국관객수',movie_raw_data['전국관객수'].skew(), movie_raw_data['전국관객수'].kurt()))"
      ],
      "execution_count": null,
      "outputs": [
        {
          "output_type": "stream",
          "text": [
            "/usr/local/lib/python3.6/dist-packages/seaborn/distributions.py:2551: FutureWarning: `distplot` is a deprecated function and will be removed in a future version. Please adapt your code to use either `displot` (a figure-level function with similar flexibility) or `histplot` (an axes-level function for histograms).\n",
            "  warnings.warn(msg, FutureWarning)\n",
            "/usr/local/lib/python3.6/dist-packages/matplotlib/backends/backend_agg.py:214: RuntimeWarning: Glyph 51204 missing from current font.\n",
            "  font.set_text(s, 0.0, flags=flags)\n",
            "/usr/local/lib/python3.6/dist-packages/matplotlib/backends/backend_agg.py:214: RuntimeWarning: Glyph 44397 missing from current font.\n",
            "  font.set_text(s, 0.0, flags=flags)\n",
            "/usr/local/lib/python3.6/dist-packages/matplotlib/backends/backend_agg.py:214: RuntimeWarning: Glyph 44288 missing from current font.\n",
            "  font.set_text(s, 0.0, flags=flags)\n",
            "/usr/local/lib/python3.6/dist-packages/matplotlib/backends/backend_agg.py:214: RuntimeWarning: Glyph 44061 missing from current font.\n",
            "  font.set_text(s, 0.0, flags=flags)\n",
            "/usr/local/lib/python3.6/dist-packages/matplotlib/backends/backend_agg.py:214: RuntimeWarning: Glyph 49688 missing from current font.\n",
            "  font.set_text(s, 0.0, flags=flags)\n",
            "/usr/local/lib/python3.6/dist-packages/matplotlib/backends/backend_agg.py:183: RuntimeWarning: Glyph 51204 missing from current font.\n",
            "  font.set_text(s, 0, flags=flags)\n",
            "/usr/local/lib/python3.6/dist-packages/matplotlib/backends/backend_agg.py:183: RuntimeWarning: Glyph 44397 missing from current font.\n",
            "  font.set_text(s, 0, flags=flags)\n",
            "/usr/local/lib/python3.6/dist-packages/matplotlib/backends/backend_agg.py:183: RuntimeWarning: Glyph 44288 missing from current font.\n",
            "  font.set_text(s, 0, flags=flags)\n",
            "/usr/local/lib/python3.6/dist-packages/matplotlib/backends/backend_agg.py:183: RuntimeWarning: Glyph 44061 missing from current font.\n",
            "  font.set_text(s, 0, flags=flags)\n",
            "/usr/local/lib/python3.6/dist-packages/matplotlib/backends/backend_agg.py:183: RuntimeWarning: Glyph 49688 missing from current font.\n",
            "  font.set_text(s, 0, flags=flags)\n"
          ],
          "name": "stderr"
        },
        {
          "output_type": "stream",
          "text": [
            "전국관객수 -> Skewness: 8.161363, Kurtosis: 84.552661\n"
          ],
          "name": "stdout"
        },
        {
          "output_type": "display_data",
          "data": {
            "image/png": "[encoded data removed]",
            "text/plain": [
              "<Figure size 576x432 with 1 Axes>"
            ]
          },
          "metadata": {
            "tags": [],
            "needs_background": "light"
          }
        }
      ]
    },
    {
      "cell_type": "code",
      "metadata": {
        "id": "rHLMoG5J1lNz"
      },
      "source": [
        "movie_raw_data.to_csv('movie_raw_data_fixed.csv', index = False,encoding='utf-8-sig')"
      ],
      "execution_count": null,
      "outputs": []
    },
    {
      "cell_type": "markdown",
      "metadata": {
        "id": "0roK5GhnSBTs"
      },
      "source": [
        "# 1차로 전처리 된 데이터 (최종 관객수 만명 이상의 영화)"
      ]
    },
    {
      "cell_type": "code",
      "metadata": {
        "id": "I7ta5kPJ1uR6"
      },
      "source": [
        "movie_data_fix1=pd.read_csv('/content/drive/MyDrive/movie_data/movie_data.csv')"
      ],
      "execution_count": null,
      "outputs": []
    },
    {
      "cell_type": "markdown",
      "metadata": {
        "id": "BDdfbB0Y-AXp"
      },
      "source": [
        "# 처리된 데이터 레이블 정보\n",
        "title : 영화 제목\n",
        "\n",
        "release-time : 영화 개봉일\n",
        "\n",
        "genre : 영화 장르\n",
        "\n",
        "national : 영화 제작 국가\n",
        "\n",
        "total_revenue : 전체 매출액\n",
        "\n",
        "movie_rating : 관객 평점\n",
        "\n",
        "num_off_screen : 전국 스크린수\n",
        "\n",
        "screen_share : 스크린 점유율\n",
        "\n",
        "fsd_num_off_box : 개봉 2일차 누적 관객수\n",
        "\n",
        "num_off_box : 최종 영화 관객수"
      ]
    },
    {
      "cell_type": "code",
      "metadata": {
        "colab": {
          "base_uri": "https://localhost:8080/"
        },
        "id": "BeSsXNGIRvtf",
        "outputId": "96891704-12b1-488a-97bd-4b4dadaa117e"
      },
      "source": [
        "movie_data_fix1.info()"
      ],
      "execution_count": null,
      "outputs": [
        {
          "output_type": "stream",
          "text": [
            "<class 'pandas.core.frame.DataFrame'>\n",
            "RangeIndex: 1325 entries, 0 to 1324\n",
            "Data columns (total 10 columns):\n",
            " #   Column           Non-Null Count  Dtype  \n",
            "---  ------           --------------  -----  \n",
            " 0   title            1325 non-null   object \n",
            " 1   release-time     1325 non-null   object \n",
            " 2   genre            1325 non-null   object \n",
            " 3   national         1325 non-null   object \n",
            " 4   total_revenue    1325 non-null   float64\n",
            " 5   movie_rating     1325 non-null   float64\n",
            " 6   num_off_screen   1325 non-null   int64  \n",
            " 7   screen_share     1325 non-null   float64\n",
            " 8   fsd_num_off_box  1325 non-null   int64  \n",
            " 9   num_off_box      1325 non-null   int64  \n",
            "dtypes: float64(3), int64(3), object(4)\n",
            "memory usage: 103.6+ KB\n"
          ],
          "name": "stdout"
        }
      ]
    },
    {
      "cell_type": "code",
      "metadata": {
        "colab": {
          "base_uri": "https://localhost:8080/",
          "height": 892
        },
        "id": "Vg_aQKK817o5",
        "outputId": "4690291e-78d5-4ce8-ca57-c2c795cee6a7"
      },
      "source": [
        "movie_data_fix1"
      ],
      "execution_count": null,
      "outputs": [
        {
          "output_type": "execute_result",
          "data": {
            "text/html": [
              "<div>\n",
              "<style scoped>\n",
              "    .dataframe tbody tr th:only-of-type {\n",
              "        vertical-align: middle;\n",
              "    }\n",
              "\n",
              "    .dataframe tbody tr th {\n",
              "        vertical-align: top;\n",
              "    }\n",
              "\n",
              "    .dataframe thead th {\n",
              "        text-align: right;\n",
              "    }\n",
              "</style>\n",
              "<table border=\"1\" class=\"dataframe\">\n",
              "  <thead>\n",
              "    <tr style=\"text-align: right;\">\n",
              "      <th></th>\n",
              "      <th>title</th>\n",
              "      <th>release-time</th>\n",
              "      <th>genre</th>\n",
              "      <th>national</th>\n",
              "      <th>total_revenue</th>\n",
              "      <th>movie_rating</th>\n",
              "      <th>num_off_screen</th>\n",
              "      <th>screen_share</th>\n",
              "      <th>fsd_num_off_box</th>\n",
              "      <th>num_off_box</th>\n",
              "    </tr>\n",
              "  </thead>\n",
              "  <tbody>\n",
              "    <tr>\n",
              "      <th>0</th>\n",
              "      <td>명량</td>\n",
              "      <td>2014.7.30</td>\n",
              "      <td>사극</td>\n",
              "      <td>한국</td>\n",
              "      <td>1.360000e+11</td>\n",
              "      <td>8.44</td>\n",
              "      <td>1587</td>\n",
              "      <td>39.8</td>\n",
              "      <td>1410271</td>\n",
              "      <td>17613682</td>\n",
              "    </tr>\n",
              "    <tr>\n",
              "      <th>1</th>\n",
              "      <td>극한직업</td>\n",
              "      <td>2019.1.23</td>\n",
              "      <td>코미디</td>\n",
              "      <td>한국</td>\n",
              "      <td>1.400000e+11</td>\n",
              "      <td>8.50</td>\n",
              "      <td>1978</td>\n",
              "      <td>31.4</td>\n",
              "      <td>724697</td>\n",
              "      <td>16264944</td>\n",
              "    </tr>\n",
              "    <tr>\n",
              "      <th>2</th>\n",
              "      <td>신과함께-죄와 벌</td>\n",
              "      <td>2017.12.20</td>\n",
              "      <td>판타지</td>\n",
              "      <td>한국</td>\n",
              "      <td>1.160000e+11</td>\n",
              "      <td>7.83</td>\n",
              "      <td>1912</td>\n",
              "      <td>30.4</td>\n",
              "      <td>824013</td>\n",
              "      <td>14410754</td>\n",
              "    </tr>\n",
              "    <tr>\n",
              "      <th>3</th>\n",
              "      <td>국제시장</td>\n",
              "      <td>2014.12.17</td>\n",
              "      <td>드라마</td>\n",
              "      <td>한국</td>\n",
              "      <td>1.110000e+11</td>\n",
              "      <td>9.02</td>\n",
              "      <td>966</td>\n",
              "      <td>23.5</td>\n",
              "      <td>416356</td>\n",
              "      <td>14245998</td>\n",
              "    </tr>\n",
              "    <tr>\n",
              "      <th>4</th>\n",
              "      <td>어벤져스: 엔드게임</td>\n",
              "      <td>2019.4.24</td>\n",
              "      <td>액션</td>\n",
              "      <td>미국</td>\n",
              "      <td>1.220000e+11</td>\n",
              "      <td>9.38</td>\n",
              "      <td>2835</td>\n",
              "      <td>58.0</td>\n",
              "      <td>2171533</td>\n",
              "      <td>13934592</td>\n",
              "    </tr>\n",
              "    <tr>\n",
              "      <th>...</th>\n",
              "      <td>...</td>\n",
              "      <td>...</td>\n",
              "      <td>...</td>\n",
              "      <td>...</td>\n",
              "      <td>...</td>\n",
              "      <td>...</td>\n",
              "      <td>...</td>\n",
              "      <td>...</td>\n",
              "      <td>...</td>\n",
              "      <td>...</td>\n",
              "    </tr>\n",
              "    <tr>\n",
              "      <th>1320</th>\n",
              "      <td>폴라로이드</td>\n",
              "      <td>2019.6.6</td>\n",
              "      <td>공포(호러)</td>\n",
              "      <td>미국</td>\n",
              "      <td>8.981266e+07</td>\n",
              "      <td>5.25</td>\n",
              "      <td>141</td>\n",
              "      <td>2.4</td>\n",
              "      <td>5482</td>\n",
              "      <td>10359</td>\n",
              "    </tr>\n",
              "    <tr>\n",
              "      <th>1321</th>\n",
              "      <td>당신에게도 사랑이 다시 찾아올까요?</td>\n",
              "      <td>2013.10.17</td>\n",
              "      <td>멜로/로맨스</td>\n",
              "      <td>미국</td>\n",
              "      <td>7.043050e+07</td>\n",
              "      <td>6.77</td>\n",
              "      <td>104</td>\n",
              "      <td>2.9</td>\n",
              "      <td>3941</td>\n",
              "      <td>10328</td>\n",
              "    </tr>\n",
              "    <tr>\n",
              "      <th>1322</th>\n",
              "      <td>토마스와 친구들: 우정의 대모험</td>\n",
              "      <td>2018.12.13</td>\n",
              "      <td>애니메이션</td>\n",
              "      <td>영국</td>\n",
              "      <td>7.370775e+07</td>\n",
              "      <td>8.44</td>\n",
              "      <td>196</td>\n",
              "      <td>2.7</td>\n",
              "      <td>3096</td>\n",
              "      <td>10315</td>\n",
              "    </tr>\n",
              "    <tr>\n",
              "      <th>1323</th>\n",
              "      <td>드래프트 데이</td>\n",
              "      <td>2014.7.10</td>\n",
              "      <td>드라마</td>\n",
              "      <td>미국</td>\n",
              "      <td>7.421620e+07</td>\n",
              "      <td>8.35</td>\n",
              "      <td>82</td>\n",
              "      <td>2.3</td>\n",
              "      <td>4108</td>\n",
              "      <td>10119</td>\n",
              "    </tr>\n",
              "    <tr>\n",
              "      <th>1324</th>\n",
              "      <td>폴라로이드</td>\n",
              "      <td>2015.7.16</td>\n",
              "      <td>드라마</td>\n",
              "      <td>한국</td>\n",
              "      <td>6.531700e+07</td>\n",
              "      <td>6.51</td>\n",
              "      <td>27</td>\n",
              "      <td>0.6</td>\n",
              "      <td>6084</td>\n",
              "      <td>10094</td>\n",
              "    </tr>\n",
              "  </tbody>\n",
              "</table>\n",
              "<p>1325 rows × 10 columns</p>\n",
              "</div>"
            ],
            "text/plain": [
              "                    title release-time  ... fsd_num_off_box num_off_box\n",
              "0                      명량    2014.7.30  ...         1410271    17613682\n",
              "1                    극한직업    2019.1.23  ...          724697    16264944\n",
              "2               신과함께-죄와 벌   2017.12.20  ...          824013    14410754\n",
              "3                    국제시장   2014.12.17  ...          416356    14245998\n",
              "4              어벤져스: 엔드게임    2019.4.24  ...         2171533    13934592\n",
              "...                   ...          ...  ...             ...         ...\n",
              "1320                폴라로이드     2019.6.6  ...            5482       10359\n",
              "1321  당신에게도 사랑이 다시 찾아올까요?   2013.10.17  ...            3941       10328\n",
              "1322    토마스와 친구들: 우정의 대모험   2018.12.13  ...            3096       10315\n",
              "1323              드래프트 데이    2014.7.10  ...            4108       10119\n",
              "1324                폴라로이드    2015.7.16  ...            6084       10094\n",
              "\n",
              "[1325 rows x 10 columns]"
            ]
          },
          "metadata": {
            "tags": []
          },
          "execution_count": 11
        }
      ]
    },
    {
      "cell_type": "markdown",
      "metadata": {
        "id": "Q6pXmZvH5AX-"
      },
      "source": [
        "# 최종 관객수"
      ]
    },
    {
      "cell_type": "code",
      "metadata": {
        "colab": {
          "base_uri": "https://localhost:8080/",
          "height": 473
        },
        "id": "PDBOA_w4qGyY",
        "outputId": "014917ad-92f8-48d7-9722-0c693a75ff05"
      },
      "source": [
        "# 최종 관객수 시각화\n",
        "f, ax = plt.subplots(figsize = (8,6))\n",
        "sns.distplot(movie_data_fix1['num_off_box'])\n",
        "print(\"%s -> Skewness: %f, Kurtosis: %f\" %  ('num_off_box',movie_data_fix1['num_off_box'].skew(), movie_data_fix1['num_off_box'].kurt()))"
      ],
      "execution_count": null,
      "outputs": [
        {
          "output_type": "stream",
          "text": [
            "/usr/local/lib/python3.6/dist-packages/seaborn/distributions.py:2551: FutureWarning: `distplot` is a deprecated function and will be removed in a future version. Please adapt your code to use either `displot` (a figure-level function with similar flexibility) or `histplot` (an axes-level function for histograms).\n",
            "  warnings.warn(msg, FutureWarning)\n"
          ],
          "name": "stderr"
        },
        {
          "output_type": "stream",
          "text": [
            "num_off_box -> Skewness: 3.491110, Kurtosis: 15.056236\n"
          ],
          "name": "stdout"
        },
        {
          "output_type": "display_data",
          "data": {
            "image/png": "[encoded data removed]",
            "text/plain": [
              "<Figure size 576x432 with 1 Axes>"
            ]
          },
          "metadata": {
            "tags": [],
            "needs_background": "light"
          }
        }
      ]
    },
    {
      "cell_type": "markdown",
      "metadata": {
        "id": "0Br_0GlU2ea-"
      },
      "source": [
        "# Numeric data"
      ]
    },
    {
      "cell_type": "markdown",
      "metadata": {
        "id": "-3eM8ZMK5I8A"
      },
      "source": [
        "# 개봉 2일차 누적관객수"
      ]
    },
    {
      "cell_type": "code",
      "metadata": {
        "colab": {
          "base_uri": "https://localhost:8080/",
          "height": 473
        },
        "id": "ILlBdslts3-f",
        "outputId": "16d069c8-76b1-44e3-8f5d-3a7b2d30d23c"
      },
      "source": [
        "# 개봉 2일차 누적관객수 시각화\n",
        "f, ax = plt.subplots(figsize = (8,6))\n",
        "sns.distplot(movie_data_fix1['fsd_num_off_box'])\n",
        "print(\"%s -> Skewness: %f, Kurtosis: %f\" %  ('fsd_num_off_box',movie_data_fix1['fsd_num_off_box'].skew(), movie_data_fix1['fsd_num_off_box'].kurt()))"
      ],
      "execution_count": null,
      "outputs": [
        {
          "output_type": "stream",
          "text": [
            "/usr/local/lib/python3.6/dist-packages/seaborn/distributions.py:2551: FutureWarning: `distplot` is a deprecated function and will be removed in a future version. Please adapt your code to use either `displot` (a figure-level function with similar flexibility) or `histplot` (an axes-level function for histograms).\n",
            "  warnings.warn(msg, FutureWarning)\n"
          ],
          "name": "stderr"
        },
        {
          "output_type": "stream",
          "text": [
            "fsd_num_off_box -> Skewness: 3.553009, Kurtosis: 18.570440\n"
          ],
          "name": "stdout"
        },
        {
          "output_type": "display_data",
          "data": {
            "image/png": "[encoded data removed]",
            "text/plain": [
              "<Figure size 576x432 with 1 Axes>"
            ]
          },
          "metadata": {
            "tags": [],
            "needs_background": "light"
          }
        }
      ]
    },
    {
      "cell_type": "markdown",
      "metadata": {
        "id": "2SU6zX2m5TCB"
      },
      "source": [
        "# 스크린 점유율"
      ]
    },
    {
      "cell_type": "code",
      "metadata": {
        "colab": {
          "base_uri": "https://localhost:8080/",
          "height": 463
        },
        "id": "VD3v7Dkcum7j",
        "outputId": "02336832-6453-417d-dec0-7227d6edcd09"
      },
      "source": [
        "# 스크린 점유율 시각화\n",
        "f, ax = plt.subplots(figsize = (8,6))\n",
        "sns.distplot(movie_data_fix1['screen_share'])\n",
        "print(\"%s -> Skewness: %f, Kurtosis: %f\" %  ('screen_share',movie_data_fix1['screen_share'].skew(), movie_data_fix1['screen_share'].kurt()))"
      ],
      "execution_count": null,
      "outputs": [
        {
          "output_type": "stream",
          "text": [
            "/usr/local/lib/python3.6/dist-packages/seaborn/distributions.py:2551: FutureWarning: `distplot` is a deprecated function and will be removed in a future version. Please adapt your code to use either `displot` (a figure-level function with similar flexibility) or `histplot` (an axes-level function for histograms).\n",
            "  warnings.warn(msg, FutureWarning)\n"
          ],
          "name": "stderr"
        },
        {
          "output_type": "stream",
          "text": [
            "screen_share -> Skewness: 1.402762, Kurtosis: 2.988233\n"
          ],
          "name": "stdout"
        },
        {
          "output_type": "display_data",
          "data": {
            "image/png": "[encoded data removed]",
            "text/plain": [
              "<Figure size 576x432 with 1 Axes>"
            ]
          },
          "metadata": {
            "tags": [],
            "needs_background": "light"
          }
        }
      ]
    },
    {
      "cell_type": "markdown",
      "metadata": {
        "id": "-ED_q-5N5Wpq"
      },
      "source": [
        "# 전국 스크린수"
      ]
    },
    {
      "cell_type": "code",
      "metadata": {
        "colab": {
          "base_uri": "https://localhost:8080/",
          "height": 463
        },
        "id": "zVFpKLSjw2MW",
        "outputId": "bb0a18dd-8966-464c-f866-fc57c59bfe56"
      },
      "source": [
        "# 전국 스크린수 시각화\n",
        "f, ax = plt.subplots(figsize = (8,6))\n",
        "sns.distplot(movie_data_fix1['num_off_screen'])\n",
        "print(\"%s -> Skewness: %f, Kurtosis: %f\" %  ('num_off_screen',movie_data_fix1['num_off_screen'].skew(), movie_data_fix1['num_off_screen'].kurt()))"
      ],
      "execution_count": null,
      "outputs": [
        {
          "output_type": "stream",
          "text": [
            "/usr/local/lib/python3.6/dist-packages/seaborn/distributions.py:2551: FutureWarning: `distplot` is a deprecated function and will be removed in a future version. Please adapt your code to use either `displot` (a figure-level function with similar flexibility) or `histplot` (an axes-level function for histograms).\n",
            "  warnings.warn(msg, FutureWarning)\n"
          ],
          "name": "stderr"
        },
        {
          "output_type": "stream",
          "text": [
            "num_off_screen -> Skewness: 1.517136, Kurtosis: 3.306422\n"
          ],
          "name": "stdout"
        },
        {
          "output_type": "display_data",
          "data": {
            "image/png": "[encoded data removed]",
            "text/plain": [
              "<Figure size 576x432 with 1 Axes>"
            ]
          },
          "metadata": {
            "tags": [],
            "needs_background": "light"
          }
        }
      ]
    },
    {
      "cell_type": "markdown",
      "metadata": {
        "id": "tL4cBxV35gj6"
      },
      "source": [
        "# 영화 평점"
      ]
    },
    {
      "cell_type": "code",
      "metadata": {
        "colab": {
          "base_uri": "https://localhost:8080/",
          "height": 463
        },
        "id": "sLmL3AWFyazk",
        "outputId": "97f763a0-1004-4999-d8e2-ba51f41a35f2"
      },
      "source": [
        "# 영화 평점 시각화\n",
        "f, ax = plt.subplots(figsize = (8,6))\n",
        "sns.distplot(movie_data_fix1['movie_rating'])\n",
        "print(\"%s -> Skewness: %f, Kurtosis: %f\" %  ('movie_rating',movie_data_fix1['movie_rating'].skew(),movie_data_fix1['movie_rating'].kurt()))"
      ],
      "execution_count": null,
      "outputs": [
        {
          "output_type": "stream",
          "text": [
            "/usr/local/lib/python3.6/dist-packages/seaborn/distributions.py:2551: FutureWarning: `distplot` is a deprecated function and will be removed in a future version. Please adapt your code to use either `displot` (a figure-level function with similar flexibility) or `histplot` (an axes-level function for histograms).\n",
            "  warnings.warn(msg, FutureWarning)\n"
          ],
          "name": "stderr"
        },
        {
          "output_type": "stream",
          "text": [
            "movie_rating -> Skewness: -1.165120, Kurtosis: 1.766752\n"
          ],
          "name": "stdout"
        },
        {
          "output_type": "display_data",
          "data": {
            "image/png": "[encoded data removed]",
            "text/plain": [
              "<Figure size 576x432 with 1 Axes>"
            ]
          },
          "metadata": {
            "tags": [],
            "needs_background": "light"
          }
        }
      ]
    },
    {
      "cell_type": "code",
      "metadata": {
        "colab": {
          "base_uri": "https://localhost:8080/",
          "height": 892
        },
        "id": "LEvuzKDxv4XY",
        "outputId": "2f074225-246a-4d54-b87d-58241d3600be"
      },
      "source": [
        "movie_data_fix1"
      ],
      "execution_count": null,
      "outputs": [
        {
          "output_type": "execute_result",
          "data": {
            "text/html": [
              "<div>\n",
              "<style scoped>\n",
              "    .dataframe tbody tr th:only-of-type {\n",
              "        vertical-align: middle;\n",
              "    }\n",
              "\n",
              "    .dataframe tbody tr th {\n",
              "        vertical-align: top;\n",
              "    }\n",
              "\n",
              "    .dataframe thead th {\n",
              "        text-align: right;\n",
              "    }\n",
              "</style>\n",
              "<table border=\"1\" class=\"dataframe\">\n",
              "  <thead>\n",
              "    <tr style=\"text-align: right;\">\n",
              "      <th></th>\n",
              "      <th>title</th>\n",
              "      <th>release-time</th>\n",
              "      <th>genre</th>\n",
              "      <th>national</th>\n",
              "      <th>total_revenue</th>\n",
              "      <th>movie_rating</th>\n",
              "      <th>num_off_screen</th>\n",
              "      <th>screen_share</th>\n",
              "      <th>fsd_num_off_box</th>\n",
              "      <th>num_off_box</th>\n",
              "    </tr>\n",
              "  </thead>\n",
              "  <tbody>\n",
              "    <tr>\n",
              "      <th>0</th>\n",
              "      <td>명량</td>\n",
              "      <td>2014.7.30</td>\n",
              "      <td>사극</td>\n",
              "      <td>한국</td>\n",
              "      <td>1.360000e+11</td>\n",
              "      <td>8.44</td>\n",
              "      <td>1587</td>\n",
              "      <td>39.8</td>\n",
              "      <td>1410271</td>\n",
              "      <td>17613682</td>\n",
              "    </tr>\n",
              "    <tr>\n",
              "      <th>1</th>\n",
              "      <td>극한직업</td>\n",
              "      <td>2019.1.23</td>\n",
              "      <td>코미디</td>\n",
              "      <td>한국</td>\n",
              "      <td>1.400000e+11</td>\n",
              "      <td>8.50</td>\n",
              "      <td>1978</td>\n",
              "      <td>31.4</td>\n",
              "      <td>724697</td>\n",
              "      <td>16264944</td>\n",
              "    </tr>\n",
              "    <tr>\n",
              "      <th>2</th>\n",
              "      <td>신과함께-죄와 벌</td>\n",
              "      <td>2017.12.20</td>\n",
              "      <td>판타지</td>\n",
              "      <td>한국</td>\n",
              "      <td>1.160000e+11</td>\n",
              "      <td>7.83</td>\n",
              "      <td>1912</td>\n",
              "      <td>30.4</td>\n",
              "      <td>824013</td>\n",
              "      <td>14410754</td>\n",
              "    </tr>\n",
              "    <tr>\n",
              "      <th>3</th>\n",
              "      <td>국제시장</td>\n",
              "      <td>2014.12.17</td>\n",
              "      <td>드라마</td>\n",
              "      <td>한국</td>\n",
              "      <td>1.110000e+11</td>\n",
              "      <td>9.02</td>\n",
              "      <td>966</td>\n",
              "      <td>23.5</td>\n",
              "      <td>416356</td>\n",
              "      <td>14245998</td>\n",
              "    </tr>\n",
              "    <tr>\n",
              "      <th>4</th>\n",
              "      <td>어벤져스: 엔드게임</td>\n",
              "      <td>2019.4.24</td>\n",
              "      <td>액션</td>\n",
              "      <td>미국</td>\n",
              "      <td>1.220000e+11</td>\n",
              "      <td>9.38</td>\n",
              "      <td>2835</td>\n",
              "      <td>58.0</td>\n",
              "      <td>2171533</td>\n",
              "      <td>13934592</td>\n",
              "    </tr>\n",
              "    <tr>\n",
              "      <th>...</th>\n",
              "      <td>...</td>\n",
              "      <td>...</td>\n",
              "      <td>...</td>\n",
              "      <td>...</td>\n",
              "      <td>...</td>\n",
              "      <td>...</td>\n",
              "      <td>...</td>\n",
              "      <td>...</td>\n",
              "      <td>...</td>\n",
              "      <td>...</td>\n",
              "    </tr>\n",
              "    <tr>\n",
              "      <th>1320</th>\n",
              "      <td>폴라로이드</td>\n",
              "      <td>2019.6.6</td>\n",
              "      <td>공포(호러)</td>\n",
              "      <td>미국</td>\n",
              "      <td>8.981266e+07</td>\n",
              "      <td>5.25</td>\n",
              "      <td>141</td>\n",
              "      <td>2.4</td>\n",
              "      <td>5482</td>\n",
              "      <td>10359</td>\n",
              "    </tr>\n",
              "    <tr>\n",
              "      <th>1321</th>\n",
              "      <td>당신에게도 사랑이 다시 찾아올까요?</td>\n",
              "      <td>2013.10.17</td>\n",
              "      <td>멜로/로맨스</td>\n",
              "      <td>미국</td>\n",
              "      <td>7.043050e+07</td>\n",
              "      <td>6.77</td>\n",
              "      <td>104</td>\n",
              "      <td>2.9</td>\n",
              "      <td>3941</td>\n",
              "      <td>10328</td>\n",
              "    </tr>\n",
              "    <tr>\n",
              "      <th>1322</th>\n",
              "      <td>토마스와 친구들: 우정의 대모험</td>\n",
              "      <td>2018.12.13</td>\n",
              "      <td>애니메이션</td>\n",
              "      <td>영국</td>\n",
              "      <td>7.370775e+07</td>\n",
              "      <td>8.44</td>\n",
              "      <td>196</td>\n",
              "      <td>2.7</td>\n",
              "      <td>3096</td>\n",
              "      <td>10315</td>\n",
              "    </tr>\n",
              "    <tr>\n",
              "      <th>1323</th>\n",
              "      <td>드래프트 데이</td>\n",
              "      <td>2014.7.10</td>\n",
              "      <td>드라마</td>\n",
              "      <td>미국</td>\n",
              "      <td>7.421620e+07</td>\n",
              "      <td>8.35</td>\n",
              "      <td>82</td>\n",
              "      <td>2.3</td>\n",
              "      <td>4108</td>\n",
              "      <td>10119</td>\n",
              "    </tr>\n",
              "    <tr>\n",
              "      <th>1324</th>\n",
              "      <td>폴라로이드</td>\n",
              "      <td>2015.7.16</td>\n",
              "      <td>드라마</td>\n",
              "      <td>한국</td>\n",
              "      <td>6.531700e+07</td>\n",
              "      <td>6.51</td>\n",
              "      <td>27</td>\n",
              "      <td>0.6</td>\n",
              "      <td>6084</td>\n",
              "      <td>10094</td>\n",
              "    </tr>\n",
              "  </tbody>\n",
              "</table>\n",
              "<p>1325 rows × 10 columns</p>\n",
              "</div>"
            ],
            "text/plain": [
              "                    title release-time  ... fsd_num_off_box num_off_box\n",
              "0                      명량    2014.7.30  ...         1410271    17613682\n",
              "1                    극한직업    2019.1.23  ...          724697    16264944\n",
              "2               신과함께-죄와 벌   2017.12.20  ...          824013    14410754\n",
              "3                    국제시장   2014.12.17  ...          416356    14245998\n",
              "4              어벤져스: 엔드게임    2019.4.24  ...         2171533    13934592\n",
              "...                   ...          ...  ...             ...         ...\n",
              "1320                폴라로이드     2019.6.6  ...            5482       10359\n",
              "1321  당신에게도 사랑이 다시 찾아올까요?   2013.10.17  ...            3941       10328\n",
              "1322    토마스와 친구들: 우정의 대모험   2018.12.13  ...            3096       10315\n",
              "1323              드래프트 데이    2014.7.10  ...            4108       10119\n",
              "1324                폴라로이드    2015.7.16  ...            6084       10094\n",
              "\n",
              "[1325 rows x 10 columns]"
            ]
          },
          "metadata": {
            "tags": []
          },
          "execution_count": 17
        }
      ]
    },
    {
      "cell_type": "markdown",
      "metadata": {
        "id": "uBGUeZShSdxZ"
      },
      "source": [
        "# 데이터 각 colum 별 상관계수"
      ]
    },
    {
      "cell_type": "code",
      "metadata": {
        "colab": {
          "base_uri": "https://localhost:8080/",
          "height": 361
        },
        "id": "Rv84-0su2Uc0",
        "outputId": "b283266c-3185-431c-89f6-b64c4225b027"
      },
      "source": [
        "# 데이터 별 각 colum 별 상관계수\n",
        "# 초반 이틀 누적 관객수, 스크린 점유율, 스크린수, 영화 평점순으로 중요한 특징 공간임을 알 수 있습니다.\n",
        "sns.heatmap(movie_data_fix1.corr(), annot = True)"
      ],
      "execution_count": null,
      "outputs": [
        {
          "output_type": "execute_result",
          "data": {
            "text/plain": [
              "<matplotlib.axes._subplots.AxesSubplot at 0x7f6a5633a128>"
            ]
          },
          "metadata": {
            "tags": []
          },
          "execution_count": 18
        },
        {
          "output_type": "display_data",
          "data": {
            "image/png": "[encoded data removed]",
            "text/plain": [
              "<Figure size 432x288 with 2 Axes>"
            ]
          },
          "metadata": {
            "tags": [],
            "needs_background": "light"
          }
        }
      ]
    },
    {
      "cell_type": "markdown",
      "metadata": {
        "id": "vcxd9kg75q2S"
      },
      "source": [
        "# 범주형 데이터"
      ]
    },
    {
      "cell_type": "code",
      "metadata": {
        "colab": {
          "base_uri": "https://localhost:8080/"
        },
        "id": "oeXeFul89FS6",
        "outputId": "ccbf1851-81ab-496a-c726-b2e51019950f"
      },
      "source": [
        "movie_data_fix1['genre'].unique()"
      ],
      "execution_count": null,
      "outputs": [
        {
          "output_type": "execute_result",
          "data": {
            "text/plain": [
              "array(['사극', '코미디', '판타지', '드라마', '액션', '어드벤처', '애니메이션', 'SF', '범죄', '전쟁',\n",
              "       '미스터리', '멜로/로맨스', '스릴러', '공포(호러)', '뮤지컬', '다큐멘터리', '가족', '공연',\n",
              "       '기타', '서부극(웨스턴)'], dtype=object)"
            ]
          },
          "metadata": {
            "tags": []
          },
          "execution_count": 19
        }
      ]
    },
    {
      "cell_type": "code",
      "metadata": {
        "colab": {
          "base_uri": "https://localhost:8080/",
          "height": 366
        },
        "id": "dEsyVxCt9LZZ",
        "outputId": "1ddc9d5a-96a2-4ee9-a7f5-34cb1690f9bf"
      },
      "source": [
        "# 한글로 명시된 장르명들을 영어로 바꾸어주는 과정\n",
        "replace_name = {'사극' : 'historical_drama', '코미디' : 'comedy', '판타지' : 'fantasy', '드라마' : 'dramas',\n",
        "               '액션' : 'action', '어드벤처' : 'adventure', '애니메이션' : 'animation','범죄': 'crime','전쟁': 'war','미스터리' :'mystery','멜로/로맨스' : 'melo/romance', '스릴러': 'thriller', '공포(호러)' : 'horror',\n",
        "               '뮤지컬': 'musical','다큐멘터리': 'documentry','가족' : 'family','공연':'show','기타': 'others','서부극(웨스턴)' : 'western'}\n",
        "movie_data_fix1.replace({'genre' : replace_name}, inplace = True)\n",
        "movie_data_fix1.head()"
      ],
      "execution_count": null,
      "outputs": [
        {
          "output_type": "execute_result",
          "data": {
            "text/html": [
              "<div>\n",
              "<style scoped>\n",
              "    .dataframe tbody tr th:only-of-type {\n",
              "        vertical-align: middle;\n",
              "    }\n",
              "\n",
              "    .dataframe tbody tr th {\n",
              "        vertical-align: top;\n",
              "    }\n",
              "\n",
              "    .dataframe thead th {\n",
              "        text-align: right;\n",
              "    }\n",
              "</style>\n",
              "<table border=\"1\" class=\"dataframe\">\n",
              "  <thead>\n",
              "    <tr style=\"text-align: right;\">\n",
              "      <th></th>\n",
              "      <th>title</th>\n",
              "      <th>release-time</th>\n",
              "      <th>genre</th>\n",
              "      <th>national</th>\n",
              "      <th>total_revenue</th>\n",
              "      <th>movie_rating</th>\n",
              "      <th>num_off_screen</th>\n",
              "      <th>screen_share</th>\n",
              "      <th>fsd_num_off_box</th>\n",
              "      <th>num_off_box</th>\n",
              "    </tr>\n",
              "  </thead>\n",
              "  <tbody>\n",
              "    <tr>\n",
              "      <th>0</th>\n",
              "      <td>명량</td>\n",
              "      <td>2014.7.30</td>\n",
              "      <td>historical_drama</td>\n",
              "      <td>한국</td>\n",
              "      <td>1.360000e+11</td>\n",
              "      <td>8.44</td>\n",
              "      <td>1587</td>\n",
              "      <td>39.8</td>\n",
              "      <td>1410271</td>\n",
              "      <td>17613682</td>\n",
              "    </tr>\n",
              "    <tr>\n",
              "      <th>1</th>\n",
              "      <td>극한직업</td>\n",
              "      <td>2019.1.23</td>\n",
              "      <td>comedy</td>\n",
              "      <td>한국</td>\n",
              "      <td>1.400000e+11</td>\n",
              "      <td>8.50</td>\n",
              "      <td>1978</td>\n",
              "      <td>31.4</td>\n",
              "      <td>724697</td>\n",
              "      <td>16264944</td>\n",
              "    </tr>\n",
              "    <tr>\n",
              "      <th>2</th>\n",
              "      <td>신과함께-죄와 벌</td>\n",
              "      <td>2017.12.20</td>\n",
              "      <td>fantasy</td>\n",
              "      <td>한국</td>\n",
              "      <td>1.160000e+11</td>\n",
              "      <td>7.83</td>\n",
              "      <td>1912</td>\n",
              "      <td>30.4</td>\n",
              "      <td>824013</td>\n",
              "      <td>14410754</td>\n",
              "    </tr>\n",
              "    <tr>\n",
              "      <th>3</th>\n",
              "      <td>국제시장</td>\n",
              "      <td>2014.12.17</td>\n",
              "      <td>dramas</td>\n",
              "      <td>한국</td>\n",
              "      <td>1.110000e+11</td>\n",
              "      <td>9.02</td>\n",
              "      <td>966</td>\n",
              "      <td>23.5</td>\n",
              "      <td>416356</td>\n",
              "      <td>14245998</td>\n",
              "    </tr>\n",
              "    <tr>\n",
              "      <th>4</th>\n",
              "      <td>어벤져스: 엔드게임</td>\n",
              "      <td>2019.4.24</td>\n",
              "      <td>action</td>\n",
              "      <td>미국</td>\n",
              "      <td>1.220000e+11</td>\n",
              "      <td>9.38</td>\n",
              "      <td>2835</td>\n",
              "      <td>58.0</td>\n",
              "      <td>2171533</td>\n",
              "      <td>13934592</td>\n",
              "    </tr>\n",
              "  </tbody>\n",
              "</table>\n",
              "</div>"
            ],
            "text/plain": [
              "        title release-time  ... fsd_num_off_box num_off_box\n",
              "0          명량    2014.7.30  ...         1410271    17613682\n",
              "1        극한직업    2019.1.23  ...          724697    16264944\n",
              "2   신과함께-죄와 벌   2017.12.20  ...          824013    14410754\n",
              "3        국제시장   2014.12.17  ...          416356    14245998\n",
              "4  어벤져스: 엔드게임    2019.4.24  ...         2171533    13934592\n",
              "\n",
              "[5 rows x 10 columns]"
            ]
          },
          "metadata": {
            "tags": []
          },
          "execution_count": 20
        }
      ]
    },
    {
      "cell_type": "code",
      "metadata": {
        "colab": {
          "base_uri": "https://localhost:8080/",
          "height": 228
        },
        "id": "N0wI3Jv18Wrz",
        "outputId": "ad06c71c-d40b-4a83-de06-3ebb299394aa"
      },
      "source": [
        "# 장르데이터 시각화\n",
        "f, ax = plt.subplots(figsize = (25,6))\n",
        "sns.boxplot(x='genre', y='num_off_box', data=movie_data_fix1[['genre', 'num_off_box']])"
      ],
      "execution_count": null,
      "outputs": [
        {
          "output_type": "execute_result",
          "data": {
            "text/plain": [
              "<matplotlib.axes._subplots.AxesSubplot at 0x7f6a51e181d0>"
            ]
          },
          "metadata": {
            "tags": []
          },
          "execution_count": 21
        },
        {
          "output_type": "display_data",
          "data": {
            "image/png": "[encoded data removed]",
            "text/plain": [
              "<Figure size 1800x432 with 1 Axes>"
            ]
          },
          "metadata": {
            "tags": [],
            "needs_background": "light"
          }
        }
      ]
    },
    {
      "cell_type": "code",
      "metadata": {
        "colab": {
          "base_uri": "https://localhost:8080/",
          "height": 663
        },
        "id": "bvTrHHbEotq1",
        "outputId": "dfa0fc77-f765-4237-a88d-f7c09bfba247"
      },
      "source": [
        "movie_data_fix1[['genre','screen_share','num_off_screen','num_off_box','fsd_num_off_box','movie_rating']].groupby('genre').mean().sort_values('num_off_box')"
      ],
      "execution_count": null,
      "outputs": [
        {
          "output_type": "execute_result",
          "data": {
            "text/html": [
              "<div>\n",
              "<style scoped>\n",
              "    .dataframe tbody tr th:only-of-type {\n",
              "        vertical-align: middle;\n",
              "    }\n",
              "\n",
              "    .dataframe tbody tr th {\n",
              "        vertical-align: top;\n",
              "    }\n",
              "\n",
              "    .dataframe thead th {\n",
              "        text-align: right;\n",
              "    }\n",
              "</style>\n",
              "<table border=\"1\" class=\"dataframe\">\n",
              "  <thead>\n",
              "    <tr style=\"text-align: right;\">\n",
              "      <th></th>\n",
              "      <th>screen_share</th>\n",
              "      <th>num_off_screen</th>\n",
              "      <th>num_off_box</th>\n",
              "      <th>fsd_num_off_box</th>\n",
              "      <th>movie_rating</th>\n",
              "    </tr>\n",
              "    <tr>\n",
              "      <th>genre</th>\n",
              "      <th></th>\n",
              "      <th></th>\n",
              "      <th></th>\n",
              "      <th></th>\n",
              "      <th></th>\n",
              "    </tr>\n",
              "  </thead>\n",
              "  <tbody>\n",
              "    <tr>\n",
              "      <th>show</th>\n",
              "      <td>2.450000</td>\n",
              "      <td>120.750000</td>\n",
              "      <td>1.119295e+05</td>\n",
              "      <td>53099.000000</td>\n",
              "      <td>9.060000</td>\n",
              "    </tr>\n",
              "    <tr>\n",
              "      <th>family</th>\n",
              "      <td>6.481818</td>\n",
              "      <td>308.363636</td>\n",
              "      <td>1.773730e+05</td>\n",
              "      <td>27656.818182</td>\n",
              "      <td>8.026364</td>\n",
              "    </tr>\n",
              "    <tr>\n",
              "      <th>western</th>\n",
              "      <td>9.900000</td>\n",
              "      <td>342.000000</td>\n",
              "      <td>2.601440e+05</td>\n",
              "      <td>51385.000000</td>\n",
              "      <td>8.530000</td>\n",
              "    </tr>\n",
              "    <tr>\n",
              "      <th>documentry</th>\n",
              "      <td>3.242857</td>\n",
              "      <td>163.000000</td>\n",
              "      <td>2.959676e+05</td>\n",
              "      <td>35190.285714</td>\n",
              "      <td>8.622857</td>\n",
              "    </tr>\n",
              "    <tr>\n",
              "      <th>others</th>\n",
              "      <td>4.300000</td>\n",
              "      <td>243.000000</td>\n",
              "      <td>3.150100e+05</td>\n",
              "      <td>118701.000000</td>\n",
              "      <td>9.320000</td>\n",
              "    </tr>\n",
              "    <tr>\n",
              "      <th>animation</th>\n",
              "      <td>6.896678</td>\n",
              "      <td>355.441860</td>\n",
              "      <td>4.487058e+05</td>\n",
              "      <td>49341.292359</td>\n",
              "      <td>8.028505</td>\n",
              "    </tr>\n",
              "    <tr>\n",
              "      <th>horror</th>\n",
              "      <td>8.101429</td>\n",
              "      <td>411.357143</td>\n",
              "      <td>4.793752e+05</td>\n",
              "      <td>76455.085714</td>\n",
              "      <td>6.315286</td>\n",
              "    </tr>\n",
              "    <tr>\n",
              "      <th>musical</th>\n",
              "      <td>7.225000</td>\n",
              "      <td>346.500000</td>\n",
              "      <td>6.841278e+05</td>\n",
              "      <td>133204.250000</td>\n",
              "      <td>7.677500</td>\n",
              "    </tr>\n",
              "    <tr>\n",
              "      <th>thriller</th>\n",
              "      <td>10.230508</td>\n",
              "      <td>482.881356</td>\n",
              "      <td>7.600463e+05</td>\n",
              "      <td>132411.406780</td>\n",
              "      <td>6.853390</td>\n",
              "    </tr>\n",
              "    <tr>\n",
              "      <th>mystery</th>\n",
              "      <td>11.730556</td>\n",
              "      <td>570.055556</td>\n",
              "      <td>1.004664e+06</td>\n",
              "      <td>142455.555556</td>\n",
              "      <td>6.903611</td>\n",
              "    </tr>\n",
              "    <tr>\n",
              "      <th>melo/romance</th>\n",
              "      <td>11.396078</td>\n",
              "      <td>492.862745</td>\n",
              "      <td>1.104967e+06</td>\n",
              "      <td>126793.509804</td>\n",
              "      <td>7.404314</td>\n",
              "    </tr>\n",
              "    <tr>\n",
              "      <th>SF</th>\n",
              "      <td>12.742105</td>\n",
              "      <td>550.184211</td>\n",
              "      <td>1.106840e+06</td>\n",
              "      <td>193373.289474</td>\n",
              "      <td>7.197368</td>\n",
              "    </tr>\n",
              "    <tr>\n",
              "      <th>comedy</th>\n",
              "      <td>10.348515</td>\n",
              "      <td>473.039604</td>\n",
              "      <td>1.188674e+06</td>\n",
              "      <td>119876.841584</td>\n",
              "      <td>7.321980</td>\n",
              "    </tr>\n",
              "    <tr>\n",
              "      <th>dramas</th>\n",
              "      <td>11.173797</td>\n",
              "      <td>524.197861</td>\n",
              "      <td>1.278936e+06</td>\n",
              "      <td>148655.689840</td>\n",
              "      <td>8.015561</td>\n",
              "    </tr>\n",
              "    <tr>\n",
              "      <th>war</th>\n",
              "      <td>9.066667</td>\n",
              "      <td>395.333333</td>\n",
              "      <td>1.318389e+06</td>\n",
              "      <td>164855.833333</td>\n",
              "      <td>7.693333</td>\n",
              "    </tr>\n",
              "    <tr>\n",
              "      <th>fantasy</th>\n",
              "      <td>11.040625</td>\n",
              "      <td>545.937500</td>\n",
              "      <td>1.348794e+06</td>\n",
              "      <td>192902.406250</td>\n",
              "      <td>7.493750</td>\n",
              "    </tr>\n",
              "    <tr>\n",
              "      <th>crime</th>\n",
              "      <td>13.561111</td>\n",
              "      <td>676.361111</td>\n",
              "      <td>1.673431e+06</td>\n",
              "      <td>252988.652778</td>\n",
              "      <td>7.159028</td>\n",
              "    </tr>\n",
              "    <tr>\n",
              "      <th>action</th>\n",
              "      <td>14.766202</td>\n",
              "      <td>689.693380</td>\n",
              "      <td>1.766664e+06</td>\n",
              "      <td>264573.045296</td>\n",
              "      <td>7.583554</td>\n",
              "    </tr>\n",
              "    <tr>\n",
              "      <th>adventure</th>\n",
              "      <td>12.862069</td>\n",
              "      <td>648.206897</td>\n",
              "      <td>1.863396e+06</td>\n",
              "      <td>180566.620690</td>\n",
              "      <td>7.913103</td>\n",
              "    </tr>\n",
              "    <tr>\n",
              "      <th>historical_drama</th>\n",
              "      <td>19.257143</td>\n",
              "      <td>894.142857</td>\n",
              "      <td>3.286932e+06</td>\n",
              "      <td>370817.392857</td>\n",
              "      <td>6.935714</td>\n",
              "    </tr>\n",
              "  </tbody>\n",
              "</table>\n",
              "</div>"
            ],
            "text/plain": [
              "                  screen_share  num_off_screen  ...  fsd_num_off_box  movie_rating\n",
              "genre                                           ...                               \n",
              "show                  2.450000      120.750000  ...     53099.000000      9.060000\n",
              "family                6.481818      308.363636  ...     27656.818182      8.026364\n",
              "western               9.900000      342.000000  ...     51385.000000      8.530000\n",
              "documentry            3.242857      163.000000  ...     35190.285714      8.622857\n",
              "others                4.300000      243.000000  ...    118701.000000      9.320000\n",
              "animation             6.896678      355.441860  ...     49341.292359      8.028505\n",
              "horror                8.101429      411.357143  ...     76455.085714      6.315286\n",
              "musical               7.225000      346.500000  ...    133204.250000      7.677500\n",
              "thriller             10.230508      482.881356  ...    132411.406780      6.853390\n",
              "mystery              11.730556      570.055556  ...    142455.555556      6.903611\n",
              "melo/romance         11.396078      492.862745  ...    126793.509804      7.404314\n",
              "SF                   12.742105      550.184211  ...    193373.289474      7.197368\n",
              "comedy               10.348515      473.039604  ...    119876.841584      7.321980\n",
              "dramas               11.173797      524.197861  ...    148655.689840      8.015561\n",
              "war                   9.066667      395.333333  ...    164855.833333      7.693333\n",
              "fantasy              11.040625      545.937500  ...    192902.406250      7.493750\n",
              "crime                13.561111      676.361111  ...    252988.652778      7.159028\n",
              "action               14.766202      689.693380  ...    264573.045296      7.583554\n",
              "adventure            12.862069      648.206897  ...    180566.620690      7.913103\n",
              "historical_drama     19.257143      894.142857  ...    370817.392857      6.935714\n",
              "\n",
              "[20 rows x 5 columns]"
            ]
          },
          "metadata": {
            "tags": []
          },
          "execution_count": 22
        }
      ]
    },
    {
      "cell_type": "code",
      "metadata": {
        "colab": {
          "base_uri": "https://localhost:8080/"
        },
        "id": "SIHTurM_3D0W",
        "outputId": "ee78a59d-58b5-4330-c919-1c4c860e2642"
      },
      "source": [
        "movie_data_fix1['national'].unique()"
      ],
      "execution_count": null,
      "outputs": [
        {
          "output_type": "execute_result",
          "data": {
            "text/plain": [
              "array(['한국', '미국', '일본', '영국', '프랑스', '벨기에', '아이슬란드', '스페인', '독일',\n",
              "       '남아프리카공화국', '핀란드', '중국', '인도', '러시아', '호주', '덴마크', '캐나다', '페루',\n",
              "       '이탈리아', '멕시코', '뉴질랜드', '스웨덴', '태국', '터키', '체코', '홍콩', '인도네시아',\n",
              "       '노르웨이', '이스라엘', '아일랜드'], dtype=object)"
            ]
          },
          "metadata": {
            "tags": []
          },
          "execution_count": 23
        }
      ]
    },
    {
      "cell_type": "code",
      "metadata": {
        "colab": {
          "base_uri": "https://localhost:8080/",
          "height": 366
        },
        "id": "aQo6LR1O3Sfu",
        "outputId": "db8ad461-895c-42c4-efaa-61c064e97431"
      },
      "source": [
        "# # 한글로 명시된 국가명들을 영어로 바꾸어주는 과정\n",
        "replace_name = {'한국' : 'SouthKorea', '미국' : 'America', '일본' : 'Japan', '영국':'England','프랑스': 'France',\n",
        "               '벨기에' : 'Belgium', '아이슬란드' : 'Iceland', '스페인' : 'Spain','독일': 'German','남아프리카공화국': 'SouthAfrica','핀란드' :'Finland','중국' : 'China', '인도': 'India', '러시아' : 'Russia',\n",
        "               '호주': 'Australia','덴마크': 'Denmark','캐나다' : 'Canada','페루':'Peru','이탈리아': 'Italy','멕시코' : 'Mexico','뉴질랜드' : 'NewZealand', '스웨덴' :'Sweden' , '태국' : 'Thailand', '터키' :'Turkey' , '체코' :'Czech' , '홍콩' :'Hongkong' , '인도네시아' :'Indonesia' ,\n",
        "                '노르웨이' :'Norway' , '이스라엘' : 'Israel', '아일랜드' :'Ireland'}\n",
        "movie_data_fix1.replace({'national' : replace_name}, inplace = True)\n",
        "movie_data_fix1.head()"
      ],
      "execution_count": null,
      "outputs": [
        {
          "output_type": "execute_result",
          "data": {
            "text/html": [
              "<div>\n",
              "<style scoped>\n",
              "    .dataframe tbody tr th:only-of-type {\n",
              "        vertical-align: middle;\n",
              "    }\n",
              "\n",
              "    .dataframe tbody tr th {\n",
              "        vertical-align: top;\n",
              "    }\n",
              "\n",
              "    .dataframe thead th {\n",
              "        text-align: right;\n",
              "    }\n",
              "</style>\n",
              "<table border=\"1\" class=\"dataframe\">\n",
              "  <thead>\n",
              "    <tr style=\"text-align: right;\">\n",
              "      <th></th>\n",
              "      <th>title</th>\n",
              "      <th>release-time</th>\n",
              "      <th>genre</th>\n",
              "      <th>national</th>\n",
              "      <th>total_revenue</th>\n",
              "      <th>movie_rating</th>\n",
              "      <th>num_off_screen</th>\n",
              "      <th>screen_share</th>\n",
              "      <th>fsd_num_off_box</th>\n",
              "      <th>num_off_box</th>\n",
              "    </tr>\n",
              "  </thead>\n",
              "  <tbody>\n",
              "    <tr>\n",
              "      <th>0</th>\n",
              "      <td>명량</td>\n",
              "      <td>2014.7.30</td>\n",
              "      <td>historical_drama</td>\n",
              "      <td>SouthKorea</td>\n",
              "      <td>1.360000e+11</td>\n",
              "      <td>8.44</td>\n",
              "      <td>1587</td>\n",
              "      <td>39.8</td>\n",
              "      <td>1410271</td>\n",
              "      <td>17613682</td>\n",
              "    </tr>\n",
              "    <tr>\n",
              "      <th>1</th>\n",
              "      <td>극한직업</td>\n",
              "      <td>2019.1.23</td>\n",
              "      <td>comedy</td>\n",
              "      <td>SouthKorea</td>\n",
              "      <td>1.400000e+11</td>\n",
              "      <td>8.50</td>\n",
              "      <td>1978</td>\n",
              "      <td>31.4</td>\n",
              "      <td>724697</td>\n",
              "      <td>16264944</td>\n",
              "    </tr>\n",
              "    <tr>\n",
              "      <th>2</th>\n",
              "      <td>신과함께-죄와 벌</td>\n",
              "      <td>2017.12.20</td>\n",
              "      <td>fantasy</td>\n",
              "      <td>SouthKorea</td>\n",
              "      <td>1.160000e+11</td>\n",
              "      <td>7.83</td>\n",
              "      <td>1912</td>\n",
              "      <td>30.4</td>\n",
              "      <td>824013</td>\n",
              "      <td>14410754</td>\n",
              "    </tr>\n",
              "    <tr>\n",
              "      <th>3</th>\n",
              "      <td>국제시장</td>\n",
              "      <td>2014.12.17</td>\n",
              "      <td>dramas</td>\n",
              "      <td>SouthKorea</td>\n",
              "      <td>1.110000e+11</td>\n",
              "      <td>9.02</td>\n",
              "      <td>966</td>\n",
              "      <td>23.5</td>\n",
              "      <td>416356</td>\n",
              "      <td>14245998</td>\n",
              "    </tr>\n",
              "    <tr>\n",
              "      <th>4</th>\n",
              "      <td>어벤져스: 엔드게임</td>\n",
              "      <td>2019.4.24</td>\n",
              "      <td>action</td>\n",
              "      <td>America</td>\n",
              "      <td>1.220000e+11</td>\n",
              "      <td>9.38</td>\n",
              "      <td>2835</td>\n",
              "      <td>58.0</td>\n",
              "      <td>2171533</td>\n",
              "      <td>13934592</td>\n",
              "    </tr>\n",
              "  </tbody>\n",
              "</table>\n",
              "</div>"
            ],
            "text/plain": [
              "        title release-time  ... fsd_num_off_box num_off_box\n",
              "0          명량    2014.7.30  ...         1410271    17613682\n",
              "1        극한직업    2019.1.23  ...          724697    16264944\n",
              "2   신과함께-죄와 벌   2017.12.20  ...          824013    14410754\n",
              "3        국제시장   2014.12.17  ...          416356    14245998\n",
              "4  어벤져스: 엔드게임    2019.4.24  ...         2171533    13934592\n",
              "\n",
              "[5 rows x 10 columns]"
            ]
          },
          "metadata": {
            "tags": []
          },
          "execution_count": 24
        }
      ]
    },
    {
      "cell_type": "code",
      "metadata": {
        "colab": {
          "base_uri": "https://localhost:8080/",
          "height": 196
        },
        "id": "LdnUDK6V3SKl",
        "outputId": "592ddb1e-8412-470d-d353-b7b86e2049c5"
      },
      "source": [
        "f, ax = plt.subplots(figsize = (30,6))\n",
        "sns.boxplot(x='national', y='num_off_box', data=movie_data_fix1[['national', 'num_off_box']])"
      ],
      "execution_count": null,
      "outputs": [
        {
          "output_type": "execute_result",
          "data": {
            "text/plain": [
              "<matplotlib.axes._subplots.AxesSubplot at 0x7f6a6f411588>"
            ]
          },
          "metadata": {
            "tags": []
          },
          "execution_count": 25
        },
        {
          "output_type": "display_data",
          "data": {
            "image/png": "[encoded data removed]",
            "text/plain": [
              "<Figure size 2160x432 with 1 Axes>"
            ]
          },
          "metadata": {
            "tags": [],
            "needs_background": "light"
          }
        }
      ]
    },
    {
      "cell_type": "code",
      "metadata": {
        "colab": {
          "base_uri": "https://localhost:8080/",
          "height": 956
        },
        "id": "IYM72n4inKpS",
        "outputId": "8b285733-6ea0-4e7f-af6e-923e6ada7a14"
      },
      "source": [
        "movie_data_fix1[['national','genre','screen_share','num_off_screen','num_off_box','fsd_num_off_box','movie_rating']].groupby('national').mean().sort_values('num_off_box')"
      ],
      "execution_count": null,
      "outputs": [
        {
          "output_type": "execute_result",
          "data": {
            "text/html": [
              "<div>\n",
              "<style scoped>\n",
              "    .dataframe tbody tr th:only-of-type {\n",
              "        vertical-align: middle;\n",
              "    }\n",
              "\n",
              "    .dataframe tbody tr th {\n",
              "        vertical-align: top;\n",
              "    }\n",
              "\n",
              "    .dataframe thead th {\n",
              "        text-align: right;\n",
              "    }\n",
              "</style>\n",
              "<table border=\"1\" class=\"dataframe\">\n",
              "  <thead>\n",
              "    <tr style=\"text-align: right;\">\n",
              "      <th></th>\n",
              "      <th>screen_share</th>\n",
              "      <th>num_off_screen</th>\n",
              "      <th>num_off_box</th>\n",
              "      <th>fsd_num_off_box</th>\n",
              "      <th>movie_rating</th>\n",
              "    </tr>\n",
              "    <tr>\n",
              "      <th>national</th>\n",
              "      <th></th>\n",
              "      <th></th>\n",
              "      <th></th>\n",
              "      <th></th>\n",
              "      <th></th>\n",
              "    </tr>\n",
              "  </thead>\n",
              "  <tbody>\n",
              "    <tr>\n",
              "      <th>Ireland</th>\n",
              "      <td>2.200000</td>\n",
              "      <td>129.000000</td>\n",
              "      <td>1.222000e+04</td>\n",
              "      <td>700.000000</td>\n",
              "      <td>6.530000</td>\n",
              "    </tr>\n",
              "    <tr>\n",
              "      <th>Israel</th>\n",
              "      <td>3.200000</td>\n",
              "      <td>142.000000</td>\n",
              "      <td>1.474600e+04</td>\n",
              "      <td>2722.000000</td>\n",
              "      <td>6.170000</td>\n",
              "    </tr>\n",
              "    <tr>\n",
              "      <th>Hongkong</th>\n",
              "      <td>3.633333</td>\n",
              "      <td>156.000000</td>\n",
              "      <td>1.569033e+04</td>\n",
              "      <td>6999.333333</td>\n",
              "      <td>7.166667</td>\n",
              "    </tr>\n",
              "    <tr>\n",
              "      <th>Norway</th>\n",
              "      <td>4.150000</td>\n",
              "      <td>203.000000</td>\n",
              "      <td>1.687600e+04</td>\n",
              "      <td>1479.500000</td>\n",
              "      <td>7.795000</td>\n",
              "    </tr>\n",
              "    <tr>\n",
              "      <th>Indonesia</th>\n",
              "      <td>3.800000</td>\n",
              "      <td>120.000000</td>\n",
              "      <td>2.170500e+04</td>\n",
              "      <td>8387.000000</td>\n",
              "      <td>7.850000</td>\n",
              "    </tr>\n",
              "    <tr>\n",
              "      <th>Czech</th>\n",
              "      <td>5.400000</td>\n",
              "      <td>354.000000</td>\n",
              "      <td>2.527800e+04</td>\n",
              "      <td>4165.000000</td>\n",
              "      <td>7.570000</td>\n",
              "    </tr>\n",
              "    <tr>\n",
              "      <th>Turkey</th>\n",
              "      <td>5.000000</td>\n",
              "      <td>320.000000</td>\n",
              "      <td>2.712800e+04</td>\n",
              "      <td>6207.000000</td>\n",
              "      <td>4.530000</td>\n",
              "    </tr>\n",
              "    <tr>\n",
              "      <th>Thailand</th>\n",
              "      <td>2.200000</td>\n",
              "      <td>104.000000</td>\n",
              "      <td>2.746300e+04</td>\n",
              "      <td>2374.000000</td>\n",
              "      <td>8.540000</td>\n",
              "    </tr>\n",
              "    <tr>\n",
              "      <th>NewZealand</th>\n",
              "      <td>1.066667</td>\n",
              "      <td>62.666667</td>\n",
              "      <td>3.118233e+04</td>\n",
              "      <td>8705.333333</td>\n",
              "      <td>9.330000</td>\n",
              "    </tr>\n",
              "    <tr>\n",
              "      <th>Peru</th>\n",
              "      <td>3.600000</td>\n",
              "      <td>135.500000</td>\n",
              "      <td>3.260650e+04</td>\n",
              "      <td>3352.500000</td>\n",
              "      <td>6.825000</td>\n",
              "    </tr>\n",
              "    <tr>\n",
              "      <th>Sweden</th>\n",
              "      <td>3.800000</td>\n",
              "      <td>160.000000</td>\n",
              "      <td>3.488800e+04</td>\n",
              "      <td>7226.000000</td>\n",
              "      <td>6.230000</td>\n",
              "    </tr>\n",
              "    <tr>\n",
              "      <th>Mexico</th>\n",
              "      <td>0.500000</td>\n",
              "      <td>32.000000</td>\n",
              "      <td>4.256900e+04</td>\n",
              "      <td>2693.000000</td>\n",
              "      <td>9.040000</td>\n",
              "    </tr>\n",
              "    <tr>\n",
              "      <th>Italy</th>\n",
              "      <td>7.000000</td>\n",
              "      <td>275.000000</td>\n",
              "      <td>4.419800e+04</td>\n",
              "      <td>2790.000000</td>\n",
              "      <td>5.190000</td>\n",
              "    </tr>\n",
              "    <tr>\n",
              "      <th>Russia</th>\n",
              "      <td>4.444444</td>\n",
              "      <td>226.333333</td>\n",
              "      <td>5.306378e+04</td>\n",
              "      <td>7110.444444</td>\n",
              "      <td>6.913333</td>\n",
              "    </tr>\n",
              "    <tr>\n",
              "      <th>China</th>\n",
              "      <td>4.363636</td>\n",
              "      <td>205.954545</td>\n",
              "      <td>5.644673e+04</td>\n",
              "      <td>11557.045455</td>\n",
              "      <td>6.566364</td>\n",
              "    </tr>\n",
              "    <tr>\n",
              "      <th>Australia</th>\n",
              "      <td>4.600000</td>\n",
              "      <td>200.000000</td>\n",
              "      <td>7.543267e+04</td>\n",
              "      <td>11893.333333</td>\n",
              "      <td>7.566667</td>\n",
              "    </tr>\n",
              "    <tr>\n",
              "      <th>Canada</th>\n",
              "      <td>1.666667</td>\n",
              "      <td>177.666667</td>\n",
              "      <td>8.379533e+04</td>\n",
              "      <td>10024.333333</td>\n",
              "      <td>7.403333</td>\n",
              "    </tr>\n",
              "    <tr>\n",
              "      <th>Denmark</th>\n",
              "      <td>5.700000</td>\n",
              "      <td>267.000000</td>\n",
              "      <td>1.055760e+05</td>\n",
              "      <td>13083.500000</td>\n",
              "      <td>7.610000</td>\n",
              "    </tr>\n",
              "    <tr>\n",
              "      <th>India</th>\n",
              "      <td>4.933333</td>\n",
              "      <td>193.333333</td>\n",
              "      <td>1.219333e+05</td>\n",
              "      <td>17216.666667</td>\n",
              "      <td>8.376667</td>\n",
              "    </tr>\n",
              "    <tr>\n",
              "      <th>Japan</th>\n",
              "      <td>4.913433</td>\n",
              "      <td>249.313433</td>\n",
              "      <td>1.596465e+05</td>\n",
              "      <td>24487.470149</td>\n",
              "      <td>7.848358</td>\n",
              "    </tr>\n",
              "    <tr>\n",
              "      <th>Spain</th>\n",
              "      <td>6.916667</td>\n",
              "      <td>269.833333</td>\n",
              "      <td>2.078538e+05</td>\n",
              "      <td>43974.833333</td>\n",
              "      <td>7.728333</td>\n",
              "    </tr>\n",
              "    <tr>\n",
              "      <th>German</th>\n",
              "      <td>6.250000</td>\n",
              "      <td>312.625000</td>\n",
              "      <td>2.245472e+05</td>\n",
              "      <td>32326.250000</td>\n",
              "      <td>7.663750</td>\n",
              "    </tr>\n",
              "    <tr>\n",
              "      <th>France</th>\n",
              "      <td>6.965000</td>\n",
              "      <td>325.350000</td>\n",
              "      <td>3.082267e+05</td>\n",
              "      <td>50729.400000</td>\n",
              "      <td>7.700000</td>\n",
              "    </tr>\n",
              "    <tr>\n",
              "      <th>England</th>\n",
              "      <td>6.990909</td>\n",
              "      <td>346.818182</td>\n",
              "      <td>3.726280e+05</td>\n",
              "      <td>69503.757576</td>\n",
              "      <td>7.692121</td>\n",
              "    </tr>\n",
              "    <tr>\n",
              "      <th>Finland</th>\n",
              "      <td>7.100000</td>\n",
              "      <td>306.000000</td>\n",
              "      <td>4.072640e+05</td>\n",
              "      <td>96141.000000</td>\n",
              "      <td>8.400000</td>\n",
              "    </tr>\n",
              "    <tr>\n",
              "      <th>SouthAfrica</th>\n",
              "      <td>6.800000</td>\n",
              "      <td>273.000000</td>\n",
              "      <td>4.726920e+05</td>\n",
              "      <td>104840.000000</td>\n",
              "      <td>8.700000</td>\n",
              "    </tr>\n",
              "    <tr>\n",
              "      <th>Belgium</th>\n",
              "      <td>7.700000</td>\n",
              "      <td>384.250000</td>\n",
              "      <td>6.795595e+05</td>\n",
              "      <td>99295.000000</td>\n",
              "      <td>8.725000</td>\n",
              "    </tr>\n",
              "    <tr>\n",
              "      <th>Iceland</th>\n",
              "      <td>10.400000</td>\n",
              "      <td>383.000000</td>\n",
              "      <td>7.653150e+05</td>\n",
              "      <td>20696.000000</td>\n",
              "      <td>5.640000</td>\n",
              "    </tr>\n",
              "    <tr>\n",
              "      <th>America</th>\n",
              "      <td>11.462585</td>\n",
              "      <td>545.413265</td>\n",
              "      <td>1.103967e+06</td>\n",
              "      <td>155155.807823</td>\n",
              "      <td>7.739507</td>\n",
              "    </tr>\n",
              "    <tr>\n",
              "      <th>SouthKorea</th>\n",
              "      <td>13.656838</td>\n",
              "      <td>648.455128</td>\n",
              "      <td>1.794971e+06</td>\n",
              "      <td>225943.581197</td>\n",
              "      <td>7.325021</td>\n",
              "    </tr>\n",
              "  </tbody>\n",
              "</table>\n",
              "</div>"
            ],
            "text/plain": [
              "             screen_share  num_off_screen  ...  fsd_num_off_box  movie_rating\n",
              "national                                   ...                               \n",
              "Ireland          2.200000      129.000000  ...       700.000000      6.530000\n",
              "Israel           3.200000      142.000000  ...      2722.000000      6.170000\n",
              "Hongkong         3.633333      156.000000  ...      6999.333333      7.166667\n",
              "Norway           4.150000      203.000000  ...      1479.500000      7.795000\n",
              "Indonesia        3.800000      120.000000  ...      8387.000000      7.850000\n",
              "Czech            5.400000      354.000000  ...      4165.000000      7.570000\n",
              "Turkey           5.000000      320.000000  ...      6207.000000      4.530000\n",
              "Thailand         2.200000      104.000000  ...      2374.000000      8.540000\n",
              "NewZealand       1.066667       62.666667  ...      8705.333333      9.330000\n",
              "Peru             3.600000      135.500000  ...      3352.500000      6.825000\n",
              "Sweden           3.800000      160.000000  ...      7226.000000      6.230000\n",
              "Mexico           0.500000       32.000000  ...      2693.000000      9.040000\n",
              "Italy            7.000000      275.000000  ...      2790.000000      5.190000\n",
              "Russia           4.444444      226.333333  ...      7110.444444      6.913333\n",
              "China            4.363636      205.954545  ...     11557.045455      6.566364\n",
              "Australia        4.600000      200.000000  ...     11893.333333      7.566667\n",
              "Canada           1.666667      177.666667  ...     10024.333333      7.403333\n",
              "Denmark          5.700000      267.000000  ...     13083.500000      7.610000\n",
              "India            4.933333      193.333333  ...     17216.666667      8.376667\n",
              "Japan            4.913433      249.313433  ...     24487.470149      7.848358\n",
              "Spain            6.916667      269.833333  ...     43974.833333      7.728333\n",
              "German           6.250000      312.625000  ...     32326.250000      7.663750\n",
              "France           6.965000      325.350000  ...     50729.400000      7.700000\n",
              "England          6.990909      346.818182  ...     69503.757576      7.692121\n",
              "Finland          7.100000      306.000000  ...     96141.000000      8.400000\n",
              "SouthAfrica      6.800000      273.000000  ...    104840.000000      8.700000\n",
              "Belgium          7.700000      384.250000  ...     99295.000000      8.725000\n",
              "Iceland         10.400000      383.000000  ...     20696.000000      5.640000\n",
              "America         11.462585      545.413265  ...    155155.807823      7.739507\n",
              "SouthKorea      13.656838      648.455128  ...    225943.581197      7.325021\n",
              "\n",
              "[30 rows x 5 columns]"
            ]
          },
          "metadata": {
            "tags": []
          },
          "execution_count": 26
        }
      ]
    },
    {
      "cell_type": "code",
      "metadata": {
        "id": "26wUT0QY7nb0"
      },
      "source": [
        "movie_data_fix1.to_csv('movie_data_fixed_english.csv', index = False,encoding='utf-8-sig')"
      ],
      "execution_count": null,
      "outputs": []
    },
    {
      "cell_type": "markdown",
      "metadata": {
        "id": "2lpnB-lFDJfu"
      },
      "source": [
        "# 최종 전처리 데이터"
      ]
    },
    {
      "cell_type": "code",
      "metadata": {
        "id": "CmyYXQ2baawe"
      },
      "source": [
        "movie_data=pd.read_csv('/content/drive/MyDrive/movie_data/movie_data_fixed_final.csv')"
      ],
      "execution_count": null,
      "outputs": []
    },
    {
      "cell_type": "code",
      "metadata": {
        "id": "ny91u8ZxCnH9",
        "colab": {
          "base_uri": "https://localhost:8080/",
          "height": 366
        },
        "outputId": "a53b88da-08f7-4fc1-943a-ee6e6c331446"
      },
      "source": [
        "movie_data.head()"
      ],
      "execution_count": null,
      "outputs": [
        {
          "output_type": "execute_result",
          "data": {
            "text/html": [
              "<div>\n",
              "<style scoped>\n",
              "    .dataframe tbody tr th:only-of-type {\n",
              "        vertical-align: middle;\n",
              "    }\n",
              "\n",
              "    .dataframe tbody tr th {\n",
              "        vertical-align: top;\n",
              "    }\n",
              "\n",
              "    .dataframe thead th {\n",
              "        text-align: right;\n",
              "    }\n",
              "</style>\n",
              "<table border=\"1\" class=\"dataframe\">\n",
              "  <thead>\n",
              "    <tr style=\"text-align: right;\">\n",
              "      <th></th>\n",
              "      <th>title</th>\n",
              "      <th>release-time</th>\n",
              "      <th>genre</th>\n",
              "      <th>historical_drama</th>\n",
              "      <th>adventure</th>\n",
              "      <th>action</th>\n",
              "      <th>crime</th>\n",
              "      <th>fantasy</th>\n",
              "      <th>war</th>\n",
              "      <th>drama</th>\n",
              "      <th>comedy</th>\n",
              "      <th>SF</th>\n",
              "      <th>melo/romance</th>\n",
              "      <th>mystery</th>\n",
              "      <th>thriller</th>\n",
              "      <th>musical</th>\n",
              "      <th>horror</th>\n",
              "      <th>animation</th>\n",
              "      <th>documentry</th>\n",
              "      <th>western</th>\n",
              "      <th>family</th>\n",
              "      <th>show</th>\n",
              "      <th>korea</th>\n",
              "      <th>america</th>\n",
              "      <th>japan</th>\n",
              "      <th>others</th>\n",
              "      <th>national</th>\n",
              "      <th>movie_rating</th>\n",
              "      <th>num_off_screen</th>\n",
              "      <th>screen_share</th>\n",
              "      <th>fsd_num_off_box</th>\n",
              "      <th>num_off_box</th>\n",
              "    </tr>\n",
              "  </thead>\n",
              "  <tbody>\n",
              "    <tr>\n",
              "      <th>0</th>\n",
              "      <td>명량</td>\n",
              "      <td>0</td>\n",
              "      <td>historical_drama</td>\n",
              "      <td>1</td>\n",
              "      <td>0</td>\n",
              "      <td>0</td>\n",
              "      <td>0</td>\n",
              "      <td>0</td>\n",
              "      <td>0</td>\n",
              "      <td>0</td>\n",
              "      <td>0</td>\n",
              "      <td>0</td>\n",
              "      <td>0</td>\n",
              "      <td>0</td>\n",
              "      <td>0</td>\n",
              "      <td>0</td>\n",
              "      <td>0</td>\n",
              "      <td>0</td>\n",
              "      <td>0</td>\n",
              "      <td>0</td>\n",
              "      <td>0</td>\n",
              "      <td>0</td>\n",
              "      <td>1</td>\n",
              "      <td>0</td>\n",
              "      <td>0</td>\n",
              "      <td>0</td>\n",
              "      <td>SouthKorea</td>\n",
              "      <td>8.44</td>\n",
              "      <td>1587</td>\n",
              "      <td>39.8</td>\n",
              "      <td>1410271</td>\n",
              "      <td>17613682</td>\n",
              "    </tr>\n",
              "    <tr>\n",
              "      <th>1</th>\n",
              "      <td>극한직업</td>\n",
              "      <td>1</td>\n",
              "      <td>comedy</td>\n",
              "      <td>0</td>\n",
              "      <td>0</td>\n",
              "      <td>0</td>\n",
              "      <td>0</td>\n",
              "      <td>0</td>\n",
              "      <td>0</td>\n",
              "      <td>0</td>\n",
              "      <td>1</td>\n",
              "      <td>0</td>\n",
              "      <td>0</td>\n",
              "      <td>0</td>\n",
              "      <td>0</td>\n",
              "      <td>0</td>\n",
              "      <td>0</td>\n",
              "      <td>0</td>\n",
              "      <td>0</td>\n",
              "      <td>0</td>\n",
              "      <td>0</td>\n",
              "      <td>0</td>\n",
              "      <td>1</td>\n",
              "      <td>0</td>\n",
              "      <td>0</td>\n",
              "      <td>0</td>\n",
              "      <td>SouthKorea</td>\n",
              "      <td>8.50</td>\n",
              "      <td>1978</td>\n",
              "      <td>31.4</td>\n",
              "      <td>724697</td>\n",
              "      <td>16264944</td>\n",
              "    </tr>\n",
              "    <tr>\n",
              "      <th>2</th>\n",
              "      <td>신과함께-죄와 벌</td>\n",
              "      <td>0</td>\n",
              "      <td>fantasy</td>\n",
              "      <td>0</td>\n",
              "      <td>0</td>\n",
              "      <td>0</td>\n",
              "      <td>0</td>\n",
              "      <td>1</td>\n",
              "      <td>0</td>\n",
              "      <td>0</td>\n",
              "      <td>0</td>\n",
              "      <td>0</td>\n",
              "      <td>0</td>\n",
              "      <td>0</td>\n",
              "      <td>0</td>\n",
              "      <td>0</td>\n",
              "      <td>0</td>\n",
              "      <td>0</td>\n",
              "      <td>0</td>\n",
              "      <td>0</td>\n",
              "      <td>0</td>\n",
              "      <td>0</td>\n",
              "      <td>1</td>\n",
              "      <td>0</td>\n",
              "      <td>0</td>\n",
              "      <td>0</td>\n",
              "      <td>SouthKorea</td>\n",
              "      <td>7.83</td>\n",
              "      <td>1912</td>\n",
              "      <td>30.4</td>\n",
              "      <td>824013</td>\n",
              "      <td>14410754</td>\n",
              "    </tr>\n",
              "    <tr>\n",
              "      <th>3</th>\n",
              "      <td>국제시장</td>\n",
              "      <td>0</td>\n",
              "      <td>dramas</td>\n",
              "      <td>0</td>\n",
              "      <td>0</td>\n",
              "      <td>0</td>\n",
              "      <td>0</td>\n",
              "      <td>0</td>\n",
              "      <td>0</td>\n",
              "      <td>1</td>\n",
              "      <td>0</td>\n",
              "      <td>0</td>\n",
              "      <td>0</td>\n",
              "      <td>0</td>\n",
              "      <td>0</td>\n",
              "      <td>0</td>\n",
              "      <td>0</td>\n",
              "      <td>0</td>\n",
              "      <td>0</td>\n",
              "      <td>0</td>\n",
              "      <td>0</td>\n",
              "      <td>0</td>\n",
              "      <td>1</td>\n",
              "      <td>0</td>\n",
              "      <td>0</td>\n",
              "      <td>0</td>\n",
              "      <td>SouthKorea</td>\n",
              "      <td>9.02</td>\n",
              "      <td>966</td>\n",
              "      <td>23.5</td>\n",
              "      <td>416356</td>\n",
              "      <td>14245998</td>\n",
              "    </tr>\n",
              "    <tr>\n",
              "      <th>4</th>\n",
              "      <td>어벤져스: 엔드게임</td>\n",
              "      <td>0</td>\n",
              "      <td>action</td>\n",
              "      <td>0</td>\n",
              "      <td>0</td>\n",
              "      <td>1</td>\n",
              "      <td>0</td>\n",
              "      <td>0</td>\n",
              "      <td>0</td>\n",
              "      <td>0</td>\n",
              "      <td>0</td>\n",
              "      <td>0</td>\n",
              "      <td>0</td>\n",
              "      <td>0</td>\n",
              "      <td>0</td>\n",
              "      <td>0</td>\n",
              "      <td>0</td>\n",
              "      <td>0</td>\n",
              "      <td>0</td>\n",
              "      <td>0</td>\n",
              "      <td>0</td>\n",
              "      <td>0</td>\n",
              "      <td>0</td>\n",
              "      <td>1</td>\n",
              "      <td>0</td>\n",
              "      <td>0</td>\n",
              "      <td>America</td>\n",
              "      <td>9.38</td>\n",
              "      <td>2835</td>\n",
              "      <td>58.0</td>\n",
              "      <td>2171533</td>\n",
              "      <td>13934592</td>\n",
              "    </tr>\n",
              "  </tbody>\n",
              "</table>\n",
              "</div>"
            ],
            "text/plain": [
              "        title  release-time  ... fsd_num_off_box  num_off_box\n",
              "0          명량             0  ...         1410271     17613682\n",
              "1        극한직업             1  ...          724697     16264944\n",
              "2   신과함께-죄와 벌             0  ...          824013     14410754\n",
              "3        국제시장             0  ...          416356     14245998\n",
              "4  어벤져스: 엔드게임             0  ...         2171533     13934592\n",
              "\n",
              "[5 rows x 32 columns]"
            ]
          },
          "metadata": {
            "tags": []
          },
          "execution_count": 30
        }
      ]
    },
    {
      "cell_type": "markdown",
      "metadata": {
        "id": "InNIHFyroi2k"
      },
      "source": [
        "# 최종 처리된 데이터 레이블 정보\n",
        "\n",
        "release-time : 개봉일 기준 2주 이내에 추석이나 설이 있는 경우 1 아니면 0\n",
        "\n",
        "genre : 장르\n",
        "\n",
        "historical_drama : 장르가 사극인 경우\n",
        "\n",
        "adventure : 장르가 어드벤쳐인 경우\n",
        "\n",
        "historical_drama ~show : 장르가 사극 ~ 공연\n",
        "\n",
        "korea : 국가가 한국인 경우\n",
        "\n",
        "america : 국가가 미국인 경우\n",
        "\n",
        "japan : 국가가 일본인 경우\n",
        "\n",
        "others : 국가가 그외인 경우\n",
        "\n",
        "national : 국가\n",
        "\n",
        "movie_rating :영화 평점\n",
        "\n",
        "num_off_screnn : 전국 스크린수\n",
        "\n",
        "screen_share : 스크린 점유율\n",
        "\n",
        "fsd_num_off_box : 개봉 2일차 누적 관객수\n",
        "\n",
        "num_off_box : 최종 관객수\n"
      ]
    },
    {
      "cell_type": "code",
      "metadata": {
        "colab": {
          "base_uri": "https://localhost:8080/"
        },
        "id": "HgNWbghGoar5",
        "outputId": "c9154d1c-9a6f-4dd7-9b37-dee4976b941d"
      },
      "source": [
        "movie_data.info()"
      ],
      "execution_count": null,
      "outputs": [
        {
          "output_type": "stream",
          "text": [
            "<class 'pandas.core.frame.DataFrame'>\n",
            "RangeIndex: 1325 entries, 0 to 1324\n",
            "Data columns (total 32 columns):\n",
            " #   Column            Non-Null Count  Dtype  \n",
            "---  ------            --------------  -----  \n",
            " 0   title             1325 non-null   object \n",
            " 1   release-time      1325 non-null   int64  \n",
            " 2   genre             1325 non-null   object \n",
            " 3   historical_drama  1325 non-null   int64  \n",
            " 4   adventure         1325 non-null   int64  \n",
            " 5   action            1325 non-null   int64  \n",
            " 6   crime             1325 non-null   int64  \n",
            " 7   fantasy           1325 non-null   int64  \n",
            " 8   war               1325 non-null   int64  \n",
            " 9   drama             1325 non-null   int64  \n",
            " 10  comedy            1325 non-null   int64  \n",
            " 11  SF                1325 non-null   int64  \n",
            " 12  melo/romance      1325 non-null   int64  \n",
            " 13  mystery           1325 non-null   int64  \n",
            " 14  thriller          1325 non-null   int64  \n",
            " 15  musical           1325 non-null   int64  \n",
            " 16  horror            1325 non-null   int64  \n",
            " 17  animation         1325 non-null   int64  \n",
            " 18  documentry        1325 non-null   int64  \n",
            " 19  western           1325 non-null   int64  \n",
            " 20  family            1325 non-null   int64  \n",
            " 21  show              1325 non-null   int64  \n",
            " 22  korea             1325 non-null   int64  \n",
            " 23  america           1325 non-null   int64  \n",
            " 24  japan             1325 non-null   int64  \n",
            " 25  others            1325 non-null   int64  \n",
            " 26  national          1325 non-null   object \n",
            " 27  movie_rating      1325 non-null   float64\n",
            " 28  num_off_screen    1325 non-null   int64  \n",
            " 29  screen_share      1325 non-null   float64\n",
            " 30  fsd_num_off_box   1325 non-null   int64  \n",
            " 31  num_off_box       1325 non-null   int64  \n",
            "dtypes: float64(2), int64(27), object(3)\n",
            "memory usage: 331.4+ KB\n"
          ],
          "name": "stdout"
        }
      ]
    },
    {
      "cell_type": "code",
      "metadata": {
        "colab": {
          "base_uri": "https://localhost:8080/"
        },
        "id": "1Ivco7TYELhd",
        "outputId": "9f74e1af-a518-49ad-87c0-22d2a579f96b"
      },
      "source": [
        "# 결측치 확인\n",
        "movie_data.isna().sum() / 600"
      ],
      "execution_count": null,
      "outputs": [
        {
          "output_type": "execute_result",
          "data": {
            "text/plain": [
              "title               0.0\n",
              "release-time        0.0\n",
              "genre               0.0\n",
              "historical_drama    0.0\n",
              "adventure           0.0\n",
              "action              0.0\n",
              "crime               0.0\n",
              "fantasy             0.0\n",
              "war                 0.0\n",
              "drama               0.0\n",
              "comedy              0.0\n",
              "SF                  0.0\n",
              "melo/romance        0.0\n",
              "mystery             0.0\n",
              "thriller            0.0\n",
              "musical             0.0\n",
              "horror              0.0\n",
              "animation           0.0\n",
              "documentry          0.0\n",
              "western             0.0\n",
              "family              0.0\n",
              "show                0.0\n",
              "korea               0.0\n",
              "america             0.0\n",
              "japan               0.0\n",
              "others              0.0\n",
              "national            0.0\n",
              "movie_rating        0.0\n",
              "num_off_screen      0.0\n",
              "screen_share        0.0\n",
              "fsd_num_off_box     0.0\n",
              "num_off_box         0.0\n",
              "dtype: float64"
            ]
          },
          "metadata": {
            "tags": []
          },
          "execution_count": 32
        }
      ]
    },
    {
      "cell_type": "code",
      "metadata": {
        "id": "DF6p_U5UvoST",
        "colab": {
          "base_uri": "https://localhost:8080/",
          "height": 319
        },
        "outputId": "33822e80-be29-4d93-a3bf-4f542c673dee"
      },
      "source": [
        "movie_data.describe()"
      ],
      "execution_count": null,
      "outputs": [
        {
          "output_type": "execute_result",
          "data": {
            "text/html": [
              "<div>\n",
              "<style scoped>\n",
              "    .dataframe tbody tr th:only-of-type {\n",
              "        vertical-align: middle;\n",
              "    }\n",
              "\n",
              "    .dataframe tbody tr th {\n",
              "        vertical-align: top;\n",
              "    }\n",
              "\n",
              "    .dataframe thead th {\n",
              "        text-align: right;\n",
              "    }\n",
              "</style>\n",
              "<table border=\"1\" class=\"dataframe\">\n",
              "  <thead>\n",
              "    <tr style=\"text-align: right;\">\n",
              "      <th></th>\n",
              "      <th>release-time</th>\n",
              "      <th>historical_drama</th>\n",
              "      <th>adventure</th>\n",
              "      <th>action</th>\n",
              "      <th>crime</th>\n",
              "      <th>fantasy</th>\n",
              "      <th>war</th>\n",
              "      <th>drama</th>\n",
              "      <th>comedy</th>\n",
              "      <th>SF</th>\n",
              "      <th>melo/romance</th>\n",
              "      <th>mystery</th>\n",
              "      <th>thriller</th>\n",
              "      <th>musical</th>\n",
              "      <th>horror</th>\n",
              "      <th>animation</th>\n",
              "      <th>documentry</th>\n",
              "      <th>western</th>\n",
              "      <th>family</th>\n",
              "      <th>show</th>\n",
              "      <th>korea</th>\n",
              "      <th>america</th>\n",
              "      <th>japan</th>\n",
              "      <th>others</th>\n",
              "      <th>movie_rating</th>\n",
              "      <th>num_off_screen</th>\n",
              "      <th>screen_share</th>\n",
              "      <th>fsd_num_off_box</th>\n",
              "      <th>num_off_box</th>\n",
              "    </tr>\n",
              "  </thead>\n",
              "  <tbody>\n",
              "    <tr>\n",
              "      <th>count</th>\n",
              "      <td>1325.000000</td>\n",
              "      <td>1325.000000</td>\n",
              "      <td>1325.000000</td>\n",
              "      <td>1325.000000</td>\n",
              "      <td>1325.000000</td>\n",
              "      <td>1325.000000</td>\n",
              "      <td>1325.000000</td>\n",
              "      <td>1325.000000</td>\n",
              "      <td>1325.000000</td>\n",
              "      <td>1325.000000</td>\n",
              "      <td>1325.000000</td>\n",
              "      <td>1325.000000</td>\n",
              "      <td>1325.000000</td>\n",
              "      <td>1325.000000</td>\n",
              "      <td>1325.000000</td>\n",
              "      <td>1325.000000</td>\n",
              "      <td>1325.000000</td>\n",
              "      <td>1325.000000</td>\n",
              "      <td>1325.000000</td>\n",
              "      <td>1325.000000</td>\n",
              "      <td>1325.000000</td>\n",
              "      <td>1325.000000</td>\n",
              "      <td>1325.000000</td>\n",
              "      <td>1325.000000</td>\n",
              "      <td>1325.000000</td>\n",
              "      <td>1325.000000</td>\n",
              "      <td>1325.000000</td>\n",
              "      <td>1.325000e+03</td>\n",
              "      <td>1.325000e+03</td>\n",
              "    </tr>\n",
              "    <tr>\n",
              "      <th>mean</th>\n",
              "      <td>0.089811</td>\n",
              "      <td>0.021132</td>\n",
              "      <td>0.021887</td>\n",
              "      <td>0.216604</td>\n",
              "      <td>0.054340</td>\n",
              "      <td>0.024151</td>\n",
              "      <td>0.004528</td>\n",
              "      <td>0.141132</td>\n",
              "      <td>0.076226</td>\n",
              "      <td>0.028679</td>\n",
              "      <td>0.038491</td>\n",
              "      <td>0.027170</td>\n",
              "      <td>0.044528</td>\n",
              "      <td>0.003019</td>\n",
              "      <td>0.052075</td>\n",
              "      <td>0.227170</td>\n",
              "      <td>0.005283</td>\n",
              "      <td>0.000755</td>\n",
              "      <td>0.008302</td>\n",
              "      <td>0.003774</td>\n",
              "      <td>0.353208</td>\n",
              "      <td>0.443774</td>\n",
              "      <td>0.140377</td>\n",
              "      <td>0.062642</td>\n",
              "      <td>7.574415</td>\n",
              "      <td>523.730566</td>\n",
              "      <td>10.981208</td>\n",
              "      <td>1.549131e+05</td>\n",
              "      <td>1.162041e+06</td>\n",
              "    </tr>\n",
              "    <tr>\n",
              "      <th>std</th>\n",
              "      <td>0.286019</td>\n",
              "      <td>0.143879</td>\n",
              "      <td>0.146369</td>\n",
              "      <td>0.412086</td>\n",
              "      <td>0.226772</td>\n",
              "      <td>0.153576</td>\n",
              "      <td>0.067165</td>\n",
              "      <td>0.348289</td>\n",
              "      <td>0.265460</td>\n",
              "      <td>0.166966</td>\n",
              "      <td>0.192450</td>\n",
              "      <td>0.162639</td>\n",
              "      <td>0.206344</td>\n",
              "      <td>0.054882</td>\n",
              "      <td>0.222263</td>\n",
              "      <td>0.419161</td>\n",
              "      <td>0.072519</td>\n",
              "      <td>0.027472</td>\n",
              "      <td>0.090770</td>\n",
              "      <td>0.061337</td>\n",
              "      <td>0.478147</td>\n",
              "      <td>0.497016</td>\n",
              "      <td>0.347509</td>\n",
              "      <td>0.242409</td>\n",
              "      <td>1.254508</td>\n",
              "      <td>383.697236</td>\n",
              "      <td>7.677534</td>\n",
              "      <td>2.408750e+05</td>\n",
              "      <td>2.127589e+06</td>\n",
              "    </tr>\n",
              "    <tr>\n",
              "      <th>min</th>\n",
              "      <td>0.000000</td>\n",
              "      <td>0.000000</td>\n",
              "      <td>0.000000</td>\n",
              "      <td>0.000000</td>\n",
              "      <td>0.000000</td>\n",
              "      <td>0.000000</td>\n",
              "      <td>0.000000</td>\n",
              "      <td>0.000000</td>\n",
              "      <td>0.000000</td>\n",
              "      <td>0.000000</td>\n",
              "      <td>0.000000</td>\n",
              "      <td>0.000000</td>\n",
              "      <td>0.000000</td>\n",
              "      <td>0.000000</td>\n",
              "      <td>0.000000</td>\n",
              "      <td>0.000000</td>\n",
              "      <td>0.000000</td>\n",
              "      <td>0.000000</td>\n",
              "      <td>0.000000</td>\n",
              "      <td>0.000000</td>\n",
              "      <td>0.000000</td>\n",
              "      <td>0.000000</td>\n",
              "      <td>0.000000</td>\n",
              "      <td>0.000000</td>\n",
              "      <td>1.270000</td>\n",
              "      <td>1.000000</td>\n",
              "      <td>0.000000</td>\n",
              "      <td>2.990000e+02</td>\n",
              "      <td>1.009400e+04</td>\n",
              "    </tr>\n",
              "    <tr>\n",
              "      <th>25%</th>\n",
              "      <td>0.000000</td>\n",
              "      <td>0.000000</td>\n",
              "      <td>0.000000</td>\n",
              "      <td>0.000000</td>\n",
              "      <td>0.000000</td>\n",
              "      <td>0.000000</td>\n",
              "      <td>0.000000</td>\n",
              "      <td>0.000000</td>\n",
              "      <td>0.000000</td>\n",
              "      <td>0.000000</td>\n",
              "      <td>0.000000</td>\n",
              "      <td>0.000000</td>\n",
              "      <td>0.000000</td>\n",
              "      <td>0.000000</td>\n",
              "      <td>0.000000</td>\n",
              "      <td>0.000000</td>\n",
              "      <td>0.000000</td>\n",
              "      <td>0.000000</td>\n",
              "      <td>0.000000</td>\n",
              "      <td>0.000000</td>\n",
              "      <td>0.000000</td>\n",
              "      <td>0.000000</td>\n",
              "      <td>0.000000</td>\n",
              "      <td>0.000000</td>\n",
              "      <td>6.910000</td>\n",
              "      <td>251.000000</td>\n",
              "      <td>5.500000</td>\n",
              "      <td>1.670000e+04</td>\n",
              "      <td>6.607400e+04</td>\n",
              "    </tr>\n",
              "    <tr>\n",
              "      <th>50%</th>\n",
              "      <td>0.000000</td>\n",
              "      <td>0.000000</td>\n",
              "      <td>0.000000</td>\n",
              "      <td>0.000000</td>\n",
              "      <td>0.000000</td>\n",
              "      <td>0.000000</td>\n",
              "      <td>0.000000</td>\n",
              "      <td>0.000000</td>\n",
              "      <td>0.000000</td>\n",
              "      <td>0.000000</td>\n",
              "      <td>0.000000</td>\n",
              "      <td>0.000000</td>\n",
              "      <td>0.000000</td>\n",
              "      <td>0.000000</td>\n",
              "      <td>0.000000</td>\n",
              "      <td>0.000000</td>\n",
              "      <td>0.000000</td>\n",
              "      <td>0.000000</td>\n",
              "      <td>0.000000</td>\n",
              "      <td>0.000000</td>\n",
              "      <td>0.000000</td>\n",
              "      <td>0.000000</td>\n",
              "      <td>0.000000</td>\n",
              "      <td>0.000000</td>\n",
              "      <td>7.840000</td>\n",
              "      <td>435.000000</td>\n",
              "      <td>9.200000</td>\n",
              "      <td>6.001000e+04</td>\n",
              "      <td>3.109560e+05</td>\n",
              "    </tr>\n",
              "    <tr>\n",
              "      <th>75%</th>\n",
              "      <td>0.000000</td>\n",
              "      <td>0.000000</td>\n",
              "      <td>0.000000</td>\n",
              "      <td>0.000000</td>\n",
              "      <td>0.000000</td>\n",
              "      <td>0.000000</td>\n",
              "      <td>0.000000</td>\n",
              "      <td>0.000000</td>\n",
              "      <td>0.000000</td>\n",
              "      <td>0.000000</td>\n",
              "      <td>0.000000</td>\n",
              "      <td>0.000000</td>\n",
              "      <td>0.000000</td>\n",
              "      <td>0.000000</td>\n",
              "      <td>0.000000</td>\n",
              "      <td>0.000000</td>\n",
              "      <td>0.000000</td>\n",
              "      <td>0.000000</td>\n",
              "      <td>0.000000</td>\n",
              "      <td>0.000000</td>\n",
              "      <td>1.000000</td>\n",
              "      <td>1.000000</td>\n",
              "      <td>0.000000</td>\n",
              "      <td>0.000000</td>\n",
              "      <td>8.480000</td>\n",
              "      <td>691.000000</td>\n",
              "      <td>14.900000</td>\n",
              "      <td>1.977510e+05</td>\n",
              "      <td>1.221420e+06</td>\n",
              "    </tr>\n",
              "    <tr>\n",
              "      <th>max</th>\n",
              "      <td>1.000000</td>\n",
              "      <td>1.000000</td>\n",
              "      <td>1.000000</td>\n",
              "      <td>1.000000</td>\n",
              "      <td>1.000000</td>\n",
              "      <td>1.000000</td>\n",
              "      <td>1.000000</td>\n",
              "      <td>1.000000</td>\n",
              "      <td>1.000000</td>\n",
              "      <td>1.000000</td>\n",
              "      <td>1.000000</td>\n",
              "      <td>1.000000</td>\n",
              "      <td>1.000000</td>\n",
              "      <td>1.000000</td>\n",
              "      <td>1.000000</td>\n",
              "      <td>1.000000</td>\n",
              "      <td>1.000000</td>\n",
              "      <td>1.000000</td>\n",
              "      <td>1.000000</td>\n",
              "      <td>1.000000</td>\n",
              "      <td>1.000000</td>\n",
              "      <td>1.000000</td>\n",
              "      <td>1.000000</td>\n",
              "      <td>1.000000</td>\n",
              "      <td>9.440000</td>\n",
              "      <td>2835.000000</td>\n",
              "      <td>58.000000</td>\n",
              "      <td>2.346364e+06</td>\n",
              "      <td>1.761368e+07</td>\n",
              "    </tr>\n",
              "  </tbody>\n",
              "</table>\n",
              "</div>"
            ],
            "text/plain": [
              "       release-time  historical_drama  ...  fsd_num_off_box   num_off_box\n",
              "count   1325.000000       1325.000000  ...     1.325000e+03  1.325000e+03\n",
              "mean       0.089811          0.021132  ...     1.549131e+05  1.162041e+06\n",
              "std        0.286019          0.143879  ...     2.408750e+05  2.127589e+06\n",
              "min        0.000000          0.000000  ...     2.990000e+02  1.009400e+04\n",
              "25%        0.000000          0.000000  ...     1.670000e+04  6.607400e+04\n",
              "50%        0.000000          0.000000  ...     6.001000e+04  3.109560e+05\n",
              "75%        0.000000          0.000000  ...     1.977510e+05  1.221420e+06\n",
              "max        1.000000          1.000000  ...     2.346364e+06  1.761368e+07\n",
              "\n",
              "[8 rows x 29 columns]"
            ]
          },
          "metadata": {
            "tags": []
          },
          "execution_count": 33
        }
      ]
    },
    {
      "cell_type": "code",
      "metadata": {
        "colab": {
          "base_uri": "https://localhost:8080/",
          "height": 371
        },
        "id": "Og1xyK8hblif",
        "outputId": "a9abdd9e-425e-40aa-98fe-512a1bb7b97a"
      },
      "source": [
        "fig, ax = plt.subplots(figsize=(25,10))\n",
        "mask = np.zeros_like(movie_data.corr(), dtype=np.bool)\n",
        "mask[np.triu_indices_from(mask)] = True\n",
        "sns.heatmap(movie_data.corr(), cmap = 'RdYlBu_r', annot = True, mask=mask,linewidths=.5,cbar_kws={\"shrink\": .5},vmin = -1,vmax = 1)  \n",
        "plt.show()\n"
      ],
      "execution_count": null,
      "outputs": [
        {
          "output_type": "display_data",
          "data": {
            "image/png": "[encoded data removed]",
            "text/plain": [
              "<Figure size 1800x720 with 2 Axes>"
            ]
          },
          "metadata": {
            "tags": [],
            "needs_background": "light"
          }
        }
      ]
    },
    {
      "cell_type": "markdown",
      "metadata": {
        "id": "eKkPIi-qSjxA"
      },
      "source": [
        "# train 데이터와 test 데이터로 분리 (train 80%, test 20% ,랜덤 샘플링)"
      ]
    },
    {
      "cell_type": "code",
      "metadata": {
        "id": "OeRHWflxa2pr"
      },
      "source": [
        "# shuffle = True\n",
        "movie_data_train, movie_data_test= train_test_split(movie_data,test_size=0.2,shuffle=True,random_state=1004)"
      ],
      "execution_count": null,
      "outputs": []
    },
    {
      "cell_type": "code",
      "metadata": {
        "id": "o-M4TAvnc7FT",
        "colab": {
          "base_uri": "https://localhost:8080/"
        },
        "outputId": "55135f8c-d49e-406d-aa54-dcfec7fa2b75"
      },
      "source": [
        "movie_data_train.shape"
      ],
      "execution_count": null,
      "outputs": [
        {
          "output_type": "execute_result",
          "data": {
            "text/plain": [
              "(1060, 32)"
            ]
          },
          "metadata": {
            "tags": []
          },
          "execution_count": 36
        }
      ]
    },
    {
      "cell_type": "code",
      "metadata": {
        "id": "QVdZYqHSdITG",
        "colab": {
          "base_uri": "https://localhost:8080/"
        },
        "outputId": "f14699c3-90fa-434b-ba21-2170a0270904"
      },
      "source": [
        "movie_data_test.shape"
      ],
      "execution_count": null,
      "outputs": [
        {
          "output_type": "execute_result",
          "data": {
            "text/plain": [
              "(265, 32)"
            ]
          },
          "metadata": {
            "tags": []
          },
          "execution_count": 37
        }
      ]
    },
    {
      "cell_type": "code",
      "metadata": {
        "id": "PKtfkTztdTg-",
        "colab": {
          "base_uri": "https://localhost:8080/",
          "height": 349
        },
        "outputId": "cbfbc5f4-cf45-42fb-c404-41bb84a7ed86"
      },
      "source": [
        "movie_data_train.head()"
      ],
      "execution_count": null,
      "outputs": [
        {
          "output_type": "execute_result",
          "data": {
            "text/html": [
              "<div>\n",
              "<style scoped>\n",
              "    .dataframe tbody tr th:only-of-type {\n",
              "        vertical-align: middle;\n",
              "    }\n",
              "\n",
              "    .dataframe tbody tr th {\n",
              "        vertical-align: top;\n",
              "    }\n",
              "\n",
              "    .dataframe thead th {\n",
              "        text-align: right;\n",
              "    }\n",
              "</style>\n",
              "<table border=\"1\" class=\"dataframe\">\n",
              "  <thead>\n",
              "    <tr style=\"text-align: right;\">\n",
              "      <th></th>\n",
              "      <th>title</th>\n",
              "      <th>release-time</th>\n",
              "      <th>genre</th>\n",
              "      <th>historical_drama</th>\n",
              "      <th>adventure</th>\n",
              "      <th>action</th>\n",
              "      <th>crime</th>\n",
              "      <th>fantasy</th>\n",
              "      <th>war</th>\n",
              "      <th>drama</th>\n",
              "      <th>comedy</th>\n",
              "      <th>SF</th>\n",
              "      <th>melo/romance</th>\n",
              "      <th>mystery</th>\n",
              "      <th>thriller</th>\n",
              "      <th>musical</th>\n",
              "      <th>horror</th>\n",
              "      <th>animation</th>\n",
              "      <th>documentry</th>\n",
              "      <th>western</th>\n",
              "      <th>family</th>\n",
              "      <th>show</th>\n",
              "      <th>korea</th>\n",
              "      <th>america</th>\n",
              "      <th>japan</th>\n",
              "      <th>others</th>\n",
              "      <th>national</th>\n",
              "      <th>movie_rating</th>\n",
              "      <th>num_off_screen</th>\n",
              "      <th>screen_share</th>\n",
              "      <th>fsd_num_off_box</th>\n",
              "      <th>num_off_box</th>\n",
              "    </tr>\n",
              "  </thead>\n",
              "  <tbody>\n",
              "    <tr>\n",
              "      <th>1324</th>\n",
              "      <td>폴라로이드</td>\n",
              "      <td>0</td>\n",
              "      <td>dramas</td>\n",
              "      <td>0</td>\n",
              "      <td>0</td>\n",
              "      <td>0</td>\n",
              "      <td>0</td>\n",
              "      <td>0</td>\n",
              "      <td>0</td>\n",
              "      <td>1</td>\n",
              "      <td>0</td>\n",
              "      <td>0</td>\n",
              "      <td>0</td>\n",
              "      <td>0</td>\n",
              "      <td>0</td>\n",
              "      <td>0</td>\n",
              "      <td>0</td>\n",
              "      <td>0</td>\n",
              "      <td>0</td>\n",
              "      <td>0</td>\n",
              "      <td>0</td>\n",
              "      <td>0</td>\n",
              "      <td>1</td>\n",
              "      <td>0</td>\n",
              "      <td>0</td>\n",
              "      <td>0</td>\n",
              "      <td>SouthKorea</td>\n",
              "      <td>6.51</td>\n",
              "      <td>27</td>\n",
              "      <td>0.6</td>\n",
              "      <td>6084</td>\n",
              "      <td>10094</td>\n",
              "    </tr>\n",
              "    <tr>\n",
              "      <th>409</th>\n",
              "      <td>더 킹</td>\n",
              "      <td>1</td>\n",
              "      <td>crime</td>\n",
              "      <td>0</td>\n",
              "      <td>0</td>\n",
              "      <td>0</td>\n",
              "      <td>1</td>\n",
              "      <td>0</td>\n",
              "      <td>0</td>\n",
              "      <td>0</td>\n",
              "      <td>0</td>\n",
              "      <td>0</td>\n",
              "      <td>0</td>\n",
              "      <td>0</td>\n",
              "      <td>0</td>\n",
              "      <td>0</td>\n",
              "      <td>0</td>\n",
              "      <td>0</td>\n",
              "      <td>0</td>\n",
              "      <td>0</td>\n",
              "      <td>0</td>\n",
              "      <td>0</td>\n",
              "      <td>1</td>\n",
              "      <td>0</td>\n",
              "      <td>0</td>\n",
              "      <td>0</td>\n",
              "      <td>SouthKorea</td>\n",
              "      <td>8.09</td>\n",
              "      <td>1310</td>\n",
              "      <td>22.2</td>\n",
              "      <td>541017</td>\n",
              "      <td>905885</td>\n",
              "    </tr>\n",
              "    <tr>\n",
              "      <th>962</th>\n",
              "      <td>엑스 마키나</td>\n",
              "      <td>0</td>\n",
              "      <td>SF</td>\n",
              "      <td>0</td>\n",
              "      <td>0</td>\n",
              "      <td>0</td>\n",
              "      <td>0</td>\n",
              "      <td>0</td>\n",
              "      <td>0</td>\n",
              "      <td>0</td>\n",
              "      <td>0</td>\n",
              "      <td>1</td>\n",
              "      <td>0</td>\n",
              "      <td>0</td>\n",
              "      <td>0</td>\n",
              "      <td>0</td>\n",
              "      <td>0</td>\n",
              "      <td>0</td>\n",
              "      <td>0</td>\n",
              "      <td>0</td>\n",
              "      <td>0</td>\n",
              "      <td>0</td>\n",
              "      <td>0</td>\n",
              "      <td>1</td>\n",
              "      <td>0</td>\n",
              "      <td>0</td>\n",
              "      <td>America</td>\n",
              "      <td>7.61</td>\n",
              "      <td>207</td>\n",
              "      <td>4.3</td>\n",
              "      <td>17707</td>\n",
              "      <td>78049</td>\n",
              "    </tr>\n",
              "    <tr>\n",
              "      <th>9</th>\n",
              "      <td>알라딘</td>\n",
              "      <td>0</td>\n",
              "      <td>adventure</td>\n",
              "      <td>0</td>\n",
              "      <td>1</td>\n",
              "      <td>0</td>\n",
              "      <td>0</td>\n",
              "      <td>0</td>\n",
              "      <td>0</td>\n",
              "      <td>0</td>\n",
              "      <td>0</td>\n",
              "      <td>0</td>\n",
              "      <td>0</td>\n",
              "      <td>0</td>\n",
              "      <td>0</td>\n",
              "      <td>0</td>\n",
              "      <td>0</td>\n",
              "      <td>0</td>\n",
              "      <td>0</td>\n",
              "      <td>0</td>\n",
              "      <td>0</td>\n",
              "      <td>0</td>\n",
              "      <td>0</td>\n",
              "      <td>1</td>\n",
              "      <td>0</td>\n",
              "      <td>0</td>\n",
              "      <td>America</td>\n",
              "      <td>9.38</td>\n",
              "      <td>1311</td>\n",
              "      <td>19.9</td>\n",
              "      <td>185003</td>\n",
              "      <td>12552283</td>\n",
              "    </tr>\n",
              "    <tr>\n",
              "      <th>1118</th>\n",
              "      <td>몬스터 왕국</td>\n",
              "      <td>0</td>\n",
              "      <td>animation</td>\n",
              "      <td>0</td>\n",
              "      <td>0</td>\n",
              "      <td>0</td>\n",
              "      <td>0</td>\n",
              "      <td>0</td>\n",
              "      <td>0</td>\n",
              "      <td>0</td>\n",
              "      <td>0</td>\n",
              "      <td>0</td>\n",
              "      <td>0</td>\n",
              "      <td>0</td>\n",
              "      <td>0</td>\n",
              "      <td>0</td>\n",
              "      <td>0</td>\n",
              "      <td>1</td>\n",
              "      <td>0</td>\n",
              "      <td>0</td>\n",
              "      <td>0</td>\n",
              "      <td>0</td>\n",
              "      <td>0</td>\n",
              "      <td>0</td>\n",
              "      <td>1</td>\n",
              "      <td>0</td>\n",
              "      <td>Sweden</td>\n",
              "      <td>6.23</td>\n",
              "      <td>160</td>\n",
              "      <td>3.8</td>\n",
              "      <td>7226</td>\n",
              "      <td>34888</td>\n",
              "    </tr>\n",
              "  </tbody>\n",
              "</table>\n",
              "</div>"
            ],
            "text/plain": [
              "       title  release-time  ... fsd_num_off_box  num_off_box\n",
              "1324   폴라로이드             0  ...            6084        10094\n",
              "409      더 킹             1  ...          541017       905885\n",
              "962   엑스 마키나             0  ...           17707        78049\n",
              "9        알라딘             0  ...          185003     12552283\n",
              "1118  몬스터 왕국             0  ...            7226        34888\n",
              "\n",
              "[5 rows x 32 columns]"
            ]
          },
          "metadata": {
            "tags": []
          },
          "execution_count": 38
        }
      ]
    },
    {
      "cell_type": "code",
      "metadata": {
        "id": "5i5nz8Q9dev7",
        "colab": {
          "base_uri": "https://localhost:8080/",
          "height": 619
        },
        "outputId": "dc011fb0-2087-421a-ca88-ec16221f2d9a"
      },
      "source": [
        "movie_data_test.head()"
      ],
      "execution_count": null,
      "outputs": [
        {
          "output_type": "execute_result",
          "data": {
            "text/html": [
              "<div>\n",
              "<style scoped>\n",
              "    .dataframe tbody tr th:only-of-type {\n",
              "        vertical-align: middle;\n",
              "    }\n",
              "\n",
              "    .dataframe tbody tr th {\n",
              "        vertical-align: top;\n",
              "    }\n",
              "\n",
              "    .dataframe thead th {\n",
              "        text-align: right;\n",
              "    }\n",
              "</style>\n",
              "<table border=\"1\" class=\"dataframe\">\n",
              "  <thead>\n",
              "    <tr style=\"text-align: right;\">\n",
              "      <th></th>\n",
              "      <th>title</th>\n",
              "      <th>release-time</th>\n",
              "      <th>genre</th>\n",
              "      <th>historical_drama</th>\n",
              "      <th>adventure</th>\n",
              "      <th>action</th>\n",
              "      <th>crime</th>\n",
              "      <th>fantasy</th>\n",
              "      <th>war</th>\n",
              "      <th>drama</th>\n",
              "      <th>comedy</th>\n",
              "      <th>SF</th>\n",
              "      <th>melo/romance</th>\n",
              "      <th>mystery</th>\n",
              "      <th>thriller</th>\n",
              "      <th>musical</th>\n",
              "      <th>horror</th>\n",
              "      <th>animation</th>\n",
              "      <th>documentry</th>\n",
              "      <th>western</th>\n",
              "      <th>family</th>\n",
              "      <th>show</th>\n",
              "      <th>korea</th>\n",
              "      <th>america</th>\n",
              "      <th>japan</th>\n",
              "      <th>others</th>\n",
              "      <th>national</th>\n",
              "      <th>movie_rating</th>\n",
              "      <th>num_off_screen</th>\n",
              "      <th>screen_share</th>\n",
              "      <th>fsd_num_off_box</th>\n",
              "      <th>num_off_box</th>\n",
              "    </tr>\n",
              "  </thead>\n",
              "  <tbody>\n",
              "    <tr>\n",
              "      <th>162</th>\n",
              "      <td>메이즈 러너: 스코치 트라이얼</td>\n",
              "      <td>1</td>\n",
              "      <td>action</td>\n",
              "      <td>0</td>\n",
              "      <td>0</td>\n",
              "      <td>1</td>\n",
              "      <td>0</td>\n",
              "      <td>0</td>\n",
              "      <td>0</td>\n",
              "      <td>0</td>\n",
              "      <td>0</td>\n",
              "      <td>0</td>\n",
              "      <td>0</td>\n",
              "      <td>0</td>\n",
              "      <td>0</td>\n",
              "      <td>0</td>\n",
              "      <td>0</td>\n",
              "      <td>0</td>\n",
              "      <td>0</td>\n",
              "      <td>0</td>\n",
              "      <td>0</td>\n",
              "      <td>0</td>\n",
              "      <td>0</td>\n",
              "      <td>1</td>\n",
              "      <td>0</td>\n",
              "      <td>0</td>\n",
              "      <td>America</td>\n",
              "      <td>8.07</td>\n",
              "      <td>804</td>\n",
              "      <td>19.8</td>\n",
              "      <td>237867</td>\n",
              "      <td>2744413</td>\n",
              "    </tr>\n",
              "    <tr>\n",
              "      <th>1018</th>\n",
              "      <td>극장판 프리파라 모두의 동경♪ 렛츠고☆프리파리</td>\n",
              "      <td>0</td>\n",
              "      <td>animation</td>\n",
              "      <td>0</td>\n",
              "      <td>0</td>\n",
              "      <td>0</td>\n",
              "      <td>0</td>\n",
              "      <td>0</td>\n",
              "      <td>0</td>\n",
              "      <td>0</td>\n",
              "      <td>0</td>\n",
              "      <td>0</td>\n",
              "      <td>0</td>\n",
              "      <td>0</td>\n",
              "      <td>0</td>\n",
              "      <td>0</td>\n",
              "      <td>0</td>\n",
              "      <td>1</td>\n",
              "      <td>0</td>\n",
              "      <td>0</td>\n",
              "      <td>0</td>\n",
              "      <td>0</td>\n",
              "      <td>0</td>\n",
              "      <td>0</td>\n",
              "      <td>1</td>\n",
              "      <td>0</td>\n",
              "      <td>Japan</td>\n",
              "      <td>8.15</td>\n",
              "      <td>191</td>\n",
              "      <td>3.3</td>\n",
              "      <td>21458</td>\n",
              "      <td>56539</td>\n",
              "    </tr>\n",
              "    <tr>\n",
              "      <th>131</th>\n",
              "      <td>스타워즈: 깨어난 포스</td>\n",
              "      <td>0</td>\n",
              "      <td>action</td>\n",
              "      <td>0</td>\n",
              "      <td>0</td>\n",
              "      <td>1</td>\n",
              "      <td>0</td>\n",
              "      <td>0</td>\n",
              "      <td>0</td>\n",
              "      <td>0</td>\n",
              "      <td>0</td>\n",
              "      <td>0</td>\n",
              "      <td>0</td>\n",
              "      <td>0</td>\n",
              "      <td>0</td>\n",
              "      <td>0</td>\n",
              "      <td>0</td>\n",
              "      <td>0</td>\n",
              "      <td>0</td>\n",
              "      <td>0</td>\n",
              "      <td>0</td>\n",
              "      <td>0</td>\n",
              "      <td>0</td>\n",
              "      <td>1</td>\n",
              "      <td>0</td>\n",
              "      <td>0</td>\n",
              "      <td>America</td>\n",
              "      <td>7.75</td>\n",
              "      <td>940</td>\n",
              "      <td>22.4</td>\n",
              "      <td>338231</td>\n",
              "      <td>3273879</td>\n",
              "    </tr>\n",
              "    <tr>\n",
              "      <th>1081</th>\n",
              "      <td>약장수</td>\n",
              "      <td>0</td>\n",
              "      <td>dramas</td>\n",
              "      <td>0</td>\n",
              "      <td>0</td>\n",
              "      <td>0</td>\n",
              "      <td>0</td>\n",
              "      <td>0</td>\n",
              "      <td>0</td>\n",
              "      <td>1</td>\n",
              "      <td>0</td>\n",
              "      <td>0</td>\n",
              "      <td>0</td>\n",
              "      <td>0</td>\n",
              "      <td>0</td>\n",
              "      <td>0</td>\n",
              "      <td>0</td>\n",
              "      <td>0</td>\n",
              "      <td>0</td>\n",
              "      <td>0</td>\n",
              "      <td>0</td>\n",
              "      <td>0</td>\n",
              "      <td>1</td>\n",
              "      <td>0</td>\n",
              "      <td>0</td>\n",
              "      <td>0</td>\n",
              "      <td>SouthKorea</td>\n",
              "      <td>8.61</td>\n",
              "      <td>282</td>\n",
              "      <td>7.2</td>\n",
              "      <td>11942</td>\n",
              "      <td>43562</td>\n",
              "    </tr>\n",
              "    <tr>\n",
              "      <th>356</th>\n",
              "      <td>헝거게임: 캣칭 파이어</td>\n",
              "      <td>0</td>\n",
              "      <td>fantasy</td>\n",
              "      <td>0</td>\n",
              "      <td>0</td>\n",
              "      <td>0</td>\n",
              "      <td>0</td>\n",
              "      <td>1</td>\n",
              "      <td>0</td>\n",
              "      <td>0</td>\n",
              "      <td>0</td>\n",
              "      <td>0</td>\n",
              "      <td>0</td>\n",
              "      <td>0</td>\n",
              "      <td>0</td>\n",
              "      <td>0</td>\n",
              "      <td>0</td>\n",
              "      <td>0</td>\n",
              "      <td>0</td>\n",
              "      <td>0</td>\n",
              "      <td>0</td>\n",
              "      <td>0</td>\n",
              "      <td>0</td>\n",
              "      <td>1</td>\n",
              "      <td>0</td>\n",
              "      <td>0</td>\n",
              "      <td>America</td>\n",
              "      <td>8.33</td>\n",
              "      <td>630</td>\n",
              "      <td>16.7</td>\n",
              "      <td>170752</td>\n",
              "      <td>1125739</td>\n",
              "    </tr>\n",
              "  </tbody>\n",
              "</table>\n",
              "</div>"
            ],
            "text/plain": [
              "                          title  release-time  ... fsd_num_off_box  num_off_box\n",
              "162            메이즈 러너: 스코치 트라이얼             1  ...          237867      2744413\n",
              "1018  극장판 프리파라 모두의 동경♪ 렛츠고☆프리파리             0  ...           21458        56539\n",
              "131                스타워즈: 깨어난 포스             0  ...          338231      3273879\n",
              "1081                        약장수             0  ...           11942        43562\n",
              "356                헝거게임: 캣칭 파이어             0  ...          170752      1125739\n",
              "\n",
              "[5 rows x 32 columns]"
            ]
          },
          "metadata": {
            "tags": []
          },
          "execution_count": 39
        }
      ]
    },
    {
      "cell_type": "code",
      "metadata": {
        "id": "JCbFftQ_LysV"
      },
      "source": [
        "movie_data_test.to_csv('movie_data_test.csv', index = False, encoding='cp949')\n",
        "show_test_data=pd.read_csv('/content/drive/MyDrive/movie_data/movie_data_test_show.csv',encoding='cp949')"
      ],
      "execution_count": null,
      "outputs": []
    },
    {
      "cell_type": "markdown",
      "metadata": {
        "id": "6RFfvWP6S0xy"
      },
      "source": [
        "# 모델링 \n",
        "(특징공간 : 관객 평점 , 전국 스크린수, 스크린 점유율, 초반 이틀 누적 관객수, 범주형 자료인 (장르, 국가)\n",
        "\n",
        "LinearRegression\n",
        "\n",
        "lightgbm\n",
        "\n",
        "XGBOOST\n",
        "\n",
        "RandomForest\n"
      ]
    },
    {
      "cell_type": "code",
      "metadata": {
        "id": "_FcW_Z_Uhtwq"
      },
      "source": [
        "model_linear = LinearRegression()\n",
        "model_lgbm = lgb.LGBMRegressor(random_state=777, n_estimators=1000)\n",
        "model_xgb = xgb.XGBRegressor(random_state=777, n_estimators=1000)\n",
        "model_rf = RandomForestRegressor(random_state=777, n_estimators=1000)"
      ],
      "execution_count": null,
      "outputs": []
    },
    {
      "cell_type": "code",
      "metadata": {
        "id": "x3sVtPbexSZD"
      },
      "source": [
        "# 특징공간 설정\n",
        "features = ['movie_rating', 'num_off_screen', 'screen_share', 'fsd_num_off_box','korea','america','japan','others','release-time','historical_drama','adventure','action','crime','fantasy','war','drama','comedy','SF','melo/romance','mystery','thriller','musical','horror','animation','documentry',\t'western',\t'family',\t'show']\n",
        "target = ['num_off_box']"
      ],
      "execution_count": null,
      "outputs": []
    },
    {
      "cell_type": "code",
      "metadata": {
        "id": "stYfLdQf6uC-"
      },
      "source": [
        "x_train, x_test, y_train =movie_data_train[features], movie_data_test[features], movie_data_train[target]"
      ],
      "execution_count": null,
      "outputs": []
    },
    {
      "cell_type": "code",
      "metadata": {
        "id": "_Ey7sKOzCmqg",
        "colab": {
          "base_uri": "https://localhost:8080/"
        },
        "outputId": "fe689980-d2f6-4c93-89aa-75ef21c378c4"
      },
      "source": [
        "# 모델링\n",
        "model_linear.fit(x_train, y_train) # // LinerRegression\n",
        "model_lgbm.fit(x_train, y_train)   # // Lightgbm\n",
        "model_xgb.fit(x_train, y_train)     # // XGB\n",
        "model_rf.fit(x_train, y_train)     # // RandomForest"
      ],
      "execution_count": null,
      "outputs": [
        {
          "output_type": "stream",
          "text": [
            "[02:17:34] WARNING: /workspace/src/objective/regression_obj.cu:152: reg:linear is now deprecated in favor of reg:squarederror.\n"
          ],
          "name": "stdout"
        },
        {
          "output_type": "stream",
          "text": [
            "/usr/local/lib/python3.6/dist-packages/ipykernel_launcher.py:5: DataConversionWarning: A column-vector y was passed when a 1d array was expected. Please change the shape of y to (n_samples,), for example using ravel().\n",
            "  \"\"\"\n"
          ],
          "name": "stderr"
        },
        {
          "output_type": "execute_result",
          "data": {
            "text/plain": [
              "RandomForestRegressor(bootstrap=True, ccp_alpha=0.0, criterion='mse',\n",
              "                      max_depth=None, max_features='auto', max_leaf_nodes=None,\n",
              "                      max_samples=None, min_impurity_decrease=0.0,\n",
              "                      min_impurity_split=None, min_samples_leaf=1,\n",
              "                      min_samples_split=2, min_weight_fraction_leaf=0.0,\n",
              "                      n_estimators=1000, n_jobs=None, oob_score=False,\n",
              "                      random_state=777, verbose=0, warm_start=False)"
            ]
          },
          "metadata": {
            "tags": []
          },
          "execution_count": 44
        }
      ]
    },
    {
      "cell_type": "code",
      "metadata": {
        "id": "7XIvVuQtGci2"
      },
      "source": [
        "singleLR = show_test_data.copy()\n",
        "singleLGBM = show_test_data.copy()\n",
        "singleXGB = show_test_data.copy()\n",
        "singleRF = show_test_data.copy()"
      ],
      "execution_count": null,
      "outputs": []
    },
    {
      "cell_type": "code",
      "metadata": {
        "id": "wk9y7-wqCSSn"
      },
      "source": [
        "# 테스트 데이터 모델에 적용\n",
        "singleLR['num_off_box'] = model_linear.predict(x_test)\n",
        "singleLGBM['num_off_box'] =model_lgbm.predict(x_test)\n",
        "singleXGB['num_off_box'] = model_xgb.predict(x_test)\n",
        "singleRF['num_off_box'] = model_rf.predict(x_test)"
      ],
      "execution_count": null,
      "outputs": []
    },
    {
      "cell_type": "markdown",
      "metadata": {
        "id": "wbYTYJPyqRq5"
      },
      "source": [
        "# 모델들의 mse rmse 결정계수"
      ]
    },
    {
      "cell_type": "code",
      "metadata": {
        "colab": {
          "base_uri": "https://localhost:8080/"
        },
        "id": "aJCFLHJ4r76J",
        "outputId": "6c53c112-4233-4d0f-fdc2-e190adf27b1a"
      },
      "source": [
        "# 모델들의 mse rmse 결정계수\n",
        "\n",
        "#LinerRegression\n",
        "print(\"LinerRegression\")\n",
        "print('LinerRegression 모델의 Mean_Squared_Error = ', mean_squared_error(movie_data_test['num_off_box'], singleLR['num_off_box']))\n",
        "print('LinerRegression 모델의 RMSE = ',  mean_squared_error(movie_data_test['num_off_box'], singleLR['num_off_box'])**0.5)\n",
        "print(\"LinerRegression 모델의 결정계수 =\",r2_score(movie_data_test['num_off_box'], singleLR['num_off_box']))\n",
        "print(\"\")\n",
        "#Lightgbm\n",
        "print(\"Lightgbm\")\n",
        "print('Lightgbm 모델의 Mean_Squared_Error = ', mean_squared_error(movie_data_test['num_off_box'], singleLGBM['num_off_box']))\n",
        "print('Lightgbm 모델의 RMSE = ',  mean_squared_error(movie_data_test['num_off_box'], singleLGBM['num_off_box'])**0.5)\n",
        "print(\"Lightgbm 모델의 결정계수 =\" ,r2_score(movie_data_test['num_off_box'], singleLGBM['num_off_box']))\n",
        "print(\"\")\n",
        "#XGB\n",
        "print(\"XGB\")\n",
        "print('XGB 모델의 Mean_Squared_Error = ', mean_squared_error(movie_data_test['num_off_box'], singleXGB['num_off_box']))\n",
        "print('XGB 모델의 RMSE = ',  mean_squared_error(movie_data_test['num_off_box'], singleXGB['num_off_box'])**0.5)\n",
        "print(\"XGB 모델의 결정계수 =\", r2_score(movie_data_test['num_off_box'], singleXGB['num_off_box']))\n",
        "print(\"\")\n",
        "#RandomForest\n",
        "print(\"RandomForest\")\n",
        "print('RandomForest 모델의 Mean_Squared_Error = ', mean_squared_error(movie_data_test['num_off_box'], singleRF['num_off_box']))\n",
        "print('RandomForest 모델의 RMSE = ',  mean_squared_error(movie_data_test['num_off_box'], singleRF['num_off_box'])**0.5)\n",
        "print(\"RandomForest 모델의 결정계수 = \",r2_score(movie_data_test['num_off_box'], singleRF['num_off_box']))\n",
        "print(\"\")"
      ],
      "execution_count": null,
      "outputs": [
        {
          "output_type": "stream",
          "text": [
            "LinerRegression\n",
            "LinerRegression 모델의 Mean_Squared_Error =  635578289415.2325\n",
            "LinerRegression 모델의 RMSE =  797231.6410023078\n",
            "LinerRegression 모델의 결정계수 = 0.7904912697738422\n",
            "\n",
            "Lightgbm\n",
            "Lightgbm 모델의 Mean_Squared_Error =  535777211421.58704\n",
            "Lightgbm 모델의 RMSE =  731968.0398908049\n",
            "Lightgbm 모델의 결정계수 = 0.8233891794001891\n",
            "\n",
            "XGB\n",
            "XGB 모델의 Mean_Squared_Error =  512493729738.15753\n",
            "XGB 모델의 RMSE =  715886.6738095895\n",
            "XGB 모델의 결정계수 = 0.8310642255179969\n",
            "\n",
            "RandomForest\n",
            "RandomForest 모델의 Mean_Squared_Error =  457921099219.44366\n",
            "RandomForest 모델의 RMSE =  676698.6768270229\n",
            "RandomForest 모델의 결정계수 =  0.8490532643437195\n",
            "\n"
          ],
          "name": "stdout"
        }
      ]
    },
    {
      "cell_type": "code",
      "metadata": {
        "colab": {
          "base_uri": "https://localhost:8080/",
          "height": 419
        },
        "id": "ICMiswHSG85F",
        "outputId": "9ffd35fc-bf72-45d6-bb43-dc0673615786"
      },
      "source": [
        "singleLR"
      ],
      "execution_count": null,
      "outputs": [
        {
          "output_type": "execute_result",
          "data": {
            "text/html": [
              "<div>\n",
              "<style scoped>\n",
              "    .dataframe tbody tr th:only-of-type {\n",
              "        vertical-align: middle;\n",
              "    }\n",
              "\n",
              "    .dataframe tbody tr th {\n",
              "        vertical-align: top;\n",
              "    }\n",
              "\n",
              "    .dataframe thead th {\n",
              "        text-align: right;\n",
              "    }\n",
              "</style>\n",
              "<table border=\"1\" class=\"dataframe\">\n",
              "  <thead>\n",
              "    <tr style=\"text-align: right;\">\n",
              "      <th></th>\n",
              "      <th>title</th>\n",
              "      <th>genre</th>\n",
              "      <th>national</th>\n",
              "      <th>num_off_box</th>\n",
              "    </tr>\n",
              "  </thead>\n",
              "  <tbody>\n",
              "    <tr>\n",
              "      <th>0</th>\n",
              "      <td>메이즈 러너: 스코치 트라이얼</td>\n",
              "      <td>action</td>\n",
              "      <td>America</td>\n",
              "      <td>2.595008e+06</td>\n",
              "    </tr>\n",
              "    <tr>\n",
              "      <th>1</th>\n",
              "      <td>극장판 프리파라 모두의 동경♪ 렛츠고☆프리파리</td>\n",
              "      <td>animation</td>\n",
              "      <td>Japan</td>\n",
              "      <td>-1.050971e+04</td>\n",
              "    </tr>\n",
              "    <tr>\n",
              "      <th>2</th>\n",
              "      <td>스타워즈: 깨어난 포스</td>\n",
              "      <td>action</td>\n",
              "      <td>America</td>\n",
              "      <td>2.914215e+06</td>\n",
              "    </tr>\n",
              "    <tr>\n",
              "      <th>3</th>\n",
              "      <td>약장수</td>\n",
              "      <td>dramas</td>\n",
              "      <td>SouthKorea</td>\n",
              "      <td>4.227718e+05</td>\n",
              "    </tr>\n",
              "    <tr>\n",
              "      <th>4</th>\n",
              "      <td>헝거게임: 캣칭 파이어</td>\n",
              "      <td>fantasy</td>\n",
              "      <td>America</td>\n",
              "      <td>1.961248e+06</td>\n",
              "    </tr>\n",
              "    <tr>\n",
              "      <th>...</th>\n",
              "      <td>...</td>\n",
              "      <td>...</td>\n",
              "      <td>...</td>\n",
              "      <td>...</td>\n",
              "    </tr>\n",
              "    <tr>\n",
              "      <th>260</th>\n",
              "      <td>범죄도시</td>\n",
              "      <td>crime</td>\n",
              "      <td>SouthKorea</td>\n",
              "      <td>3.988801e+06</td>\n",
              "    </tr>\n",
              "    <tr>\n",
              "      <th>261</th>\n",
              "      <td>빅뱅 메이드</td>\n",
              "      <td>documentry</td>\n",
              "      <td>SouthKorea</td>\n",
              "      <td>2.743677e+04</td>\n",
              "    </tr>\n",
              "    <tr>\n",
              "      <th>262</th>\n",
              "      <td>그레이의 50가지 그림자</td>\n",
              "      <td>dramas</td>\n",
              "      <td>America</td>\n",
              "      <td>5.564340e+05</td>\n",
              "    </tr>\n",
              "    <tr>\n",
              "      <th>263</th>\n",
              "      <td>블랙 팬서</td>\n",
              "      <td>action</td>\n",
              "      <td>America</td>\n",
              "      <td>7.494303e+06</td>\n",
              "    </tr>\n",
              "    <tr>\n",
              "      <th>264</th>\n",
              "      <td>마이 리틀 히어로</td>\n",
              "      <td>dramas</td>\n",
              "      <td>SouthKorea</td>\n",
              "      <td>7.668434e+05</td>\n",
              "    </tr>\n",
              "  </tbody>\n",
              "</table>\n",
              "<p>265 rows × 4 columns</p>\n",
              "</div>"
            ],
            "text/plain": [
              "                         title       genre    national   num_off_box\n",
              "0             메이즈 러너: 스코치 트라이얼      action     America  2.595008e+06\n",
              "1    극장판 프리파라 모두의 동경♪ 렛츠고☆프리파리   animation       Japan -1.050971e+04\n",
              "2                 스타워즈: 깨어난 포스      action     America  2.914215e+06\n",
              "3                          약장수      dramas  SouthKorea  4.227718e+05\n",
              "4                 헝거게임: 캣칭 파이어     fantasy     America  1.961248e+06\n",
              "..                         ...         ...         ...           ...\n",
              "260                       범죄도시       crime  SouthKorea  3.988801e+06\n",
              "261                     빅뱅 메이드  documentry  SouthKorea  2.743677e+04\n",
              "262              그레이의 50가지 그림자      dramas     America  5.564340e+05\n",
              "263                      블랙 팬서      action     America  7.494303e+06\n",
              "264                  마이 리틀 히어로      dramas  SouthKorea  7.668434e+05\n",
              "\n",
              "[265 rows x 4 columns]"
            ]
          },
          "metadata": {
            "tags": []
          },
          "execution_count": 48
        }
      ]
    },
    {
      "cell_type": "code",
      "metadata": {
        "colab": {
          "base_uri": "https://localhost:8080/",
          "height": 419
        },
        "id": "rxSO6W4AVwSW",
        "outputId": "40cf87fd-2701-4123-cefc-e3e6c8064ca3"
      },
      "source": [
        "singleLGBM"
      ],
      "execution_count": null,
      "outputs": [
        {
          "output_type": "execute_result",
          "data": {
            "text/html": [
              "<div>\n",
              "<style scoped>\n",
              "    .dataframe tbody tr th:only-of-type {\n",
              "        vertical-align: middle;\n",
              "    }\n",
              "\n",
              "    .dataframe tbody tr th {\n",
              "        vertical-align: top;\n",
              "    }\n",
              "\n",
              "    .dataframe thead th {\n",
              "        text-align: right;\n",
              "    }\n",
              "</style>\n",
              "<table border=\"1\" class=\"dataframe\">\n",
              "  <thead>\n",
              "    <tr style=\"text-align: right;\">\n",
              "      <th></th>\n",
              "      <th>title</th>\n",
              "      <th>genre</th>\n",
              "      <th>national</th>\n",
              "      <th>num_off_box</th>\n",
              "    </tr>\n",
              "  </thead>\n",
              "  <tbody>\n",
              "    <tr>\n",
              "      <th>0</th>\n",
              "      <td>메이즈 러너: 스코치 트라이얼</td>\n",
              "      <td>action</td>\n",
              "      <td>America</td>\n",
              "      <td>1.784199e+06</td>\n",
              "    </tr>\n",
              "    <tr>\n",
              "      <th>1</th>\n",
              "      <td>극장판 프리파라 모두의 동경♪ 렛츠고☆프리파리</td>\n",
              "      <td>animation</td>\n",
              "      <td>Japan</td>\n",
              "      <td>1.595314e+05</td>\n",
              "    </tr>\n",
              "    <tr>\n",
              "      <th>2</th>\n",
              "      <td>스타워즈: 깨어난 포스</td>\n",
              "      <td>action</td>\n",
              "      <td>America</td>\n",
              "      <td>1.795713e+06</td>\n",
              "    </tr>\n",
              "    <tr>\n",
              "      <th>3</th>\n",
              "      <td>약장수</td>\n",
              "      <td>dramas</td>\n",
              "      <td>SouthKorea</td>\n",
              "      <td>1.170576e+05</td>\n",
              "    </tr>\n",
              "    <tr>\n",
              "      <th>4</th>\n",
              "      <td>헝거게임: 캣칭 파이어</td>\n",
              "      <td>fantasy</td>\n",
              "      <td>America</td>\n",
              "      <td>2.000151e+06</td>\n",
              "    </tr>\n",
              "    <tr>\n",
              "      <th>...</th>\n",
              "      <td>...</td>\n",
              "      <td>...</td>\n",
              "      <td>...</td>\n",
              "      <td>...</td>\n",
              "    </tr>\n",
              "    <tr>\n",
              "      <th>260</th>\n",
              "      <td>범죄도시</td>\n",
              "      <td>crime</td>\n",
              "      <td>SouthKorea</td>\n",
              "      <td>8.249927e+06</td>\n",
              "    </tr>\n",
              "    <tr>\n",
              "      <th>261</th>\n",
              "      <td>빅뱅 메이드</td>\n",
              "      <td>documentry</td>\n",
              "      <td>SouthKorea</td>\n",
              "      <td>-3.304525e+04</td>\n",
              "    </tr>\n",
              "    <tr>\n",
              "      <th>262</th>\n",
              "      <td>그레이의 50가지 그림자</td>\n",
              "      <td>dramas</td>\n",
              "      <td>America</td>\n",
              "      <td>5.556553e+05</td>\n",
              "    </tr>\n",
              "    <tr>\n",
              "      <th>263</th>\n",
              "      <td>블랙 팬서</td>\n",
              "      <td>action</td>\n",
              "      <td>America</td>\n",
              "      <td>5.220425e+06</td>\n",
              "    </tr>\n",
              "    <tr>\n",
              "      <th>264</th>\n",
              "      <td>마이 리틀 히어로</td>\n",
              "      <td>dramas</td>\n",
              "      <td>SouthKorea</td>\n",
              "      <td>1.028469e+05</td>\n",
              "    </tr>\n",
              "  </tbody>\n",
              "</table>\n",
              "<p>265 rows × 4 columns</p>\n",
              "</div>"
            ],
            "text/plain": [
              "                         title       genre    national   num_off_box\n",
              "0             메이즈 러너: 스코치 트라이얼      action     America  1.784199e+06\n",
              "1    극장판 프리파라 모두의 동경♪ 렛츠고☆프리파리   animation       Japan  1.595314e+05\n",
              "2                 스타워즈: 깨어난 포스      action     America  1.795713e+06\n",
              "3                          약장수      dramas  SouthKorea  1.170576e+05\n",
              "4                 헝거게임: 캣칭 파이어     fantasy     America  2.000151e+06\n",
              "..                         ...         ...         ...           ...\n",
              "260                       범죄도시       crime  SouthKorea  8.249927e+06\n",
              "261                     빅뱅 메이드  documentry  SouthKorea -3.304525e+04\n",
              "262              그레이의 50가지 그림자      dramas     America  5.556553e+05\n",
              "263                      블랙 팬서      action     America  5.220425e+06\n",
              "264                  마이 리틀 히어로      dramas  SouthKorea  1.028469e+05\n",
              "\n",
              "[265 rows x 4 columns]"
            ]
          },
          "metadata": {
            "tags": []
          },
          "execution_count": 49
        }
      ]
    },
    {
      "cell_type": "code",
      "metadata": {
        "colab": {
          "base_uri": "https://localhost:8080/",
          "height": 419
        },
        "id": "r-Pi_WRqaHsl",
        "outputId": "77b602f8-50e7-4094-94de-863cc38a9922"
      },
      "source": [
        "singleXGB"
      ],
      "execution_count": null,
      "outputs": [
        {
          "output_type": "execute_result",
          "data": {
            "text/html": [
              "<div>\n",
              "<style scoped>\n",
              "    .dataframe tbody tr th:only-of-type {\n",
              "        vertical-align: middle;\n",
              "    }\n",
              "\n",
              "    .dataframe tbody tr th {\n",
              "        vertical-align: top;\n",
              "    }\n",
              "\n",
              "    .dataframe thead th {\n",
              "        text-align: right;\n",
              "    }\n",
              "</style>\n",
              "<table border=\"1\" class=\"dataframe\">\n",
              "  <thead>\n",
              "    <tr style=\"text-align: right;\">\n",
              "      <th></th>\n",
              "      <th>title</th>\n",
              "      <th>genre</th>\n",
              "      <th>national</th>\n",
              "      <th>num_off_box</th>\n",
              "    </tr>\n",
              "  </thead>\n",
              "  <tbody>\n",
              "    <tr>\n",
              "      <th>0</th>\n",
              "      <td>메이즈 러너: 스코치 트라이얼</td>\n",
              "      <td>action</td>\n",
              "      <td>America</td>\n",
              "      <td>2.038017e+06</td>\n",
              "    </tr>\n",
              "    <tr>\n",
              "      <th>1</th>\n",
              "      <td>극장판 프리파라 모두의 동경♪ 렛츠고☆프리파리</td>\n",
              "      <td>animation</td>\n",
              "      <td>Japan</td>\n",
              "      <td>1.249628e+05</td>\n",
              "    </tr>\n",
              "    <tr>\n",
              "      <th>2</th>\n",
              "      <td>스타워즈: 깨어난 포스</td>\n",
              "      <td>action</td>\n",
              "      <td>America</td>\n",
              "      <td>2.251751e+06</td>\n",
              "    </tr>\n",
              "    <tr>\n",
              "      <th>3</th>\n",
              "      <td>약장수</td>\n",
              "      <td>dramas</td>\n",
              "      <td>SouthKorea</td>\n",
              "      <td>3.565573e+05</td>\n",
              "    </tr>\n",
              "    <tr>\n",
              "      <th>4</th>\n",
              "      <td>헝거게임: 캣칭 파이어</td>\n",
              "      <td>fantasy</td>\n",
              "      <td>America</td>\n",
              "      <td>2.083677e+06</td>\n",
              "    </tr>\n",
              "    <tr>\n",
              "      <th>...</th>\n",
              "      <td>...</td>\n",
              "      <td>...</td>\n",
              "      <td>...</td>\n",
              "      <td>...</td>\n",
              "    </tr>\n",
              "    <tr>\n",
              "      <th>260</th>\n",
              "      <td>범죄도시</td>\n",
              "      <td>crime</td>\n",
              "      <td>SouthKorea</td>\n",
              "      <td>8.822620e+06</td>\n",
              "    </tr>\n",
              "    <tr>\n",
              "      <th>261</th>\n",
              "      <td>빅뱅 메이드</td>\n",
              "      <td>documentry</td>\n",
              "      <td>SouthKorea</td>\n",
              "      <td>2.242702e+05</td>\n",
              "    </tr>\n",
              "    <tr>\n",
              "      <th>262</th>\n",
              "      <td>그레이의 50가지 그림자</td>\n",
              "      <td>dramas</td>\n",
              "      <td>America</td>\n",
              "      <td>4.038015e+05</td>\n",
              "    </tr>\n",
              "    <tr>\n",
              "      <th>263</th>\n",
              "      <td>블랙 팬서</td>\n",
              "      <td>action</td>\n",
              "      <td>America</td>\n",
              "      <td>5.791550e+06</td>\n",
              "    </tr>\n",
              "    <tr>\n",
              "      <th>264</th>\n",
              "      <td>마이 리틀 히어로</td>\n",
              "      <td>dramas</td>\n",
              "      <td>SouthKorea</td>\n",
              "      <td>1.743273e+05</td>\n",
              "    </tr>\n",
              "  </tbody>\n",
              "</table>\n",
              "<p>265 rows × 4 columns</p>\n",
              "</div>"
            ],
            "text/plain": [
              "                         title       genre    national   num_off_box\n",
              "0             메이즈 러너: 스코치 트라이얼      action     America  2.038017e+06\n",
              "1    극장판 프리파라 모두의 동경♪ 렛츠고☆프리파리   animation       Japan  1.249628e+05\n",
              "2                 스타워즈: 깨어난 포스      action     America  2.251751e+06\n",
              "3                          약장수      dramas  SouthKorea  3.565573e+05\n",
              "4                 헝거게임: 캣칭 파이어     fantasy     America  2.083677e+06\n",
              "..                         ...         ...         ...           ...\n",
              "260                       범죄도시       crime  SouthKorea  8.822620e+06\n",
              "261                     빅뱅 메이드  documentry  SouthKorea  2.242702e+05\n",
              "262              그레이의 50가지 그림자      dramas     America  4.038015e+05\n",
              "263                      블랙 팬서      action     America  5.791550e+06\n",
              "264                  마이 리틀 히어로      dramas  SouthKorea  1.743273e+05\n",
              "\n",
              "[265 rows x 4 columns]"
            ]
          },
          "metadata": {
            "tags": []
          },
          "execution_count": 50
        }
      ]
    },
    {
      "cell_type": "code",
      "metadata": {
        "colab": {
          "base_uri": "https://localhost:8080/",
          "height": 419
        },
        "id": "TwLfskKIaPkP",
        "outputId": "19865911-8c7f-47c1-92f8-920e3e536f5a"
      },
      "source": [
        "singleRF"
      ],
      "execution_count": null,
      "outputs": [
        {
          "output_type": "execute_result",
          "data": {
            "text/html": [
              "<div>\n",
              "<style scoped>\n",
              "    .dataframe tbody tr th:only-of-type {\n",
              "        vertical-align: middle;\n",
              "    }\n",
              "\n",
              "    .dataframe tbody tr th {\n",
              "        vertical-align: top;\n",
              "    }\n",
              "\n",
              "    .dataframe thead th {\n",
              "        text-align: right;\n",
              "    }\n",
              "</style>\n",
              "<table border=\"1\" class=\"dataframe\">\n",
              "  <thead>\n",
              "    <tr style=\"text-align: right;\">\n",
              "      <th></th>\n",
              "      <th>title</th>\n",
              "      <th>genre</th>\n",
              "      <th>national</th>\n",
              "      <th>num_off_box</th>\n",
              "    </tr>\n",
              "  </thead>\n",
              "  <tbody>\n",
              "    <tr>\n",
              "      <th>0</th>\n",
              "      <td>메이즈 러너: 스코치 트라이얼</td>\n",
              "      <td>action</td>\n",
              "      <td>America</td>\n",
              "      <td>2776414.765</td>\n",
              "    </tr>\n",
              "    <tr>\n",
              "      <th>1</th>\n",
              "      <td>극장판 프리파라 모두의 동경♪ 렛츠고☆프리파리</td>\n",
              "      <td>animation</td>\n",
              "      <td>Japan</td>\n",
              "      <td>150934.627</td>\n",
              "    </tr>\n",
              "    <tr>\n",
              "      <th>2</th>\n",
              "      <td>스타워즈: 깨어난 포스</td>\n",
              "      <td>action</td>\n",
              "      <td>America</td>\n",
              "      <td>2458185.102</td>\n",
              "    </tr>\n",
              "    <tr>\n",
              "      <th>3</th>\n",
              "      <td>약장수</td>\n",
              "      <td>dramas</td>\n",
              "      <td>SouthKorea</td>\n",
              "      <td>82777.398</td>\n",
              "    </tr>\n",
              "    <tr>\n",
              "      <th>4</th>\n",
              "      <td>헝거게임: 캣칭 파이어</td>\n",
              "      <td>fantasy</td>\n",
              "      <td>America</td>\n",
              "      <td>1985394.207</td>\n",
              "    </tr>\n",
              "    <tr>\n",
              "      <th>...</th>\n",
              "      <td>...</td>\n",
              "      <td>...</td>\n",
              "      <td>...</td>\n",
              "      <td>...</td>\n",
              "    </tr>\n",
              "    <tr>\n",
              "      <th>260</th>\n",
              "      <td>범죄도시</td>\n",
              "      <td>crime</td>\n",
              "      <td>SouthKorea</td>\n",
              "      <td>8289540.792</td>\n",
              "    </tr>\n",
              "    <tr>\n",
              "      <th>261</th>\n",
              "      <td>빅뱅 메이드</td>\n",
              "      <td>documentry</td>\n",
              "      <td>SouthKorea</td>\n",
              "      <td>69803.926</td>\n",
              "    </tr>\n",
              "    <tr>\n",
              "      <th>262</th>\n",
              "      <td>그레이의 50가지 그림자</td>\n",
              "      <td>dramas</td>\n",
              "      <td>America</td>\n",
              "      <td>554214.489</td>\n",
              "    </tr>\n",
              "    <tr>\n",
              "      <th>263</th>\n",
              "      <td>블랙 팬서</td>\n",
              "      <td>action</td>\n",
              "      <td>America</td>\n",
              "      <td>6804521.082</td>\n",
              "    </tr>\n",
              "    <tr>\n",
              "      <th>264</th>\n",
              "      <td>마이 리틀 히어로</td>\n",
              "      <td>dramas</td>\n",
              "      <td>SouthKorea</td>\n",
              "      <td>261045.260</td>\n",
              "    </tr>\n",
              "  </tbody>\n",
              "</table>\n",
              "<p>265 rows × 4 columns</p>\n",
              "</div>"
            ],
            "text/plain": [
              "                         title       genre    national  num_off_box\n",
              "0             메이즈 러너: 스코치 트라이얼      action     America  2776414.765\n",
              "1    극장판 프리파라 모두의 동경♪ 렛츠고☆프리파리   animation       Japan   150934.627\n",
              "2                 스타워즈: 깨어난 포스      action     America  2458185.102\n",
              "3                          약장수      dramas  SouthKorea    82777.398\n",
              "4                 헝거게임: 캣칭 파이어     fantasy     America  1985394.207\n",
              "..                         ...         ...         ...          ...\n",
              "260                       범죄도시       crime  SouthKorea  8289540.792\n",
              "261                     빅뱅 메이드  documentry  SouthKorea    69803.926\n",
              "262              그레이의 50가지 그림자      dramas     America   554214.489\n",
              "263                      블랙 팬서      action     America  6804521.082\n",
              "264                  마이 리틀 히어로      dramas  SouthKorea   261045.260\n",
              "\n",
              "[265 rows x 4 columns]"
            ]
          },
          "metadata": {
            "tags": []
          },
          "execution_count": 51
        }
      ]
    },
    {
      "cell_type": "markdown",
      "metadata": {
        "id": "sD-EZlrhA6ex"
      },
      "source": [
        "# XGBoostRegressor + BayesianOptimization"
      ]
    },
    {
      "cell_type": "code",
      "metadata": {
        "id": "V_y-cwmIxqS2"
      },
      "source": [
        "# 하이퍼 파라미터 범위\n",
        "\n",
        "pbounds = { 'learning_rate': (0.0001, 0.4),\n",
        "            'n_estimators': (10, 1000),\n",
        "            'max_depth': (3,10),   \n",
        "            'subsample': (0.5, 1),  \n",
        "            'colsample_bytree': (0.5, 1),   \n",
        "            'gamma': (0, 5)}\n",
        "\n",
        "def xgb_opt(learning_rate, n_estimators, max_depth, subsample, colsample_bytree, gamma):\n",
        "    \n",
        "    params = {\n",
        "        'learning_rate': learning_rate,                      # 학습률\n",
        "        'n_estimators' : int(round(n_estimators)),           # 생성할 tree의 갯수\n",
        "        'max_depth' : int(round(max_depth)),                 # 최대 깊이\n",
        "        'subsample': subsample,                              # 각 트리마다의 관측 데이터 샘플링 비율\n",
        "        'colsample': colsample_bytree,                       # 각 트리마다의 feature 샘플링 비율\n",
        "        'gamma': gamma,                                      # 분할을 수행하는데 필요한 최소 손실 감소\n",
        "        'n_jobs' : -1,                                       # 사용할 cpu 갯수( -1 있는거 다 사용)\n",
        "        'random_state' : 777                                 # 랜덤 샘플링시 고정할 시드 값\n",
        "    }\n",
        "    \n",
        "    m_xgb = xgb.XGBRegressor(**params)\n",
        "    \n",
        "    kf = KFold(n_splits = 5 , shuffle=True, random_state=50)\n",
        "\n",
        "    score = cross_val_score(m_xgb, x_train, y_train, scoring='neg_mean_squared_error', cv=kf, n_jobs=-1)\n",
        "    \n",
        "    return np.mean(score)\n",
        "\n",
        "BO_xgb = BayesianOptimization(f = xgb_opt, pbounds = pbounds, random_state=0)"
      ],
      "execution_count": null,
      "outputs": []
    },
    {
      "cell_type": "code",
      "metadata": {
        "colab": {
          "base_uri": "https://localhost:8080/"
        },
        "id": "RkEKqE_r2mg2",
        "outputId": "4cbc4723-b5a8-4b2b-c925-4814e7296629"
      },
      "source": [
        "BO_xgb.maximize(init_points = 10, n_iter = 100)"
      ],
      "execution_count": null,
      "outputs": [
        {
          "output_type": "stream",
          "text": [
            "|   iter    |  target   | colsam... |   gamma   | learni... | max_depth | n_esti... | subsample |\n",
            "-------------------------------------------------------------------------------------------------\n",
            "| \u001b[0m 1       \u001b[0m | \u001b[0m-1.172e+1\u001b[0m | \u001b[0m 0.7744  \u001b[0m | \u001b[0m 3.576   \u001b[0m | \u001b[0m 0.2411  \u001b[0m | \u001b[0m 6.814   \u001b[0m | \u001b[0m 429.4   \u001b[0m | \u001b[0m 0.8229  \u001b[0m |\n",
            "| \u001b[0m 2       \u001b[0m | \u001b[0m-1.303e+1\u001b[0m | \u001b[0m 0.7188  \u001b[0m | \u001b[0m 4.459   \u001b[0m | \u001b[0m 0.3855  \u001b[0m | \u001b[0m 5.684   \u001b[0m | \u001b[0m 793.8   \u001b[0m | \u001b[0m 0.7644  \u001b[0m |\n",
            "| \u001b[0m 3       \u001b[0m | \u001b[0m-2.362e+1\u001b[0m | \u001b[0m 0.784   \u001b[0m | \u001b[0m 4.628   \u001b[0m | \u001b[0m 0.02851 \u001b[0m | \u001b[0m 3.61    \u001b[0m | \u001b[0m 30.02   \u001b[0m | \u001b[0m 0.9163  \u001b[0m |\n",
            "| \u001b[0m 4       \u001b[0m | \u001b[0m-1.485e+1\u001b[0m | \u001b[0m 0.8891  \u001b[0m | \u001b[0m 4.35    \u001b[0m | \u001b[0m 0.3914  \u001b[0m | \u001b[0m 8.594   \u001b[0m | \u001b[0m 466.9   \u001b[0m | \u001b[0m 0.8903  \u001b[0m |\n",
            "| \u001b[95m 5       \u001b[0m | \u001b[95m-1.143e+1\u001b[0m | \u001b[95m 0.5591  \u001b[0m | \u001b[95m 3.2     \u001b[0m | \u001b[95m 0.05743 \u001b[0m | \u001b[95m 9.613   \u001b[0m | \u001b[95m 526.6   \u001b[0m | \u001b[95m 0.7073  \u001b[0m |\n",
            "| \u001b[0m 6       \u001b[0m | \u001b[0m-1.171e+1\u001b[0m | \u001b[0m 0.6323  \u001b[0m | \u001b[0m 3.871   \u001b[0m | \u001b[0m 0.1825  \u001b[0m | \u001b[0m 6.979   \u001b[0m | \u001b[0m 28.6    \u001b[0m | \u001b[0m 0.8088  \u001b[0m |\n",
            "| \u001b[0m 7       \u001b[0m | \u001b[0m-1.255e+1\u001b[0m | \u001b[0m 0.806   \u001b[0m | \u001b[0m 3.085   \u001b[0m | \u001b[0m 0.3775  \u001b[0m | \u001b[0m 7.773   \u001b[0m | \u001b[0m 365.9   \u001b[0m | \u001b[0m 0.7185  \u001b[0m |\n",
            "| \u001b[0m 8       \u001b[0m | \u001b[0m-1.21e+12\u001b[0m | \u001b[0m 0.8488  \u001b[0m | \u001b[0m 0.3011  \u001b[0m | \u001b[0m 0.2667  \u001b[0m | \u001b[0m 7.694   \u001b[0m | \u001b[0m 218.3   \u001b[0m | \u001b[0m 0.5645  \u001b[0m |\n",
            "| \u001b[95m 9       \u001b[0m | \u001b[95m-1.134e+1\u001b[0m | \u001b[95m 0.6577  \u001b[0m | \u001b[95m 1.819   \u001b[0m | \u001b[95m 0.2281  \u001b[0m | \u001b[95m 6.07    \u001b[0m | \u001b[95m 988.5   \u001b[0m | \u001b[95m 0.551   \u001b[0m |\n",
            "| \u001b[0m 10      \u001b[0m | \u001b[0m-1.162e+1\u001b[0m | \u001b[0m 0.6044  \u001b[0m | \u001b[0m 0.8065  \u001b[0m | \u001b[0m 0.2613  \u001b[0m | \u001b[0m 4.773   \u001b[0m | \u001b[0m 471.6   \u001b[0m | \u001b[0m 0.6222  \u001b[0m |\n",
            "| \u001b[0m 11      \u001b[0m | \u001b[0m-1.15e+12\u001b[0m | \u001b[0m 0.7572  \u001b[0m | \u001b[0m 0.6847  \u001b[0m | \u001b[0m 0.2585  \u001b[0m | \u001b[0m 4.135   \u001b[0m | \u001b[0m 886.6   \u001b[0m | \u001b[0m 0.7975  \u001b[0m |\n",
            "| \u001b[95m 12      \u001b[0m | \u001b[95m-1.123e+1\u001b[0m | \u001b[95m 0.6278  \u001b[0m | \u001b[95m 2.654   \u001b[0m | \u001b[95m 0.05351 \u001b[0m | \u001b[95m 9.874   \u001b[0m | \u001b[95m 840.7   \u001b[0m | \u001b[95m 0.6572  \u001b[0m |\n",
            "| \u001b[0m 13      \u001b[0m | \u001b[0m-1.2e+12 \u001b[0m | \u001b[0m 0.8029  \u001b[0m | \u001b[0m 0.06451 \u001b[0m | \u001b[0m 0.2462  \u001b[0m | \u001b[0m 5.891   \u001b[0m | \u001b[0m 991.8   \u001b[0m | \u001b[0m 0.7121  \u001b[0m |\n",
            "| \u001b[0m 14      \u001b[0m | \u001b[0m-1.232e+1\u001b[0m | \u001b[0m 0.5771  \u001b[0m | \u001b[0m 0.614   \u001b[0m | \u001b[0m 0.04817 \u001b[0m | \u001b[0m 9.816   \u001b[0m | \u001b[0m 312.0   \u001b[0m | \u001b[0m 0.7557  \u001b[0m |\n",
            "| \u001b[95m 15      \u001b[0m | \u001b[95m-1.078e+1\u001b[0m | \u001b[95m 0.5826  \u001b[0m | \u001b[95m 0.9489  \u001b[0m | \u001b[95m 0.1858  \u001b[0m | \u001b[95m 9.269   \u001b[0m | \u001b[95m 475.1   \u001b[0m | \u001b[95m 0.5954  \u001b[0m |\n",
            "| \u001b[0m 16      \u001b[0m | \u001b[0m-1.203e+1\u001b[0m | \u001b[0m 0.6089  \u001b[0m | \u001b[0m 3.827   \u001b[0m | \u001b[0m 0.2275  \u001b[0m | \u001b[0m 7.477   \u001b[0m | \u001b[0m 72.08   \u001b[0m | \u001b[0m 0.6623  \u001b[0m |\n",
            "| \u001b[0m 17      \u001b[0m | \u001b[0m-1.335e+1\u001b[0m | \u001b[0m 0.8284  \u001b[0m | \u001b[0m 0.6582  \u001b[0m | \u001b[0m 0.2546  \u001b[0m | \u001b[0m 8.454   \u001b[0m | \u001b[0m 259.9   \u001b[0m | \u001b[0m 0.6211  \u001b[0m |\n",
            "| \u001b[0m 18      \u001b[0m | \u001b[0m-1.335e+1\u001b[0m | \u001b[0m 0.8942  \u001b[0m | \u001b[0m 4.637   \u001b[0m | \u001b[0m 0.3964  \u001b[0m | \u001b[0m 8.625   \u001b[0m | \u001b[0m 739.7   \u001b[0m | \u001b[0m 0.5565  \u001b[0m |\n",
            "| \u001b[0m 19      \u001b[0m | \u001b[0m-1.111e+1\u001b[0m | \u001b[0m 0.8383  \u001b[0m | \u001b[0m 4.197   \u001b[0m | \u001b[0m 0.121   \u001b[0m | \u001b[0m 5.359   \u001b[0m | \u001b[0m 384.7   \u001b[0m | \u001b[0m 0.6559  \u001b[0m |\n",
            "| \u001b[0m 20      \u001b[0m | \u001b[0m-1.158e+1\u001b[0m | \u001b[0m 0.6222  \u001b[0m | \u001b[0m 1.587   \u001b[0m | \u001b[0m 0.07093 \u001b[0m | \u001b[0m 9.277   \u001b[0m | \u001b[0m 209.3   \u001b[0m | \u001b[0m 0.7708  \u001b[0m |\n",
            "| \u001b[0m 21      \u001b[0m | \u001b[0m-1.162e+1\u001b[0m | \u001b[0m 0.6763  \u001b[0m | \u001b[0m 1.268   \u001b[0m | \u001b[0m 0.237   \u001b[0m | \u001b[0m 3.674   \u001b[0m | \u001b[0m 22.41   \u001b[0m | \u001b[0m 0.631   \u001b[0m |\n",
            "| \u001b[95m 22      \u001b[0m | \u001b[95m-1.069e+1\u001b[0m | \u001b[95m 0.5685  \u001b[0m | \u001b[95m 1.303   \u001b[0m | \u001b[95m 0.09046 \u001b[0m | \u001b[95m 3.906   \u001b[0m | \u001b[95m 975.3   \u001b[0m | \u001b[95m 0.7801  \u001b[0m |\n",
            "| \u001b[0m 23      \u001b[0m | \u001b[0m-1.292e+1\u001b[0m | \u001b[0m 0.9633  \u001b[0m | \u001b[0m 2.674   \u001b[0m | \u001b[0m 0.1394  \u001b[0m | \u001b[0m 6.91    \u001b[0m | \u001b[0m 278.4   \u001b[0m | \u001b[0m 0.9328  \u001b[0m |\n",
            "| \u001b[0m 24      \u001b[0m | \u001b[0m-1.193e+1\u001b[0m | \u001b[0m 0.77    \u001b[0m | \u001b[0m 0.8961  \u001b[0m | \u001b[0m 0.235   \u001b[0m | \u001b[0m 4.921   \u001b[0m | \u001b[0m 92.3    \u001b[0m | \u001b[0m 0.5401  \u001b[0m |\n",
            "| \u001b[0m 25      \u001b[0m | \u001b[0m-1.26e+12\u001b[0m | \u001b[0m 0.6604  \u001b[0m | \u001b[0m 0.2138  \u001b[0m | \u001b[0m 0.3475  \u001b[0m | \u001b[0m 5.718   \u001b[0m | \u001b[0m 468.4   \u001b[0m | \u001b[0m 0.6738  \u001b[0m |\n",
            "| \u001b[0m 26      \u001b[0m | \u001b[0m-1.303e+1\u001b[0m | \u001b[0m 0.7654  \u001b[0m | \u001b[0m 2.584   \u001b[0m | \u001b[0m 0.3877  \u001b[0m | \u001b[0m 8.046   \u001b[0m | \u001b[0m 339.5   \u001b[0m | \u001b[0m 0.7723  \u001b[0m |\n",
            "| \u001b[0m 27      \u001b[0m | \u001b[0m-1.207e+1\u001b[0m | \u001b[0m 0.8226  \u001b[0m | \u001b[0m 4.199   \u001b[0m | \u001b[0m 0.3302  \u001b[0m | \u001b[0m 8.236   \u001b[0m | \u001b[0m 138.9   \u001b[0m | \u001b[0m 0.6549  \u001b[0m |\n",
            "| \u001b[95m 28      \u001b[0m | \u001b[95m-1.063e+1\u001b[0m | \u001b[95m 0.9865  \u001b[0m | \u001b[95m 3.461   \u001b[0m | \u001b[95m 0.1694  \u001b[0m | \u001b[95m 3.623   \u001b[0m | \u001b[95m 84.8    \u001b[0m | \u001b[95m 0.6782  \u001b[0m |\n",
            "| \u001b[95m 29      \u001b[0m | \u001b[95m-1.062e+1\u001b[0m | \u001b[95m 0.7622  \u001b[0m | \u001b[95m 4.669   \u001b[0m | \u001b[95m 0.07994 \u001b[0m | \u001b[95m 4.633   \u001b[0m | \u001b[95m 881.6   \u001b[0m | \u001b[95m 0.7464  \u001b[0m |\n",
            "| \u001b[0m 30      \u001b[0m | \u001b[0m-1.114e+1\u001b[0m | \u001b[0m 0.8238  \u001b[0m | \u001b[0m 2.171   \u001b[0m | \u001b[0m 0.1585  \u001b[0m | \u001b[0m 4.978   \u001b[0m | \u001b[0m 780.3   \u001b[0m | \u001b[0m 0.6838  \u001b[0m |\n",
            "| \u001b[0m 31      \u001b[0m | \u001b[0m-1.135e+1\u001b[0m | \u001b[0m 0.5481  \u001b[0m | \u001b[0m 3.855   \u001b[0m | \u001b[0m 0.1873  \u001b[0m | \u001b[0m 6.521   \u001b[0m | \u001b[0m 576.7   \u001b[0m | \u001b[0m 0.5173  \u001b[0m |\n",
            "| \u001b[0m 32      \u001b[0m | \u001b[0m-1.159e+1\u001b[0m | \u001b[0m 0.6058  \u001b[0m | \u001b[0m 2.319   \u001b[0m | \u001b[0m 0.2198  \u001b[0m | \u001b[0m 7.26    \u001b[0m | \u001b[0m 627.3   \u001b[0m | \u001b[0m 0.6712  \u001b[0m |\n",
            "| \u001b[0m 33      \u001b[0m | \u001b[0m-1.295e+1\u001b[0m | \u001b[0m 0.5008  \u001b[0m | \u001b[0m 3.633   \u001b[0m | \u001b[0m 0.276   \u001b[0m | \u001b[0m 9.575   \u001b[0m | \u001b[0m 17.09   \u001b[0m | \u001b[0m 0.864   \u001b[0m |\n",
            "| \u001b[0m 34      \u001b[0m | \u001b[0m-1.362e+1\u001b[0m | \u001b[0m 0.804   \u001b[0m | \u001b[0m 0.9569  \u001b[0m | \u001b[0m 0.3166  \u001b[0m | \u001b[0m 9.364   \u001b[0m | \u001b[0m 453.6   \u001b[0m | \u001b[0m 0.8186  \u001b[0m |\n",
            "| \u001b[0m 35      \u001b[0m | \u001b[0m-1.071e+1\u001b[0m | \u001b[0m 0.7848  \u001b[0m | \u001b[0m 4.055   \u001b[0m | \u001b[0m 0.05912 \u001b[0m | \u001b[0m 4.73    \u001b[0m | \u001b[0m 584.2   \u001b[0m | \u001b[0m 0.5864  \u001b[0m |\n",
            "| \u001b[0m 36      \u001b[0m | \u001b[0m-1.222e+1\u001b[0m | \u001b[0m 0.9731  \u001b[0m | \u001b[0m 0.7687  \u001b[0m | \u001b[0m 0.1774  \u001b[0m | \u001b[0m 8.39    \u001b[0m | \u001b[0m 123.2   \u001b[0m | \u001b[0m 0.7616  \u001b[0m |\n",
            "| \u001b[0m 37      \u001b[0m | \u001b[0m-1.116e+1\u001b[0m | \u001b[0m 0.8103  \u001b[0m | \u001b[0m 1.147   \u001b[0m | \u001b[0m 0.3172  \u001b[0m | \u001b[0m 4.818   \u001b[0m | \u001b[0m 66.68   \u001b[0m | \u001b[0m 0.6811  \u001b[0m |\n",
            "| \u001b[0m 38      \u001b[0m | \u001b[0m-1.206e+1\u001b[0m | \u001b[0m 0.7169  \u001b[0m | \u001b[0m 4.386   \u001b[0m | \u001b[0m 0.07111 \u001b[0m | \u001b[0m 5.799   \u001b[0m | \u001b[0m 415.0   \u001b[0m | \u001b[0m 0.8423  \u001b[0m |\n",
            "| \u001b[0m 39      \u001b[0m | \u001b[0m-1.26e+12\u001b[0m | \u001b[0m 0.677   \u001b[0m | \u001b[0m 0.8638  \u001b[0m | \u001b[0m 0.3964  \u001b[0m | \u001b[0m 7.174   \u001b[0m | \u001b[0m 477.5   \u001b[0m | \u001b[0m 0.6568  \u001b[0m |\n",
            "| \u001b[0m 40      \u001b[0m | \u001b[0m-1.166e+1\u001b[0m | \u001b[0m 0.9558  \u001b[0m | \u001b[0m 3.069   \u001b[0m | \u001b[0m 0.1855  \u001b[0m | \u001b[0m 8.033   \u001b[0m | \u001b[0m 933.4   \u001b[0m | \u001b[0m 0.8382  \u001b[0m |\n",
            "| \u001b[0m 41      \u001b[0m | \u001b[0m-1.267e+1\u001b[0m | \u001b[0m 0.9037  \u001b[0m | \u001b[0m 3.698   \u001b[0m | \u001b[0m 0.06231 \u001b[0m | \u001b[0m 3.979   \u001b[0m | \u001b[0m 38.39   \u001b[0m | \u001b[0m 0.8858  \u001b[0m |\n",
            "| \u001b[0m 42      \u001b[0m | \u001b[0m-1.297e+1\u001b[0m | \u001b[0m 0.7118  \u001b[0m | \u001b[0m 3.738   \u001b[0m | \u001b[0m 0.01336 \u001b[0m | \u001b[0m 4.11    \u001b[0m | \u001b[0m 176.9   \u001b[0m | \u001b[0m 0.9082  \u001b[0m |\n",
            "| \u001b[0m 43      \u001b[0m | \u001b[0m-1.162e+1\u001b[0m | \u001b[0m 0.5461  \u001b[0m | \u001b[0m 3.793   \u001b[0m | \u001b[0m 0.1534  \u001b[0m | \u001b[0m 7.751   \u001b[0m | \u001b[0m 260.9   \u001b[0m | \u001b[0m 0.8149  \u001b[0m |\n",
            "| \u001b[0m 44      \u001b[0m | \u001b[0m-1.192e+1\u001b[0m | \u001b[0m 0.9426  \u001b[0m | \u001b[0m 4.489   \u001b[0m | \u001b[0m 0.1348  \u001b[0m | \u001b[0m 9.345   \u001b[0m | \u001b[0m 597.7   \u001b[0m | \u001b[0m 0.5062  \u001b[0m |\n",
            "| \u001b[0m 45      \u001b[0m | \u001b[0m-1.102e+1\u001b[0m | \u001b[0m 0.7332  \u001b[0m | \u001b[0m 0.3382  \u001b[0m | \u001b[0m 0.06643 \u001b[0m | \u001b[0m 8.631   \u001b[0m | \u001b[0m 608.3   \u001b[0m | \u001b[0m 0.6133  \u001b[0m |\n",
            "| \u001b[0m 46      \u001b[0m | \u001b[0m-1.127e+1\u001b[0m | \u001b[0m 0.7022  \u001b[0m | \u001b[0m 2.139   \u001b[0m | \u001b[0m 0.07126 \u001b[0m | \u001b[0m 3.294   \u001b[0m | \u001b[0m 682.5   \u001b[0m | \u001b[0m 0.7706  \u001b[0m |\n",
            "| \u001b[0m 47      \u001b[0m | \u001b[0m-1.264e+1\u001b[0m | \u001b[0m 0.9015  \u001b[0m | \u001b[0m 3.885   \u001b[0m | \u001b[0m 0.3239  \u001b[0m | \u001b[0m 7.048   \u001b[0m | \u001b[0m 47.64   \u001b[0m | \u001b[0m 0.9714  \u001b[0m |\n",
            "| \u001b[0m 48      \u001b[0m | \u001b[0m-1.221e+1\u001b[0m | \u001b[0m 0.877   \u001b[0m | \u001b[0m 2.288   \u001b[0m | \u001b[0m 0.3283  \u001b[0m | \u001b[0m 5.173   \u001b[0m | \u001b[0m 435.1   \u001b[0m | \u001b[0m 0.723   \u001b[0m |\n",
            "| \u001b[0m 49      \u001b[0m | \u001b[0m-1.094e+1\u001b[0m | \u001b[0m 0.8663  \u001b[0m | \u001b[0m 1.528   \u001b[0m | \u001b[0m 0.2196  \u001b[0m | \u001b[0m 5.12    \u001b[0m | \u001b[0m 624.2   \u001b[0m | \u001b[0m 0.521   \u001b[0m |\n",
            "| \u001b[0m 50      \u001b[0m | \u001b[0m-1.179e+1\u001b[0m | \u001b[0m 0.9966  \u001b[0m | \u001b[0m 3.74    \u001b[0m | \u001b[0m 0.2556  \u001b[0m | \u001b[0m 7.286   \u001b[0m | \u001b[0m 482.8   \u001b[0m | \u001b[0m 0.7119  \u001b[0m |\n",
            "| \u001b[0m 51      \u001b[0m | \u001b[0m-1.071e+1\u001b[0m | \u001b[0m 0.9778  \u001b[0m | \u001b[0m 2.854   \u001b[0m | \u001b[0m 0.09423 \u001b[0m | \u001b[0m 3.171   \u001b[0m | \u001b[0m 424.5   \u001b[0m | \u001b[0m 0.7539  \u001b[0m |\n",
            "| \u001b[0m 52      \u001b[0m | \u001b[0m-1.242e+1\u001b[0m | \u001b[0m 0.9508  \u001b[0m | \u001b[0m 2.954   \u001b[0m | \u001b[0m 0.2099  \u001b[0m | \u001b[0m 6.357   \u001b[0m | \u001b[0m 808.8   \u001b[0m | \u001b[0m 0.9693  \u001b[0m |\n",
            "| \u001b[0m 53      \u001b[0m | \u001b[0m-1.31e+12\u001b[0m | \u001b[0m 0.5435  \u001b[0m | \u001b[0m 3.354   \u001b[0m | \u001b[0m 0.153   \u001b[0m | \u001b[0m 8.749   \u001b[0m | \u001b[0m 824.4   \u001b[0m | \u001b[0m 0.9266  \u001b[0m |\n",
            "| \u001b[0m 54      \u001b[0m | \u001b[0m-1.203e+1\u001b[0m | \u001b[0m 0.5314  \u001b[0m | \u001b[0m 2.793   \u001b[0m | \u001b[0m 0.04949 \u001b[0m | \u001b[0m 8.447   \u001b[0m | \u001b[0m 826.1   \u001b[0m | \u001b[0m 0.8195  \u001b[0m |\n",
            "| \u001b[0m 55      \u001b[0m | \u001b[0m-1.194e+1\u001b[0m | \u001b[0m 0.7347  \u001b[0m | \u001b[0m 0.4609  \u001b[0m | \u001b[0m 0.1768  \u001b[0m | \u001b[0m 9.702   \u001b[0m | \u001b[0m 530.6   \u001b[0m | \u001b[0m 0.7509  \u001b[0m |\n",
            "| \u001b[0m 56      \u001b[0m | \u001b[0m-1.323e+1\u001b[0m | \u001b[0m 0.6326  \u001b[0m | \u001b[0m 1.772   \u001b[0m | \u001b[0m 0.248   \u001b[0m | \u001b[0m 6.358   \u001b[0m | \u001b[0m 853.4   \u001b[0m | \u001b[0m 0.8869  \u001b[0m |\n",
            "| \u001b[0m 57      \u001b[0m | \u001b[0m-1.279e+1\u001b[0m | \u001b[0m 0.7255  \u001b[0m | \u001b[0m 3.821   \u001b[0m | \u001b[0m 0.3667  \u001b[0m | \u001b[0m 7.328   \u001b[0m | \u001b[0m 482.1   \u001b[0m | \u001b[0m 0.6121  \u001b[0m |\n",
            "| \u001b[0m 58      \u001b[0m | \u001b[0m-1.19e+12\u001b[0m | \u001b[0m 0.6505  \u001b[0m | \u001b[0m 3.637   \u001b[0m | \u001b[0m 0.3586  \u001b[0m | \u001b[0m 5.197   \u001b[0m | \u001b[0m 716.6   \u001b[0m | \u001b[0m 0.6423  \u001b[0m |\n",
            "| \u001b[0m 59      \u001b[0m | \u001b[0m-1.293e+1\u001b[0m | \u001b[0m 0.9102  \u001b[0m | \u001b[0m 2.483   \u001b[0m | \u001b[0m 0.01012 \u001b[0m | \u001b[0m 6.92    \u001b[0m | \u001b[0m 303.1   \u001b[0m | \u001b[0m 0.8884  \u001b[0m |\n",
            "| \u001b[0m 60      \u001b[0m | \u001b[0m-1.202e+1\u001b[0m | \u001b[0m 0.7459  \u001b[0m | \u001b[0m 4.32    \u001b[0m | \u001b[0m 0.1787  \u001b[0m | \u001b[0m 7.116   \u001b[0m | \u001b[0m 621.3   \u001b[0m | \u001b[0m 0.8459  \u001b[0m |\n",
            "| \u001b[0m 61      \u001b[0m | \u001b[0m-1.215e+1\u001b[0m | \u001b[0m 0.8894  \u001b[0m | \u001b[0m 1.969   \u001b[0m | \u001b[0m 0.3242  \u001b[0m | \u001b[0m 6.787   \u001b[0m | \u001b[0m 780.7   \u001b[0m | \u001b[0m 0.6235  \u001b[0m |\n",
            "| \u001b[0m 62      \u001b[0m | \u001b[0m-1.306e+1\u001b[0m | \u001b[0m 0.6017  \u001b[0m | \u001b[0m 0.3469  \u001b[0m | \u001b[0m 0.3987  \u001b[0m | \u001b[0m 3.798   \u001b[0m | \u001b[0m 978.1   \u001b[0m | \u001b[0m 0.9252  \u001b[0m |\n",
            "| \u001b[0m 63      \u001b[0m | \u001b[0m-1.307e+1\u001b[0m | \u001b[0m 0.7417  \u001b[0m | \u001b[0m 4.158   \u001b[0m | \u001b[0m 0.342   \u001b[0m | \u001b[0m 8.615   \u001b[0m | \u001b[0m 360.8   \u001b[0m | \u001b[0m 0.8536  \u001b[0m |\n",
            "| \u001b[0m 64      \u001b[0m | \u001b[0m-1.2e+12 \u001b[0m | \u001b[0m 0.5612  \u001b[0m | \u001b[0m 1.477   \u001b[0m | \u001b[0m 0.2425  \u001b[0m | \u001b[0m 4.423   \u001b[0m | \u001b[0m 704.5   \u001b[0m | \u001b[0m 0.8098  \u001b[0m |\n",
            "| \u001b[0m 65      \u001b[0m | \u001b[0m-1.246e+1\u001b[0m | \u001b[0m 0.7064  \u001b[0m | \u001b[0m 2.615   \u001b[0m | \u001b[0m 0.3114  \u001b[0m | \u001b[0m 9.183   \u001b[0m | \u001b[0m 776.2   \u001b[0m | \u001b[0m 0.6872  \u001b[0m |\n",
            "| \u001b[0m 66      \u001b[0m | \u001b[0m-1.068e+1\u001b[0m | \u001b[0m 0.8339  \u001b[0m | \u001b[0m 1.344   \u001b[0m | \u001b[0m 0.1105  \u001b[0m | \u001b[0m 5.971   \u001b[0m | \u001b[0m 95.57   \u001b[0m | \u001b[0m 0.5266  \u001b[0m |\n",
            "| \u001b[0m 67      \u001b[0m | \u001b[0m-1.353e+1\u001b[0m | \u001b[0m 0.6138  \u001b[0m | \u001b[0m 2.572   \u001b[0m | \u001b[0m 0.3256  \u001b[0m | \u001b[0m 6.787   \u001b[0m | \u001b[0m 584.7   \u001b[0m | \u001b[0m 0.8942  \u001b[0m |\n",
            "| \u001b[0m 68      \u001b[0m | \u001b[0m-1.258e+1\u001b[0m | \u001b[0m 0.9839  \u001b[0m | \u001b[0m 3.004   \u001b[0m | \u001b[0m 0.01237 \u001b[0m | \u001b[0m 7.887   \u001b[0m | \u001b[0m 257.8   \u001b[0m | \u001b[0m 0.835   \u001b[0m |\n",
            "| \u001b[0m 69      \u001b[0m | \u001b[0m-1.157e+1\u001b[0m | \u001b[0m 0.8051  \u001b[0m | \u001b[0m 1.526   \u001b[0m | \u001b[0m 0.272   \u001b[0m | \u001b[0m 3.384   \u001b[0m | \u001b[0m 573.3   \u001b[0m | \u001b[0m 0.6406  \u001b[0m |\n",
            "| \u001b[0m 70      \u001b[0m | \u001b[0m-1.189e+1\u001b[0m | \u001b[0m 0.6727  \u001b[0m | \u001b[0m 2.754   \u001b[0m | \u001b[0m 0.3145  \u001b[0m | \u001b[0m 3.93    \u001b[0m | \u001b[0m 109.4   \u001b[0m | \u001b[0m 0.6592  \u001b[0m |\n",
            "| \u001b[0m 71      \u001b[0m | \u001b[0m-1.279e+1\u001b[0m | \u001b[0m 0.5796  \u001b[0m | \u001b[0m 1.257   \u001b[0m | \u001b[0m 0.2778  \u001b[0m | \u001b[0m 6.882   \u001b[0m | \u001b[0m 251.6   \u001b[0m | \u001b[0m 0.6725  \u001b[0m |\n",
            "| \u001b[0m 72      \u001b[0m | \u001b[0m-1.144e+1\u001b[0m | \u001b[0m 0.8041  \u001b[0m | \u001b[0m 4.133   \u001b[0m | \u001b[0m 0.05888 \u001b[0m | \u001b[0m 4.757   \u001b[0m | \u001b[0m 362.5   \u001b[0m | \u001b[0m 0.827   \u001b[0m |\n",
            "| \u001b[0m 73      \u001b[0m | \u001b[0m-1.169e+1\u001b[0m | \u001b[0m 0.6579  \u001b[0m | \u001b[0m 4.975   \u001b[0m | \u001b[0m 0.1884  \u001b[0m | \u001b[0m 3.074   \u001b[0m | \u001b[0m 19.21   \u001b[0m | \u001b[0m 0.8752  \u001b[0m |\n",
            "| \u001b[0m 74      \u001b[0m | \u001b[0m-1.276e+1\u001b[0m | \u001b[0m 0.8501  \u001b[0m | \u001b[0m 4.471   \u001b[0m | \u001b[0m 0.2514  \u001b[0m | \u001b[0m 8.328   \u001b[0m | \u001b[0m 873.6   \u001b[0m | \u001b[0m 0.5026  \u001b[0m |\n",
            "| \u001b[0m 75      \u001b[0m | \u001b[0m-1.3e+12 \u001b[0m | \u001b[0m 0.5862  \u001b[0m | \u001b[0m 0.9857  \u001b[0m | \u001b[0m 0.1036  \u001b[0m | \u001b[0m 7.683   \u001b[0m | \u001b[0m 244.4   \u001b[0m | \u001b[0m 0.8893  \u001b[0m |\n",
            "| \u001b[0m 76      \u001b[0m | \u001b[0m-1.104e+1\u001b[0m | \u001b[0m 0.5532  \u001b[0m | \u001b[0m 4.907   \u001b[0m | \u001b[0m 0.1178  \u001b[0m | \u001b[0m 9.752   \u001b[0m | \u001b[0m 708.6   \u001b[0m | \u001b[0m 0.6002  \u001b[0m |\n",
            "| \u001b[0m 77      \u001b[0m | \u001b[0m-1.233e+1\u001b[0m | \u001b[0m 0.731   \u001b[0m | \u001b[0m 3.945   \u001b[0m | \u001b[0m 0.2327  \u001b[0m | \u001b[0m 3.766   \u001b[0m | \u001b[0m 985.0   \u001b[0m | \u001b[0m 0.9128  \u001b[0m |\n",
            "| \u001b[0m 78      \u001b[0m | \u001b[0m-1.16e+12\u001b[0m | \u001b[0m 0.7096  \u001b[0m | \u001b[0m 0.8473  \u001b[0m | \u001b[0m 0.04948 \u001b[0m | \u001b[0m 5.685   \u001b[0m | \u001b[0m 952.7   \u001b[0m | \u001b[0m 0.7611  \u001b[0m |\n",
            "| \u001b[0m 79      \u001b[0m | \u001b[0m-1.401e+1\u001b[0m | \u001b[0m 0.7862  \u001b[0m | \u001b[0m 1.519   \u001b[0m | \u001b[0m 0.3404  \u001b[0m | \u001b[0m 9.166   \u001b[0m | \u001b[0m 228.3   \u001b[0m | \u001b[0m 0.9325  \u001b[0m |\n",
            "| \u001b[0m 80      \u001b[0m | \u001b[0m-1.151e+1\u001b[0m | \u001b[0m 0.5228  \u001b[0m | \u001b[0m 1.792   \u001b[0m | \u001b[0m 0.2102  \u001b[0m | \u001b[0m 4.75    \u001b[0m | \u001b[0m 698.7   \u001b[0m | \u001b[0m 0.5494  \u001b[0m |\n",
            "| \u001b[0m 81      \u001b[0m | \u001b[0m-1.175e+1\u001b[0m | \u001b[0m 0.8631  \u001b[0m | \u001b[0m 0.6171  \u001b[0m | \u001b[0m 0.3651  \u001b[0m | \u001b[0m 6.223   \u001b[0m | \u001b[0m 290.1   \u001b[0m | \u001b[0m 0.5566  \u001b[0m |\n",
            "| \u001b[0m 82      \u001b[0m | \u001b[0m-1.299e+1\u001b[0m | \u001b[0m 0.5252  \u001b[0m | \u001b[0m 1.983   \u001b[0m | \u001b[0m 0.06607 \u001b[0m | \u001b[0m 6.91    \u001b[0m | \u001b[0m 381.5   \u001b[0m | \u001b[0m 0.9685  \u001b[0m |\n",
            "| \u001b[0m 83      \u001b[0m | \u001b[0m-1.384e+1\u001b[0m | \u001b[0m 0.5462  \u001b[0m | \u001b[0m 2.413   \u001b[0m | \u001b[0m 0.3166  \u001b[0m | \u001b[0m 9.598   \u001b[0m | \u001b[0m 481.6   \u001b[0m | \u001b[0m 0.8992  \u001b[0m |\n",
            "| \u001b[0m 84      \u001b[0m | \u001b[0m-1.177e+1\u001b[0m | \u001b[0m 0.509   \u001b[0m | \u001b[0m 0.9565  \u001b[0m | \u001b[0m 0.267   \u001b[0m | \u001b[0m 4.449   \u001b[0m | \u001b[0m 149.7   \u001b[0m | \u001b[0m 0.9779  \u001b[0m |\n",
            "| \u001b[0m 85      \u001b[0m | \u001b[0m-1.276e+1\u001b[0m | \u001b[0m 0.5962  \u001b[0m | \u001b[0m 0.4892  \u001b[0m | \u001b[0m 0.06852 \u001b[0m | \u001b[0m 7.003   \u001b[0m | \u001b[0m 405.2   \u001b[0m | \u001b[0m 0.8974  \u001b[0m |\n",
            "| \u001b[0m 86      \u001b[0m | \u001b[0m-1.328e+1\u001b[0m | \u001b[0m 0.8677  \u001b[0m | \u001b[0m 0.4062  \u001b[0m | \u001b[0m 0.104   \u001b[0m | \u001b[0m 7.111   \u001b[0m | \u001b[0m 508.3   \u001b[0m | \u001b[0m 0.9784  \u001b[0m |\n",
            "| \u001b[0m 87      \u001b[0m | \u001b[0m-1.284e+1\u001b[0m | \u001b[0m 0.8238  \u001b[0m | \u001b[0m 4.471   \u001b[0m | \u001b[0m 0.3871  \u001b[0m | \u001b[0m 6.493   \u001b[0m | \u001b[0m 350.4   \u001b[0m | \u001b[0m 0.875   \u001b[0m |\n",
            "| \u001b[0m 88      \u001b[0m | \u001b[0m-1.063e+1\u001b[0m | \u001b[0m 0.6679  \u001b[0m | \u001b[0m 3.529   \u001b[0m | \u001b[0m 0.1015  \u001b[0m | \u001b[0m 4.239   \u001b[0m | \u001b[0m 624.6   \u001b[0m | \u001b[0m 0.7272  \u001b[0m |\n",
            "| \u001b[0m 89      \u001b[0m | \u001b[0m-1.191e+1\u001b[0m | \u001b[0m 0.6872  \u001b[0m | \u001b[0m 3.766   \u001b[0m | \u001b[0m 0.2388  \u001b[0m | \u001b[0m 3.922   \u001b[0m | \u001b[0m 938.6   \u001b[0m | \u001b[0m 0.804   \u001b[0m |\n",
            "| \u001b[0m 90      \u001b[0m | \u001b[0m-1.185e+1\u001b[0m | \u001b[0m 0.7264  \u001b[0m | \u001b[0m 3.309   \u001b[0m | \u001b[0m 0.2388  \u001b[0m | \u001b[0m 8.557   \u001b[0m | \u001b[0m 701.8   \u001b[0m | \u001b[0m 0.8316  \u001b[0m |\n",
            "| \u001b[0m 91      \u001b[0m | \u001b[0m-1.295e+1\u001b[0m | \u001b[0m 0.9044  \u001b[0m | \u001b[0m 4.969   \u001b[0m | \u001b[0m 0.1938  \u001b[0m | \u001b[0m 8.322   \u001b[0m | \u001b[0m 461.2   \u001b[0m | \u001b[0m 0.5292  \u001b[0m |\n",
            "| \u001b[0m 92      \u001b[0m | \u001b[0m-1.277e+1\u001b[0m | \u001b[0m 0.5095  \u001b[0m | \u001b[0m 3.902   \u001b[0m | \u001b[0m 0.3015  \u001b[0m | \u001b[0m 7.247   \u001b[0m | \u001b[0m 96.93   \u001b[0m | \u001b[0m 0.8469  \u001b[0m |\n",
            "| \u001b[0m 93      \u001b[0m | \u001b[0m-1.207e+1\u001b[0m | \u001b[0m 0.6566  \u001b[0m | \u001b[0m 0.9207  \u001b[0m | \u001b[0m 0.08165 \u001b[0m | \u001b[0m 8.152   \u001b[0m | \u001b[0m 302.6   \u001b[0m | \u001b[0m 0.7993  \u001b[0m |\n",
            "| \u001b[0m 94      \u001b[0m | \u001b[0m-1.131e+1\u001b[0m | \u001b[0m 0.7161  \u001b[0m | \u001b[0m 0.4881  \u001b[0m | \u001b[0m 0.06592 \u001b[0m | \u001b[0m 9.043   \u001b[0m | \u001b[0m 450.1   \u001b[0m | \u001b[0m 0.6109  \u001b[0m |\n",
            "| \u001b[0m 95      \u001b[0m | \u001b[0m-1.237e+1\u001b[0m | \u001b[0m 0.9628  \u001b[0m | \u001b[0m 0.6252  \u001b[0m | \u001b[0m 0.3122  \u001b[0m | \u001b[0m 3.132   \u001b[0m | \u001b[0m 922.1   \u001b[0m | \u001b[0m 0.8209  \u001b[0m |\n",
            "| \u001b[0m 96      \u001b[0m | \u001b[0m-1.066e+1\u001b[0m | \u001b[0m 0.5753  \u001b[0m | \u001b[0m 2.009   \u001b[0m | \u001b[0m 0.0142  \u001b[0m | \u001b[0m 6.281   \u001b[0m | \u001b[0m 761.7   \u001b[0m | \u001b[0m 0.5075  \u001b[0m |\n",
            "| \u001b[0m 97      \u001b[0m | \u001b[0m-1.088e+1\u001b[0m | \u001b[0m 0.9948  \u001b[0m | \u001b[0m 2.42    \u001b[0m | \u001b[0m 0.1548  \u001b[0m | \u001b[0m 4.552   \u001b[0m | \u001b[0m 862.9   \u001b[0m | \u001b[0m 0.7773  \u001b[0m |\n",
            "| \u001b[0m 98      \u001b[0m | \u001b[0m-1.159e+1\u001b[0m | \u001b[0m 0.8619  \u001b[0m | \u001b[0m 1.898   \u001b[0m | \u001b[0m 0.1388  \u001b[0m | \u001b[0m 4.236   \u001b[0m | \u001b[0m 995.4   \u001b[0m | \u001b[0m 0.8781  \u001b[0m |\n",
            "| \u001b[0m 99      \u001b[0m | \u001b[0m-1.356e+1\u001b[0m | \u001b[0m 0.6463  \u001b[0m | \u001b[0m 4.031   \u001b[0m | \u001b[0m 0.3737  \u001b[0m | \u001b[0m 8.106   \u001b[0m | \u001b[0m 716.0   \u001b[0m | \u001b[0m 0.7858  \u001b[0m |\n",
            "| \u001b[0m 100     \u001b[0m | \u001b[0m-1.117e+1\u001b[0m | \u001b[0m 0.9457  \u001b[0m | \u001b[0m 1.378   \u001b[0m | \u001b[0m 0.0672  \u001b[0m | \u001b[0m 4.102   \u001b[0m | \u001b[0m 835.6   \u001b[0m | \u001b[0m 0.8386  \u001b[0m |\n",
            "| \u001b[0m 101     \u001b[0m | \u001b[0m-1.107e+1\u001b[0m | \u001b[0m 0.8936  \u001b[0m | \u001b[0m 2.888   \u001b[0m | \u001b[0m 0.0926  \u001b[0m | \u001b[0m 3.597   \u001b[0m | \u001b[0m 763.5   \u001b[0m | \u001b[0m 0.5709  \u001b[0m |\n",
            "| \u001b[0m 102     \u001b[0m | \u001b[0m-1.254e+1\u001b[0m | \u001b[0m 0.9627  \u001b[0m | \u001b[0m 3.993   \u001b[0m | \u001b[0m 0.06622 \u001b[0m | \u001b[0m 6.533   \u001b[0m | \u001b[0m 405.8   \u001b[0m | \u001b[0m 0.8894  \u001b[0m |\n",
            "| \u001b[0m 103     \u001b[0m | \u001b[0m-1.137e+1\u001b[0m | \u001b[0m 0.5499  \u001b[0m | \u001b[0m 0.7784  \u001b[0m | \u001b[0m 0.1716  \u001b[0m | \u001b[0m 4.159   \u001b[0m | \u001b[0m 439.3   \u001b[0m | \u001b[0m 0.6607  \u001b[0m |\n",
            "| \u001b[0m 104     \u001b[0m | \u001b[0m-1.15e+12\u001b[0m | \u001b[0m 0.7266  \u001b[0m | \u001b[0m 1.311   \u001b[0m | \u001b[0m 0.04109 \u001b[0m | \u001b[0m 6.031   \u001b[0m | \u001b[0m 896.7   \u001b[0m | \u001b[0m 0.721   \u001b[0m |\n",
            "| \u001b[0m 105     \u001b[0m | \u001b[0m-1.11e+12\u001b[0m | \u001b[0m 0.749   \u001b[0m | \u001b[0m 4.206   \u001b[0m | \u001b[0m 0.2247  \u001b[0m | \u001b[0m 5.411   \u001b[0m | \u001b[0m 417.2   \u001b[0m | \u001b[0m 0.5792  \u001b[0m |\n",
            "| \u001b[0m 106     \u001b[0m | \u001b[0m-1.381e+1\u001b[0m | \u001b[0m 0.6241  \u001b[0m | \u001b[0m 4.461   \u001b[0m | \u001b[0m 0.38    \u001b[0m | \u001b[0m 7.937   \u001b[0m | \u001b[0m 148.5   \u001b[0m | \u001b[0m 0.6827  \u001b[0m |\n",
            "| \u001b[0m 107     \u001b[0m | \u001b[0m-1.082e+1\u001b[0m | \u001b[0m 0.6074  \u001b[0m | \u001b[0m 0.1722  \u001b[0m | \u001b[0m 0.06266 \u001b[0m | \u001b[0m 9.04    \u001b[0m | \u001b[0m 918.4   \u001b[0m | \u001b[0m 0.5544  \u001b[0m |\n",
            "| \u001b[0m 108     \u001b[0m | \u001b[0m-1.306e+1\u001b[0m | \u001b[0m 0.6143  \u001b[0m | \u001b[0m 2.46    \u001b[0m | \u001b[0m 0.3953  \u001b[0m | \u001b[0m 4.499   \u001b[0m | \u001b[0m 191.6   \u001b[0m | \u001b[0m 0.7605  \u001b[0m |\n",
            "| \u001b[0m 109     \u001b[0m | \u001b[0m-1.213e+1\u001b[0m | \u001b[0m 0.522   \u001b[0m | \u001b[0m 3.492   \u001b[0m | \u001b[0m 0.3763  \u001b[0m | \u001b[0m 4.05    \u001b[0m | \u001b[0m 150.4   \u001b[0m | \u001b[0m 0.7801  \u001b[0m |\n",
            "| \u001b[0m 110     \u001b[0m | \u001b[0m-1.164e+1\u001b[0m | \u001b[0m 0.8509  \u001b[0m | \u001b[0m 0.886   \u001b[0m | \u001b[0m 0.2973  \u001b[0m | \u001b[0m 6.652   \u001b[0m | \u001b[0m 290.0   \u001b[0m | \u001b[0m 0.6633  \u001b[0m |\n",
            "=================================================================================================\n"
          ],
          "name": "stdout"
        }
      ]
    },
    {
      "cell_type": "code",
      "metadata": {
        "colab": {
          "base_uri": "https://localhost:8080/"
        },
        "id": "PMMasymv7voX",
        "outputId": "c4920ede-e659-42f6-bd49-f7b5bf6f3a5b"
      },
      "source": [
        "BO_xgb.max"
      ],
      "execution_count": null,
      "outputs": [
        {
          "output_type": "execute_result",
          "data": {
            "text/plain": [
              "{'params': {'colsample_bytree': 0.7622323087547037,\n",
              "  'gamma': 4.668891654884576,\n",
              "  'learning_rate': 0.0799426516186475,\n",
              "  'max_depth': 4.633081788197476,\n",
              "  'n_estimators': 881.5694627831114,\n",
              "  'subsample': 0.7463609410494453},\n",
              " 'target': -1061599478675.7227}"
            ]
          },
          "metadata": {
            "tags": []
          },
          "execution_count": 54
        }
      ]
    },
    {
      "cell_type": "code",
      "metadata": {
        "id": "mfm6xc-l8CVm"
      },
      "source": [
        "params = BO_xgb.max['params']\n",
        "params['max_depth'] = int(round(params['max_depth']))\n",
        "params['n_estimators'] = int(round(params['n_estimators']))"
      ],
      "execution_count": null,
      "outputs": []
    },
    {
      "cell_type": "code",
      "metadata": {
        "colab": {
          "base_uri": "https://localhost:8080/"
        },
        "id": "a9q1RDUV8GFH",
        "outputId": "06310a6d-baef-4b4b-9697-9e57d95c4203"
      },
      "source": [
        "final_xgb=xgb.XGBRegressor(random_state = 777, **params)\n",
        "final_xgb.fit(x_train, y_train)"
      ],
      "execution_count": null,
      "outputs": [
        {
          "output_type": "stream",
          "text": [
            "[02:26:35] WARNING: /workspace/src/objective/regression_obj.cu:152: reg:linear is now deprecated in favor of reg:squarederror.\n"
          ],
          "name": "stdout"
        },
        {
          "output_type": "execute_result",
          "data": {
            "text/plain": [
              "XGBRegressor(base_score=0.5, booster='gbtree', colsample_bylevel=1,\n",
              "             colsample_bynode=1, colsample_bytree=0.7622323087547037,\n",
              "             gamma=4.668891654884576, importance_type='gain',\n",
              "             learning_rate=0.0799426516186475, max_delta_step=0, max_depth=5,\n",
              "             min_child_weight=1, missing=None, n_estimators=882, n_jobs=1,\n",
              "             nthread=None, objective='reg:linear', random_state=777,\n",
              "             reg_alpha=0, reg_lambda=1, scale_pos_weight=1, seed=None,\n",
              "             silent=None, subsample=0.7463609410494453, verbosity=1)"
            ]
          },
          "metadata": {
            "tags": []
          },
          "execution_count": 56
        }
      ]
    },
    {
      "cell_type": "code",
      "metadata": {
        "id": "KU2uiOIJ8vjG"
      },
      "source": [
        "finalxgb = show_test_data.copy()\n",
        "finalxgb['num_off_box'] = final_xgb.predict(x_test)"
      ],
      "execution_count": null,
      "outputs": []
    },
    {
      "cell_type": "code",
      "metadata": {
        "colab": {
          "base_uri": "https://localhost:8080/"
        },
        "id": "y18b1bAj9ZFF",
        "outputId": "1f669167-03d5-4c2c-e558-48e31066510e"
      },
      "source": [
        "print('파라미터 조정후 XGB 모델의 Mean_Squared_Error = ', mean_squared_error(movie_data_test['num_off_box'], finalxgb['num_off_box']))\n",
        "print('파라미터 조정후 XGB 모델의 RMSE = ',  mean_squared_error(movie_data_test['num_off_box'], finalxgb['num_off_box'])**0.5)\n",
        "print(\"파라미터 조정후 XGB 모델의 결정계수 =\", r2_score(movie_data_test['num_off_box'], finalxgb['num_off_box']))"
      ],
      "execution_count": null,
      "outputs": [
        {
          "output_type": "stream",
          "text": [
            "파라미터 조정후 XGB 모델의 Mean_Squared_Error =  470126385016.9285\n",
            "파라미터 조정후 XGB 모델의 RMSE =  685657.6295914226\n",
            "파라미터 조정후 XGB 모델의 결정계수 = 0.8450299772490154\n"
          ],
          "name": "stdout"
        }
      ]
    },
    {
      "cell_type": "markdown",
      "metadata": {
        "id": "05_M069lpjCF"
      },
      "source": [
        "# LGBMRegressor + BayesianOptimization"
      ]
    },
    {
      "cell_type": "code",
      "metadata": {
        "id": "RmVi4rSQW1HZ"
      },
      "source": [
        "pbounds = { 'learning_rate': (0.0005, 0.2),\n",
        "            'n_estimators': (10, 1000),\n",
        "            'max_depth': (3,10),   \n",
        "            'subsample': (0.5,1), \n",
        "            'colsample_bytree': (0.5,1),   \n",
        "            'num_leaves': (2,16),\n",
        "            'min_child_weight': (1, 10)}\n",
        "\n",
        "\n",
        "def lgbm_opt(learning_rate, n_estimators, max_depth, subsample, colsample_bytree, num_leaves, min_child_weight):\n",
        "\n",
        "    params = {\n",
        "        'learning_rate': learning_rate,               # 학습률\n",
        "        'n_estimators' : int(round(n_estimators)),    # 생성할 tree의 갯수\n",
        "        'max_depth' : int(round(max_depth)),          # 최대 깊이\n",
        "        'subsample': subsample,                       # 각 트리마다의 관측 데이터 샘플링 비율\n",
        "        'colsample_bytree' : colsample_bytree,        # 각 트리마다의 feature 샘플링 비율\n",
        "        'num_leaves' : int(round(num_leaves)),        # 노드의 개수\n",
        "        'min_child_weight' : min_child_weight,        # child의 관측에서 요구되는 최소 가중치의 합\n",
        "        'n_jobs' : -1                                 # cpu 사용 개수 (-1 이면 있는거 다 사용)\n",
        "    }\n",
        "    \n",
        "    m_lgb = lgb.LGBMRegressor(**params)\n",
        "    \n",
        "    kf = KFold(n_splits=5 , shuffle=True, random_state=50)\n",
        "\n",
        "    score = cross_val_score(m_lgb, x_train, y_train, scoring='neg_mean_squared_error', cv=kf, n_jobs=-1)\n",
        "    \n",
        "    return np.mean(score)\n",
        "\n",
        "BO_lgbm = BayesianOptimization(f = lgbm_opt, pbounds = pbounds, random_state=1)  "
      ],
      "execution_count": null,
      "outputs": []
    },
    {
      "cell_type": "code",
      "metadata": {
        "colab": {
          "base_uri": "https://localhost:8080/"
        },
        "id": "vTB7kmg41L2-",
        "outputId": "00160c21-488f-4113-b93b-4633f772a230"
      },
      "source": [
        "BO_lgbm.maximize(init_points=10, n_iter = 100)"
      ],
      "execution_count": null,
      "outputs": [
        {
          "output_type": "stream",
          "text": [
            "|   iter    |  target   | colsam... | learni... | max_depth | min_ch... | n_esti... | num_le... | subsample |\n",
            "-------------------------------------------------------------------------------------------------------------\n",
            "| \u001b[0m 111     \u001b[0m | \u001b[0m-1.174e+1\u001b[0m | \u001b[0m 0.9517  \u001b[0m | \u001b[0m 0.02793 \u001b[0m | \u001b[0m 3.975   \u001b[0m | \u001b[0m 8.267   \u001b[0m | \u001b[0m 403.7   \u001b[0m | \u001b[0m 4.315   \u001b[0m | \u001b[0m 0.9638  \u001b[0m |\n",
            "| \u001b[0m 112     \u001b[0m | \u001b[0m-1.277e+1\u001b[0m | \u001b[0m 0.6739  \u001b[0m | \u001b[0m 0.1503  \u001b[0m | \u001b[0m 8.082   \u001b[0m | \u001b[0m 8.95    \u001b[0m | \u001b[0m 627.4   \u001b[0m | \u001b[0m 12.51   \u001b[0m | \u001b[0m 0.6744  \u001b[0m |\n",
            "| \u001b[0m 113     \u001b[0m | \u001b[0m-1.299e+1\u001b[0m | \u001b[0m 0.635   \u001b[0m | \u001b[0m 0.1792  \u001b[0m | \u001b[0m 5.997   \u001b[0m | \u001b[0m 9.684   \u001b[0m | \u001b[0m 666.8   \u001b[0m | \u001b[0m 10.7    \u001b[0m | \u001b[0m 0.5574  \u001b[0m |\n",
            "| \u001b[0m 114     \u001b[0m | \u001b[0m-1.246e+1\u001b[0m | \u001b[0m 0.9747  \u001b[0m | \u001b[0m 0.09026 \u001b[0m | \u001b[0m 7.049   \u001b[0m | \u001b[0m 4.673   \u001b[0m | \u001b[0m 244.7   \u001b[0m | \u001b[0m 14.65   \u001b[0m | \u001b[0m 0.7868  \u001b[0m |\n",
            "| \u001b[0m 115     \u001b[0m | \u001b[0m-1.26e+12\u001b[0m | \u001b[0m 0.5014  \u001b[0m | \u001b[0m 0.1236  \u001b[0m | \u001b[0m 5.287   \u001b[0m | \u001b[0m 5.744   \u001b[0m | \u001b[0m 887.1   \u001b[0m | \u001b[0m 7.002   \u001b[0m | \u001b[0m 0.9543  \u001b[0m |\n",
            "| \u001b[0m 116     \u001b[0m | \u001b[0m-1.305e+1\u001b[0m | \u001b[0m 0.8117  \u001b[0m | \u001b[0m 0.003656\u001b[0m | \u001b[0m 9.506   \u001b[0m | \u001b[0m 7.218   \u001b[0m | \u001b[0m 997.3   \u001b[0m | \u001b[0m 4.413   \u001b[0m | \u001b[0m 0.5686  \u001b[0m |\n",
            "| \u001b[0m 117     \u001b[0m | \u001b[0m-1.22e+12\u001b[0m | \u001b[0m 0.9663  \u001b[0m | \u001b[0m 0.1395  \u001b[0m | \u001b[0m 3.462   \u001b[0m | \u001b[0m 7.799   \u001b[0m | \u001b[0m 756.3   \u001b[0m | \u001b[0m 14.92   \u001b[0m | \u001b[0m 0.8558  \u001b[0m |\n",
            "| \u001b[0m 118     \u001b[0m | \u001b[0m-1.953e+1\u001b[0m | \u001b[0m 0.5621  \u001b[0m | \u001b[0m 0.004466\u001b[0m | \u001b[0m 3.183   \u001b[0m | \u001b[0m 1.255   \u001b[0m | \u001b[0m 253.7   \u001b[0m | \u001b[0m 14.04   \u001b[0m | \u001b[0m 0.7694  \u001b[0m |\n",
            "| \u001b[0m 119     \u001b[0m | \u001b[0m-1.237e+1\u001b[0m | \u001b[0m 0.7764  \u001b[0m | \u001b[0m 0.1685  \u001b[0m | \u001b[0m 3.869   \u001b[0m | \u001b[0m 3.513   \u001b[0m | \u001b[0m 589.9   \u001b[0m | \u001b[0m 15.57   \u001b[0m | \u001b[0m 0.7805  \u001b[0m |\n",
            "| \u001b[0m 120     \u001b[0m | \u001b[0m-1.203e+1\u001b[0m | \u001b[0m 0.5093  \u001b[0m | \u001b[0m 0.1602  \u001b[0m | \u001b[0m 4.631   \u001b[0m | \u001b[0m 8.264   \u001b[0m | \u001b[0m 394.0   \u001b[0m | \u001b[0m 14.09   \u001b[0m | \u001b[0m 0.8736  \u001b[0m |\n",
            "| \u001b[0m 121     \u001b[0m | \u001b[0m-1.332e+1\u001b[0m | \u001b[0m 0.6981  \u001b[0m | \u001b[0m 0.1837  \u001b[0m | \u001b[0m 4.369   \u001b[0m | \u001b[0m 2.901   \u001b[0m | \u001b[0m 806.9   \u001b[0m | \u001b[0m 14.24   \u001b[0m | \u001b[0m 0.6165  \u001b[0m |\n",
            "| \u001b[0m 122     \u001b[0m | \u001b[0m-1.2e+12 \u001b[0m | \u001b[0m 0.8883  \u001b[0m | \u001b[0m 0.1761  \u001b[0m | \u001b[0m 5.901   \u001b[0m | \u001b[0m 7.722   \u001b[0m | \u001b[0m 100.0   \u001b[0m | \u001b[0m 8.661   \u001b[0m | \u001b[0m 0.7892  \u001b[0m |\n",
            "| \u001b[0m 123     \u001b[0m | \u001b[0m-1.181e+1\u001b[0m | \u001b[0m 0.9018  \u001b[0m | \u001b[0m 0.1141  \u001b[0m | \u001b[0m 6.517   \u001b[0m | \u001b[0m 3.727   \u001b[0m | \u001b[0m 62.09   \u001b[0m | \u001b[0m 13.54   \u001b[0m | \u001b[0m 0.8338  \u001b[0m |\n",
            "| \u001b[0m 124     \u001b[0m | \u001b[0m-1.267e+1\u001b[0m | \u001b[0m 0.8782  \u001b[0m | \u001b[0m 0.167   \u001b[0m | \u001b[0m 5.29    \u001b[0m | \u001b[0m 2.854   \u001b[0m | \u001b[0m 746.8   \u001b[0m | \u001b[0m 6.15    \u001b[0m | \u001b[0m 0.9865  \u001b[0m |\n",
            "| \u001b[0m 125     \u001b[0m | \u001b[0m-1.225e+1\u001b[0m | \u001b[0m 0.6884  \u001b[0m | \u001b[0m 0.1814  \u001b[0m | \u001b[0m 5.742   \u001b[0m | \u001b[0m 7.731   \u001b[0m | \u001b[0m 593.9   \u001b[0m | \u001b[0m 6.424   \u001b[0m | \u001b[0m 0.502   \u001b[0m |\n",
            "| \u001b[0m 126     \u001b[0m | \u001b[0m-1.208e+1\u001b[0m | \u001b[0m 0.8165  \u001b[0m | \u001b[0m 0.1491  \u001b[0m | \u001b[0m 5.109   \u001b[0m | \u001b[0m 3.061   \u001b[0m | \u001b[0m 921.0   \u001b[0m | \u001b[0m 5.234   \u001b[0m | \u001b[0m 0.8337  \u001b[0m |\n",
            "| \u001b[0m 127     \u001b[0m | \u001b[0m-1.182e+1\u001b[0m | \u001b[0m 0.6452  \u001b[0m | \u001b[0m 0.1177  \u001b[0m | \u001b[0m 7.788   \u001b[0m | \u001b[0m 3.02    \u001b[0m | \u001b[0m 123.6   \u001b[0m | \u001b[0m 10.98   \u001b[0m | \u001b[0m 0.7996  \u001b[0m |\n",
            "| \u001b[0m 128     \u001b[0m | \u001b[0m-1.277e+1\u001b[0m | \u001b[0m 0.8016  \u001b[0m | \u001b[0m 0.1971  \u001b[0m | \u001b[0m 7.754   \u001b[0m | \u001b[0m 1.077   \u001b[0m | \u001b[0m 201.0   \u001b[0m | \u001b[0m 15.7    \u001b[0m | \u001b[0m 0.5198  \u001b[0m |\n",
            "| \u001b[0m 129     \u001b[0m | \u001b[0m-1.16e+12\u001b[0m | \u001b[0m 0.7523  \u001b[0m | \u001b[0m 0.02234 \u001b[0m | \u001b[0m 4.747   \u001b[0m | \u001b[0m 1.712   \u001b[0m | \u001b[0m 366.0   \u001b[0m | \u001b[0m 7.194   \u001b[0m | \u001b[0m 0.694   \u001b[0m |\n",
            "| \u001b[0m 130     \u001b[0m | \u001b[0m-1.221e+1\u001b[0m | \u001b[0m 0.7084  \u001b[0m | \u001b[0m 0.04333 \u001b[0m | \u001b[0m 8.79    \u001b[0m | \u001b[0m 2.256   \u001b[0m | \u001b[0m 909.9   \u001b[0m | \u001b[0m 12.17   \u001b[0m | \u001b[0m 0.6168  \u001b[0m |\n",
            "| \u001b[0m 131     \u001b[0m | \u001b[0m-1.268e+1\u001b[0m | \u001b[0m 0.514   \u001b[0m | \u001b[0m 0.1286  \u001b[0m | \u001b[0m 6.009   \u001b[0m | \u001b[0m 2.524   \u001b[0m | \u001b[0m 739.3   \u001b[0m | \u001b[0m 12.53   \u001b[0m | \u001b[0m 0.6441  \u001b[0m |\n",
            "| \u001b[0m 132     \u001b[0m | \u001b[0m-1.191e+1\u001b[0m | \u001b[0m 0.6149  \u001b[0m | \u001b[0m 0.0632  \u001b[0m | \u001b[0m 3.71    \u001b[0m | \u001b[0m 3.406   \u001b[0m | \u001b[0m 648.8   \u001b[0m | \u001b[0m 10.54   \u001b[0m | \u001b[0m 0.6467  \u001b[0m |\n",
            "| \u001b[0m 133     \u001b[0m | \u001b[0m-1.199e+1\u001b[0m | \u001b[0m 0.6596  \u001b[0m | \u001b[0m 0.07806 \u001b[0m | \u001b[0m 9.4     \u001b[0m | \u001b[0m 7.386   \u001b[0m | \u001b[0m 204.4   \u001b[0m | \u001b[0m 7.67    \u001b[0m | \u001b[0m 0.9738  \u001b[0m |\n",
            "| \u001b[0m 134     \u001b[0m | \u001b[0m-2.442e+1\u001b[0m | \u001b[0m 0.9697  \u001b[0m | \u001b[0m 0.008893\u001b[0m | \u001b[0m 9.515   \u001b[0m | \u001b[0m 7.022   \u001b[0m | \u001b[0m 72.77   \u001b[0m | \u001b[0m 8.465   \u001b[0m | \u001b[0m 0.9618  \u001b[0m |\n",
            "| \u001b[0m 135     \u001b[0m | \u001b[0m-1.232e+1\u001b[0m | \u001b[0m 0.5955  \u001b[0m | \u001b[0m 0.1388  \u001b[0m | \u001b[0m 5.96    \u001b[0m | \u001b[0m 8.075   \u001b[0m | \u001b[0m 384.0   \u001b[0m | \u001b[0m 11.31   \u001b[0m | \u001b[0m 0.6171  \u001b[0m |\n",
            "| \u001b[0m 136     \u001b[0m | \u001b[0m-1.168e+1\u001b[0m | \u001b[0m 0.6111  \u001b[0m | \u001b[0m 0.05847 \u001b[0m | \u001b[0m 4.174   \u001b[0m | \u001b[0m 5.15    \u001b[0m | \u001b[0m 197.1   \u001b[0m | \u001b[0m 10.72   \u001b[0m | \u001b[0m 0.9005  \u001b[0m |\n",
            "| \u001b[0m 137     \u001b[0m | \u001b[0m-1.212e+1\u001b[0m | \u001b[0m 0.5274  \u001b[0m | \u001b[0m 0.0391  \u001b[0m | \u001b[0m 6.403   \u001b[0m | \u001b[0m 1.041   \u001b[0m | \u001b[0m 928.8   \u001b[0m | \u001b[0m 2.912   \u001b[0m | \u001b[0m 0.6215  \u001b[0m |\n",
            "| \u001b[0m 138     \u001b[0m | \u001b[0m-1.285e+1\u001b[0m | \u001b[0m 0.8351  \u001b[0m | \u001b[0m 0.1194  \u001b[0m | \u001b[0m 7.554   \u001b[0m | \u001b[0m 4.096   \u001b[0m | \u001b[0m 935.1   \u001b[0m | \u001b[0m 10.17   \u001b[0m | \u001b[0m 0.7678  \u001b[0m |\n",
            "| \u001b[0m 139     \u001b[0m | \u001b[0m-1.23e+12\u001b[0m | \u001b[0m 0.9939  \u001b[0m | \u001b[0m 0.188   \u001b[0m | \u001b[0m 5.433   \u001b[0m | \u001b[0m 6.597   \u001b[0m | \u001b[0m 240.4   \u001b[0m | \u001b[0m 2.506   \u001b[0m | \u001b[0m 0.7529  \u001b[0m |\n",
            "| \u001b[0m 140     \u001b[0m | \u001b[0m-1.178e+1\u001b[0m | \u001b[0m 0.6145  \u001b[0m | \u001b[0m 0.04975 \u001b[0m | \u001b[0m 5.439   \u001b[0m | \u001b[0m 9.289   \u001b[0m | \u001b[0m 465.1   \u001b[0m | \u001b[0m 4.483   \u001b[0m | \u001b[0m 0.9798  \u001b[0m |\n",
            "| \u001b[0m 141     \u001b[0m | \u001b[0m-1.4e+12 \u001b[0m | \u001b[0m 0.5891  \u001b[0m | \u001b[0m 0.005308\u001b[0m | \u001b[0m 9.964   \u001b[0m | \u001b[0m 3.647   \u001b[0m | \u001b[0m 460.1   \u001b[0m | \u001b[0m 4.529   \u001b[0m | \u001b[0m 0.8269  \u001b[0m |\n",
            "| \u001b[0m 142     \u001b[0m | \u001b[0m-1.187e+1\u001b[0m | \u001b[0m 0.8673  \u001b[0m | \u001b[0m 0.06106 \u001b[0m | \u001b[0m 6.431   \u001b[0m | \u001b[0m 5.248   \u001b[0m | \u001b[0m 513.9   \u001b[0m | \u001b[0m 7.008   \u001b[0m | \u001b[0m 0.5931  \u001b[0m |\n",
            "| \u001b[0m 143     \u001b[0m | \u001b[0m-1.216e+1\u001b[0m | \u001b[0m 0.6202  \u001b[0m | \u001b[0m 0.08439 \u001b[0m | \u001b[0m 6.502   \u001b[0m | \u001b[0m 8.055   \u001b[0m | \u001b[0m 287.7   \u001b[0m | \u001b[0m 2.615   \u001b[0m | \u001b[0m 0.8988  \u001b[0m |\n",
            "| \u001b[0m 144     \u001b[0m | \u001b[0m-1.193e+1\u001b[0m | \u001b[0m 0.8602  \u001b[0m | \u001b[0m 0.0234  \u001b[0m | \u001b[0m 6.597   \u001b[0m | \u001b[0m 3.546   \u001b[0m | \u001b[0m 722.5   \u001b[0m | \u001b[0m 7.36    \u001b[0m | \u001b[0m 0.8736  \u001b[0m |\n",
            "| \u001b[0m 145     \u001b[0m | \u001b[0m-1.299e+1\u001b[0m | \u001b[0m 0.9895  \u001b[0m | \u001b[0m 0.1912  \u001b[0m | \u001b[0m 4.876   \u001b[0m | \u001b[0m 8.482   \u001b[0m | \u001b[0m 839.2   \u001b[0m | \u001b[0m 6.994   \u001b[0m | \u001b[0m 0.533   \u001b[0m |\n",
            "| \u001b[0m 146     \u001b[0m | \u001b[0m-1.277e+1\u001b[0m | \u001b[0m 0.8898  \u001b[0m | \u001b[0m 0.167   \u001b[0m | \u001b[0m 8.915   \u001b[0m | \u001b[0m 5.244   \u001b[0m | \u001b[0m 831.9   \u001b[0m | \u001b[0m 7.044   \u001b[0m | \u001b[0m 0.7528  \u001b[0m |\n",
            "| \u001b[0m 147     \u001b[0m | \u001b[0m-1.747e+1\u001b[0m | \u001b[0m 0.5406  \u001b[0m | \u001b[0m 0.001713\u001b[0m | \u001b[0m 3.563   \u001b[0m | \u001b[0m 3.027   \u001b[0m | \u001b[0m 797.6   \u001b[0m | \u001b[0m 13.76   \u001b[0m | \u001b[0m 0.9402  \u001b[0m |\n",
            "| \u001b[0m 148     \u001b[0m | \u001b[0m-1.177e+1\u001b[0m | \u001b[0m 0.733   \u001b[0m | \u001b[0m 0.07049 \u001b[0m | \u001b[0m 7.248   \u001b[0m | \u001b[0m 6.671   \u001b[0m | \u001b[0m 171.4   \u001b[0m | \u001b[0m 15.0    \u001b[0m | \u001b[0m 0.9089  \u001b[0m |\n",
            "| \u001b[0m 149     \u001b[0m | \u001b[0m-1.565e+1\u001b[0m | \u001b[0m 0.5886  \u001b[0m | \u001b[0m 0.1136  \u001b[0m | \u001b[0m 8.799   \u001b[0m | \u001b[0m 1.945   \u001b[0m | \u001b[0m 500.1   \u001b[0m | \u001b[0m 2.103   \u001b[0m | \u001b[0m 0.6739  \u001b[0m |\n",
            "| \u001b[0m 150     \u001b[0m | \u001b[0m-1.29e+12\u001b[0m | \u001b[0m 0.503   \u001b[0m | \u001b[0m 0.1548  \u001b[0m | \u001b[0m 8.63    \u001b[0m | \u001b[0m 5.968   \u001b[0m | \u001b[0m 915.8   \u001b[0m | \u001b[0m 9.35    \u001b[0m | \u001b[0m 0.7586  \u001b[0m |\n",
            "| \u001b[0m 151     \u001b[0m | \u001b[0m-1.253e+1\u001b[0m | \u001b[0m 0.8744  \u001b[0m | \u001b[0m 0.03193 \u001b[0m | \u001b[0m 5.012   \u001b[0m | \u001b[0m 3.915   \u001b[0m | \u001b[0m 445.9   \u001b[0m | \u001b[0m 3.479   \u001b[0m | \u001b[0m 0.8295  \u001b[0m |\n",
            "| \u001b[0m 152     \u001b[0m | \u001b[0m-1.2e+12 \u001b[0m | \u001b[0m 0.7854  \u001b[0m | \u001b[0m 0.1392  \u001b[0m | \u001b[0m 4.276   \u001b[0m | \u001b[0m 6.07    \u001b[0m | \u001b[0m 422.9   \u001b[0m | \u001b[0m 13.57   \u001b[0m | \u001b[0m 0.9676  \u001b[0m |\n",
            "| \u001b[0m 153     \u001b[0m | \u001b[0m-1.33e+12\u001b[0m | \u001b[0m 0.6592  \u001b[0m | \u001b[0m 0.1745  \u001b[0m | \u001b[0m 8.705   \u001b[0m | \u001b[0m 6.721   \u001b[0m | \u001b[0m 959.2   \u001b[0m | \u001b[0m 14.6    \u001b[0m | \u001b[0m 0.9691  \u001b[0m |\n",
            "| \u001b[0m 154     \u001b[0m | \u001b[0m-1.178e+1\u001b[0m | \u001b[0m 0.6582  \u001b[0m | \u001b[0m 0.04117 \u001b[0m | \u001b[0m 5.544   \u001b[0m | \u001b[0m 1.669   \u001b[0m | \u001b[0m 570.1   \u001b[0m | \u001b[0m 5.672   \u001b[0m | \u001b[0m 0.7601  \u001b[0m |\n",
            "| \u001b[95m 155     \u001b[0m | \u001b[95m-1.141e+1\u001b[0m | \u001b[95m 0.9785  \u001b[0m | \u001b[95m 0.103   \u001b[0m | \u001b[95m 9.147   \u001b[0m | \u001b[95m 8.377   \u001b[0m | \u001b[95m 329.8   \u001b[0m | \u001b[95m 4.797   \u001b[0m | \u001b[95m 0.8021  \u001b[0m |\n",
            "| \u001b[0m 156     \u001b[0m | \u001b[0m-1.185e+1\u001b[0m | \u001b[0m 0.6378  \u001b[0m | \u001b[0m 0.02668 \u001b[0m | \u001b[0m 7.284   \u001b[0m | \u001b[0m 3.922   \u001b[0m | \u001b[0m 842.6   \u001b[0m | \u001b[0m 6.104   \u001b[0m | \u001b[0m 0.655   \u001b[0m |\n",
            "| \u001b[0m 157     \u001b[0m | \u001b[0m-1.473e+1\u001b[0m | \u001b[0m 0.6115  \u001b[0m | \u001b[0m 0.02739 \u001b[0m | \u001b[0m 5.692   \u001b[0m | \u001b[0m 5.898   \u001b[0m | \u001b[0m 141.0   \u001b[0m | \u001b[0m 2.678   \u001b[0m | \u001b[0m 0.6782  \u001b[0m |\n",
            "| \u001b[0m 158     \u001b[0m | \u001b[0m-1.165e+1\u001b[0m | \u001b[0m 0.8221  \u001b[0m | \u001b[0m 0.02053 \u001b[0m | \u001b[0m 9.426   \u001b[0m | \u001b[0m 6.126   \u001b[0m | \u001b[0m 445.2   \u001b[0m | \u001b[0m 12.91   \u001b[0m | \u001b[0m 0.6345  \u001b[0m |\n",
            "| \u001b[0m 159     \u001b[0m | \u001b[0m-1.239e+1\u001b[0m | \u001b[0m 0.6559  \u001b[0m | \u001b[0m 0.02632 \u001b[0m | \u001b[0m 7.47    \u001b[0m | \u001b[0m 8.352   \u001b[0m | \u001b[0m 141.0   \u001b[0m | \u001b[0m 10.28   \u001b[0m | \u001b[0m 0.5107  \u001b[0m |\n",
            "| \u001b[0m 160     \u001b[0m | \u001b[0m-1.194e+1\u001b[0m | \u001b[0m 0.8297  \u001b[0m | \u001b[0m 0.1242  \u001b[0m | \u001b[0m 7.48    \u001b[0m | \u001b[0m 8.207   \u001b[0m | \u001b[0m 618.7   \u001b[0m | \u001b[0m 6.191   \u001b[0m | \u001b[0m 0.6072  \u001b[0m |\n",
            "| \u001b[0m 161     \u001b[0m | \u001b[0m-1.176e+1\u001b[0m | \u001b[0m 0.5274  \u001b[0m | \u001b[0m 0.08086 \u001b[0m | \u001b[0m 4.761   \u001b[0m | \u001b[0m 1.097   \u001b[0m | \u001b[0m 621.4   \u001b[0m | \u001b[0m 4.509   \u001b[0m | \u001b[0m 0.8417  \u001b[0m |\n",
            "| \u001b[0m 162     \u001b[0m | \u001b[0m-1.2e+12 \u001b[0m | \u001b[0m 0.6573  \u001b[0m | \u001b[0m 0.18    \u001b[0m | \u001b[0m 3.407   \u001b[0m | \u001b[0m 5.921   \u001b[0m | \u001b[0m 174.8   \u001b[0m | \u001b[0m 15.04   \u001b[0m | \u001b[0m 0.5333  \u001b[0m |\n",
            "| \u001b[0m 163     \u001b[0m | \u001b[0m-1.233e+1\u001b[0m | \u001b[0m 0.5261  \u001b[0m | \u001b[0m 0.09379 \u001b[0m | \u001b[0m 9.844   \u001b[0m | \u001b[0m 7.246   \u001b[0m | \u001b[0m 369.7   \u001b[0m | \u001b[0m 12.69   \u001b[0m | \u001b[0m 0.8013  \u001b[0m |\n",
            "| \u001b[0m 164     \u001b[0m | \u001b[0m-1.177e+1\u001b[0m | \u001b[0m 0.8002  \u001b[0m | \u001b[0m 0.03106 \u001b[0m | \u001b[0m 9.476   \u001b[0m | \u001b[0m 1.428   \u001b[0m | \u001b[0m 835.4   \u001b[0m | \u001b[0m 6.505   \u001b[0m | \u001b[0m 0.9951  \u001b[0m |\n",
            "| \u001b[0m 165     \u001b[0m | \u001b[0m-1.241e+1\u001b[0m | \u001b[0m 0.5001  \u001b[0m | \u001b[0m 0.1688  \u001b[0m | \u001b[0m 5.162   \u001b[0m | \u001b[0m 8.06    \u001b[0m | \u001b[0m 701.3   \u001b[0m | \u001b[0m 15.58   \u001b[0m | \u001b[0m 0.6569  \u001b[0m |\n",
            "| \u001b[0m 166     \u001b[0m | \u001b[0m-1.149e+1\u001b[0m | \u001b[0m 0.5999  \u001b[0m | \u001b[0m 0.1108  \u001b[0m | \u001b[0m 4.709   \u001b[0m | \u001b[0m 8.297   \u001b[0m | \u001b[0m 89.89   \u001b[0m | \u001b[0m 9.439   \u001b[0m | \u001b[0m 0.5442  \u001b[0m |\n",
            "| \u001b[0m 167     \u001b[0m | \u001b[0m-1.377e+1\u001b[0m | \u001b[0m 0.9482  \u001b[0m | \u001b[0m 0.07806 \u001b[0m | \u001b[0m 5.924   \u001b[0m | \u001b[0m 2.695   \u001b[0m | \u001b[0m 24.65   \u001b[0m | \u001b[0m 8.408   \u001b[0m | \u001b[0m 0.8913  \u001b[0m |\n",
            "| \u001b[0m 168     \u001b[0m | \u001b[0m-1.247e+1\u001b[0m | \u001b[0m 0.6626  \u001b[0m | \u001b[0m 0.1098  \u001b[0m | \u001b[0m 6.061   \u001b[0m | \u001b[0m 6.042   \u001b[0m | \u001b[0m 625.2   \u001b[0m | \u001b[0m 11.2    \u001b[0m | \u001b[0m 0.8871  \u001b[0m |\n",
            "| \u001b[0m 169     \u001b[0m | \u001b[0m-1.293e+1\u001b[0m | \u001b[0m 0.542   \u001b[0m | \u001b[0m 0.1168  \u001b[0m | \u001b[0m 7.473   \u001b[0m | \u001b[0m 1.518   \u001b[0m | \u001b[0m 636.0   \u001b[0m | \u001b[0m 7.893   \u001b[0m | \u001b[0m 0.5994  \u001b[0m |\n",
            "| \u001b[0m 170     \u001b[0m | \u001b[0m-1.24e+12\u001b[0m | \u001b[0m 0.8173  \u001b[0m | \u001b[0m 0.1674  \u001b[0m | \u001b[0m 3.535   \u001b[0m | \u001b[0m 4.297   \u001b[0m | \u001b[0m 788.7   \u001b[0m | \u001b[0m 8.146   \u001b[0m | \u001b[0m 0.543   \u001b[0m |\n",
            "| \u001b[0m 171     \u001b[0m | \u001b[0m-1.207e+1\u001b[0m | \u001b[0m 0.5195  \u001b[0m | \u001b[0m 0.1178  \u001b[0m | \u001b[0m 5.174   \u001b[0m | \u001b[0m 6.47    \u001b[0m | \u001b[0m 178.5   \u001b[0m | \u001b[0m 4.949   \u001b[0m | \u001b[0m 0.9263  \u001b[0m |\n",
            "| \u001b[0m 172     \u001b[0m | \u001b[0m-1.214e+1\u001b[0m | \u001b[0m 0.7103  \u001b[0m | \u001b[0m 0.08362 \u001b[0m | \u001b[0m 6.179   \u001b[0m | \u001b[0m 3.257   \u001b[0m | \u001b[0m 813.7   \u001b[0m | \u001b[0m 12.36   \u001b[0m | \u001b[0m 0.9621  \u001b[0m |\n",
            "| \u001b[0m 173     \u001b[0m | \u001b[0m-3.207e+1\u001b[0m | \u001b[0m 0.9115  \u001b[0m | \u001b[0m 0.01517 \u001b[0m | \u001b[0m 5.113   \u001b[0m | \u001b[0m 2.597   \u001b[0m | \u001b[0m 23.29   \u001b[0m | \u001b[0m 8.732   \u001b[0m | \u001b[0m 0.973   \u001b[0m |\n",
            "| \u001b[0m 174     \u001b[0m | \u001b[0m-1.269e+1\u001b[0m | \u001b[0m 0.9959  \u001b[0m | \u001b[0m 0.07472 \u001b[0m | \u001b[0m 6.542   \u001b[0m | \u001b[0m 3.536   \u001b[0m | \u001b[0m 721.6   \u001b[0m | \u001b[0m 10.72   \u001b[0m | \u001b[0m 0.8311  \u001b[0m |\n",
            "| \u001b[0m 175     \u001b[0m | \u001b[0m-1.236e+1\u001b[0m | \u001b[0m 0.9239  \u001b[0m | \u001b[0m 0.1635  \u001b[0m | \u001b[0m 5.418   \u001b[0m | \u001b[0m 2.407   \u001b[0m | \u001b[0m 702.1   \u001b[0m | \u001b[0m 2.795   \u001b[0m | \u001b[0m 0.6112  \u001b[0m |\n",
            "| \u001b[0m 176     \u001b[0m | \u001b[0m-2.472e+1\u001b[0m | \u001b[0m 0.8676  \u001b[0m | \u001b[0m 0.007151\u001b[0m | \u001b[0m 3.581   \u001b[0m | \u001b[0m 3.83    \u001b[0m | \u001b[0m 88.67   \u001b[0m | \u001b[0m 8.429   \u001b[0m | \u001b[0m 0.7017  \u001b[0m |\n",
            "| \u001b[0m 177     \u001b[0m | \u001b[0m-1.248e+1\u001b[0m | \u001b[0m 0.7407  \u001b[0m | \u001b[0m 0.1765  \u001b[0m | \u001b[0m 5.291   \u001b[0m | \u001b[0m 4.955   \u001b[0m | \u001b[0m 573.4   \u001b[0m | \u001b[0m 12.97   \u001b[0m | \u001b[0m 0.8301  \u001b[0m |\n",
            "| \u001b[0m 178     \u001b[0m | \u001b[0m-1.219e+1\u001b[0m | \u001b[0m 0.7731  \u001b[0m | \u001b[0m 0.1821  \u001b[0m | \u001b[0m 5.411   \u001b[0m | \u001b[0m 6.49    \u001b[0m | \u001b[0m 868.8   \u001b[0m | \u001b[0m 3.723   \u001b[0m | \u001b[0m 0.8118  \u001b[0m |\n",
            "| \u001b[0m 179     \u001b[0m | \u001b[0m-1.218e+1\u001b[0m | \u001b[0m 0.8601  \u001b[0m | \u001b[0m 0.08854 \u001b[0m | \u001b[0m 3.513   \u001b[0m | \u001b[0m 4.875   \u001b[0m | \u001b[0m 898.0   \u001b[0m | \u001b[0m 12.56   \u001b[0m | \u001b[0m 0.6476  \u001b[0m |\n",
            "| \u001b[0m 180     \u001b[0m | \u001b[0m-1.174e+1\u001b[0m | \u001b[0m 0.5551  \u001b[0m | \u001b[0m 0.1363  \u001b[0m | \u001b[0m 6.605   \u001b[0m | \u001b[0m 9.194   \u001b[0m | \u001b[0m 196.6   \u001b[0m | \u001b[0m 5.432   \u001b[0m | \u001b[0m 0.5945  \u001b[0m |\n",
            "| \u001b[0m 181     \u001b[0m | \u001b[0m-1.234e+1\u001b[0m | \u001b[0m 0.775   \u001b[0m | \u001b[0m 0.09417 \u001b[0m | \u001b[0m 8.458   \u001b[0m | \u001b[0m 7.184   \u001b[0m | \u001b[0m 332.7   \u001b[0m | \u001b[0m 9.031   \u001b[0m | \u001b[0m 0.6744  \u001b[0m |\n",
            "| \u001b[0m 182     \u001b[0m | \u001b[0m-1.171e+1\u001b[0m | \u001b[0m 0.5535  \u001b[0m | \u001b[0m 0.02426 \u001b[0m | \u001b[0m 5.957   \u001b[0m | \u001b[0m 4.496   \u001b[0m | \u001b[0m 400.4   \u001b[0m | \u001b[0m 8.497   \u001b[0m | \u001b[0m 0.5047  \u001b[0m |\n",
            "| \u001b[0m 183     \u001b[0m | \u001b[0m-1.561e+1\u001b[0m | \u001b[0m 0.5229  \u001b[0m | \u001b[0m 0.06525 \u001b[0m | \u001b[0m 6.451   \u001b[0m | \u001b[0m 3.726   \u001b[0m | \u001b[0m 730.4   \u001b[0m | \u001b[0m 2.482   \u001b[0m | \u001b[0m 0.9428  \u001b[0m |\n",
            "| \u001b[0m 184     \u001b[0m | \u001b[0m-1.25e+12\u001b[0m | \u001b[0m 0.7009  \u001b[0m | \u001b[0m 0.1244  \u001b[0m | \u001b[0m 9.396   \u001b[0m | \u001b[0m 7.358   \u001b[0m | \u001b[0m 505.5   \u001b[0m | \u001b[0m 9.893   \u001b[0m | \u001b[0m 0.7993  \u001b[0m |\n",
            "| \u001b[0m 185     \u001b[0m | \u001b[0m-1.207e+1\u001b[0m | \u001b[0m 0.5414  \u001b[0m | \u001b[0m 0.1314  \u001b[0m | \u001b[0m 7.382   \u001b[0m | \u001b[0m 1.539   \u001b[0m | \u001b[0m 666.7   \u001b[0m | \u001b[0m 3.777   \u001b[0m | \u001b[0m 0.6091  \u001b[0m |\n",
            "| \u001b[0m 186     \u001b[0m | \u001b[0m-1.238e+1\u001b[0m | \u001b[0m 0.5701  \u001b[0m | \u001b[0m 0.1817  \u001b[0m | \u001b[0m 7.487   \u001b[0m | \u001b[0m 9.941   \u001b[0m | \u001b[0m 435.2   \u001b[0m | \u001b[0m 12.42   \u001b[0m | \u001b[0m 0.6541  \u001b[0m |\n",
            "| \u001b[0m 187     \u001b[0m | \u001b[0m-1.166e+1\u001b[0m | \u001b[0m 0.6289  \u001b[0m | \u001b[0m 0.04996 \u001b[0m | \u001b[0m 3.619   \u001b[0m | \u001b[0m 4.919   \u001b[0m | \u001b[0m 765.0   \u001b[0m | \u001b[0m 10.82   \u001b[0m | \u001b[0m 0.7301  \u001b[0m |\n",
            "| \u001b[0m 188     \u001b[0m | \u001b[0m-1.167e+1\u001b[0m | \u001b[0m 0.5701  \u001b[0m | \u001b[0m 0.01934 \u001b[0m | \u001b[0m 7.501   \u001b[0m | \u001b[0m 8.682   \u001b[0m | \u001b[0m 379.0   \u001b[0m | \u001b[0m 15.45   \u001b[0m | \u001b[0m 0.7449  \u001b[0m |\n",
            "| \u001b[0m 189     \u001b[0m | \u001b[0m-1.291e+1\u001b[0m | \u001b[0m 0.8087  \u001b[0m | \u001b[0m 0.1922  \u001b[0m | \u001b[0m 7.509   \u001b[0m | \u001b[0m 5.778   \u001b[0m | \u001b[0m 407.2   \u001b[0m | \u001b[0m 12.45   \u001b[0m | \u001b[0m 0.56    \u001b[0m |\n",
            "| \u001b[0m 190     \u001b[0m | \u001b[0m-1.371e+1\u001b[0m | \u001b[0m 0.5222  \u001b[0m | \u001b[0m 0.03937 \u001b[0m | \u001b[0m 5.061   \u001b[0m | \u001b[0m 4.038   \u001b[0m | \u001b[0m 61.83   \u001b[0m | \u001b[0m 13.73   \u001b[0m | \u001b[0m 0.7967  \u001b[0m |\n",
            "| \u001b[0m 191     \u001b[0m | \u001b[0m-1.267e+1\u001b[0m | \u001b[0m 0.9882  \u001b[0m | \u001b[0m 0.1766  \u001b[0m | \u001b[0m 8.698   \u001b[0m | \u001b[0m 1.237   \u001b[0m | \u001b[0m 663.5   \u001b[0m | \u001b[0m 6.787   \u001b[0m | \u001b[0m 0.8456  \u001b[0m |\n",
            "| \u001b[0m 192     \u001b[0m | \u001b[0m-1.252e+1\u001b[0m | \u001b[0m 0.9252  \u001b[0m | \u001b[0m 0.08329 \u001b[0m | \u001b[0m 6.615   \u001b[0m | \u001b[0m 3.416   \u001b[0m | \u001b[0m 563.5   \u001b[0m | \u001b[0m 9.929   \u001b[0m | \u001b[0m 0.5358  \u001b[0m |\n",
            "| \u001b[0m 193     \u001b[0m | \u001b[0m-1.197e+1\u001b[0m | \u001b[0m 0.8273  \u001b[0m | \u001b[0m 0.1085  \u001b[0m | \u001b[0m 9.676   \u001b[0m | \u001b[0m 8.727   \u001b[0m | \u001b[0m 474.8   \u001b[0m | \u001b[0m 7.331   \u001b[0m | \u001b[0m 0.7803  \u001b[0m |\n",
            "| \u001b[0m 194     \u001b[0m | \u001b[0m-1.195e+1\u001b[0m | \u001b[0m 0.6815  \u001b[0m | \u001b[0m 0.03891 \u001b[0m | \u001b[0m 8.331   \u001b[0m | \u001b[0m 4.888   \u001b[0m | \u001b[0m 978.2   \u001b[0m | \u001b[0m 5.698   \u001b[0m | \u001b[0m 0.8021  \u001b[0m |\n",
            "| \u001b[0m 195     \u001b[0m | \u001b[0m-1.247e+1\u001b[0m | \u001b[0m 0.7661  \u001b[0m | \u001b[0m 0.1346  \u001b[0m | \u001b[0m 8.766   \u001b[0m | \u001b[0m 8.084   \u001b[0m | \u001b[0m 392.9   \u001b[0m | \u001b[0m 14.81   \u001b[0m | \u001b[0m 0.7751  \u001b[0m |\n",
            "| \u001b[0m 196     \u001b[0m | \u001b[0m-1.282e+1\u001b[0m | \u001b[0m 0.9358  \u001b[0m | \u001b[0m 0.11    \u001b[0m | \u001b[0m 5.901   \u001b[0m | \u001b[0m 3.47    \u001b[0m | \u001b[0m 829.9   \u001b[0m | \u001b[0m 12.0    \u001b[0m | \u001b[0m 0.6155  \u001b[0m |\n",
            "| \u001b[0m 197     \u001b[0m | \u001b[0m-1.32e+12\u001b[0m | \u001b[0m 0.8914  \u001b[0m | \u001b[0m 0.005443\u001b[0m | \u001b[0m 7.913   \u001b[0m | \u001b[0m 7.307   \u001b[0m | \u001b[0m 427.9   \u001b[0m | \u001b[0m 7.385   \u001b[0m | \u001b[0m 0.7115  \u001b[0m |\n",
            "| \u001b[0m 198     \u001b[0m | \u001b[0m-1.144e+1\u001b[0m | \u001b[0m 0.8725  \u001b[0m | \u001b[0m 0.04256 \u001b[0m | \u001b[0m 5.258   \u001b[0m | \u001b[0m 5.711   \u001b[0m | \u001b[0m 184.7   \u001b[0m | \u001b[0m 15.21   \u001b[0m | \u001b[0m 0.8364  \u001b[0m |\n",
            "| \u001b[0m 199     \u001b[0m | \u001b[0m-1.237e+1\u001b[0m | \u001b[0m 0.6818  \u001b[0m | \u001b[0m 0.1252  \u001b[0m | \u001b[0m 5.497   \u001b[0m | \u001b[0m 6.314   \u001b[0m | \u001b[0m 810.7   \u001b[0m | \u001b[0m 14.77   \u001b[0m | \u001b[0m 0.9714  \u001b[0m |\n",
            "| \u001b[0m 200     \u001b[0m | \u001b[0m-1.319e+1\u001b[0m | \u001b[0m 0.8169  \u001b[0m | \u001b[0m 0.1434  \u001b[0m | \u001b[0m 7.022   \u001b[0m | \u001b[0m 9.731   \u001b[0m | \u001b[0m 790.5   \u001b[0m | \u001b[0m 15.9    \u001b[0m | \u001b[0m 0.6466  \u001b[0m |\n",
            "| \u001b[0m 201     \u001b[0m | \u001b[0m-1.267e+1\u001b[0m | \u001b[0m 0.5906  \u001b[0m | \u001b[0m 0.174   \u001b[0m | \u001b[0m 9.266   \u001b[0m | \u001b[0m 3.674   \u001b[0m | \u001b[0m 245.0   \u001b[0m | \u001b[0m 15.68   \u001b[0m | \u001b[0m 0.9168  \u001b[0m |\n",
            "| \u001b[0m 202     \u001b[0m | \u001b[0m-1.224e+1\u001b[0m | \u001b[0m 0.9769  \u001b[0m | \u001b[0m 0.04277 \u001b[0m | \u001b[0m 8.628   \u001b[0m | \u001b[0m 6.272   \u001b[0m | \u001b[0m 547.3   \u001b[0m | \u001b[0m 8.225   \u001b[0m | \u001b[0m 0.8356  \u001b[0m |\n",
            "| \u001b[0m 203     \u001b[0m | \u001b[0m-1.227e+1\u001b[0m | \u001b[0m 0.6652  \u001b[0m | \u001b[0m 0.1828  \u001b[0m | \u001b[0m 6.358   \u001b[0m | \u001b[0m 3.387   \u001b[0m | \u001b[0m 491.6   \u001b[0m | \u001b[0m 3.298   \u001b[0m | \u001b[0m 0.7027  \u001b[0m |\n",
            "| \u001b[0m 204     \u001b[0m | \u001b[0m-1.275e+1\u001b[0m | \u001b[0m 0.7435  \u001b[0m | \u001b[0m 0.1706  \u001b[0m | \u001b[0m 8.573   \u001b[0m | \u001b[0m 5.403   \u001b[0m | \u001b[0m 555.3   \u001b[0m | \u001b[0m 9.708   \u001b[0m | \u001b[0m 0.9607  \u001b[0m |\n",
            "| \u001b[0m 205     \u001b[0m | \u001b[0m-1.227e+1\u001b[0m | \u001b[0m 0.5017  \u001b[0m | \u001b[0m 0.1255  \u001b[0m | \u001b[0m 4.478   \u001b[0m | \u001b[0m 5.504   \u001b[0m | \u001b[0m 790.5   \u001b[0m | \u001b[0m 8.726   \u001b[0m | \u001b[0m 0.539   \u001b[0m |\n",
            "| \u001b[0m 206     \u001b[0m | \u001b[0m-1.216e+1\u001b[0m | \u001b[0m 0.8954  \u001b[0m | \u001b[0m 0.0993  \u001b[0m | \u001b[0m 7.486   \u001b[0m | \u001b[0m 9.304   \u001b[0m | \u001b[0m 459.7   \u001b[0m | \u001b[0m 3.291   \u001b[0m | \u001b[0m 0.6516  \u001b[0m |\n",
            "| \u001b[0m 207     \u001b[0m | \u001b[0m-1.165e+1\u001b[0m | \u001b[0m 0.9812  \u001b[0m | \u001b[0m 0.04678 \u001b[0m | \u001b[0m 3.066   \u001b[0m | \u001b[0m 7.265   \u001b[0m | \u001b[0m 890.9   \u001b[0m | \u001b[0m 5.469   \u001b[0m | \u001b[0m 0.676   \u001b[0m |\n",
            "| \u001b[0m 208     \u001b[0m | \u001b[0m-1.196e+1\u001b[0m | \u001b[0m 0.8712  \u001b[0m | \u001b[0m 0.1777  \u001b[0m | \u001b[0m 5.443   \u001b[0m | \u001b[0m 8.667   \u001b[0m | \u001b[0m 109.6   \u001b[0m | \u001b[0m 3.552   \u001b[0m | \u001b[0m 0.9683  \u001b[0m |\n",
            "| \u001b[0m 209     \u001b[0m | \u001b[0m-1.236e+1\u001b[0m | \u001b[0m 0.6849  \u001b[0m | \u001b[0m 0.1691  \u001b[0m | \u001b[0m 8.157   \u001b[0m | \u001b[0m 2.989   \u001b[0m | \u001b[0m 448.6   \u001b[0m | \u001b[0m 8.251   \u001b[0m | \u001b[0m 0.9882  \u001b[0m |\n",
            "| \u001b[0m 210     \u001b[0m | \u001b[0m-1.173e+1\u001b[0m | \u001b[0m 0.616   \u001b[0m | \u001b[0m 0.03717 \u001b[0m | \u001b[0m 8.014   \u001b[0m | \u001b[0m 1.521   \u001b[0m | \u001b[0m 577.5   \u001b[0m | \u001b[0m 13.09   \u001b[0m | \u001b[0m 0.7152  \u001b[0m |\n",
            "| \u001b[0m 211     \u001b[0m | \u001b[0m-1.211e+1\u001b[0m | \u001b[0m 0.6471  \u001b[0m | \u001b[0m 0.09141 \u001b[0m | \u001b[0m 9.659   \u001b[0m | \u001b[0m 9.461   \u001b[0m | \u001b[0m 629.4   \u001b[0m | \u001b[0m 10.24   \u001b[0m | \u001b[0m 0.9002  \u001b[0m |\n",
            "| \u001b[0m 212     \u001b[0m | \u001b[0m-1.185e+1\u001b[0m | \u001b[0m 0.8401  \u001b[0m | \u001b[0m 0.07872 \u001b[0m | \u001b[0m 3.302   \u001b[0m | \u001b[0m 7.206   \u001b[0m | \u001b[0m 545.2   \u001b[0m | \u001b[0m 15.23   \u001b[0m | \u001b[0m 0.5164  \u001b[0m |\n",
            "| \u001b[0m 213     \u001b[0m | \u001b[0m-1.279e+1\u001b[0m | \u001b[0m 0.5465  \u001b[0m | \u001b[0m 0.171   \u001b[0m | \u001b[0m 6.104   \u001b[0m | \u001b[0m 3.874   \u001b[0m | \u001b[0m 692.3   \u001b[0m | \u001b[0m 8.534   \u001b[0m | \u001b[0m 0.698   \u001b[0m |\n",
            "| \u001b[0m 214     \u001b[0m | \u001b[0m-1.291e+1\u001b[0m | \u001b[0m 0.8634  \u001b[0m | \u001b[0m 0.005368\u001b[0m | \u001b[0m 4.215   \u001b[0m | \u001b[0m 1.931   \u001b[0m | \u001b[0m 494.1   \u001b[0m | \u001b[0m 11.58   \u001b[0m | \u001b[0m 0.5898  \u001b[0m |\n",
            "| \u001b[0m 215     \u001b[0m | \u001b[0m-1.182e+1\u001b[0m | \u001b[0m 0.998   \u001b[0m | \u001b[0m 0.1297  \u001b[0m | \u001b[0m 9.0     \u001b[0m | \u001b[0m 4.067   \u001b[0m | \u001b[0m 47.7    \u001b[0m | \u001b[0m 15.65   \u001b[0m | \u001b[0m 0.5162  \u001b[0m |\n",
            "| \u001b[0m 216     \u001b[0m | \u001b[0m-1.2e+12 \u001b[0m | \u001b[0m 0.5995  \u001b[0m | \u001b[0m 0.1225  \u001b[0m | \u001b[0m 3.338   \u001b[0m | \u001b[0m 3.752   \u001b[0m | \u001b[0m 306.3   \u001b[0m | \u001b[0m 14.83   \u001b[0m | \u001b[0m 0.7838  \u001b[0m |\n",
            "| \u001b[0m 217     \u001b[0m | \u001b[0m-1.198e+1\u001b[0m | \u001b[0m 0.5226  \u001b[0m | \u001b[0m 0.1444  \u001b[0m | \u001b[0m 4.119   \u001b[0m | \u001b[0m 6.396   \u001b[0m | \u001b[0m 709.6   \u001b[0m | \u001b[0m 12.57   \u001b[0m | \u001b[0m 0.5175  \u001b[0m |\n",
            "| \u001b[0m 218     \u001b[0m | \u001b[0m-1.197e+1\u001b[0m | \u001b[0m 0.579   \u001b[0m | \u001b[0m 0.1982  \u001b[0m | \u001b[0m 7.317   \u001b[0m | \u001b[0m 9.737   \u001b[0m | \u001b[0m 93.02   \u001b[0m | \u001b[0m 15.59   \u001b[0m | \u001b[0m 0.5199  \u001b[0m |\n",
            "| \u001b[0m 219     \u001b[0m | \u001b[0m-1.241e+1\u001b[0m | \u001b[0m 0.6963  \u001b[0m | \u001b[0m 0.127   \u001b[0m | \u001b[0m 5.312   \u001b[0m | \u001b[0m 1.013   \u001b[0m | \u001b[0m 598.5   \u001b[0m | \u001b[0m 6.575   \u001b[0m | \u001b[0m 0.6025  \u001b[0m |\n",
            "| \u001b[0m 220     \u001b[0m | \u001b[0m-1.174e+1\u001b[0m | \u001b[0m 0.6964  \u001b[0m | \u001b[0m 0.1029  \u001b[0m | \u001b[0m 5.018   \u001b[0m | \u001b[0m 5.52    \u001b[0m | \u001b[0m 88.88   \u001b[0m | \u001b[0m 11.62   \u001b[0m | \u001b[0m 0.6696  \u001b[0m |\n",
            "=============================================================================================================\n"
          ],
          "name": "stdout"
        }
      ]
    },
    {
      "cell_type": "code",
      "metadata": {
        "colab": {
          "base_uri": "https://localhost:8080/"
        },
        "id": "mVZ2N5lX1OX1",
        "outputId": "5460a2e2-3390-4234-8287-1e9ce76ff531"
      },
      "source": [
        "BO_lgbm.max"
      ],
      "execution_count": null,
      "outputs": [
        {
          "output_type": "execute_result",
          "data": {
            "text/plain": [
              "{'params': {'colsample_bytree': 0.9784769098661572,\n",
              "  'learning_rate': 0.10295826820585378,\n",
              "  'max_depth': 9.146731767332108,\n",
              "  'min_child_weight': 8.377357732732193,\n",
              "  'n_estimators': 329.77257806454,\n",
              "  'num_leaves': 4.79737651153594,\n",
              "  'subsample': 0.8021435510801641},\n",
              " 'target': -1140889986642.2246}"
            ]
          },
          "metadata": {
            "tags": []
          },
          "execution_count": 81
        }
      ]
    },
    {
      "cell_type": "code",
      "metadata": {
        "id": "h2F6qBXJ1VQ5"
      },
      "source": [
        "params = BO_lgbm.max['params']\n",
        "params['max_depth'] = int(round(params['max_depth']))\n",
        "params['n_estimators'] = int(round(params['n_estimators']))\n",
        "params['num_leaves'] = int(round(params['num_leaves']))"
      ],
      "execution_count": null,
      "outputs": []
    },
    {
      "cell_type": "code",
      "metadata": {
        "id": "G0-r3iDb1rxr"
      },
      "source": [
        "final_lgb=lgb.LGBMRegressor(random_state=777, **params)\n",
        "final_lgb.fit(x_train, y_train)\n",
        "finallgb = show_test_data.copy()\n",
        "finallgb['num_off_box'] = final_lgb.predict(x_test)"
      ],
      "execution_count": null,
      "outputs": []
    },
    {
      "cell_type": "code",
      "metadata": {
        "colab": {
          "base_uri": "https://localhost:8080/"
        },
        "id": "FrPE8QL314Qq",
        "outputId": "ebf2f05d-c818-4bf9-cc45-6aa87a8b96d0"
      },
      "source": [
        "print('파라미터 조정후 lgb 모델의 Mean_Squared_Error = ', mean_squared_error(movie_data_test['num_off_box'], finallgb['num_off_box']))\n",
        "print('파라미터 조정후 lgb 모델의 RMSE = ',  mean_squared_error(movie_data_test['num_off_box'], finallgb['num_off_box'])**0.5)\n",
        "print(\"파라미터 조정후 lgb 모델의 결정계수 =\", r2_score(movie_data_test['num_off_box'], finallgb['num_off_box']))"
      ],
      "execution_count": null,
      "outputs": [
        {
          "output_type": "stream",
          "text": [
            "파라미터 조정후 lgb 모델의 Mean_Squared_Error =  563795811454.7695\n",
            "파라미터 조정후 lgb 모델의 RMSE =  750863.3773562069\n",
            "파라미터 조정후 lgb 모델의 결정계수 = 0.8141532734332506\n"
          ],
          "name": "stdout"
        }
      ]
    },
    {
      "cell_type": "markdown",
      "metadata": {
        "id": "Mcq0s14b85dE"
      },
      "source": [
        "#  GradientBoostingRegressor + BayesianOptimization\n",
        "\n"
      ]
    },
    {
      "cell_type": "code",
      "metadata": {
        "id": "W2sdA31Q9Dkd"
      },
      "source": [
        "pbounds = { 'learning_rate': (0.0005, 0.2),\n",
        "            'n_estimators': (10, 500),\n",
        "            'max_depth': (3,10),   \n",
        "            'subsample': (0.5,1), \n",
        "            'min_samples_split': (2,5),   \n",
        "            'min_samples_leaf': (1,5)}\n",
        "\n",
        "def gbm_opt(learning_rate, n_estimators, max_depth, subsample, min_samples_split, min_samples_leaf):\n",
        "\n",
        "    params = {\n",
        "        'learning_rate': learning_rate,\n",
        "        'n_estimators' : int(round(n_estimators)),\n",
        "        'max_depth' : int(round(max_depth)),\n",
        "        'subsample': subsample,\n",
        "        'min_samples_split' : int(round(min_samples_split)),\n",
        "        'min_samples_leaf' : int(round(min_samples_leaf))\n",
        "    }\n",
        "    \n",
        "    gbm = GradientBoostingRegressor(**params)\n",
        "    kf = KFold(n_splits = 5 , shuffle = True, random_state=50)\n",
        "    score = cross_val_score(gbm, x_train, y_train, scoring='neg_mean_squared_error', cv = kf, n_jobs=-1)\n",
        "    return np.mean(score)\n",
        "\n",
        "BO_gbm = BayesianOptimization(f = gbm_opt, pbounds = pbounds, random_state=0)    "
      ],
      "execution_count": null,
      "outputs": []
    },
    {
      "cell_type": "code",
      "metadata": {
        "colab": {
          "base_uri": "https://localhost:8080/"
        },
        "id": "JgMr51QD_dp1",
        "outputId": "cadd5366-1360-457c-9a52-e69556616eaf"
      },
      "source": [
        "BO_gbm.maximize(init_points = 10, n_iter = 200)"
      ],
      "execution_count": null,
      "outputs": [
        {
          "output_type": "stream",
          "text": [
            "|   iter    |  target   | learni... | max_depth | min_sa... | min_sa... | n_esti... | subsample |\n",
            "-------------------------------------------------------------------------------------------------\n",
            "| \u001b[0m 1       \u001b[0m | \u001b[0m-1.143e+1\u001b[0m | \u001b[0m 0.11    \u001b[0m | \u001b[0m 8.006   \u001b[0m | \u001b[0m 3.411   \u001b[0m | \u001b[0m 3.635   \u001b[0m | \u001b[0m 217.6   \u001b[0m | \u001b[0m 0.8229  \u001b[0m |\n",
            "| \u001b[95m 2       \u001b[0m | \u001b[95m-1.098e+1\u001b[0m | \u001b[95m 0.0878  \u001b[0m | \u001b[95m 9.242   \u001b[0m | \u001b[95m 4.855   \u001b[0m | \u001b[95m 3.15    \u001b[0m | \u001b[95m 397.9   \u001b[0m | \u001b[95m 0.7644  \u001b[0m |\n",
            "| \u001b[0m 3       \u001b[0m | \u001b[0m-1.39e+12\u001b[0m | \u001b[0m 0.1138  \u001b[0m | \u001b[0m 9.479   \u001b[0m | \u001b[0m 1.284   \u001b[0m | \u001b[0m 2.261   \u001b[0m | \u001b[0m 19.91   \u001b[0m | \u001b[0m 0.9163  \u001b[0m |\n",
            "| \u001b[0m 4       \u001b[0m | \u001b[0m-1.212e+1\u001b[0m | \u001b[0m 0.1557  \u001b[0m | \u001b[0m 9.09    \u001b[0m | \u001b[0m 4.914   \u001b[0m | \u001b[0m 4.397   \u001b[0m | \u001b[0m 236.1   \u001b[0m | \u001b[0m 0.8903  \u001b[0m |\n",
            "| \u001b[0m 5       \u001b[0m | \u001b[0m-1.144e+1\u001b[0m | \u001b[0m 0.0241  \u001b[0m | \u001b[0m 7.479   \u001b[0m | \u001b[0m 1.573   \u001b[0m | \u001b[0m 4.834   \u001b[0m | \u001b[0m 265.7   \u001b[0m | \u001b[0m 0.7073  \u001b[0m |\n",
            "| \u001b[0m 6       \u001b[0m | \u001b[0m-1.669e+1\u001b[0m | \u001b[0m 0.05328 \u001b[0m | \u001b[0m 8.42    \u001b[0m | \u001b[0m 2.825   \u001b[0m | \u001b[0m 3.705   \u001b[0m | \u001b[0m 19.21   \u001b[0m | \u001b[0m 0.8088  \u001b[0m |\n",
            "| \u001b[95m 7       \u001b[0m | \u001b[95m-1.083e+1\u001b[0m | \u001b[95m 0.1226  \u001b[0m | \u001b[95m 7.319   \u001b[0m | \u001b[95m 4.775   \u001b[0m | \u001b[95m 4.045   \u001b[0m | \u001b[95m 186.2   \u001b[0m | \u001b[95m 0.7185  \u001b[0m |\n",
            "| \u001b[0m 8       \u001b[0m | \u001b[0m-1.088e+1\u001b[0m | \u001b[0m 0.1397  \u001b[0m | \u001b[0m 3.422   \u001b[0m | \u001b[0m 3.667   \u001b[0m | \u001b[0m 4.012   \u001b[0m | \u001b[0m 113.1   \u001b[0m | \u001b[0m 0.5645  \u001b[0m |\n",
            "| \u001b[0m 9       \u001b[0m | \u001b[0m-1.113e+1\u001b[0m | \u001b[0m 0.06343 \u001b[0m | \u001b[0m 5.546   \u001b[0m | \u001b[0m 3.281   \u001b[0m | \u001b[0m 3.316   \u001b[0m | \u001b[0m 494.3   \u001b[0m | \u001b[0m 0.551   \u001b[0m |\n",
            "| \u001b[95m 10      \u001b[0m | \u001b[95m-1.047e+1\u001b[0m | \u001b[95m 0.04217 \u001b[0m | \u001b[95m 4.129   \u001b[0m | \u001b[95m 3.612   \u001b[0m | \u001b[95m 2.76    \u001b[0m | \u001b[95m 238.5   \u001b[0m | \u001b[95m 0.6222  \u001b[0m |\n",
            "| \u001b[95m 11      \u001b[0m | \u001b[95m-1.045e+1\u001b[0m | \u001b[95m 0.04202 \u001b[0m | \u001b[95m 4.123   \u001b[0m | \u001b[95m 3.611   \u001b[0m | \u001b[95m 2.758   \u001b[0m | \u001b[95m 238.5   \u001b[0m | \u001b[95m 0.6219  \u001b[0m |\n",
            "| \u001b[0m 12      \u001b[0m | \u001b[0m-1.138e+1\u001b[0m | \u001b[0m 0.197   \u001b[0m | \u001b[0m 3.843   \u001b[0m | \u001b[0m 3.785   \u001b[0m | \u001b[0m 3.883   \u001b[0m | \u001b[0m 112.7   \u001b[0m | \u001b[0m 0.8638  \u001b[0m |\n",
            "| \u001b[0m 13      \u001b[0m | \u001b[0m-1.165e+1\u001b[0m | \u001b[0m 0.1214  \u001b[0m | \u001b[0m 3.09    \u001b[0m | \u001b[0m 3.462   \u001b[0m | \u001b[0m 3.239   \u001b[0m | \u001b[0m 495.9   \u001b[0m | \u001b[0m 0.7121  \u001b[0m |\n",
            "| \u001b[0m 14      \u001b[0m | \u001b[0m-1.113e+1\u001b[0m | \u001b[0m 0.1153  \u001b[0m | \u001b[0m 3.315   \u001b[0m | \u001b[0m 3.974   \u001b[0m | \u001b[0m 4.375   \u001b[0m | \u001b[0m 112.8   \u001b[0m | \u001b[0m 0.5338  \u001b[0m |\n",
            "| \u001b[0m 15      \u001b[0m | \u001b[0m-1.089e+1\u001b[0m | \u001b[0m 0.127   \u001b[0m | \u001b[0m 5.291   \u001b[0m | \u001b[0m 3.264   \u001b[0m | \u001b[0m 3.034   \u001b[0m | \u001b[0m 494.7   \u001b[0m | \u001b[0m 0.6474  \u001b[0m |\n",
            "| \u001b[0m 16      \u001b[0m | \u001b[0m-1.176e+1\u001b[0m | \u001b[0m 0.08056 \u001b[0m | \u001b[0m 6.956   \u001b[0m | \u001b[0m 1.256   \u001b[0m | \u001b[0m 4.782   \u001b[0m | \u001b[0m 265.8   \u001b[0m | \u001b[0m 0.5698  \u001b[0m |\n",
            "| \u001b[0m 17      \u001b[0m | \u001b[0m-1.047e+1\u001b[0m | \u001b[0m 0.1258  \u001b[0m | \u001b[0m 3.731   \u001b[0m | \u001b[0m 3.215   \u001b[0m | \u001b[0m 4.084   \u001b[0m | \u001b[0m 113.2   \u001b[0m | \u001b[0m 0.6745  \u001b[0m |\n",
            "| \u001b[0m 18      \u001b[0m | \u001b[0m-1.227e+1\u001b[0m | \u001b[0m 0.1663  \u001b[0m | \u001b[0m 3.828   \u001b[0m | \u001b[0m 3.462   \u001b[0m | \u001b[0m 4.393   \u001b[0m | \u001b[0m 113.5   \u001b[0m | \u001b[0m 0.9439  \u001b[0m |\n",
            "| \u001b[0m 19      \u001b[0m | \u001b[0m-1.165e+1\u001b[0m | \u001b[0m 0.08486 \u001b[0m | \u001b[0m 5.396   \u001b[0m | \u001b[0m 3.307   \u001b[0m | \u001b[0m 3.01    \u001b[0m | \u001b[0m 494.2   \u001b[0m | \u001b[0m 0.7032  \u001b[0m |\n",
            "| \u001b[0m 20      \u001b[0m | \u001b[0m-1.098e+1\u001b[0m | \u001b[0m 0.06721 \u001b[0m | \u001b[0m 3.493   \u001b[0m | \u001b[0m 4.165   \u001b[0m | \u001b[0m 4.468   \u001b[0m | \u001b[0m 112.5   \u001b[0m | \u001b[0m 0.7147  \u001b[0m |\n",
            "| \u001b[0m 21      \u001b[0m | \u001b[0m-1.118e+1\u001b[0m | \u001b[0m 0.1378  \u001b[0m | \u001b[0m 3.218   \u001b[0m | \u001b[0m 3.722   \u001b[0m | \u001b[0m 4.386   \u001b[0m | \u001b[0m 112.9   \u001b[0m | \u001b[0m 0.7789  \u001b[0m |\n",
            "| \u001b[0m 22      \u001b[0m | \u001b[0m-1.117e+1\u001b[0m | \u001b[0m 0.02783 \u001b[0m | \u001b[0m 4.824   \u001b[0m | \u001b[0m 1.904   \u001b[0m | \u001b[0m 2.388   \u001b[0m | \u001b[0m 487.8   \u001b[0m | \u001b[0m 0.7801  \u001b[0m |\n",
            "| \u001b[0m 23      \u001b[0m | \u001b[0m-1.259e+1\u001b[0m | \u001b[0m 0.1853  \u001b[0m | \u001b[0m 6.743   \u001b[0m | \u001b[0m 2.394   \u001b[0m | \u001b[0m 3.676   \u001b[0m | \u001b[0m 142.9   \u001b[0m | \u001b[0m 0.9328  \u001b[0m |\n",
            "| \u001b[0m 24      \u001b[0m | \u001b[0m-1.196e+1\u001b[0m | \u001b[0m 0.07455 \u001b[0m | \u001b[0m 4.304   \u001b[0m | \u001b[0m 1.485   \u001b[0m | \u001b[0m 2.544   \u001b[0m | \u001b[0m 487.9   \u001b[0m | \u001b[0m 0.6981  \u001b[0m |\n",
            "| \u001b[95m 25      \u001b[0m | \u001b[95m-1.041e+1\u001b[0m | \u001b[95m 0.06449 \u001b[0m | \u001b[95m 3.299   \u001b[0m | \u001b[95m 4.475   \u001b[0m | \u001b[95m 3.165   \u001b[0m | \u001b[95m 236.9   \u001b[0m | \u001b[95m 0.6738  \u001b[0m |\n",
            "| \u001b[0m 26      \u001b[0m | \u001b[0m-1.133e+1\u001b[0m | \u001b[0m 0.1559  \u001b[0m | \u001b[0m 3.524   \u001b[0m | \u001b[0m 3.72    \u001b[0m | \u001b[0m 3.898   \u001b[0m | \u001b[0m 113.1   \u001b[0m | \u001b[0m 0.7501  \u001b[0m |\n",
            "| \u001b[0m 27      \u001b[0m | \u001b[0m-1.082e+1\u001b[0m | \u001b[0m 0.1293  \u001b[0m | \u001b[0m 3.14    \u001b[0m | \u001b[0m 4.729   \u001b[0m | \u001b[0m 3.356   \u001b[0m | \u001b[0m 237.1   \u001b[0m | \u001b[0m 0.6317  \u001b[0m |\n",
            "| \u001b[0m 28      \u001b[0m | \u001b[0m-1.25e+12\u001b[0m | \u001b[0m 0.1946  \u001b[0m | \u001b[0m 7.845   \u001b[0m | \u001b[0m 2.694   \u001b[0m | \u001b[0m 2.267   \u001b[0m | \u001b[0m 47.02   \u001b[0m | \u001b[0m 0.6782  \u001b[0m |\n",
            "| \u001b[0m 29      \u001b[0m | \u001b[0m-1.214e+1\u001b[0m | \u001b[0m 0.1051  \u001b[0m | \u001b[0m 9.536   \u001b[0m | \u001b[0m 1.799   \u001b[0m | \u001b[0m 2.7     \u001b[0m | \u001b[0m 441.4   \u001b[0m | \u001b[0m 0.7464  \u001b[0m |\n",
            "| \u001b[0m 30      \u001b[0m | \u001b[0m-1.152e+1\u001b[0m | \u001b[0m 0.04767 \u001b[0m | \u001b[0m 7.7     \u001b[0m | \u001b[0m 3.388   \u001b[0m | \u001b[0m 3.321   \u001b[0m | \u001b[0m 217.7   \u001b[0m | \u001b[0m 0.8128  \u001b[0m |\n",
            "| \u001b[0m 31      \u001b[0m | \u001b[0m-1.161e+1\u001b[0m | \u001b[0m 0.1963  \u001b[0m | \u001b[0m 3.148   \u001b[0m | \u001b[0m 4.441   \u001b[0m | \u001b[0m 4.215   \u001b[0m | \u001b[0m 237.1   \u001b[0m | \u001b[0m 0.616   \u001b[0m |\n",
            "| \u001b[0m 32      \u001b[0m | \u001b[0m-1.212e+1\u001b[0m | \u001b[0m 0.1787  \u001b[0m | \u001b[0m 5.829   \u001b[0m | \u001b[0m 2.82    \u001b[0m | \u001b[0m 3.667   \u001b[0m | \u001b[0m 494.8   \u001b[0m | \u001b[0m 0.6263  \u001b[0m |\n",
            "| \u001b[0m 33      \u001b[0m | \u001b[0m-4.819e+1\u001b[0m | \u001b[0m 0.000825\u001b[0m | \u001b[0m 8.086   \u001b[0m | \u001b[0m 3.76    \u001b[0m | \u001b[0m 4.818   \u001b[0m | \u001b[0m 13.51   \u001b[0m | \u001b[0m 0.864   \u001b[0m |\n",
            "| \u001b[0m 34      \u001b[0m | \u001b[0m-1.086e+1\u001b[0m | \u001b[0m 0.04017 \u001b[0m | \u001b[0m 3.939   \u001b[0m | \u001b[0m 3.397   \u001b[0m | \u001b[0m 2.751   \u001b[0m | \u001b[0m 238.6   \u001b[0m | \u001b[0m 0.6908  \u001b[0m |\n",
            "| \u001b[0m 35      \u001b[0m | \u001b[0m-1.164e+1\u001b[0m | \u001b[0m 0.03206 \u001b[0m | \u001b[0m 7.406   \u001b[0m | \u001b[0m 1.529   \u001b[0m | \u001b[0m 4.827   \u001b[0m | \u001b[0m 265.7   \u001b[0m | \u001b[0m 0.6879  \u001b[0m |\n",
            "| \u001b[0m 36      \u001b[0m | \u001b[0m-1.156e+1\u001b[0m | \u001b[0m 0.08798 \u001b[0m | \u001b[0m 7.898   \u001b[0m | \u001b[0m 3.403   \u001b[0m | \u001b[0m 3.524   \u001b[0m | \u001b[0m 217.6   \u001b[0m | \u001b[0m 0.8193  \u001b[0m |\n",
            "| \u001b[0m 37      \u001b[0m | \u001b[0m-1.151e+1\u001b[0m | \u001b[0m 0.1708  \u001b[0m | \u001b[0m 4.013   \u001b[0m | \u001b[0m 3.646   \u001b[0m | \u001b[0m 3.855   \u001b[0m | \u001b[0m 113.0   \u001b[0m | \u001b[0m 0.6207  \u001b[0m |\n",
            "| \u001b[0m 38      \u001b[0m | \u001b[0m-1.169e+1\u001b[0m | \u001b[0m 0.0878  \u001b[0m | \u001b[0m 9.242   \u001b[0m | \u001b[0m 4.855   \u001b[0m | \u001b[0m 3.15    \u001b[0m | \u001b[0m 397.9   \u001b[0m | \u001b[0m 0.7644  \u001b[0m |\n",
            "| \u001b[0m 39      \u001b[0m | \u001b[0m-1.066e+1\u001b[0m | \u001b[0m 0.07114 \u001b[0m | \u001b[0m 4.209   \u001b[0m | \u001b[0m 4.964   \u001b[0m | \u001b[0m 3.789   \u001b[0m | \u001b[0m 241.4   \u001b[0m | \u001b[0m 0.6568  \u001b[0m |\n",
            "| \u001b[0m 40      \u001b[0m | \u001b[0m-1.153e+1\u001b[0m | \u001b[0m 0.1824  \u001b[0m | \u001b[0m 7.296   \u001b[0m | \u001b[0m 2.854   \u001b[0m | \u001b[0m 4.157   \u001b[0m | \u001b[0m 467.0   \u001b[0m | \u001b[0m 0.8382  \u001b[0m |\n",
            "| \u001b[0m 41      \u001b[0m | \u001b[0m-1.23e+12\u001b[0m | \u001b[0m 0.1616  \u001b[0m | \u001b[0m 8.177   \u001b[0m | \u001b[0m 1.622   \u001b[0m | \u001b[0m 2.419   \u001b[0m | \u001b[0m 24.05   \u001b[0m | \u001b[0m 0.8858  \u001b[0m |\n",
            "| \u001b[0m 42      \u001b[0m | \u001b[0m-1.434e+1\u001b[0m | \u001b[0m 0.08501 \u001b[0m | \u001b[0m 8.233   \u001b[0m | \u001b[0m 1.133   \u001b[0m | \u001b[0m 2.476   \u001b[0m | \u001b[0m 92.63   \u001b[0m | \u001b[0m 0.9082  \u001b[0m |\n",
            "| \u001b[0m 43      \u001b[0m | \u001b[0m-1.18e+12\u001b[0m | \u001b[0m 0.01891 \u001b[0m | \u001b[0m 8.311   \u001b[0m | \u001b[0m 2.534   \u001b[0m | \u001b[0m 4.036   \u001b[0m | \u001b[0m 134.2   \u001b[0m | \u001b[0m 0.8149  \u001b[0m |\n",
            "| \u001b[0m 44      \u001b[0m | \u001b[0m-1.342e+1\u001b[0m | \u001b[0m 0.1771  \u001b[0m | \u001b[0m 9.285   \u001b[0m | \u001b[0m 2.347   \u001b[0m | \u001b[0m 4.719   \u001b[0m | \u001b[0m 300.9   \u001b[0m | \u001b[0m 0.5062  \u001b[0m |\n",
            "| \u001b[0m 45      \u001b[0m | \u001b[0m-1.167e+1\u001b[0m | \u001b[0m 0.09354 \u001b[0m | \u001b[0m 3.473   \u001b[0m | \u001b[0m 1.663   \u001b[0m | \u001b[0m 4.413   \u001b[0m | \u001b[0m 306.1   \u001b[0m | \u001b[0m 0.6133  \u001b[0m |\n",
            "| \u001b[0m 46      \u001b[0m | \u001b[0m-1.111e+1\u001b[0m | \u001b[0m 0.08117 \u001b[0m | \u001b[0m 5.995   \u001b[0m | \u001b[0m 1.712   \u001b[0m | \u001b[0m 2.126   \u001b[0m | \u001b[0m 342.9   \u001b[0m | \u001b[0m 0.7706  \u001b[0m |\n",
            "| \u001b[0m 47      \u001b[0m | \u001b[0m-1.296e+1\u001b[0m | \u001b[0m 0.1607  \u001b[0m | \u001b[0m 8.439   \u001b[0m | \u001b[0m 4.239   \u001b[0m | \u001b[0m 3.735   \u001b[0m | \u001b[0m 28.63   \u001b[0m | \u001b[0m 0.9714  \u001b[0m |\n",
            "| \u001b[0m 48      \u001b[0m | \u001b[0m-1.088e+1\u001b[0m | \u001b[0m 0.1509  \u001b[0m | \u001b[0m 6.203   \u001b[0m | \u001b[0m 4.283   \u001b[0m | \u001b[0m 2.931   \u001b[0m | \u001b[0m 220.4   \u001b[0m | \u001b[0m 0.723   \u001b[0m |\n",
            "| \u001b[0m 49      \u001b[0m | \u001b[0m-1.172e+1\u001b[0m | \u001b[0m 0.1467  \u001b[0m | \u001b[0m 5.139   \u001b[0m | \u001b[0m 3.196   \u001b[0m | \u001b[0m 2.909   \u001b[0m | \u001b[0m 314.0   \u001b[0m | \u001b[0m 0.521   \u001b[0m |\n",
            "| \u001b[0m 50      \u001b[0m | \u001b[0m-1.199e+1\u001b[0m | \u001b[0m 0.1987  \u001b[0m | \u001b[0m 8.235   \u001b[0m | \u001b[0m 3.556   \u001b[0m | \u001b[0m 3.837   \u001b[0m | \u001b[0m 244.0   \u001b[0m | \u001b[0m 0.7119  \u001b[0m |\n",
            "| \u001b[0m 51      \u001b[0m | \u001b[0m-1.246e+1\u001b[0m | \u001b[0m 0.1912  \u001b[0m | \u001b[0m 6.995   \u001b[0m | \u001b[0m 1.942   \u001b[0m | \u001b[0m 2.073   \u001b[0m | \u001b[0m 215.2   \u001b[0m | \u001b[0m 0.7539  \u001b[0m |\n",
            "| \u001b[0m 52      \u001b[0m | \u001b[0m-1.25e+12\u001b[0m | \u001b[0m 0.1804  \u001b[0m | \u001b[0m 7.136   \u001b[0m | \u001b[0m 3.098   \u001b[0m | \u001b[0m 3.439   \u001b[0m | \u001b[0m 405.4   \u001b[0m | \u001b[0m 0.9693  \u001b[0m |\n",
            "| \u001b[0m 53      \u001b[0m | \u001b[0m-1.184e+1\u001b[0m | \u001b[0m 0.01785 \u001b[0m | \u001b[0m 7.695   \u001b[0m | \u001b[0m 2.529   \u001b[0m | \u001b[0m 4.464   \u001b[0m | \u001b[0m 413.1   \u001b[0m | \u001b[0m 0.9266  \u001b[0m |\n",
            "| \u001b[0m 54      \u001b[0m | \u001b[0m-1.296e+1\u001b[0m | \u001b[0m 0.01301 \u001b[0m | \u001b[0m 6.911   \u001b[0m | \u001b[0m 1.494   \u001b[0m | \u001b[0m 4.334   \u001b[0m | \u001b[0m 413.9   \u001b[0m | \u001b[0m 0.8195  \u001b[0m |\n",
            "| \u001b[0m 55      \u001b[0m | \u001b[0m-1.171e+1\u001b[0m | \u001b[0m 0.09413 \u001b[0m | \u001b[0m 3.645   \u001b[0m | \u001b[0m 2.767   \u001b[0m | \u001b[0m 4.872   \u001b[0m | \u001b[0m 267.7   \u001b[0m | \u001b[0m 0.7509  \u001b[0m |\n",
            "| \u001b[0m 56      \u001b[0m | \u001b[0m-1.139e+1\u001b[0m | \u001b[0m 0.05339 \u001b[0m | \u001b[0m 5.48    \u001b[0m | \u001b[0m 3.479   \u001b[0m | \u001b[0m 3.439   \u001b[0m | \u001b[0m 427.4   \u001b[0m | \u001b[0m 0.8869  \u001b[0m |\n",
            "| \u001b[0m 57      \u001b[0m | \u001b[0m-1.126e+1\u001b[0m | \u001b[0m 0.09049 \u001b[0m | \u001b[0m 8.35    \u001b[0m | \u001b[0m 4.667   \u001b[0m | \u001b[0m 3.855   \u001b[0m | \u001b[0m 243.7   \u001b[0m | \u001b[0m 0.6121  \u001b[0m |\n",
            "| \u001b[0m 58      \u001b[0m | \u001b[0m-1.079e+1\u001b[0m | \u001b[0m 0.06054 \u001b[0m | \u001b[0m 8.092   \u001b[0m | \u001b[0m 4.586   \u001b[0m | \u001b[0m 2.942   \u001b[0m | \u001b[0m 359.8   \u001b[0m | \u001b[0m 0.6423  \u001b[0m |\n",
            "| \u001b[0m 59      \u001b[0m | \u001b[0m-1.266e+1\u001b[0m | \u001b[0m 0.1642  \u001b[0m | \u001b[0m 6.476   \u001b[0m | \u001b[0m 1.1     \u001b[0m | \u001b[0m 3.68    \u001b[0m | \u001b[0m 155.1   \u001b[0m | \u001b[0m 0.8884  \u001b[0m |\n",
            "| \u001b[0m 60      \u001b[0m | \u001b[0m-1.185e+1\u001b[0m | \u001b[0m 0.09861 \u001b[0m | \u001b[0m 9.048   \u001b[0m | \u001b[0m 2.786   \u001b[0m | \u001b[0m 3.764   \u001b[0m | \u001b[0m 312.5   \u001b[0m | \u001b[0m 0.8459  \u001b[0m |\n",
            "| \u001b[0m 61      \u001b[0m | \u001b[0m-1.085e+1\u001b[0m | \u001b[0m 0.1559  \u001b[0m | \u001b[0m 5.756   \u001b[0m | \u001b[0m 4.242   \u001b[0m | \u001b[0m 3.623   \u001b[0m | \u001b[0m 391.5   \u001b[0m | \u001b[0m 0.6235  \u001b[0m |\n",
            "| \u001b[0m 62      \u001b[0m | \u001b[0m-1.112e+1\u001b[0m | \u001b[0m 0.04106 \u001b[0m | \u001b[0m 3.486   \u001b[0m | \u001b[0m 4.987   \u001b[0m | \u001b[0m 2.342   \u001b[0m | \u001b[0m 489.2   \u001b[0m | \u001b[0m 0.9252  \u001b[0m |\n",
            "| \u001b[0m 63      \u001b[0m | \u001b[0m-1.144e+1\u001b[0m | \u001b[0m 0.09692 \u001b[0m | \u001b[0m 8.821   \u001b[0m | \u001b[0m 4.42    \u001b[0m | \u001b[0m 4.406   \u001b[0m | \u001b[0m 183.6   \u001b[0m | \u001b[0m 0.8536  \u001b[0m |\n",
            "| \u001b[0m 64      \u001b[0m | \u001b[0m-1.083e+1\u001b[0m | \u001b[0m 0.02491 \u001b[0m | \u001b[0m 5.067   \u001b[0m | \u001b[0m 3.424   \u001b[0m | \u001b[0m 2.61    \u001b[0m | \u001b[0m 353.7   \u001b[0m | \u001b[0m 0.8098  \u001b[0m |\n",
            "| \u001b[0m 65      \u001b[0m | \u001b[0m-1.142e+1\u001b[0m | \u001b[0m 0.08285 \u001b[0m | \u001b[0m 6.661   \u001b[0m | \u001b[0m 4.113   \u001b[0m | \u001b[0m 4.65    \u001b[0m | \u001b[0m 389.2   \u001b[0m | \u001b[0m 0.6872  \u001b[0m |\n",
            "| \u001b[0m 66      \u001b[0m | \u001b[0m-1.147e+1\u001b[0m | \u001b[0m 0.1337  \u001b[0m | \u001b[0m 4.882   \u001b[0m | \u001b[0m 2.104   \u001b[0m | \u001b[0m 3.273   \u001b[0m | \u001b[0m 52.35   \u001b[0m | \u001b[0m 0.5266  \u001b[0m |\n",
            "| \u001b[0m 67      \u001b[0m | \u001b[0m-1.129e+1\u001b[0m | \u001b[0m 0.0459  \u001b[0m | \u001b[0m 6.601   \u001b[0m | \u001b[0m 4.255   \u001b[0m | \u001b[0m 3.623   \u001b[0m | \u001b[0m 294.5   \u001b[0m | \u001b[0m 0.8942  \u001b[0m |\n",
            "| \u001b[0m 68      \u001b[0m | \u001b[0m-1.381e+1\u001b[0m | \u001b[0m 0.1936  \u001b[0m | \u001b[0m 7.206   \u001b[0m | \u001b[0m 1.123   \u001b[0m | \u001b[0m 4.094   \u001b[0m | \u001b[0m 132.6   \u001b[0m | \u001b[0m 0.835   \u001b[0m |\n",
            "| \u001b[0m 69      \u001b[0m | \u001b[0m-1.134e+1\u001b[0m | \u001b[0m 0.1222  \u001b[0m | \u001b[0m 5.137   \u001b[0m | \u001b[0m 3.719   \u001b[0m | \u001b[0m 2.165   \u001b[0m | \u001b[0m 288.8   \u001b[0m | \u001b[0m 0.6406  \u001b[0m |\n",
            "| \u001b[0m 70      \u001b[0m | \u001b[0m-1.114e+1\u001b[0m | \u001b[0m 0.06942 \u001b[0m | \u001b[0m 6.856   \u001b[0m | \u001b[0m 4.145   \u001b[0m | \u001b[0m 2.399   \u001b[0m | \u001b[0m 59.21   \u001b[0m | \u001b[0m 0.6592  \u001b[0m |\n",
            "| \u001b[0m 71      \u001b[0m | \u001b[0m-1.047e+1\u001b[0m | \u001b[0m 0.03226 \u001b[0m | \u001b[0m 4.76    \u001b[0m | \u001b[0m 3.778   \u001b[0m | \u001b[0m 3.664   \u001b[0m | \u001b[0m 129.6   \u001b[0m | \u001b[0m 0.6725  \u001b[0m |\n",
            "| \u001b[0m 72      \u001b[0m | \u001b[0m-1.28e+12\u001b[0m | \u001b[0m 0.1218  \u001b[0m | \u001b[0m 8.786   \u001b[0m | \u001b[0m 1.588   \u001b[0m | \u001b[0m 2.753   \u001b[0m | \u001b[0m 184.5   \u001b[0m | \u001b[0m 0.827   \u001b[0m |\n",
            "| \u001b[0m 73      \u001b[0m | \u001b[0m-1.732e+1\u001b[0m | \u001b[0m 0.06352 \u001b[0m | \u001b[0m 9.964   \u001b[0m | \u001b[0m 2.884   \u001b[0m | \u001b[0m 2.032   \u001b[0m | \u001b[0m 14.56   \u001b[0m | \u001b[0m 0.8752  \u001b[0m |\n",
            "| \u001b[0m 74      \u001b[0m | \u001b[0m-1.249e+1\u001b[0m | \u001b[0m 0.1402  \u001b[0m | \u001b[0m 9.26    \u001b[0m | \u001b[0m 3.513   \u001b[0m | \u001b[0m 4.284   \u001b[0m | \u001b[0m 437.4   \u001b[0m | \u001b[0m 0.5026  \u001b[0m |\n",
            "| \u001b[0m 75      \u001b[0m | \u001b[0m-1.14e+12\u001b[0m | \u001b[0m 0.03491 \u001b[0m | \u001b[0m 4.38    \u001b[0m | \u001b[0m 2.035   \u001b[0m | \u001b[0m 4.007   \u001b[0m | \u001b[0m 126.0   \u001b[0m | \u001b[0m 0.8893  \u001b[0m |\n",
            "| \u001b[0m 76      \u001b[0m | \u001b[0m-1.153e+1\u001b[0m | \u001b[0m 0.02174 \u001b[0m | \u001b[0m 9.87    \u001b[0m | \u001b[0m 2.177   \u001b[0m | \u001b[0m 4.894   \u001b[0m | \u001b[0m 355.8   \u001b[0m | \u001b[0m 0.6002  \u001b[0m |\n",
            "| \u001b[0m 77      \u001b[0m | \u001b[0m-1.23e+12\u001b[0m | \u001b[0m 0.09267 \u001b[0m | \u001b[0m 8.523   \u001b[0m | \u001b[0m 3.327   \u001b[0m | \u001b[0m 2.328   \u001b[0m | \u001b[0m 492.6   \u001b[0m | \u001b[0m 0.9128  \u001b[0m |\n",
            "| \u001b[0m 78      \u001b[0m | \u001b[0m-1.204e+1\u001b[0m | \u001b[0m 0.08413 \u001b[0m | \u001b[0m 4.186   \u001b[0m | \u001b[0m 1.494   \u001b[0m | \u001b[0m 3.151   \u001b[0m | \u001b[0m 476.6   \u001b[0m | \u001b[0m 0.7611  \u001b[0m |\n",
            "| \u001b[0m 79      \u001b[0m | \u001b[0m-1.154e+1\u001b[0m | \u001b[0m 0.1147  \u001b[0m | \u001b[0m 5.126   \u001b[0m | \u001b[0m 4.404   \u001b[0m | \u001b[0m 4.643   \u001b[0m | \u001b[0m 118.1   \u001b[0m | \u001b[0m 0.9325  \u001b[0m |\n",
            "| \u001b[0m 80      \u001b[0m | \u001b[0m-1.069e+1\u001b[0m | \u001b[0m 0.009599\u001b[0m | \u001b[0m 5.509   \u001b[0m | \u001b[0m 3.102   \u001b[0m | \u001b[0m 2.75    \u001b[0m | \u001b[0m 350.9   \u001b[0m | \u001b[0m 0.5494  \u001b[0m |\n",
            "| \u001b[0m 81      \u001b[0m | \u001b[0m-1.183e+1\u001b[0m | \u001b[0m 0.1454  \u001b[0m | \u001b[0m 3.864   \u001b[0m | \u001b[0m 4.651   \u001b[0m | \u001b[0m 3.381   \u001b[0m | \u001b[0m 148.6   \u001b[0m | \u001b[0m 0.5566  \u001b[0m |\n",
            "| \u001b[0m 82      \u001b[0m | \u001b[0m-1.346e+1\u001b[0m | \u001b[0m 0.01057 \u001b[0m | \u001b[0m 5.776   \u001b[0m | \u001b[0m 1.66    \u001b[0m | \u001b[0m 3.676   \u001b[0m | \u001b[0m 193.9   \u001b[0m | \u001b[0m 0.9685  \u001b[0m |\n",
            "| \u001b[0m 83      \u001b[0m | \u001b[0m-1.143e+1\u001b[0m | \u001b[0m 0.01892 \u001b[0m | \u001b[0m 6.378   \u001b[0m | \u001b[0m 4.166   \u001b[0m | \u001b[0m 4.828   \u001b[0m | \u001b[0m 243.4   \u001b[0m | \u001b[0m 0.8992  \u001b[0m |\n",
            "| \u001b[0m 84      \u001b[0m | \u001b[0m-3.174e+1\u001b[0m | \u001b[0m 0.004095\u001b[0m | \u001b[0m 4.339   \u001b[0m | \u001b[0m 3.67    \u001b[0m | \u001b[0m 2.621   \u001b[0m | \u001b[0m 79.14   \u001b[0m | \u001b[0m 0.9779  \u001b[0m |\n",
            "| \u001b[0m 85      \u001b[0m | \u001b[0m-1.136e+1\u001b[0m | \u001b[0m 0.0389  \u001b[0m | \u001b[0m 3.685   \u001b[0m | \u001b[0m 1.684   \u001b[0m | \u001b[0m 3.716   \u001b[0m | \u001b[0m 205.6   \u001b[0m | \u001b[0m 0.8974  \u001b[0m |\n",
            "| \u001b[0m 86      \u001b[0m | \u001b[0m-1.181e+1\u001b[0m | \u001b[0m 0.1472  \u001b[0m | \u001b[0m 3.569   \u001b[0m | \u001b[0m 2.039   \u001b[0m | \u001b[0m 3.762   \u001b[0m | \u001b[0m 256.7   \u001b[0m | \u001b[0m 0.9784  \u001b[0m |\n",
            "| \u001b[0m 87      \u001b[0m | \u001b[0m-1.133e+1\u001b[0m | \u001b[0m 0.1297  \u001b[0m | \u001b[0m 9.259   \u001b[0m | \u001b[0m 4.871   \u001b[0m | \u001b[0m 3.497   \u001b[0m | \u001b[0m 178.5   \u001b[0m | \u001b[0m 0.875   \u001b[0m |\n",
            "| \u001b[0m 88      \u001b[0m | \u001b[0m-1.185e+1\u001b[0m | \u001b[0m 0.06748 \u001b[0m | \u001b[0m 7.941   \u001b[0m | \u001b[0m 2.014   \u001b[0m | \u001b[0m 2.531   \u001b[0m | \u001b[0m 314.2   \u001b[0m | \u001b[0m 0.7272  \u001b[0m |\n",
            "| \u001b[0m 89      \u001b[0m | \u001b[0m-1.195e+1\u001b[0m | \u001b[0m 0.0752  \u001b[0m | \u001b[0m 8.273   \u001b[0m | \u001b[0m 3.387   \u001b[0m | \u001b[0m 2.395   \u001b[0m | \u001b[0m 469.6   \u001b[0m | \u001b[0m 0.804   \u001b[0m |\n",
            "| \u001b[0m 90      \u001b[0m | \u001b[0m-1.192e+1\u001b[0m | \u001b[0m 0.09083 \u001b[0m | \u001b[0m 7.632   \u001b[0m | \u001b[0m 3.388   \u001b[0m | \u001b[0m 4.381   \u001b[0m | \u001b[0m 352.4   \u001b[0m | \u001b[0m 0.8316  \u001b[0m |\n",
            "| \u001b[0m 91      \u001b[0m | \u001b[0m-1.205e+1\u001b[0m | \u001b[0m 0.1618  \u001b[0m | \u001b[0m 9.956   \u001b[0m | \u001b[0m 2.938   \u001b[0m | \u001b[0m 4.281   \u001b[0m | \u001b[0m 233.3   \u001b[0m | \u001b[0m 0.5292  \u001b[0m |\n",
            "| \u001b[0m 92      \u001b[0m | \u001b[0m-3.535e+1\u001b[0m | \u001b[0m 0.004292\u001b[0m | \u001b[0m 8.463   \u001b[0m | \u001b[0m 4.015   \u001b[0m | \u001b[0m 3.82    \u001b[0m | \u001b[0m 53.03   \u001b[0m | \u001b[0m 0.8469  \u001b[0m |\n",
            "| \u001b[0m 93      \u001b[0m | \u001b[0m-1.1e+12 \u001b[0m | \u001b[0m 0.06299 \u001b[0m | \u001b[0m 4.289   \u001b[0m | \u001b[0m 1.816   \u001b[0m | \u001b[0m 4.208   \u001b[0m | \u001b[0m 154.8   \u001b[0m | \u001b[0m 0.7993  \u001b[0m |\n",
            "| \u001b[0m 94      \u001b[0m | \u001b[0m-1.113e+1\u001b[0m | \u001b[0m 0.08672 \u001b[0m | \u001b[0m 3.683   \u001b[0m | \u001b[0m 1.658   \u001b[0m | \u001b[0m 4.59    \u001b[0m | \u001b[0m 227.8   \u001b[0m | \u001b[0m 0.6109  \u001b[0m |\n",
            "| \u001b[0m 95      \u001b[0m | \u001b[0m-1.185e+1\u001b[0m | \u001b[0m 0.1852  \u001b[0m | \u001b[0m 3.875   \u001b[0m | \u001b[0m 4.122   \u001b[0m | \u001b[0m 2.057   \u001b[0m | \u001b[0m 461.4   \u001b[0m | \u001b[0m 0.8209  \u001b[0m |\n",
            "| \u001b[0m 96      \u001b[0m | \u001b[0m-1.155e+1\u001b[0m | \u001b[0m 0.03055 \u001b[0m | \u001b[0m 5.813   \u001b[0m | \u001b[0m 1.141   \u001b[0m | \u001b[0m 3.406   \u001b[0m | \u001b[0m 382.1   \u001b[0m | \u001b[0m 0.5075  \u001b[0m |\n",
            "| \u001b[0m 97      \u001b[0m | \u001b[0m-1.143e+1\u001b[0m | \u001b[0m 0.1979  \u001b[0m | \u001b[0m 6.389   \u001b[0m | \u001b[0m 2.547   \u001b[0m | \u001b[0m 2.665   \u001b[0m | \u001b[0m 432.1   \u001b[0m | \u001b[0m 0.7773  \u001b[0m |\n",
            "| \u001b[0m 98      \u001b[0m | \u001b[0m-1.181e+1\u001b[0m | \u001b[0m 0.1449  \u001b[0m | \u001b[0m 5.657   \u001b[0m | \u001b[0m 2.388   \u001b[0m | \u001b[0m 2.53    \u001b[0m | \u001b[0m 497.7   \u001b[0m | \u001b[0m 0.8781  \u001b[0m |\n",
            "| \u001b[0m 99      \u001b[0m | \u001b[0m-1.1e+12 \u001b[0m | \u001b[0m 0.05888 \u001b[0m | \u001b[0m 8.643   \u001b[0m | \u001b[0m 4.737   \u001b[0m | \u001b[0m 4.188   \u001b[0m | \u001b[0m 359.4   \u001b[0m | \u001b[0m 0.7858  \u001b[0m |\n",
            "| \u001b[0m 100     \u001b[0m | \u001b[0m-1.139e+1\u001b[0m | \u001b[0m 0.1783  \u001b[0m | \u001b[0m 4.929   \u001b[0m | \u001b[0m 1.671   \u001b[0m | \u001b[0m 2.472   \u001b[0m | \u001b[0m 418.6   \u001b[0m | \u001b[0m 0.8386  \u001b[0m |\n",
            "| \u001b[0m 101     \u001b[0m | \u001b[0m-1.222e+1\u001b[0m | \u001b[0m 0.1575  \u001b[0m | \u001b[0m 7.043   \u001b[0m | \u001b[0m 1.925   \u001b[0m | \u001b[0m 2.256   \u001b[0m | \u001b[0m 382.9   \u001b[0m | \u001b[0m 0.5709  \u001b[0m |\n",
            "| \u001b[0m 102     \u001b[0m | \u001b[0m-1.445e+1\u001b[0m | \u001b[0m 0.1851  \u001b[0m | \u001b[0m 8.591   \u001b[0m | \u001b[0m 1.661   \u001b[0m | \u001b[0m 3.514   \u001b[0m | \u001b[0m 205.9   \u001b[0m | \u001b[0m 0.8894  \u001b[0m |\n",
            "| \u001b[0m 103     \u001b[0m | \u001b[0m-1.106e+1\u001b[0m | \u001b[0m 0.0204  \u001b[0m | \u001b[0m 4.09    \u001b[0m | \u001b[0m 2.715   \u001b[0m | \u001b[0m 2.497   \u001b[0m | \u001b[0m 222.5   \u001b[0m | \u001b[0m 0.6607  \u001b[0m |\n",
            "| \u001b[0m 104     \u001b[0m | \u001b[0m-1.261e+1\u001b[0m | \u001b[0m 0.09092 \u001b[0m | \u001b[0m 4.835   \u001b[0m | \u001b[0m 1.41    \u001b[0m | \u001b[0m 3.299   \u001b[0m | \u001b[0m 448.9   \u001b[0m | \u001b[0m 0.721   \u001b[0m |\n",
            "| \u001b[0m 105     \u001b[0m | \u001b[0m-1.238e+1\u001b[0m | \u001b[0m 0.09987 \u001b[0m | \u001b[0m 8.889   \u001b[0m | \u001b[0m 3.246   \u001b[0m | \u001b[0m 3.033   \u001b[0m | \u001b[0m 211.5   \u001b[0m | \u001b[0m 0.5792  \u001b[0m |\n",
            "| \u001b[0m 106     \u001b[0m | \u001b[0m-1.098e+1\u001b[0m | \u001b[0m 0.05002 \u001b[0m | \u001b[0m 9.245   \u001b[0m | \u001b[0m 4.8     \u001b[0m | \u001b[0m 4.116   \u001b[0m | \u001b[0m 78.53   \u001b[0m | \u001b[0m 0.6827  \u001b[0m |\n",
            "| \u001b[0m 107     \u001b[0m | \u001b[0m-1.144e+1\u001b[0m | \u001b[0m 0.04335 \u001b[0m | \u001b[0m 3.241   \u001b[0m | \u001b[0m 1.626   \u001b[0m | \u001b[0m 4.589   \u001b[0m | \u001b[0m 459.6   \u001b[0m | \u001b[0m 0.5544  \u001b[0m |\n",
            "| \u001b[0m 108     \u001b[0m | \u001b[0m-1.102e+1\u001b[0m | \u001b[0m 0.0461  \u001b[0m | \u001b[0m 6.445   \u001b[0m | \u001b[0m 4.953   \u001b[0m | \u001b[0m 2.642   \u001b[0m | \u001b[0m 99.89   \u001b[0m | \u001b[0m 0.7605  \u001b[0m |\n",
            "| \u001b[0m 109     \u001b[0m | \u001b[0m-2.055e+1\u001b[0m | \u001b[0m 0.00928 \u001b[0m | \u001b[0m 7.888   \u001b[0m | \u001b[0m 4.763   \u001b[0m | \u001b[0m 2.45    \u001b[0m | \u001b[0m 79.47   \u001b[0m | \u001b[0m 0.7801  \u001b[0m |\n",
            "| \u001b[0m 110     \u001b[0m | \u001b[0m-1.08e+12\u001b[0m | \u001b[0m 0.1405  \u001b[0m | \u001b[0m 4.24    \u001b[0m | \u001b[0m 3.973   \u001b[0m | \u001b[0m 3.565   \u001b[0m | \u001b[0m 148.6   \u001b[0m | \u001b[0m 0.6633  \u001b[0m |\n",
            "| \u001b[0m 111     \u001b[0m | \u001b[0m-1.376e+1\u001b[0m | \u001b[0m 0.1545  \u001b[0m | \u001b[0m 8.848   \u001b[0m | \u001b[0m 1.06    \u001b[0m | \u001b[0m 2.371   \u001b[0m | \u001b[0m 467.1   \u001b[0m | \u001b[0m 0.503   \u001b[0m |\n",
            "| \u001b[0m 112     \u001b[0m | \u001b[0m-1.141e+1\u001b[0m | \u001b[0m 0.1681  \u001b[0m | \u001b[0m 5.808   \u001b[0m | \u001b[0m 2.386   \u001b[0m | \u001b[0m 3.528   \u001b[0m | \u001b[0m 214.9   \u001b[0m | \u001b[0m 0.8809  \u001b[0m |\n",
            "| \u001b[0m 113     \u001b[0m | \u001b[0m-1.624e+1\u001b[0m | \u001b[0m 0.02832 \u001b[0m | \u001b[0m 7.253   \u001b[0m | \u001b[0m 3.96    \u001b[0m | \u001b[0m 4.915   \u001b[0m | \u001b[0m 39.7    \u001b[0m | \u001b[0m 0.9827  \u001b[0m |\n",
            "| \u001b[0m 114     \u001b[0m | \u001b[0m-1.18e+12\u001b[0m | \u001b[0m 0.02806 \u001b[0m | \u001b[0m 4.015   \u001b[0m | \u001b[0m 1.226   \u001b[0m | \u001b[0m 4.586   \u001b[0m | \u001b[0m 461.7   \u001b[0m | \u001b[0m 0.8001  \u001b[0m |\n",
            "| \u001b[0m 115     \u001b[0m | \u001b[0m-1.235e+1\u001b[0m | \u001b[0m 0.1234  \u001b[0m | \u001b[0m 4.808   \u001b[0m | \u001b[0m 3.056   \u001b[0m | \u001b[0m 2.537   \u001b[0m | \u001b[0m 37.35   \u001b[0m | \u001b[0m 0.8422  \u001b[0m |\n",
            "| \u001b[0m 116     \u001b[0m | \u001b[0m-1.097e+1\u001b[0m | \u001b[0m 0.02285 \u001b[0m | \u001b[0m 3.444   \u001b[0m | \u001b[0m 4.568   \u001b[0m | \u001b[0m 3.018   \u001b[0m | \u001b[0m 443.5   \u001b[0m | \u001b[0m 0.93    \u001b[0m |\n",
            "| \u001b[0m 117     \u001b[0m | \u001b[0m-1.289e+1\u001b[0m | \u001b[0m 0.1512  \u001b[0m | \u001b[0m 5.898   \u001b[0m | \u001b[0m 1.459   \u001b[0m | \u001b[0m 4.065   \u001b[0m | \u001b[0m 130.7   \u001b[0m | \u001b[0m 0.5076  \u001b[0m |\n",
            "| \u001b[0m 118     \u001b[0m | \u001b[0m-1.171e+1\u001b[0m | \u001b[0m 0.1016  \u001b[0m | \u001b[0m 3.038   \u001b[0m | \u001b[0m 1.565   \u001b[0m | \u001b[0m 3.945   \u001b[0m | \u001b[0m 296.8   \u001b[0m | \u001b[0m 0.98    \u001b[0m |\n",
            "| \u001b[0m 119     \u001b[0m | \u001b[0m-1.148e+1\u001b[0m | \u001b[0m 0.1275  \u001b[0m | \u001b[0m 4.041   \u001b[0m | \u001b[0m 2.614   \u001b[0m | \u001b[0m 3.719   \u001b[0m | \u001b[0m 382.9   \u001b[0m | \u001b[0m 0.8146  \u001b[0m |\n",
            "| \u001b[0m 120     \u001b[0m | \u001b[0m-1.243e+1\u001b[0m | \u001b[0m 0.1069  \u001b[0m | \u001b[0m 7.863   \u001b[0m | \u001b[0m 2.775   \u001b[0m | \u001b[0m 3.316   \u001b[0m | \u001b[0m 232.4   \u001b[0m | \u001b[0m 0.8407  \u001b[0m |\n",
            "| \u001b[0m 121     \u001b[0m | \u001b[0m-1.148e+1\u001b[0m | \u001b[0m 0.1957  \u001b[0m | \u001b[0m 7.288   \u001b[0m | \u001b[0m 2.816   \u001b[0m | \u001b[0m 4.006   \u001b[0m | \u001b[0m 142.8   \u001b[0m | \u001b[0m 0.9054  \u001b[0m |\n",
            "| \u001b[0m 122     \u001b[0m | \u001b[0m-1.268e+1\u001b[0m | \u001b[0m 0.1379  \u001b[0m | \u001b[0m 8.441   \u001b[0m | \u001b[0m 2.209   \u001b[0m | \u001b[0m 2.353   \u001b[0m | \u001b[0m 428.5   \u001b[0m | \u001b[0m 0.8536  \u001b[0m |\n",
            "| \u001b[95m 123     \u001b[0m | \u001b[95m-1.013e+1\u001b[0m | \u001b[95m 0.03159 \u001b[0m | \u001b[95m 3.613   \u001b[0m | \u001b[95m 4.919   \u001b[0m | \u001b[95m 3.22    \u001b[0m | \u001b[95m 277.4   \u001b[0m | \u001b[95m 0.6144  \u001b[0m |\n",
            "| \u001b[0m 124     \u001b[0m | \u001b[0m-1.132e+1\u001b[0m | \u001b[0m 0.1973  \u001b[0m | \u001b[0m 3.363   \u001b[0m | \u001b[0m 3.456   \u001b[0m | \u001b[0m 3.126   \u001b[0m | \u001b[0m 108.1   \u001b[0m | \u001b[0m 0.8978  \u001b[0m |\n",
            "| \u001b[0m 125     \u001b[0m | \u001b[0m-1.083e+1\u001b[0m | \u001b[0m 0.006629\u001b[0m | \u001b[0m 4.693   \u001b[0m | \u001b[0m 4.421   \u001b[0m | \u001b[0m 4.531   \u001b[0m | \u001b[0m 444.7   \u001b[0m | \u001b[0m 0.5605  \u001b[0m |\n",
            "| \u001b[0m 126     \u001b[0m | \u001b[0m-1.104e+1\u001b[0m | \u001b[0m 0.07544 \u001b[0m | \u001b[0m 7.176   \u001b[0m | \u001b[0m 1.529   \u001b[0m | \u001b[0m 3.834   \u001b[0m | \u001b[0m 378.8   \u001b[0m | \u001b[0m 0.5364  \u001b[0m |\n",
            "| \u001b[0m 127     \u001b[0m | \u001b[0m-1.067e+1\u001b[0m | \u001b[0m 0.1474  \u001b[0m | \u001b[0m 5.345   \u001b[0m | \u001b[0m 4.515   \u001b[0m | \u001b[0m 3.069   \u001b[0m | \u001b[0m 338.2   \u001b[0m | \u001b[0m 0.8476  \u001b[0m |\n",
            "| \u001b[0m 128     \u001b[0m | \u001b[0m-1.341e+1\u001b[0m | \u001b[0m 0.08904 \u001b[0m | \u001b[0m 6.947   \u001b[0m | \u001b[0m 1.293   \u001b[0m | \u001b[0m 3.906   \u001b[0m | \u001b[0m 37.78   \u001b[0m | \u001b[0m 0.936   \u001b[0m |\n",
            "| \u001b[0m 129     \u001b[0m | \u001b[0m-1.109e+1\u001b[0m | \u001b[0m 0.1884  \u001b[0m | \u001b[0m 4.159   \u001b[0m | \u001b[0m 4.968   \u001b[0m | \u001b[0m 2.66    \u001b[0m | \u001b[0m 275.6   \u001b[0m | \u001b[0m 0.9008  \u001b[0m |\n",
            "| \u001b[0m 130     \u001b[0m | \u001b[0m-1.151e+1\u001b[0m | \u001b[0m 0.1817  \u001b[0m | \u001b[0m 4.866   \u001b[0m | \u001b[0m 2.528   \u001b[0m | \u001b[0m 2.207   \u001b[0m | \u001b[0m 206.0   \u001b[0m | \u001b[0m 0.676   \u001b[0m |\n",
            "| \u001b[0m 131     \u001b[0m | \u001b[0m-1.208e+1\u001b[0m | \u001b[0m 0.06939 \u001b[0m | \u001b[0m 8.139   \u001b[0m | \u001b[0m 3.623   \u001b[0m | \u001b[0m 4.27    \u001b[0m | \u001b[0m 34.97   \u001b[0m | \u001b[0m 0.8691  \u001b[0m |\n",
            "| \u001b[0m 132     \u001b[0m | \u001b[0m-1.119e+1\u001b[0m | \u001b[0m 0.02836 \u001b[0m | \u001b[0m 7.987   \u001b[0m | \u001b[0m 3.043   \u001b[0m | \u001b[0m 4.698   \u001b[0m | \u001b[0m 240.9   \u001b[0m | \u001b[0m 0.711   \u001b[0m |\n",
            "| \u001b[0m 133     \u001b[0m | \u001b[0m-1.156e+1\u001b[0m | \u001b[0m 0.1197  \u001b[0m | \u001b[0m 5.223   \u001b[0m | \u001b[0m 3.431   \u001b[0m | \u001b[0m 4.563   \u001b[0m | \u001b[0m 425.7   \u001b[0m | \u001b[0m 0.6757  \u001b[0m |\n",
            "| \u001b[0m 134     \u001b[0m | \u001b[0m-1.199e+1\u001b[0m | \u001b[0m 0.1002  \u001b[0m | \u001b[0m 9.889   \u001b[0m | \u001b[0m 1.196   \u001b[0m | \u001b[0m 2.126   \u001b[0m | \u001b[0m 405.7   \u001b[0m | \u001b[0m 0.5017  \u001b[0m |\n",
            "| \u001b[0m 135     \u001b[0m | \u001b[0m-1.095e+1\u001b[0m | \u001b[0m 0.0558  \u001b[0m | \u001b[0m 8.58    \u001b[0m | \u001b[0m 3.666   \u001b[0m | \u001b[0m 3.046   \u001b[0m | \u001b[0m 364.2   \u001b[0m | \u001b[0m 0.5475  \u001b[0m |\n",
            "| \u001b[0m 136     \u001b[0m | \u001b[0m-1.09e+12\u001b[0m | \u001b[0m 0.08227 \u001b[0m | \u001b[0m 5.682   \u001b[0m | \u001b[0m 2.53    \u001b[0m | \u001b[0m 4.371   \u001b[0m | \u001b[0m 341.9   \u001b[0m | \u001b[0m 0.7093  \u001b[0m |\n",
            "| \u001b[0m 137     \u001b[0m | \u001b[0m-1.145e+1\u001b[0m | \u001b[0m 0.06875 \u001b[0m | \u001b[0m 8.201   \u001b[0m | \u001b[0m 3.717   \u001b[0m | \u001b[0m 2.149   \u001b[0m | \u001b[0m 191.8   \u001b[0m | \u001b[0m 0.9429  \u001b[0m |\n",
            "| \u001b[0m 138     \u001b[0m | \u001b[0m-1.12e+12\u001b[0m | \u001b[0m 0.1509  \u001b[0m | \u001b[0m 5.652   \u001b[0m | \u001b[0m 4.306   \u001b[0m | \u001b[0m 3.815   \u001b[0m | \u001b[0m 300.3   \u001b[0m | \u001b[0m 0.8523  \u001b[0m |\n",
            "| \u001b[0m 139     \u001b[0m | \u001b[0m-1.094e+1\u001b[0m | \u001b[0m 0.1533  \u001b[0m | \u001b[0m 6.243   \u001b[0m | \u001b[0m 3.605   \u001b[0m | \u001b[0m 3.165   \u001b[0m | \u001b[0m 312.2   \u001b[0m | \u001b[0m 0.7751  \u001b[0m |\n",
            "| \u001b[0m 140     \u001b[0m | \u001b[0m-1.242e+1\u001b[0m | \u001b[0m 0.1029  \u001b[0m | \u001b[0m 6.589   \u001b[0m | \u001b[0m 4.28    \u001b[0m | \u001b[0m 3.191   \u001b[0m | \u001b[0m 439.7   \u001b[0m | \u001b[0m 0.8067  \u001b[0m |\n",
            "| \u001b[0m 141     \u001b[0m | \u001b[0m-1.305e+1\u001b[0m | \u001b[0m 0.1499  \u001b[0m | \u001b[0m 7.477   \u001b[0m | \u001b[0m 1.096   \u001b[0m | \u001b[0m 2.262   \u001b[0m | \u001b[0m 356.9   \u001b[0m | \u001b[0m 0.7394  \u001b[0m |\n",
            "| \u001b[0m 142     \u001b[0m | \u001b[0m-1.137e+1\u001b[0m | \u001b[0m 0.1624  \u001b[0m | \u001b[0m 3.496   \u001b[0m | \u001b[0m 2.616   \u001b[0m | \u001b[0m 3.888   \u001b[0m | \u001b[0m 35.62   \u001b[0m | \u001b[0m 0.6291  \u001b[0m |\n",
            "| \u001b[0m 143     \u001b[0m | \u001b[0m-1.087e+1\u001b[0m | \u001b[0m 0.01918 \u001b[0m | \u001b[0m 9.263   \u001b[0m | \u001b[0m 4.925   \u001b[0m | \u001b[0m 2.974   \u001b[0m | \u001b[0m 335.3   \u001b[0m | \u001b[0m 0.7896  \u001b[0m |\n",
            "| \u001b[0m 144     \u001b[0m | \u001b[0m-1.1e+12 \u001b[0m | \u001b[0m 0.1193  \u001b[0m | \u001b[0m 6.05    \u001b[0m | \u001b[0m 2.854   \u001b[0m | \u001b[0m 3.217   \u001b[0m | \u001b[0m 75.44   \u001b[0m | \u001b[0m 0.8106  \u001b[0m |\n",
            "| \u001b[0m 145     \u001b[0m | \u001b[0m-1.108e+1\u001b[0m | \u001b[0m 0.02771 \u001b[0m | \u001b[0m 4.805   \u001b[0m | \u001b[0m 1.736   \u001b[0m | \u001b[0m 2.146   \u001b[0m | \u001b[0m 387.1   \u001b[0m | \u001b[0m 0.7398  \u001b[0m |\n",
            "| \u001b[0m 146     \u001b[0m | \u001b[0m-1.043e+1\u001b[0m | \u001b[0m 0.04408 \u001b[0m | \u001b[0m 4.916   \u001b[0m | \u001b[0m 4.291   \u001b[0m | \u001b[0m 2.136   \u001b[0m | \u001b[0m 357.9   \u001b[0m | \u001b[0m 0.7971  \u001b[0m |\n",
            "| \u001b[0m 147     \u001b[0m | \u001b[0m-1.268e+1\u001b[0m | \u001b[0m 0.1252  \u001b[0m | \u001b[0m 9.865   \u001b[0m | \u001b[0m 3.23    \u001b[0m | \u001b[0m 2.394   \u001b[0m | \u001b[0m 141.4   \u001b[0m | \u001b[0m 0.9959  \u001b[0m |\n",
            "| \u001b[0m 148     \u001b[0m | \u001b[0m-1.232e+1\u001b[0m | \u001b[0m 0.05474 \u001b[0m | \u001b[0m 4.86    \u001b[0m | \u001b[0m 1.582   \u001b[0m | \u001b[0m 4.955   \u001b[0m | \u001b[0m 124.7   \u001b[0m | \u001b[0m 0.9742  \u001b[0m |\n",
            "| \u001b[0m 149     \u001b[0m | \u001b[0m-1.073e+1\u001b[0m | \u001b[0m 0.008304\u001b[0m | \u001b[0m 6.977   \u001b[0m | \u001b[0m 4.525   \u001b[0m | \u001b[0m 3.042   \u001b[0m | \u001b[0m 437.8   \u001b[0m | \u001b[0m 0.5163  \u001b[0m |\n",
            "| \u001b[0m 150     \u001b[0m | \u001b[0m-1.165e+1\u001b[0m | \u001b[0m 0.1599  \u001b[0m | \u001b[0m 5.335   \u001b[0m | \u001b[0m 3.323   \u001b[0m | \u001b[0m 4.731   \u001b[0m | \u001b[0m 142.8   \u001b[0m | \u001b[0m 0.7315  \u001b[0m |\n",
            "| \u001b[0m 151     \u001b[0m | \u001b[0m-1.294e+1\u001b[0m | \u001b[0m 0.1256  \u001b[0m | \u001b[0m 9.992   \u001b[0m | \u001b[0m 1.625   \u001b[0m | \u001b[0m 4.743   \u001b[0m | \u001b[0m 456.0   \u001b[0m | \u001b[0m 0.9006  \u001b[0m |\n",
            "| \u001b[0m 152     \u001b[0m | \u001b[0m-1.22e+12\u001b[0m | \u001b[0m 0.1498  \u001b[0m | \u001b[0m 8.605   \u001b[0m | \u001b[0m 2.516   \u001b[0m | \u001b[0m 4.772   \u001b[0m | \u001b[0m 42.42   \u001b[0m | \u001b[0m 0.788   \u001b[0m |\n",
            "| \u001b[0m 153     \u001b[0m | \u001b[0m-1.182e+1\u001b[0m | \u001b[0m 0.07132 \u001b[0m | \u001b[0m 8.251   \u001b[0m | \u001b[0m 2.22    \u001b[0m | \u001b[0m 4.451   \u001b[0m | \u001b[0m 383.9   \u001b[0m | \u001b[0m 0.6368  \u001b[0m |\n",
            "| \u001b[0m 154     \u001b[0m | \u001b[0m-1.082e+1\u001b[0m | \u001b[0m 0.03777 \u001b[0m | \u001b[0m 7.792   \u001b[0m | \u001b[0m 2.865   \u001b[0m | \u001b[0m 2.391   \u001b[0m | \u001b[0m 220.1   \u001b[0m | \u001b[0m 0.5666  \u001b[0m |\n",
            "| \u001b[0m 155     \u001b[0m | \u001b[0m-1.24e+12\u001b[0m | \u001b[0m 0.1122  \u001b[0m | \u001b[0m 9.563   \u001b[0m | \u001b[0m 1.573   \u001b[0m | \u001b[0m 3.283   \u001b[0m | \u001b[0m 450.2   \u001b[0m | \u001b[0m 0.8696  \u001b[0m |\n",
            "| \u001b[0m 156     \u001b[0m | \u001b[0m-1.135e+1\u001b[0m | \u001b[0m 0.05222 \u001b[0m | \u001b[0m 6.612   \u001b[0m | \u001b[0m 4.021   \u001b[0m | \u001b[0m 2.393   \u001b[0m | \u001b[0m 77.86   \u001b[0m | \u001b[0m 0.795   \u001b[0m |\n",
            "| \u001b[0m 157     \u001b[0m | \u001b[0m-1.213e+1\u001b[0m | \u001b[0m 0.02501 \u001b[0m | \u001b[0m 9.707   \u001b[0m | \u001b[0m 4.203   \u001b[0m | \u001b[0m 4.504   \u001b[0m | \u001b[0m 80.2    \u001b[0m | \u001b[0m 0.7686  \u001b[0m |\n",
            "| \u001b[0m 158     \u001b[0m | \u001b[0m-1.116e+1\u001b[0m | \u001b[0m 0.06753 \u001b[0m | \u001b[0m 3.584   \u001b[0m | \u001b[0m 2.69    \u001b[0m | \u001b[0m 4.317   \u001b[0m | \u001b[0m 298.3   \u001b[0m | \u001b[0m 0.7961  \u001b[0m |\n",
            "| \u001b[0m 159     \u001b[0m | \u001b[0m-1.899e+1\u001b[0m | \u001b[0m 0.01005 \u001b[0m | \u001b[0m 4.092   \u001b[0m | \u001b[0m 2.19    \u001b[0m | \u001b[0m 3.28    \u001b[0m | \u001b[0m 88.76   \u001b[0m | \u001b[0m 0.7393  \u001b[0m |\n",
            "| \u001b[0m 160     \u001b[0m | \u001b[0m-1.083e+1\u001b[0m | \u001b[0m 0.1946  \u001b[0m | \u001b[0m 9.66    \u001b[0m | \u001b[0m 2.302   \u001b[0m | \u001b[0m 4.922   \u001b[0m | \u001b[0m 391.1   \u001b[0m | \u001b[0m 0.6102  \u001b[0m |\n",
            "| \u001b[0m 161     \u001b[0m | \u001b[0m-1.14e+12\u001b[0m | \u001b[0m 0.09005 \u001b[0m | \u001b[0m 6.052   \u001b[0m | \u001b[0m 1.807   \u001b[0m | \u001b[0m 3.911   \u001b[0m | \u001b[0m 402.0   \u001b[0m | \u001b[0m 0.8095  \u001b[0m |\n",
            "| \u001b[0m 162     \u001b[0m | \u001b[0m-1.23e+12\u001b[0m | \u001b[0m 0.01294 \u001b[0m | \u001b[0m 9.617   \u001b[0m | \u001b[0m 2.835   \u001b[0m | \u001b[0m 3.02    \u001b[0m | \u001b[0m 172.1   \u001b[0m | \u001b[0m 0.8488  \u001b[0m |\n",
            "| \u001b[0m 163     \u001b[0m | \u001b[0m-1.132e+1\u001b[0m | \u001b[0m 0.1988  \u001b[0m | \u001b[0m 5.275   \u001b[0m | \u001b[0m 4.821   \u001b[0m | \u001b[0m 3.488   \u001b[0m | \u001b[0m 377.6   \u001b[0m | \u001b[0m 0.593   \u001b[0m |\n",
            "| \u001b[0m 164     \u001b[0m | \u001b[0m-1.135e+1\u001b[0m | \u001b[0m 0.143   \u001b[0m | \u001b[0m 7.846   \u001b[0m | \u001b[0m 4.703   \u001b[0m | \u001b[0m 4.123   \u001b[0m | \u001b[0m 117.9   \u001b[0m | \u001b[0m 0.9686  \u001b[0m |\n",
            "| \u001b[0m 165     \u001b[0m | \u001b[0m-1.205e+1\u001b[0m | \u001b[0m 0.1662  \u001b[0m | \u001b[0m 5.47    \u001b[0m | \u001b[0m 3.595   \u001b[0m | \u001b[0m 2.236   \u001b[0m | \u001b[0m 66.22   \u001b[0m | \u001b[0m 0.802   \u001b[0m |\n",
            "| \u001b[0m 166     \u001b[0m | \u001b[0m-1.111e+1\u001b[0m | \u001b[0m 0.1426  \u001b[0m | \u001b[0m 7.581   \u001b[0m | \u001b[0m 3.23    \u001b[0m | \u001b[0m 2.983   \u001b[0m | \u001b[0m 398.2   \u001b[0m | \u001b[0m 0.5657  \u001b[0m |\n",
            "| \u001b[0m 167     \u001b[0m | \u001b[0m-1.048e+1\u001b[0m | \u001b[0m 0.04901 \u001b[0m | \u001b[0m 4.513   \u001b[0m | \u001b[0m 4.763   \u001b[0m | \u001b[0m 4.199   \u001b[0m | \u001b[0m 481.4   \u001b[0m | \u001b[0m 0.7978  \u001b[0m |\n",
            "| \u001b[0m 168     \u001b[0m | \u001b[0m-1.072e+1\u001b[0m | \u001b[0m 0.07924 \u001b[0m | \u001b[0m 3.934   \u001b[0m | \u001b[0m 2.673   \u001b[0m | \u001b[0m 3.88    \u001b[0m | \u001b[0m 348.0   \u001b[0m | \u001b[0m 0.8849  \u001b[0m |\n",
            "| \u001b[0m 169     \u001b[0m | \u001b[0m-1.397e+1\u001b[0m | \u001b[0m 0.1851  \u001b[0m | \u001b[0m 8.656   \u001b[0m | \u001b[0m 1.176   \u001b[0m | \u001b[0m 3.943   \u001b[0m | \u001b[0m 434.8   \u001b[0m | \u001b[0m 0.8311  \u001b[0m |\n",
            "| \u001b[0m 170     \u001b[0m | \u001b[0m-1.103e+1\u001b[0m | \u001b[0m 0.09411 \u001b[0m | \u001b[0m 4.124   \u001b[0m | \u001b[0m 2.358   \u001b[0m | \u001b[0m 3.499   \u001b[0m | \u001b[0m 67.63   \u001b[0m | \u001b[0m 0.8885  \u001b[0m |\n",
            "| \u001b[0m 171     \u001b[0m | \u001b[0m-2.641e+1\u001b[0m | \u001b[0m 0.001284\u001b[0m | \u001b[0m 7.312   \u001b[0m | \u001b[0m 1.754   \u001b[0m | \u001b[0m 2.143   \u001b[0m | \u001b[0m 364.6   \u001b[0m | \u001b[0m 0.7231  \u001b[0m |\n",
            "| \u001b[0m 172     \u001b[0m | \u001b[0m-1.053e+1\u001b[0m | \u001b[0m 0.1302  \u001b[0m | \u001b[0m 4.092   \u001b[0m | \u001b[0m 4.481   \u001b[0m | \u001b[0m 2.063   \u001b[0m | \u001b[0m 194.8   \u001b[0m | \u001b[0m 0.7738  \u001b[0m |\n",
            "| \u001b[0m 173     \u001b[0m | \u001b[0m-1.137e+1\u001b[0m | \u001b[0m 0.1681  \u001b[0m | \u001b[0m 4.538   \u001b[0m | \u001b[0m 4.554   \u001b[0m | \u001b[0m 4.993   \u001b[0m | \u001b[0m 173.8   \u001b[0m | \u001b[0m 0.8635  \u001b[0m |\n",
            "| \u001b[0m 174     \u001b[0m | \u001b[0m-1.209e+1\u001b[0m | \u001b[0m 0.1909  \u001b[0m | \u001b[0m 4.94    \u001b[0m | \u001b[0m 1.974   \u001b[0m | \u001b[0m 3.481   \u001b[0m | \u001b[0m 31.4    \u001b[0m | \u001b[0m 0.8117  \u001b[0m |\n",
            "| \u001b[0m 175     \u001b[0m | \u001b[0m-2.588e+1\u001b[0m | \u001b[0m 0.003177\u001b[0m | \u001b[0m 6.108   \u001b[0m | \u001b[0m 4.205   \u001b[0m | \u001b[0m 3.62    \u001b[0m | \u001b[0m 155.8   \u001b[0m | \u001b[0m 0.645   \u001b[0m |\n",
            "| \u001b[0m 176     \u001b[0m | \u001b[0m-1.151e+1\u001b[0m | \u001b[0m 0.05126 \u001b[0m | \u001b[0m 9.726   \u001b[0m | \u001b[0m 2.785   \u001b[0m | \u001b[0m 2.212   \u001b[0m | \u001b[0m 177.4   \u001b[0m | \u001b[0m 0.7384  \u001b[0m |\n",
            "| \u001b[0m 177     \u001b[0m | \u001b[0m-1.22e+12\u001b[0m | \u001b[0m 0.1699  \u001b[0m | \u001b[0m 5.034   \u001b[0m | \u001b[0m 3.482   \u001b[0m | \u001b[0m 4.721   \u001b[0m | \u001b[0m 300.5   \u001b[0m | \u001b[0m 0.5744  \u001b[0m |\n",
            "| \u001b[0m 178     \u001b[0m | \u001b[0m-1.175e+1\u001b[0m | \u001b[0m 0.109   \u001b[0m | \u001b[0m 7.802   \u001b[0m | \u001b[0m 2.698   \u001b[0m | \u001b[0m 3.986   \u001b[0m | \u001b[0m 118.2   \u001b[0m | \u001b[0m 0.9195  \u001b[0m |\n",
            "| \u001b[0m 179     \u001b[0m | \u001b[0m-1.105e+1\u001b[0m | \u001b[0m 0.0557  \u001b[0m | \u001b[0m 7.433   \u001b[0m | \u001b[0m 3.027   \u001b[0m | \u001b[0m 4.769   \u001b[0m | \u001b[0m 320.9   \u001b[0m | \u001b[0m 0.6151  \u001b[0m |\n",
            "| \u001b[0m 180     \u001b[0m | \u001b[0m-1.87e+12\u001b[0m | \u001b[0m 0.003607\u001b[0m | \u001b[0m 3.061   \u001b[0m | \u001b[0m 1.821   \u001b[0m | \u001b[0m 3.062   \u001b[0m | \u001b[0m 279.4   \u001b[0m | \u001b[0m 0.8848  \u001b[0m |\n",
            "| \u001b[0m 181     \u001b[0m | \u001b[0m-1.241e+1\u001b[0m | \u001b[0m 0.1051  \u001b[0m | \u001b[0m 5.64    \u001b[0m | \u001b[0m 1.598   \u001b[0m | \u001b[0m 2.589   \u001b[0m | \u001b[0m 240.7   \u001b[0m | \u001b[0m 0.5219  \u001b[0m |\n",
            "| \u001b[0m 182     \u001b[0m | \u001b[0m-1.135e+1\u001b[0m | \u001b[0m 0.194   \u001b[0m | \u001b[0m 6.763   \u001b[0m | \u001b[0m 4.947   \u001b[0m | \u001b[0m 4.047   \u001b[0m | \u001b[0m 37.23   \u001b[0m | \u001b[0m 0.9675  \u001b[0m |\n",
            "| \u001b[0m 183     \u001b[0m | \u001b[0m-1.12e+12\u001b[0m | \u001b[0m 0.1387  \u001b[0m | \u001b[0m 7.258   \u001b[0m | \u001b[0m 2.817   \u001b[0m | \u001b[0m 3.222   \u001b[0m | \u001b[0m 96.41   \u001b[0m | \u001b[0m 0.6621  \u001b[0m |\n",
            "| \u001b[0m 184     \u001b[0m | \u001b[0m-1.215e+1\u001b[0m | \u001b[0m 0.09009 \u001b[0m | \u001b[0m 5.605   \u001b[0m | \u001b[0m 1.099   \u001b[0m | \u001b[0m 3.687   \u001b[0m | \u001b[0m 428.9   \u001b[0m | \u001b[0m 0.5393  \u001b[0m |\n",
            "| \u001b[0m 185     \u001b[0m | \u001b[0m-2.543e+1\u001b[0m | \u001b[0m 0.005284\u001b[0m | \u001b[0m 7.351   \u001b[0m | \u001b[0m 1.767   \u001b[0m | \u001b[0m 3.15    \u001b[0m | \u001b[0m 96.07   \u001b[0m | \u001b[0m 0.7711  \u001b[0m |\n",
            "| \u001b[0m 186     \u001b[0m | \u001b[0m-1.154e+1\u001b[0m | \u001b[0m 0.07499 \u001b[0m | \u001b[0m 8.091   \u001b[0m | \u001b[0m 4.514   \u001b[0m | \u001b[0m 4.686   \u001b[0m | \u001b[0m 98.7    \u001b[0m | \u001b[0m 0.9847  \u001b[0m |\n",
            "| \u001b[0m 187     \u001b[0m | \u001b[0m-1.067e+1\u001b[0m | \u001b[0m 0.1374  \u001b[0m | \u001b[0m 4.795   \u001b[0m | \u001b[0m 4.819   \u001b[0m | \u001b[0m 4.7     \u001b[0m | \u001b[0m 288.2   \u001b[0m | \u001b[0m 0.9694  \u001b[0m |\n",
            "| \u001b[0m 188     \u001b[0m | \u001b[0m-1.252e+1\u001b[0m | \u001b[0m 0.1486  \u001b[0m | \u001b[0m 9.519   \u001b[0m | \u001b[0m 3.073   \u001b[0m | \u001b[0m 4.628   \u001b[0m | \u001b[0m 387.3   \u001b[0m | \u001b[0m 0.9567  \u001b[0m |\n",
            "| \u001b[0m 189     \u001b[0m | \u001b[0m-1.059e+1\u001b[0m | \u001b[0m 0.01829 \u001b[0m | \u001b[0m 5.563   \u001b[0m | \u001b[0m 4.586   \u001b[0m | \u001b[0m 4.263   \u001b[0m | \u001b[0m 297.7   \u001b[0m | \u001b[0m 0.5378  \u001b[0m |\n",
            "| \u001b[0m 190     \u001b[0m | \u001b[0m-1.215e+1\u001b[0m | \u001b[0m 0.008055\u001b[0m | \u001b[0m 9.857   \u001b[0m | \u001b[0m 3.77    \u001b[0m | \u001b[0m 2.974   \u001b[0m | \u001b[0m 227.9   \u001b[0m | \u001b[0m 0.6137  \u001b[0m |\n",
            "| \u001b[0m 191     \u001b[0m | \u001b[0m-1.135e+1\u001b[0m | \u001b[0m 0.03358 \u001b[0m | \u001b[0m 4.298   \u001b[0m | \u001b[0m 2.14    \u001b[0m | \u001b[0m 3.09    \u001b[0m | \u001b[0m 202.7   \u001b[0m | \u001b[0m 0.9599  \u001b[0m |\n",
            "| \u001b[0m 192     \u001b[0m | \u001b[0m-1.708e+1\u001b[0m | \u001b[0m 0.07261 \u001b[0m | \u001b[0m 9.84    \u001b[0m | \u001b[0m 2.521   \u001b[0m | \u001b[0m 3.64    \u001b[0m | \u001b[0m 12.89   \u001b[0m | \u001b[0m 0.6437  \u001b[0m |\n",
            "| \u001b[0m 193     \u001b[0m | \u001b[0m-1.14e+12\u001b[0m | \u001b[0m 0.1252  \u001b[0m | \u001b[0m 6.437   \u001b[0m | \u001b[0m 2.682   \u001b[0m | \u001b[0m 2.25    \u001b[0m | \u001b[0m 95.78   \u001b[0m | \u001b[0m 0.506   \u001b[0m |\n",
            "| \u001b[0m 194     \u001b[0m | \u001b[0m-1.1e+12 \u001b[0m | \u001b[0m 0.07618 \u001b[0m | \u001b[0m 3.839   \u001b[0m | \u001b[0m 3.425   \u001b[0m | \u001b[0m 4.822   \u001b[0m | \u001b[0m 481.2   \u001b[0m | \u001b[0m 0.541   \u001b[0m |\n",
            "| \u001b[0m 195     \u001b[0m | \u001b[0m-1.155e+1\u001b[0m | \u001b[0m 0.1451  \u001b[0m | \u001b[0m 9.089   \u001b[0m | \u001b[0m 3.676   \u001b[0m | \u001b[0m 3.747   \u001b[0m | \u001b[0m 439.5   \u001b[0m | \u001b[0m 0.5653  \u001b[0m |\n",
            "| \u001b[0m 196     \u001b[0m | \u001b[0m-1.132e+1\u001b[0m | \u001b[0m 0.183   \u001b[0m | \u001b[0m 7.055   \u001b[0m | \u001b[0m 4.964   \u001b[0m | \u001b[0m 2.517   \u001b[0m | \u001b[0m 323.9   \u001b[0m | \u001b[0m 0.841   \u001b[0m |\n",
            "| \u001b[0m 197     \u001b[0m | \u001b[0m-1.076e+1\u001b[0m | \u001b[0m 0.04028 \u001b[0m | \u001b[0m 5.02    \u001b[0m | \u001b[0m 1.712   \u001b[0m | \u001b[0m 3.872   \u001b[0m | \u001b[0m 486.7   \u001b[0m | \u001b[0m 0.6282  \u001b[0m |\n",
            "| \u001b[0m 198     \u001b[0m | \u001b[0m-1.174e+1\u001b[0m | \u001b[0m 0.02703 \u001b[0m | \u001b[0m 5.613   \u001b[0m | \u001b[0m 1.084   \u001b[0m | \u001b[0m 4.702   \u001b[0m | \u001b[0m 194.0   \u001b[0m | \u001b[0m 0.6711  \u001b[0m |\n",
            "| \u001b[0m 199     \u001b[0m | \u001b[0m-1.098e+1\u001b[0m | \u001b[0m 0.1768  \u001b[0m | \u001b[0m 8.426   \u001b[0m | \u001b[0m 4.42    \u001b[0m | \u001b[0m 2.018   \u001b[0m | \u001b[0m 353.9   \u001b[0m | \u001b[0m 0.5797  \u001b[0m |\n",
            "| \u001b[0m 200     \u001b[0m | \u001b[0m-1.272e+1\u001b[0m | \u001b[0m 0.1759  \u001b[0m | \u001b[0m 4.003   \u001b[0m | \u001b[0m 1.13    \u001b[0m | \u001b[0m 4.94    \u001b[0m | \u001b[0m 386.3   \u001b[0m | \u001b[0m 0.9537  \u001b[0m |\n",
            "| \u001b[0m 201     \u001b[0m | \u001b[0m-1.096e+1\u001b[0m | \u001b[0m 0.07099 \u001b[0m | \u001b[0m 6.689   \u001b[0m | \u001b[0m 2.21    \u001b[0m | \u001b[0m 3.125   \u001b[0m | \u001b[0m 458.6   \u001b[0m | \u001b[0m 0.6943  \u001b[0m |\n",
            "| \u001b[0m 202     \u001b[0m | \u001b[0m-1.222e+1\u001b[0m | \u001b[0m 0.1684  \u001b[0m | \u001b[0m 6.419   \u001b[0m | \u001b[0m 4.23    \u001b[0m | \u001b[0m 2.751   \u001b[0m | \u001b[0m 214.6   \u001b[0m | \u001b[0m 0.5214  \u001b[0m |\n",
            "| \u001b[0m 203     \u001b[0m | \u001b[0m-1.059e+1\u001b[0m | \u001b[0m 0.02652 \u001b[0m | \u001b[0m 6.864   \u001b[0m | \u001b[0m 4.709   \u001b[0m | \u001b[0m 4.747   \u001b[0m | \u001b[0m 493.7   \u001b[0m | \u001b[0m 0.719   \u001b[0m |\n",
            "| \u001b[0m 204     \u001b[0m | \u001b[0m-1.183e+1\u001b[0m | \u001b[0m 0.1044  \u001b[0m | \u001b[0m 3.605   \u001b[0m | \u001b[0m 2.56    \u001b[0m | \u001b[0m 2.767   \u001b[0m | \u001b[0m 297.8   \u001b[0m | \u001b[0m 0.8107  \u001b[0m |\n",
            "| \u001b[0m 205     \u001b[0m | \u001b[0m-1.243e+1\u001b[0m | \u001b[0m 0.1531  \u001b[0m | \u001b[0m 9.202   \u001b[0m | \u001b[0m 1.74    \u001b[0m | \u001b[0m 4.948   \u001b[0m | \u001b[0m 347.7   \u001b[0m | \u001b[0m 0.817   \u001b[0m |\n",
            "| \u001b[0m 206     \u001b[0m | \u001b[0m-1.229e+1\u001b[0m | \u001b[0m 0.01105 \u001b[0m | \u001b[0m 8.707   \u001b[0m | \u001b[0m 1.618   \u001b[0m | \u001b[0m 4.484   \u001b[0m | \u001b[0m 376.1   \u001b[0m | \u001b[0m 0.8298  \u001b[0m |\n",
            "| \u001b[0m 207     \u001b[0m | \u001b[0m-1.168e+1\u001b[0m | \u001b[0m 0.05421 \u001b[0m | \u001b[0m 7.452   \u001b[0m | \u001b[0m 4.281   \u001b[0m | \u001b[0m 4.37    \u001b[0m | \u001b[0m 38.86   \u001b[0m | \u001b[0m 0.7141  \u001b[0m |\n",
            "| \u001b[0m 208     \u001b[0m | \u001b[0m-1.27e+12\u001b[0m | \u001b[0m 0.00503 \u001b[0m | \u001b[0m 7.319   \u001b[0m | \u001b[0m 2.769   \u001b[0m | \u001b[0m 2.587   \u001b[0m | \u001b[0m 444.3   \u001b[0m | \u001b[0m 0.9587  \u001b[0m |\n",
            "| \u001b[0m 209     \u001b[0m | \u001b[0m-1.15e+12\u001b[0m | \u001b[0m 0.07622 \u001b[0m | \u001b[0m 4.666   \u001b[0m | \u001b[0m 1.562   \u001b[0m | \u001b[0m 2.458   \u001b[0m | \u001b[0m 402.5   \u001b[0m | \u001b[0m 0.8491  \u001b[0m |\n",
            "| \u001b[0m 210     \u001b[0m | \u001b[0m-1.201e+1\u001b[0m | \u001b[0m 0.07174 \u001b[0m | \u001b[0m 7.774   \u001b[0m | \u001b[0m 1.689   \u001b[0m | \u001b[0m 2.786   \u001b[0m | \u001b[0m 445.2   \u001b[0m | \u001b[0m 0.7523  \u001b[0m |\n",
            "=================================================================================================\n"
          ],
          "name": "stdout"
        }
      ]
    },
    {
      "cell_type": "code",
      "metadata": {
        "colab": {
          "base_uri": "https://localhost:8080/"
        },
        "id": "UaeEyu9p_1gJ",
        "outputId": "988cf2e7-0e72-46f9-d2db-31354d0fa7d1"
      },
      "source": [
        "BO_gbm.max"
      ],
      "execution_count": null,
      "outputs": [
        {
          "output_type": "execute_result",
          "data": {
            "text/plain": [
              "{'params': {'learning_rate': 0.03158986939094904,\n",
              "  'max_depth': 3.6131504608677165,\n",
              "  'min_samples_leaf': 4.918618629655731,\n",
              "  'min_samples_split': 3.2197912591343947,\n",
              "  'n_estimators': 277.3933369274961,\n",
              "  'subsample': 0.6143632145589148},\n",
              " 'target': -1012743108226.8542}"
            ]
          },
          "metadata": {
            "tags": []
          },
          "execution_count": 89
        }
      ]
    },
    {
      "cell_type": "code",
      "metadata": {
        "id": "vLXifNNl_9YN"
      },
      "source": [
        "params = BO_gbm.max['params']\n",
        "params['max_depth'] = int(round(params['max_depth']))\n",
        "params['n_estimators'] = int(round(params['n_estimators']))\n",
        "params['min_samples_leaf'] = int(round(params['min_samples_leaf']))\n",
        "params['min_samples_split'] = int(round(params['min_samples_split']))"
      ],
      "execution_count": null,
      "outputs": []
    },
    {
      "cell_type": "code",
      "metadata": {
        "id": "KqP821bKADLK",
        "colab": {
          "base_uri": "https://localhost:8080/"
        },
        "outputId": "08eda835-69af-42a1-c336-ea03beca834c"
      },
      "source": [
        "gbm = GradientBoostingRegressor(random_state = 777, **params)\n",
        "gbm.fit(x_train, y_train)\n",
        "finalgbm = show_test_data.copy()\n",
        "finalgbm['num_off_box'] = gbm.predict(x_test)"
      ],
      "execution_count": null,
      "outputs": [
        {
          "output_type": "stream",
          "text": [
            "/usr/local/lib/python3.6/dist-packages/sklearn/ensemble/_gb.py:1454: DataConversionWarning: A column-vector y was passed when a 1d array was expected. Please change the shape of y to (n_samples, ), for example using ravel().\n",
            "  y = column_or_1d(y, warn=True)\n"
          ],
          "name": "stderr"
        }
      ]
    },
    {
      "cell_type": "code",
      "metadata": {
        "colab": {
          "base_uri": "https://localhost:8080/"
        },
        "id": "6yWUQnFYPL6k",
        "outputId": "bf0be11b-327a-49ab-e548-ac00a41ea7d8"
      },
      "source": [
        "print('파라미터 조정후 lgb 모델의 Mean_Squared_Error = ', mean_squared_error(movie_data_test['num_off_box'], finalgbm['num_off_box']))\n",
        "print('파라미터 조정후 lgb 모델의 RMSE = ',  mean_squared_error(movie_data_test['num_off_box'], finalgbm['num_off_box'])**0.5)\n",
        "print(\"파라미터 조정후 lgb 모델의 결정계수 =\", r2_score(movie_data_test['num_off_box'], finalgbm['num_off_box']))"
      ],
      "execution_count": null,
      "outputs": [
        {
          "output_type": "stream",
          "text": [
            "파라미터 조정후 lgb 모델의 Mean_Squared_Error =  446983901043.1852\n",
            "파라미터 조정후 lgb 모델의 RMSE =  668568.5462562423\n",
            "파라미터 조정후 lgb 모델의 결정계수 = 0.8526585456132355\n"
          ],
          "name": "stdout"
        }
      ]
    },
    {
      "cell_type": "code",
      "metadata": {
        "colab": {
          "base_uri": "https://localhost:8080/",
          "height": 419
        },
        "id": "eTkDDEVyADB-",
        "outputId": "aa3a635b-bb2b-4cc6-d3b0-33a1489e4529"
      },
      "source": [
        "finalgbm"
      ],
      "execution_count": null,
      "outputs": [
        {
          "output_type": "execute_result",
          "data": {
            "text/html": [
              "<div>\n",
              "<style scoped>\n",
              "    .dataframe tbody tr th:only-of-type {\n",
              "        vertical-align: middle;\n",
              "    }\n",
              "\n",
              "    .dataframe tbody tr th {\n",
              "        vertical-align: top;\n",
              "    }\n",
              "\n",
              "    .dataframe thead th {\n",
              "        text-align: right;\n",
              "    }\n",
              "</style>\n",
              "<table border=\"1\" class=\"dataframe\">\n",
              "  <thead>\n",
              "    <tr style=\"text-align: right;\">\n",
              "      <th></th>\n",
              "      <th>title</th>\n",
              "      <th>genre</th>\n",
              "      <th>national</th>\n",
              "      <th>num_off_box</th>\n",
              "    </tr>\n",
              "  </thead>\n",
              "  <tbody>\n",
              "    <tr>\n",
              "      <th>0</th>\n",
              "      <td>메이즈 러너: 스코치 트라이얼</td>\n",
              "      <td>action</td>\n",
              "      <td>America</td>\n",
              "      <td>2.462176e+06</td>\n",
              "    </tr>\n",
              "    <tr>\n",
              "      <th>1</th>\n",
              "      <td>극장판 프리파라 모두의 동경♪ 렛츠고☆프리파리</td>\n",
              "      <td>animation</td>\n",
              "      <td>Japan</td>\n",
              "      <td>1.111005e+05</td>\n",
              "    </tr>\n",
              "    <tr>\n",
              "      <th>2</th>\n",
              "      <td>스타워즈: 깨어난 포스</td>\n",
              "      <td>action</td>\n",
              "      <td>America</td>\n",
              "      <td>2.291186e+06</td>\n",
              "    </tr>\n",
              "    <tr>\n",
              "      <th>3</th>\n",
              "      <td>약장수</td>\n",
              "      <td>dramas</td>\n",
              "      <td>SouthKorea</td>\n",
              "      <td>1.120689e+05</td>\n",
              "    </tr>\n",
              "    <tr>\n",
              "      <th>4</th>\n",
              "      <td>헝거게임: 캣칭 파이어</td>\n",
              "      <td>fantasy</td>\n",
              "      <td>America</td>\n",
              "      <td>1.939796e+06</td>\n",
              "    </tr>\n",
              "    <tr>\n",
              "      <th>...</th>\n",
              "      <td>...</td>\n",
              "      <td>...</td>\n",
              "      <td>...</td>\n",
              "      <td>...</td>\n",
              "    </tr>\n",
              "    <tr>\n",
              "      <th>260</th>\n",
              "      <td>범죄도시</td>\n",
              "      <td>crime</td>\n",
              "      <td>SouthKorea</td>\n",
              "      <td>9.994803e+06</td>\n",
              "    </tr>\n",
              "    <tr>\n",
              "      <th>261</th>\n",
              "      <td>빅뱅 메이드</td>\n",
              "      <td>documentry</td>\n",
              "      <td>SouthKorea</td>\n",
              "      <td>9.203135e+04</td>\n",
              "    </tr>\n",
              "    <tr>\n",
              "      <th>262</th>\n",
              "      <td>그레이의 50가지 그림자</td>\n",
              "      <td>dramas</td>\n",
              "      <td>America</td>\n",
              "      <td>5.017723e+05</td>\n",
              "    </tr>\n",
              "    <tr>\n",
              "      <th>263</th>\n",
              "      <td>블랙 팬서</td>\n",
              "      <td>action</td>\n",
              "      <td>America</td>\n",
              "      <td>4.760556e+06</td>\n",
              "    </tr>\n",
              "    <tr>\n",
              "      <th>264</th>\n",
              "      <td>마이 리틀 히어로</td>\n",
              "      <td>dramas</td>\n",
              "      <td>SouthKorea</td>\n",
              "      <td>2.745356e+05</td>\n",
              "    </tr>\n",
              "  </tbody>\n",
              "</table>\n",
              "<p>265 rows × 4 columns</p>\n",
              "</div>"
            ],
            "text/plain": [
              "                         title       genre    national   num_off_box\n",
              "0             메이즈 러너: 스코치 트라이얼      action     America  2.462176e+06\n",
              "1    극장판 프리파라 모두의 동경♪ 렛츠고☆프리파리   animation       Japan  1.111005e+05\n",
              "2                 스타워즈: 깨어난 포스      action     America  2.291186e+06\n",
              "3                          약장수      dramas  SouthKorea  1.120689e+05\n",
              "4                 헝거게임: 캣칭 파이어     fantasy     America  1.939796e+06\n",
              "..                         ...         ...         ...           ...\n",
              "260                       범죄도시       crime  SouthKorea  9.994803e+06\n",
              "261                     빅뱅 메이드  documentry  SouthKorea  9.203135e+04\n",
              "262              그레이의 50가지 그림자      dramas     America  5.017723e+05\n",
              "263                      블랙 팬서      action     America  4.760556e+06\n",
              "264                  마이 리틀 히어로      dramas  SouthKorea  2.745356e+05\n",
              "\n",
              "[265 rows x 4 columns]"
            ]
          },
          "metadata": {
            "tags": []
          },
          "execution_count": 153
        }
      ]
    },
    {
      "cell_type": "code",
      "metadata": {
        "colab": {
          "base_uri": "https://localhost:8080/"
        },
        "id": "z4zSFGZDrcnS",
        "outputId": "8fbf9d40-49c3-43b7-b3a2-7fd640e0bc8b"
      },
      "source": [
        "print(gbm)\n",
        "print(final_lgb)\n",
        "print(final_xgb)\n",
        "print(model_rf)"
      ],
      "execution_count": null,
      "outputs": [
        {
          "output_type": "stream",
          "text": [
            "GradientBoostingRegressor(alpha=0.9, ccp_alpha=0.0, criterion='friedman_mse',\n",
            "                          init=None, learning_rate=0.03158986939094904,\n",
            "                          loss='ls', max_depth=4, max_features=None,\n",
            "                          max_leaf_nodes=None, min_impurity_decrease=0.0,\n",
            "                          min_impurity_split=None, min_samples_leaf=5,\n",
            "                          min_samples_split=3, min_weight_fraction_leaf=0.0,\n",
            "                          n_estimators=277, n_iter_no_change=None,\n",
            "                          presort='deprecated', random_state=777,\n",
            "                          subsample=0.6143632145589148, tol=0.0001,\n",
            "                          validation_fraction=0.1, verbose=0, warm_start=False)\n",
            "LGBMRegressor(boosting_type='gbdt', class_weight=None,\n",
            "              colsample_bytree=0.9784769098661572, importance_type='split',\n",
            "              learning_rate=0.10295826820585378, max_depth=9,\n",
            "              min_child_samples=20, min_child_weight=8.377357732732193,\n",
            "              min_split_gain=0.0, n_estimators=330, n_jobs=-1, num_leaves=5,\n",
            "              objective=None, random_state=777, reg_alpha=0.0, reg_lambda=0.0,\n",
            "              silent=True, subsample=0.8021435510801641,\n",
            "              subsample_for_bin=200000, subsample_freq=0)\n",
            "XGBRegressor(base_score=0.5, booster='gbtree', colsample_bylevel=1,\n",
            "             colsample_bynode=1, colsample_bytree=0.7622323087547037,\n",
            "             gamma=4.668891654884576, importance_type='gain',\n",
            "             learning_rate=0.0799426516186475, max_delta_step=0, max_depth=5,\n",
            "             min_child_weight=1, missing=None, n_estimators=882, n_jobs=1,\n",
            "             nthread=None, objective='reg:linear', random_state=777,\n",
            "             reg_alpha=0, reg_lambda=1, scale_pos_weight=1, seed=None,\n",
            "             silent=None, subsample=0.7463609410494453, verbosity=1)\n",
            "RandomForestRegressor(bootstrap=True, ccp_alpha=0.0, criterion='mse',\n",
            "                      max_depth=None, max_features='auto', max_leaf_nodes=None,\n",
            "                      max_samples=None, min_impurity_decrease=0.0,\n",
            "                      min_impurity_split=None, min_samples_leaf=1,\n",
            "                      min_samples_split=2, min_weight_fraction_leaf=0.0,\n",
            "                      n_estimators=1000, n_jobs=None, oob_score=False,\n",
            "                      random_state=777, verbose=0, warm_start=False)\n"
          ],
          "name": "stdout"
        }
      ]
    },
    {
      "cell_type": "code",
      "metadata": {
        "id": "etxLhxTd9pCR"
      },
      "source": [
        "final_model= show_test_data.copy()"
      ],
      "execution_count": null,
      "outputs": []
    },
    {
      "cell_type": "code",
      "metadata": {
        "id": "5jizFQX196-5"
      },
      "source": [
        "final_model['num_off_box']=(gbm.predict(x_test)+final_lgb.predict(x_test)+final_xgb.predict(x_test)+model_rf.predict(x_test))/4"
      ],
      "execution_count": null,
      "outputs": []
    },
    {
      "cell_type": "code",
      "metadata": {
        "id": "Y1k_ER8SAYQk",
        "colab": {
          "base_uri": "https://localhost:8080/"
        },
        "outputId": "be9c2144-59f8-4d5b-8e0e-be84c7c84d25"
      },
      "source": [
        "final_model.info()"
      ],
      "execution_count": null,
      "outputs": [
        {
          "output_type": "stream",
          "text": [
            "<class 'pandas.core.frame.DataFrame'>\n",
            "RangeIndex: 265 entries, 0 to 264\n",
            "Data columns (total 4 columns):\n",
            " #   Column       Non-Null Count  Dtype  \n",
            "---  ------       --------------  -----  \n",
            " 0   title        265 non-null    object \n",
            " 1   genre        265 non-null    object \n",
            " 2   national     265 non-null    object \n",
            " 3   num_off_box  265 non-null    float64\n",
            "dtypes: float64(1), object(3)\n",
            "memory usage: 8.4+ KB\n"
          ],
          "name": "stdout"
        }
      ]
    },
    {
      "cell_type": "code",
      "metadata": {
        "id": "R7aW6x8HAbeU",
        "colab": {
          "base_uri": "https://localhost:8080/"
        },
        "outputId": "419e1b48-c43c-42cc-b66c-d2a4365990c6"
      },
      "source": [
        "print('최종 모델의 Mean_Squared_Error = ', mean_squared_error(movie_data_test['num_off_box'], final_model['num_off_box']))\n",
        "print('최종 모델의 RMSE = ',  mean_squared_error(movie_data_test['num_off_box'], final_model['num_off_box'])**0.5)\n",
        "print(\"최종 모델의 결정계수 =\", r2_score(movie_data_test['num_off_box'], final_model['num_off_box']))"
      ],
      "execution_count": null,
      "outputs": [
        {
          "output_type": "stream",
          "text": [
            "최종 모델의 Mean_Squared_Error =  420445500520.65356\n",
            "최종 모델의 RMSE =  648417.6898578983\n",
            "최종 모델의 결정계수 = 0.8614065262920978\n"
          ],
          "name": "stdout"
        }
      ]
    },
    {
      "cell_type": "code",
      "metadata": {
        "colab": {
          "base_uri": "https://localhost:8080/",
          "height": 419
        },
        "id": "bI2MMJ8QAg1S",
        "outputId": "9624e504-494e-4544-ece8-f55e66fa7ba8"
      },
      "source": [
        "final_model"
      ],
      "execution_count": null,
      "outputs": [
        {
          "output_type": "execute_result",
          "data": {
            "text/html": [
              "<div>\n",
              "<style scoped>\n",
              "    .dataframe tbody tr th:only-of-type {\n",
              "        vertical-align: middle;\n",
              "    }\n",
              "\n",
              "    .dataframe tbody tr th {\n",
              "        vertical-align: top;\n",
              "    }\n",
              "\n",
              "    .dataframe thead th {\n",
              "        text-align: right;\n",
              "    }\n",
              "</style>\n",
              "<table border=\"1\" class=\"dataframe\">\n",
              "  <thead>\n",
              "    <tr style=\"text-align: right;\">\n",
              "      <th></th>\n",
              "      <th>title</th>\n",
              "      <th>genre</th>\n",
              "      <th>national</th>\n",
              "      <th>num_off_box</th>\n",
              "    </tr>\n",
              "  </thead>\n",
              "  <tbody>\n",
              "    <tr>\n",
              "      <th>0</th>\n",
              "      <td>메이즈 러너: 스코치 트라이얼</td>\n",
              "      <td>action</td>\n",
              "      <td>America</td>\n",
              "      <td>2.409683e+06</td>\n",
              "    </tr>\n",
              "    <tr>\n",
              "      <th>1</th>\n",
              "      <td>극장판 프리파라 모두의 동경♪ 렛츠고☆프리파리</td>\n",
              "      <td>animation</td>\n",
              "      <td>Japan</td>\n",
              "      <td>1.188561e+05</td>\n",
              "    </tr>\n",
              "    <tr>\n",
              "      <th>2</th>\n",
              "      <td>스타워즈: 깨어난 포스</td>\n",
              "      <td>action</td>\n",
              "      <td>America</td>\n",
              "      <td>2.376302e+06</td>\n",
              "    </tr>\n",
              "    <tr>\n",
              "      <th>3</th>\n",
              "      <td>약장수</td>\n",
              "      <td>dramas</td>\n",
              "      <td>SouthKorea</td>\n",
              "      <td>1.328992e+05</td>\n",
              "    </tr>\n",
              "    <tr>\n",
              "      <th>4</th>\n",
              "      <td>헝거게임: 캣칭 파이어</td>\n",
              "      <td>fantasy</td>\n",
              "      <td>America</td>\n",
              "      <td>2.001489e+06</td>\n",
              "    </tr>\n",
              "    <tr>\n",
              "      <th>...</th>\n",
              "      <td>...</td>\n",
              "      <td>...</td>\n",
              "      <td>...</td>\n",
              "      <td>...</td>\n",
              "    </tr>\n",
              "    <tr>\n",
              "      <th>260</th>\n",
              "      <td>범죄도시</td>\n",
              "      <td>crime</td>\n",
              "      <td>SouthKorea</td>\n",
              "      <td>8.929261e+06</td>\n",
              "    </tr>\n",
              "    <tr>\n",
              "      <th>261</th>\n",
              "      <td>빅뱅 메이드</td>\n",
              "      <td>documentry</td>\n",
              "      <td>SouthKorea</td>\n",
              "      <td>5.654615e+04</td>\n",
              "    </tr>\n",
              "    <tr>\n",
              "      <th>262</th>\n",
              "      <td>그레이의 50가지 그림자</td>\n",
              "      <td>dramas</td>\n",
              "      <td>America</td>\n",
              "      <td>5.377520e+05</td>\n",
              "    </tr>\n",
              "    <tr>\n",
              "      <th>263</th>\n",
              "      <td>블랙 팬서</td>\n",
              "      <td>action</td>\n",
              "      <td>America</td>\n",
              "      <td>5.196522e+06</td>\n",
              "    </tr>\n",
              "    <tr>\n",
              "      <th>264</th>\n",
              "      <td>마이 리틀 히어로</td>\n",
              "      <td>dramas</td>\n",
              "      <td>SouthKorea</td>\n",
              "      <td>2.300600e+05</td>\n",
              "    </tr>\n",
              "  </tbody>\n",
              "</table>\n",
              "<p>265 rows × 4 columns</p>\n",
              "</div>"
            ],
            "text/plain": [
              "                         title       genre    national   num_off_box\n",
              "0             메이즈 러너: 스코치 트라이얼      action     America  2.409683e+06\n",
              "1    극장판 프리파라 모두의 동경♪ 렛츠고☆프리파리   animation       Japan  1.188561e+05\n",
              "2                 스타워즈: 깨어난 포스      action     America  2.376302e+06\n",
              "3                          약장수      dramas  SouthKorea  1.328992e+05\n",
              "4                 헝거게임: 캣칭 파이어     fantasy     America  2.001489e+06\n",
              "..                         ...         ...         ...           ...\n",
              "260                       범죄도시       crime  SouthKorea  8.929261e+06\n",
              "261                     빅뱅 메이드  documentry  SouthKorea  5.654615e+04\n",
              "262              그레이의 50가지 그림자      dramas     America  5.377520e+05\n",
              "263                      블랙 팬서      action     America  5.196522e+06\n",
              "264                  마이 리틀 히어로      dramas  SouthKorea  2.300600e+05\n",
              "\n",
              "[265 rows x 4 columns]"
            ]
          },
          "metadata": {
            "tags": []
          },
          "execution_count": 99
        }
      ]
    },
    {
      "cell_type": "code",
      "metadata": {
        "id": "93aNYRVwZkjN"
      },
      "source": [
        "# 테스트데이터의 관객수를 장르별로 분류\n",
        "subset_data_test_action= movie_data_test[movie_data_test['genre'].str.contains(\"action\")]\n",
        "subset_data_test_adventure = movie_data_test[movie_data_test['genre'].str.contains(\"adventure\")]\n",
        "subset_data_test_animation = movie_data_test[movie_data_test['genre'].str.contains(\"animation\")]\n",
        "subset_data_test_comedy = movie_data_test[movie_data_test['genre'].str.contains(\"comedy\")]\n",
        "subset_data_test_crime = movie_data_test[movie_data_test['genre'].str.contains(\"crime\")]\n",
        "subset_data_test_documentry = movie_data_test[movie_data_test['genre'].str.contains(\"documentry\")]\n",
        "subset_data_test_dramas = movie_data_test[movie_data_test['genre'].str.contains(\"dramas\")]\n",
        "subset_data_test_family = movie_data_test[movie_data_test['genre'].str.contains(\"family\")]\n",
        "subset_data_test_fantasy = movie_data_test[movie_data_test['genre'].str.contains(\"fantasy\")]\n",
        "subset_data_test_historical_drama = movie_data_test[movie_data_test['genre'].str.contains(\"historical_drama\")]\n",
        "subset_data_test_horror = movie_data_test[movie_data_test['genre'].str.contains(\"horror\")]\n",
        "subset_data_test_melo_romance = movie_data_test[movie_data_test['genre'].str.contains(\"melo/romance\")]\n",
        "subset_data_test_musical = movie_data_test[movie_data_test['genre'].str.contains(\"musical\")]\n",
        "subset_data_test_mystery = movie_data_test[movie_data_test['genre'].str.contains(\"mystery\")]\n",
        "subset_data_test_SF = movie_data_test[movie_data_test['genre'].str.contains(\"SF\")]\n",
        "subset_data_test_show = movie_data_test[movie_data_test['genre'].str.contains(\"show\")]\n",
        "subset_data_test_thriller = movie_data_test[movie_data_test['genre'].str.contains(\"thriller\")]\n",
        "subset_data_test_war = movie_data_test[movie_data_test['genre'].str.contains(\"war\")]\n",
        "\n",
        "\n",
        "subset_data_test_genre=[subset_data_test_action,subset_data_test_adventure,subset_data_test_animation,subset_data_test_comedy,subset_data_test_crime,subset_data_test_documentry,subset_data_test_dramas,subset_data_test_family,\n",
        "                       subset_data_test_fantasy,subset_data_test_historical_drama,subset_data_test_horror,subset_data_test_melo_romance,subset_data_test_musical,subset_data_test_mystery,subset_data_test_SF\n",
        "                       ,subset_data_test_show,subset_data_test_thriller,subset_data_test_war]"
      ],
      "execution_count": null,
      "outputs": []
    },
    {
      "cell_type": "code",
      "metadata": {
        "id": "T99Ak_EfZAoi"
      },
      "source": [
        "# 최종 모델에서 예측된 관객수를 장르별로 분류\n",
        "subset_final_model_action = final_model[final_model['genre'].str.contains(\"action\")]\n",
        "subset_final_model_adventure = final_model[final_model['genre'].str.contains(\"adventure\")]\n",
        "subset_final_model_animation = final_model[final_model['genre'].str.contains(\"animation\")]\n",
        "subset_final_model_comedy = final_model[final_model['genre'].str.contains(\"comedy\")]\n",
        "subset_final_model_crime = final_model[final_model['genre'].str.contains(\"crime\")]\n",
        "subset_final_model_documentry = final_model[final_model['genre'].str.contains(\"documentry\")]\n",
        "subset_final_model_dramas = final_model[final_model['genre'].str.contains(\"dramas\")]\n",
        "subset_final_model_family = final_model[final_model['genre'].str.contains(\"family\")]\n",
        "subset_final_model_fantasy = final_model[final_model['genre'].str.contains(\"fantasy\")]\n",
        "subset_final_model_historical_drama = final_model[final_model['genre'].str.contains(\"historical_drama\")]\n",
        "subset_final_model_horror = final_model[final_model['genre'].str.contains(\"horror\")]\n",
        "subset_final_model_melo_romance = final_model[final_model['genre'].str.contains(\"melo/romance\")]\n",
        "subset_final_model_musical = final_model[final_model['genre'].str.contains(\"musical\")]\n",
        "subset_final_model_mystery = final_model[final_model['genre'].str.contains(\"mystery\")]\n",
        "subset_final_model_SF =final_model[final_model['genre'].str.contains(\"SF\")]\n",
        "subset_final_model_show = final_model[final_model['genre'].str.contains(\"show\")]\n",
        "subset_final_model_thriller = final_model[final_model['genre'].str.contains(\"thriller\")]\n",
        "subset_final_model_war = final_model[final_model['genre'].str.contains(\"war\")]\n",
        "\n",
        "\n",
        "subset_final_model_genre=[subset_final_model_action,subset_final_model_adventure,subset_final_model_animation,subset_final_model_comedy,subset_final_model_crime,subset_final_model_documentry,subset_final_model_dramas,subset_final_model_family,\n",
        "                      subset_final_model_fantasy,subset_final_model_historical_drama,subset_final_model_horror,subset_final_model_melo_romance,subset_final_model_musical,subset_final_model_mystery,subset_final_model_SF\n",
        "                       ,subset_final_model_show,subset_final_model_thriller,subset_final_model_war]"
      ],
      "execution_count": null,
      "outputs": []
    },
    {
      "cell_type": "code",
      "metadata": {
        "colab": {
          "base_uri": "https://localhost:8080/"
        },
        "id": "y7r4N-35BSn6",
        "outputId": "f88c71d3-52e4-4f76-b6f1-3c4cbbb92f51"
      },
      "source": [
        "genre_rmse = []\n",
        "genre_r2score = []\n",
        "for m in range(len(subset_data_test_genre)) :\n",
        "    genre_rmse.append(mean_squared_error(subset_data_test_genre[m]['num_off_box'], subset_final_model_genre[m]['num_off_box'])**0.5)\n",
        "    genre_r2score.append(r2_score(subset_data_test_genre[m]['num_off_box'], subset_final_model_genre[m]['num_off_box']))"
      ],
      "execution_count": null,
      "outputs": [
        {
          "output_type": "stream",
          "text": [
            "/usr/local/lib/python3.6/dist-packages/sklearn/metrics/_regression.py:582: UndefinedMetricWarning: R^2 score is not well-defined with less than two samples.\n",
            "  warnings.warn(msg, UndefinedMetricWarning)\n",
            "/usr/local/lib/python3.6/dist-packages/sklearn/metrics/_regression.py:582: UndefinedMetricWarning: R^2 score is not well-defined with less than two samples.\n",
            "  warnings.warn(msg, UndefinedMetricWarning)\n",
            "/usr/local/lib/python3.6/dist-packages/sklearn/metrics/_regression.py:582: UndefinedMetricWarning: R^2 score is not well-defined with less than two samples.\n",
            "  warnings.warn(msg, UndefinedMetricWarning)\n"
          ],
          "name": "stderr"
        }
      ]
    },
    {
      "cell_type": "code",
      "metadata": {
        "id": "7So4HdzM9lmK",
        "colab": {
          "base_uri": "https://localhost:8080/"
        },
        "outputId": "4b2ac507-7124-4adf-ba57-2ca226db6fdd"
      },
      "source": [
        "genre_rmse"
      ],
      "execution_count": null,
      "outputs": [
        {
          "output_type": "execute_result",
          "data": {
            "text/plain": [
              "[628540.4615268264,\n",
              " 1625204.549692835,\n",
              " 585212.602974691,\n",
              " 496012.8585704404,\n",
              " 909950.0351180338,\n",
              " 15000.423707450227,\n",
              " 642753.6103708268,\n",
              " 80430.91996630319,\n",
              " 442899.1540729819,\n",
              " 766838.3432720721,\n",
              " 182992.30504671077,\n",
              " 528567.8024284838,\n",
              " 47209.44173951946,\n",
              " 1359784.1954730635,\n",
              " 209702.6738048044,\n",
              " 21638.899648445404,\n",
              " 394048.851477561,\n",
              " 10996.738233786898]"
            ]
          },
          "metadata": {
            "tags": []
          },
          "execution_count": 161
        }
      ]
    },
    {
      "cell_type": "code",
      "metadata": {
        "colab": {
          "base_uri": "https://localhost:8080/"
        },
        "id": "id6wrAB1obsD",
        "outputId": "3d446ba1-5f80-4900-8868-b1f8559a1dd6"
      },
      "source": [
        "genre_r2score"
      ],
      "execution_count": null,
      "outputs": [
        {
          "output_type": "execute_result",
          "data": {
            "text/plain": [
              "[0.9182423501470812,\n",
              " 0.704117063914325,\n",
              " 0.3903203110483977,\n",
              " 0.8951972462164004,\n",
              " 0.8150631285713594,\n",
              " -2.317871085926771,\n",
              " 0.8961788982906186,\n",
              " 0.7940878727195693,\n",
              " -0.010546760765656193,\n",
              " -0.12613249059207066,\n",
              " 0.8452789217971151,\n",
              " 0.8231626473697892,\n",
              " nan,\n",
              " 0.6066425595758613,\n",
              " -0.02405776605776544,\n",
              " nan,\n",
              " 0.8394822694397306,\n",
              " nan]"
            ]
          },
          "metadata": {
            "tags": []
          },
          "execution_count": 148
        }
      ]
    },
    {
      "cell_type": "code",
      "metadata": {
        "id": "rK_WY1kQZL2I"
      },
      "source": [
        "genre_rmse_data = pd.read_csv('/content/drive/MyDrive/movie_data/show_genre_rmse_r2score.csv')"
      ],
      "execution_count": null,
      "outputs": []
    },
    {
      "cell_type": "code",
      "metadata": {
        "id": "AWVmDZxeZ3tH"
      },
      "source": [
        "genre_rmse_data['rmse'] = genre_rmse"
      ],
      "execution_count": null,
      "outputs": []
    },
    {
      "cell_type": "code",
      "metadata": {
        "id": "c1b9GKBlulkA"
      },
      "source": [
        "genre_rmse_data['r2score'] = genre_r2score"
      ],
      "execution_count": null,
      "outputs": []
    },
    {
      "cell_type": "code",
      "metadata": {
        "colab": {
          "base_uri": "https://localhost:8080/",
          "height": 607
        },
        "id": "LqbM1ZsLabQ_",
        "outputId": "ebe46e71-272b-4769-d1dd-0afb06092e81"
      },
      "source": [
        "genre_rmse_data"
      ],
      "execution_count": null,
      "outputs": [
        {
          "output_type": "execute_result",
          "data": {
            "text/html": [
              "<div>\n",
              "<style scoped>\n",
              "    .dataframe tbody tr th:only-of-type {\n",
              "        vertical-align: middle;\n",
              "    }\n",
              "\n",
              "    .dataframe tbody tr th {\n",
              "        vertical-align: top;\n",
              "    }\n",
              "\n",
              "    .dataframe thead th {\n",
              "        text-align: right;\n",
              "    }\n",
              "</style>\n",
              "<table border=\"1\" class=\"dataframe\">\n",
              "  <thead>\n",
              "    <tr style=\"text-align: right;\">\n",
              "      <th></th>\n",
              "      <th>genre</th>\n",
              "      <th>rmse</th>\n",
              "      <th>r2score</th>\n",
              "    </tr>\n",
              "  </thead>\n",
              "  <tbody>\n",
              "    <tr>\n",
              "      <th>0</th>\n",
              "      <td>action</td>\n",
              "      <td>6.285405e+05</td>\n",
              "      <td>0.918242</td>\n",
              "    </tr>\n",
              "    <tr>\n",
              "      <th>1</th>\n",
              "      <td>adventure</td>\n",
              "      <td>1.625205e+06</td>\n",
              "      <td>0.704117</td>\n",
              "    </tr>\n",
              "    <tr>\n",
              "      <th>2</th>\n",
              "      <td>animation</td>\n",
              "      <td>5.852126e+05</td>\n",
              "      <td>0.390320</td>\n",
              "    </tr>\n",
              "    <tr>\n",
              "      <th>3</th>\n",
              "      <td>comedy</td>\n",
              "      <td>4.960129e+05</td>\n",
              "      <td>0.895197</td>\n",
              "    </tr>\n",
              "    <tr>\n",
              "      <th>4</th>\n",
              "      <td>crime</td>\n",
              "      <td>9.099500e+05</td>\n",
              "      <td>0.815063</td>\n",
              "    </tr>\n",
              "    <tr>\n",
              "      <th>5</th>\n",
              "      <td>documentry</td>\n",
              "      <td>1.500042e+04</td>\n",
              "      <td>-2.317871</td>\n",
              "    </tr>\n",
              "    <tr>\n",
              "      <th>6</th>\n",
              "      <td>dramas</td>\n",
              "      <td>6.427536e+05</td>\n",
              "      <td>0.896179</td>\n",
              "    </tr>\n",
              "    <tr>\n",
              "      <th>7</th>\n",
              "      <td>family</td>\n",
              "      <td>8.043092e+04</td>\n",
              "      <td>0.794088</td>\n",
              "    </tr>\n",
              "    <tr>\n",
              "      <th>8</th>\n",
              "      <td>fantasy</td>\n",
              "      <td>4.428992e+05</td>\n",
              "      <td>-0.010547</td>\n",
              "    </tr>\n",
              "    <tr>\n",
              "      <th>9</th>\n",
              "      <td>historical_drama</td>\n",
              "      <td>7.668383e+05</td>\n",
              "      <td>-0.126132</td>\n",
              "    </tr>\n",
              "    <tr>\n",
              "      <th>10</th>\n",
              "      <td>horror</td>\n",
              "      <td>1.829923e+05</td>\n",
              "      <td>0.845279</td>\n",
              "    </tr>\n",
              "    <tr>\n",
              "      <th>11</th>\n",
              "      <td>melo_romance</td>\n",
              "      <td>5.285678e+05</td>\n",
              "      <td>0.823163</td>\n",
              "    </tr>\n",
              "    <tr>\n",
              "      <th>12</th>\n",
              "      <td>musical</td>\n",
              "      <td>4.720944e+04</td>\n",
              "      <td>NaN</td>\n",
              "    </tr>\n",
              "    <tr>\n",
              "      <th>13</th>\n",
              "      <td>mystery</td>\n",
              "      <td>1.359784e+06</td>\n",
              "      <td>0.606643</td>\n",
              "    </tr>\n",
              "    <tr>\n",
              "      <th>14</th>\n",
              "      <td>SF</td>\n",
              "      <td>2.097027e+05</td>\n",
              "      <td>-0.024058</td>\n",
              "    </tr>\n",
              "    <tr>\n",
              "      <th>15</th>\n",
              "      <td>show</td>\n",
              "      <td>2.163890e+04</td>\n",
              "      <td>NaN</td>\n",
              "    </tr>\n",
              "    <tr>\n",
              "      <th>16</th>\n",
              "      <td>thriller</td>\n",
              "      <td>3.940489e+05</td>\n",
              "      <td>0.839482</td>\n",
              "    </tr>\n",
              "    <tr>\n",
              "      <th>17</th>\n",
              "      <td>war</td>\n",
              "      <td>1.099674e+04</td>\n",
              "      <td>NaN</td>\n",
              "    </tr>\n",
              "  </tbody>\n",
              "</table>\n",
              "</div>"
            ],
            "text/plain": [
              "               genre          rmse   r2score\n",
              "0             action  6.285405e+05  0.918242\n",
              "1          adventure  1.625205e+06  0.704117\n",
              "2          animation  5.852126e+05  0.390320\n",
              "3             comedy  4.960129e+05  0.895197\n",
              "4              crime  9.099500e+05  0.815063\n",
              "5         documentry  1.500042e+04 -2.317871\n",
              "6             dramas  6.427536e+05  0.896179\n",
              "7             family  8.043092e+04  0.794088\n",
              "8            fantasy  4.428992e+05 -0.010547\n",
              "9   historical_drama  7.668383e+05 -0.126132\n",
              "10            horror  1.829923e+05  0.845279\n",
              "11      melo_romance  5.285678e+05  0.823163\n",
              "12           musical  4.720944e+04       NaN\n",
              "13           mystery  1.359784e+06  0.606643\n",
              "14                SF  2.097027e+05 -0.024058\n",
              "15              show  2.163890e+04       NaN\n",
              "16          thriller  3.940489e+05  0.839482\n",
              "17               war  1.099674e+04       NaN"
            ]
          },
          "metadata": {
            "tags": []
          },
          "execution_count": 154
        }
      ]
    },
    {
      "cell_type": "code",
      "metadata": {
        "id": "Nw7y7h60lODS"
      },
      "source": [
        "genre_rmse_data.to_csv('genre_rmse_r2score_data.csv', index = False, encoding='cp949')"
      ],
      "execution_count": null,
      "outputs": []
    },
    {
      "cell_type": "code",
      "metadata": {
        "id": "jkCA8etyyNQt"
      },
      "source": [
        "final_model.to_csv('final_model_predict_num_off_box.csv', index = False, encoding='cp949')"
      ],
      "execution_count": null,
      "outputs": []
    }
  ]
}